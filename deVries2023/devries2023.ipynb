{
 "cells": [
  {
   "attachments": {},
   "cell_type": "markdown",
   "metadata": {},
   "source": []
  },
  {
   "cell_type": "code",
   "execution_count": 1,
   "metadata": {},
   "outputs": [],
   "source": [
    "# import required packages\n",
    "import pandas as pd\n",
    "import numpy as np\n",
    "from yaml import load, Loader\n",
    "\n",
    "from tune import tune \n",
    "from predict import predict\n",
    "from post import post"
   ]
  },
  {
   "cell_type": "code",
   "execution_count": null,
   "metadata": {},
   "outputs": [],
   "source": [
    "# Setting up the model\n",
    "\n",
    "with open('/home/phyto/planktonSDM/devries2023_model_config.yml', 'r') as f:\n",
    "    model_config = load(f, Loader=Loader)\n",
    "\n",
    "seed = 1 # random seed\n",
    "n_threads = 8 # how many cpu threads to use\n",
    "path_out = \"/home/phyto/ModelOutput/deVries2023/\" #where to save model output\n",
    "path_in = \"\" #make it the same as \"path_out\"?\n",
    "traits = pd.read_cv(\"\")\n",
    "X = pd.read_csv(\"\")\n",
    "y = pd.read_csv(\"\")\n",
    "envdata = pd.read_csv(\"\")\n",
    "cv = 10\n",
    "verbose = 3\n",
    "\n",
    "reg_scoring = model_config['reg_scoring']\n",
    "clf_scoring = model_config['clf_scoring']"
   ]
  },
  {
   "attachments": {},
   "cell_type": "markdown",
   "metadata": {},
   "source": [
    "#print the main parameters"
   ]
  },
  {
   "attachments": {},
   "cell_type": "markdown",
   "metadata": {},
   "source": []
  },
  {
   "cell_type": "code",
   "execution_count": null,
   "metadata": {},
   "outputs": [],
   "source": [
    "'''\n",
    "2-phase Random forest \n",
    "'''\n",
    "\n",
    "clf_param_grid = model_config['rf_param_grid']['clf_param_grid']\n",
    "reg_param_grid = model_config['rf_param_grid']['reg_param_grid']\n",
    "\n",
    "for n in range(0, len(traits)):\n",
    "      m = tune(X, y, seed, n_threads, verbose, cv, path_out)\n",
    "      m.XGB(reg_scoring, reg_param_grid, clf_scoring = clf_scoring, clf_param_grid = clf_param_grid, \n",
    "            cv=cv, model=\"rf\", zir=True, log=\"yes\")"
   ]
  },
  {
   "cell_type": "code",
   "execution_count": null,
   "metadata": {},
   "outputs": [],
   "source": [
    "'''\n",
    "2-phase Gradient boosting with XGBoost:\n",
    "'''\n",
    "\n",
    "clf_param_grid = model_config['xgb_param_grid']['clf_param_grid']\n",
    "reg_param_grid = model_config['xgb_param_grid']['reg_param_grid']\n",
    "\n",
    "for n in range(0, len(traits)):\n",
    "      \n",
    "      m = tune(X, y[n], seed, n_threads, verbose, cv, path_out)\n",
    "      m.XGB(reg_scoring, reg_param_grid, clf_scoring = clf_scoring, clf_param_grid = clf_param_grid,\n",
    "            cv=cv, model=\"xgb\", zir=True, log=\"yes\")"
   ]
  },
  {
   "cell_type": "code",
   "execution_count": null,
   "metadata": {},
   "outputs": [],
   "source": [
    "#running KNN\n",
    "\n",
    "clf_param_grid = model_config['knn_param_grid']['clf_param_grid']\n",
    "reg_param_grid = model_config['knn_param_grid']['reg_param_grid']\n",
    "\n",
    "for n in range(0, len(traits)):\n",
    "\n",
    "    species_y = y[n]\n",
    "\n",
    "    m = tune(X, y, seed, n_threads, verbose, cv, path_out)\n",
    "    m.XGB(reg_scoring, reg_param_grid,  clf_scoring = clf_scoring, clf_param_grid = clf_param_grid,  \n",
    "        cv=cv, model=\"knn\", zir=True, log=\"both\", bagging_estimators=30)"
   ]
  },
  {
   "cell_type": "code",
   "execution_count": null,
   "metadata": {},
   "outputs": [],
   "source": [
    "#predicting the tuned ensemble:\n",
    "\n",
    "model_config = {\n",
    "    \"rf\": {\n",
    "        \"path\":\"/user/work/ba18321/CoccoRandomForestBP/rf/\",\n",
    "        \"config\": \"zir\"\n",
    "    },\n",
    "    \"xgb\": {\n",
    "        \"path\":\"/user/work/ba18321/CoccoRandomForestBP/xgb/\",\n",
    "        \"config\": \"zir\"\n",
    "    },\n",
    "    \"knn\": {\n",
    "        \"path\":\"/user/work/ba18321/CoccoRandomForestBP/knn/\",\n",
    "        \"config\": \"zir\"\n",
    "    }\n",
    "}\n",
    "\n",
    "for n in range(0, len(traits)):\n",
    "    m = predict(X, y[n], envdata, model_config, seed, n_threads, verbose, cv, path_out, scale=True)\n",
    "    m.make_prediction()"
   ]
  },
  {
   "cell_type": "code",
   "execution_count": null,
   "metadata": {},
   "outputs": [],
   "source": [
    "#merge SDMS:\n",
    "m = post(path_in, path_out)\n",
    "\n",
    "#apply calculations:\n",
    "m.cwm(traits, \"cell diameter\")\n",
    "m.richness('observed_otus')\n",
    "m.richness('simpson')\n",
    "m.total()\n",
    "\n",
    "#export merged dataset to netcdf:\n",
    "m.export_ds()"
   ]
  }
 ],
 "metadata": {
  "kernelspec": {
   "display_name": "my-geopandas-env-2",
   "language": "python",
   "name": "python3"
  },
  "language_info": {
   "codemirror_mode": {
    "name": "ipython",
    "version": 3
   },
   "file_extension": ".py",
   "mimetype": "text/x-python",
   "name": "python",
   "nbconvert_exporter": "python",
   "pygments_lexer": "ipython3",
   "version": "3.11.4"
  },
  "orig_nbformat": 4
 },
 "nbformat": 4,
 "nbformat_minor": 2
}
