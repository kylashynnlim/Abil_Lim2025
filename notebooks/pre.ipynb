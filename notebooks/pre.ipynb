{
 "cells": [
  {
   "attachments": {},
   "cell_type": "markdown",
   "metadata": {},
   "source": [
    "Note about installing ESMF\n",
    "\n",
    "Installing xesmf and esmpy at the same time doesn't seem to work properly... You have to install esmpy first and then xesmf\n",
    "\n",
    "conda create -n xesmf-env -c conda-forge esmf esmpy\n",
    "conda activate xesmf-env\n",
    "conda install -c conda-forge pandas xarray numpy xesmf netcdf4\n",
    "\n",
    "\n",
    "If downloading data from oceancolor - you need \"mapped\" data NOT \"binned\""
   ]
  },
  {
   "cell_type": "code",
   "execution_count": null,
   "metadata": {},
   "outputs": [],
   "source": [
    "\n",
    "    #    if hot_encode==True:\n",
    "    #        enc = OneHotEncoder()\n",
    "    ##        regions  = enc.fit_transform(d[['FID']])\n",
    "    #        X[enc.categories_[0]] = regions.toarray()"
   ]
  },
  {
   "cell_type": "code",
   "execution_count": 1,
   "metadata": {},
   "outputs": [
    {
     "name": "stdout",
     "output_type": "stream",
     "text": [
      "1.0\n"
     ]
    }
   ],
   "source": [
    "import numpy as np\n",
    "\n",
    "print(np.exp(0))"
   ]
  }
 ],
 "metadata": {
  "kernelspec": {
   "display_name": "my-geopandas-env-2",
   "language": "python",
   "name": "python3"
  },
  "language_info": {
   "codemirror_mode": {
    "name": "ipython",
    "version": 3
   },
   "file_extension": ".py",
   "mimetype": "text/x-python",
   "name": "python",
   "nbconvert_exporter": "python",
   "pygments_lexer": "ipython3",
   "version": "3.11.4"
  },
  "orig_nbformat": 4
 },
 "nbformat": 4,
 "nbformat_minor": 2
}
