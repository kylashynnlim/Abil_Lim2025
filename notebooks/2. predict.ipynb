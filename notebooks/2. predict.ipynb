{
 "cells": [
  {
   "cell_type": "code",
   "execution_count": 6,
   "metadata": {},
   "outputs": [],
   "source": [
    "import pandas as pd\n",
    "from numpy.random import rand\n",
    "from yaml import load, Loader\n",
    "\n",
    "from planktonsdm.predict import predict\n",
    "from planktonsdm.functions import example_data"
   ]
  },
  {
   "cell_type": "code",
   "execution_count": 7,
   "metadata": {},
   "outputs": [],
   "source": [
    "#If you want to debug the package without repackaging, you can read files locally:\n",
    "\n",
    "# import sys\n",
    "# sys.path.insert(0, '/home/phyto/planktonSDM/planktonsdm/')\n",
    "# from predict import predict\n",
    "# from functions import example_data"
   ]
  },
  {
   "cell_type": "code",
   "execution_count": 8,
   "metadata": {},
   "outputs": [],
   "source": [
    "with open('/home/phyto/planktonSDM/configuration/2-phase_ensemble.yml', 'r') as f:\n",
    "    model_config = load(f, Loader=Loader)\n",
    "    \n",
    "\n",
    "X, y = example_data(y_name =  \"Coccolithus pelagicus\", n_samples=500, n_features=5, noise=20, random_state=model_config['seed'])\n",
    "X = pd.DataFrame(X, columns = ['Column_A','Column_B','Column_C','Column_D','Column_E'])\n",
    "\n",
    "\n",
    "envdata = pd.DataFrame({\"Column_A\": rand(50), \"Column_B\": rand(50), \"Column_C\": rand(50), \"Column_D\": rand(50), \"Column_E\": rand(50),\n",
    "                        \"lat\": range(0,50, 1), \"lon\": 50*[1]})\n",
    "envdata.set_index(['lat', 'lon'], inplace=True)\n",
    "#envdata = pd.DataFrame(X)\n",
    "\n"
   ]
  },
  {
   "cell_type": "code",
   "execution_count": 9,
   "metadata": {},
   "outputs": [
    {
     "name": "stdout",
     "output_type": "stream",
     "text": [
      "number of models in ensemble:1\n",
      "predicting classifier\n",
      "finished\n",
      "execution time: 0.06348037719726562 seconds\n"
     ]
    }
   ],
   "source": [
    "with open('/home/phyto/planktonSDM/configuration/1-phase_rf.yml', 'r') as f:\n",
    "    model_config = load(f, Loader=Loader)\n",
    "\n",
    "m = predict(X, y, envdata, model_config)\n",
    "m.make_prediction()"
   ]
  },
  {
   "cell_type": "code",
   "execution_count": 10,
   "metadata": {},
   "outputs": [
    {
     "name": "stdout",
     "output_type": "stream",
     "text": [
      "number of models in ensemble:3\n",
      "predicting zero-inflated regressor\n",
      "exporting rf prediction to: /home/phyto/CoccoML/ModelOutput/rf/predictions/\n",
      "predicting zero-inflated regressor\n"
     ]
    },
    {
     "name": "stderr",
     "output_type": "stream",
     "text": [
      "/home/phyto/anaconda3/envs/my-geopandas-env-2/lib/python3.11/site-packages/sklearn/base.py:464: UserWarning: X does not have valid feature names, but StandardScaler was fitted with feature names\n",
      "  warnings.warn(\n",
      "/home/phyto/anaconda3/envs/my-geopandas-env-2/lib/python3.11/site-packages/sklearn/base.py:464: UserWarning: X does not have valid feature names, but StandardScaler was fitted with feature names\n",
      "  warnings.warn(\n",
      "/home/phyto/anaconda3/envs/my-geopandas-env-2/lib/python3.11/site-packages/sklearn/base.py:464: UserWarning: X does not have valid feature names, but StandardScaler was fitted with feature names\n",
      "  warnings.warn(\n",
      "/home/phyto/anaconda3/envs/my-geopandas-env-2/lib/python3.11/site-packages/sklearn/base.py:464: UserWarning: X does not have valid feature names, but StandardScaler was fitted with feature names\n",
      "  warnings.warn(\n",
      "/home/phyto/anaconda3/envs/my-geopandas-env-2/lib/python3.11/site-packages/sklearn/base.py:464: UserWarning: X does not have valid feature names, but StandardScaler was fitted with feature names\n",
      "  warnings.warn(\n",
      "/home/phyto/anaconda3/envs/my-geopandas-env-2/lib/python3.11/site-packages/sklearn/base.py:464: UserWarning: X does not have valid feature names, but StandardScaler was fitted with feature names\n",
      "  warnings.warn(\n"
     ]
    },
    {
     "name": "stdout",
     "output_type": "stream",
     "text": [
      "exporting xgb prediction to: /home/phyto/CoccoML/ModelOutput/xgb/predictions/\n",
      "predicting zero-inflated regressor\n",
      "exporting knn prediction to: /home/phyto/CoccoML/ModelOutput/knn/predictions/\n",
      "predicting ensemble model\n",
      "exporting ensemble prediction to: /home/phyto/CoccoML/ModelOutput/ens/predictions/\n",
      "exporting ensemble scores to: /home/phyto/CoccoML/ModelOutput/ens/scoring/\n",
      "finished\n",
      "execution time: 6.494123697280884 seconds\n"
     ]
    }
   ],
   "source": [
    "with open('/home/phyto/planktonSDM/configuration/2-phase_ensemble.yml', 'r') as f:\n",
    "    model_config = load(f, Loader=Loader)\n",
    "m = predict(X, y, envdata, model_config)\n",
    "m.make_prediction()"
   ]
  }
 ],
 "metadata": {
  "kernelspec": {
   "display_name": "my-geopandas-env-2",
   "language": "python",
   "name": "python3"
  },
  "language_info": {
   "codemirror_mode": {
    "name": "ipython",
    "version": 3
   },
   "file_extension": ".py",
   "mimetype": "text/x-python",
   "name": "python",
   "nbconvert_exporter": "python",
   "pygments_lexer": "ipython3",
   "version": "3.11.4"
  },
  "orig_nbformat": 4
 },
 "nbformat": 4,
 "nbformat_minor": 2
}
