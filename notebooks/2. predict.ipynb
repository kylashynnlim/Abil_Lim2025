{
 "cells": [
  {
   "cell_type": "code",
   "execution_count": 1,
   "metadata": {},
   "outputs": [],
   "source": [
    "from sklearn.preprocessing import MinMaxScaler\n",
    "from sklearn.datasets import make_regression\n",
    "import numpy as np\n",
    "import pandas as pd\n",
    "import sys\n",
    "from numpy.random import rand\n",
    "\n",
    "from yaml import safe_load, load, dump\n",
    "try:\n",
    "    from yaml import CLoader as Loader, CDumper as Dumper\n",
    "except ImportError:\n",
    "    from yaml import Loader, Dumper   \n",
    "\n",
    "sys.path.insert(0, '/home/phyto/planktonSDM/functions/')\n",
    "\n",
    "from predict import predict\n",
    "from functions import example_data"
   ]
  },
  {
   "cell_type": "code",
   "execution_count": 2,
   "metadata": {},
   "outputs": [],
   "source": [
    "with open('/home/phyto/planktonSDM/configuration/example_model_config.yml', 'r') as f:\n",
    "    model_config = load(f, Loader=Loader)\n",
    "\n",
    "X, y = example_data(y_name =  \"Coccolithus pelagicus\", n_samples=500, n_features=5, noise=20, random_state=model_config['seed'])\n",
    "\n",
    "envdata = pd.DataFrame({\"no3\": rand(50), \"mld\": rand(50), \"par\": rand(50), \"o2\": rand(50), \"temp\": rand(50),\n",
    "                        \"lat\": range(0,50, 1), \"lon\": 50*[1]})\n",
    "envdata.set_index(['lat', 'lon'], inplace=True)\n"
   ]
  },
  {
   "cell_type": "code",
   "execution_count": 3,
   "metadata": {},
   "outputs": [
    {
     "name": "stdout",
     "output_type": "stream",
     "text": [
      "1\n",
      "/home/phyto/CoccoML/ModelOutput/rf/scoring/\n",
      "/home/phyto/CoccoML/ModelOutput/rf/model/\n",
      "predicting classifier\n"
     ]
    },
    {
     "name": "stderr",
     "output_type": "stream",
     "text": [
      "/home/phyto/anaconda3/envs/my-geopandas-env-2/lib/python3.11/site-packages/sklearn/base.py:457: UserWarning: X has feature names, but RandomForestClassifier was fitted without feature names\n",
      "  warnings.warn(\n"
     ]
    },
    {
     "name": "stdout",
     "output_type": "stream",
     "text": [
      "finished\n",
      "execution time: 0.39756250381469727 seconds\n"
     ]
    }
   ],
   "source": [
    "m = predict(X, y, envdata, model_config)\n",
    "m.make_prediction()"
   ]
  }
 ],
 "metadata": {
  "kernelspec": {
   "display_name": "my-geopandas-env-2",
   "language": "python",
   "name": "python3"
  },
  "language_info": {
   "codemirror_mode": {
    "name": "ipython",
    "version": 3
   },
   "file_extension": ".py",
   "mimetype": "text/x-python",
   "name": "python",
   "nbconvert_exporter": "python",
   "pygments_lexer": "ipython3",
   "version": "3.11.4"
  },
  "orig_nbformat": 4
 },
 "nbformat": 4,
 "nbformat_minor": 2
}
