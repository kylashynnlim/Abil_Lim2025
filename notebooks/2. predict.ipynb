{
 "cells": [
  {
   "cell_type": "code",
   "execution_count": 7,
   "metadata": {},
   "outputs": [],
   "source": [
    "import pandas as pd\n",
    "from numpy.random import rand\n",
    "from yaml import load, Loader\n",
    "\n",
    "from planktonsdm.predict import predict\n",
    "from planktonsdm.functions import example_data\n",
    "from sklearn.preprocessing import OneHotEncoder"
   ]
  },
  {
   "cell_type": "code",
   "execution_count": 8,
   "metadata": {},
   "outputs": [],
   "source": [
    "#If you want to debug the package without repackaging, you can read files locally:\n",
    "\n",
    "import sys\n",
    "sys.path.insert(0, '/home/phyto/planktonSDM/planktonsdm/')\n",
    "from predict import predict\n",
    "from functions import example_data"
   ]
  },
  {
   "cell_type": "code",
   "execution_count": 9,
   "metadata": {},
   "outputs": [
    {
     "name": "stderr",
     "output_type": "stream",
     "text": [
      "/tmp/ipykernel_22035/1876859278.py:23: SettingWithCopyWarning: \n",
      "A value is trying to be set on a copy of a slice from a DataFrame.\n",
      "Try using .loc[row_indexer,col_indexer] = value instead\n",
      "\n",
      "See the caveats in the documentation: https://pandas.pydata.org/pandas-docs/stable/user_guide/indexing.html#returning-a-view-versus-a-copy\n",
      "  X_train[enc.categories_[0]] = regions.toarray()\n",
      "/tmp/ipykernel_22035/1876859278.py:23: SettingWithCopyWarning: \n",
      "A value is trying to be set on a copy of a slice from a DataFrame.\n",
      "Try using .loc[row_indexer,col_indexer] = value instead\n",
      "\n",
      "See the caveats in the documentation: https://pandas.pydata.org/pandas-docs/stable/user_guide/indexing.html#returning-a-view-versus-a-copy\n",
      "  X_train[enc.categories_[0]] = regions.toarray()\n",
      "/tmp/ipykernel_22035/1876859278.py:23: SettingWithCopyWarning: \n",
      "A value is trying to be set on a copy of a slice from a DataFrame.\n",
      "Try using .loc[row_indexer,col_indexer] = value instead\n",
      "\n",
      "See the caveats in the documentation: https://pandas.pydata.org/pandas-docs/stable/user_guide/indexing.html#returning-a-view-versus-a-copy\n",
      "  X_train[enc.categories_[0]] = regions.toarray()\n",
      "/tmp/ipykernel_22035/1876859278.py:23: SettingWithCopyWarning: \n",
      "A value is trying to be set on a copy of a slice from a DataFrame.\n",
      "Try using .loc[row_indexer,col_indexer] = value instead\n",
      "\n",
      "See the caveats in the documentation: https://pandas.pydata.org/pandas-docs/stable/user_guide/indexing.html#returning-a-view-versus-a-copy\n",
      "  X_train[enc.categories_[0]] = regions.toarray()\n",
      "/tmp/ipykernel_22035/1876859278.py:23: SettingWithCopyWarning: \n",
      "A value is trying to be set on a copy of a slice from a DataFrame.\n",
      "Try using .loc[row_indexer,col_indexer] = value instead\n",
      "\n",
      "See the caveats in the documentation: https://pandas.pydata.org/pandas-docs/stable/user_guide/indexing.html#returning-a-view-versus-a-copy\n",
      "  X_train[enc.categories_[0]] = regions.toarray()\n",
      "/tmp/ipykernel_22035/1876859278.py:23: SettingWithCopyWarning: \n",
      "A value is trying to be set on a copy of a slice from a DataFrame.\n",
      "Try using .loc[row_indexer,col_indexer] = value instead\n",
      "\n",
      "See the caveats in the documentation: https://pandas.pydata.org/pandas-docs/stable/user_guide/indexing.html#returning-a-view-versus-a-copy\n",
      "  X_train[enc.categories_[0]] = regions.toarray()\n",
      "/tmp/ipykernel_22035/1876859278.py:23: SettingWithCopyWarning: \n",
      "A value is trying to be set on a copy of a slice from a DataFrame.\n",
      "Try using .loc[row_indexer,col_indexer] = value instead\n",
      "\n",
      "See the caveats in the documentation: https://pandas.pydata.org/pandas-docs/stable/user_guide/indexing.html#returning-a-view-versus-a-copy\n",
      "  X_train[enc.categories_[0]] = regions.toarray()\n"
     ]
    }
   ],
   "source": [
    "with open('/home/phyto/planktonSDM/configuration/2-phase_ensemble.yml', 'r') as f:\n",
    "    model_config = load(f, Loader=Loader)\n",
    "\n",
    "d = pd.read_csv(\"/home/phyto/planktonSDM/data/abundances_environment.csv\")\n",
    "species = 'Umbellosphaera tenuis'\n",
    "\n",
    "d.dropna(subset=species, inplace=True)\n",
    "d.dropna(subset='FID', inplace=True)\n",
    "\n",
    "features = model_config['predictors']\n",
    "\n",
    "X_train = d[features]\n",
    "y = d[species]\n",
    "\n",
    "X_predict = pd.read_csv(\"/home/phyto/planktonSDM/data/envdata_april_surface.csv\")\n",
    "X_predict.set_index([\"time\", \"depth\", \"lat\", \"lon\"], inplace=True)\n",
    "\n",
    "#drop rows with FIDs not found in original dataset:\n",
    "X_predict = X_predict[X_predict['FID'].isin(X_train['FID'])]\n",
    "X_predict.set_index([], inplace=True)\n",
    "enc = OneHotEncoder()\n",
    "regions  = enc.fit_transform(X_train[['FID']])\n",
    "X_train[enc.categories_[0]] = regions.toarray()\n",
    "X_train.columns = X_train.columns.astype(str)\n",
    "X_train.drop(columns=['FID'], inplace=True)\n",
    "\n",
    "regions  = enc.fit_transform(X_predict[['FID']])\n",
    "X_predict[enc.categories_[0]] = regions.toarray()\n",
    "X_predict.columns = X_predict.columns.astype(str)\n",
    "X_predict.drop(columns=['FID'], inplace=True)\n"
   ]
  },
  {
   "cell_type": "code",
   "execution_count": 10,
   "metadata": {},
   "outputs": [
    {
     "name": "stdout",
     "output_type": "stream",
     "text": [
      "number of models in ensemble:1\n",
      "predicting classifier\n",
      "finished\n",
      "execution time: 0.6199193000793457 seconds\n"
     ]
    }
   ],
   "source": [
    "with open('/home/phyto/planktonSDM/configuration/1-phase_rf.yml', 'r') as f:\n",
    "    model_config = load(f, Loader=Loader)\n",
    "\n",
    "m = predict(X_train, y, X_predict, model_config)\n",
    "m.make_prediction()"
   ]
  },
  {
   "cell_type": "code",
   "execution_count": 11,
   "metadata": {},
   "outputs": [
    {
     "name": "stdout",
     "output_type": "stream",
     "text": [
      "upsampling = True\n",
      "number of models in ensemble:3\n",
      "predicting zero-inflated regressor\n"
     ]
    },
    {
     "name": "stderr",
     "output_type": "stream",
     "text": [
      "/home/phyto/anaconda3/envs/my-geopandas-env-2/lib/python3.11/site-packages/sklearn/base.py:464: UserWarning: X does not have valid feature names, but StandardScaler was fitted with feature names\n",
      "  warnings.warn(\n",
      "/home/phyto/anaconda3/envs/my-geopandas-env-2/lib/python3.11/site-packages/sklearn/base.py:464: UserWarning: X does not have valid feature names, but StandardScaler was fitted with feature names\n",
      "  warnings.warn(\n"
     ]
    },
    {
     "name": "stdout",
     "output_type": "stream",
     "text": [
      "exporting rf prediction to: /home/phyto/CoccoML/ModelOutput/rf/predictions/\n",
      "predicting zero-inflated regressor\n"
     ]
    },
    {
     "name": "stderr",
     "output_type": "stream",
     "text": [
      "/home/phyto/anaconda3/envs/my-geopandas-env-2/lib/python3.11/site-packages/sklearn/base.py:464: UserWarning: X does not have valid feature names, but StandardScaler was fitted with feature names\n",
      "  warnings.warn(\n",
      "/home/phyto/anaconda3/envs/my-geopandas-env-2/lib/python3.11/site-packages/sklearn/base.py:464: UserWarning: X does not have valid feature names, but StandardScaler was fitted with feature names\n",
      "  warnings.warn(\n"
     ]
    },
    {
     "name": "stdout",
     "output_type": "stream",
     "text": [
      "exporting xgb prediction to: /home/phyto/CoccoML/ModelOutput/xgb/predictions/\n",
      "predicting zero-inflated regressor\n"
     ]
    },
    {
     "name": "stderr",
     "output_type": "stream",
     "text": [
      "/home/phyto/anaconda3/envs/my-geopandas-env-2/lib/python3.11/site-packages/sklearn/base.py:464: UserWarning: X does not have valid feature names, but StandardScaler was fitted with feature names\n",
      "  warnings.warn(\n",
      "/home/phyto/anaconda3/envs/my-geopandas-env-2/lib/python3.11/site-packages/sklearn/base.py:464: UserWarning: X does not have valid feature names, but StandardScaler was fitted with feature names\n",
      "  warnings.warn(\n"
     ]
    },
    {
     "name": "stdout",
     "output_type": "stream",
     "text": [
      "exporting knn prediction to: /home/phyto/CoccoML/ModelOutput/knn/predictions/\n",
      "[0.35082571417379915, 0.3236194136190801, 0.32555487220712076]\n",
      "[('rf', ZeroInflatedRegressor(classifier=Pipeline(steps=[('preprocessor',\n",
      "                                                  ColumnTransformer(transformers=[('num',\n",
      "                                                                                   Pipeline(steps=[('scaler',\n",
      "                                                                                                    StandardScaler())]),\n",
      "                                                                                   array([ 0,  1,  2,  3,  4,  5,  6,  7,  8,  9, 10, 11, 12, 13, 14, 15, 16,\n",
      "       17, 18, 19, 20, 21, 22, 23, 24, 25, 26, 27, 28, 29, 30, 31, 32, 33,\n",
      "       34, 35, 36, 37, 38, 39, 40, 41, 42, 43]))])),\n",
      "                                                 ('estimator',\n",
      "                                                  RandomForestClassifier(max_depth=50,\n",
      "                                                                         max_features=3,\n",
      "                                                                         m...\n",
      "                      regressor=TransformedTargetRegressor(regressor=Pipeline(steps=[('preprocessor',\n",
      "                                                                                      ColumnTransformer(transformers=[('num',\n",
      "                                                                                                                       Pipeline(steps=[('scaler',\n",
      "                                                                                                                                        StandardScaler())]),\n",
      "                                                                                                                       array([ 0,  1,  2,  3,  4,  5,  6,  7,  8,  9, 10, 11, 12, 13, 14, 15, 16,\n",
      "       17, 18, 19, 20, 21, 22, 23, 24, 25, 26, 27, 28, 29, 30, 31, 32, 33,\n",
      "       34, 35, 36, 37, 38, 39, 40, 41, 42, 43]))])),\n",
      "                                                                                     ('estimator',\n",
      "                                                                                      RandomForestRegressor(max_depth=50,\n",
      "                                                                                                            max_features=4,\n",
      "                                                                                                            max_samples=0.5,\n",
      "                                                                                                            oob_score=True,\n",
      "                                                                                                            random_state=1))])))), ('xgb', ZeroInflatedRegressor(classifier=Pipeline(steps=[('preprocessor',\n",
      "                                                  ColumnTransformer(transformers=[('num',\n",
      "                                                                                   Pipeline(steps=[('scaler',\n",
      "                                                                                                    StandardScaler())]),\n",
      "                                                                                   array([ 0,  1,  2,  3,  4,  5,  6,  7,  8,  9, 10, 11, 12, 13, 14, 15, 16,\n",
      "       17, 18, 19, 20, 21, 22, 23, 24, 25, 26, 27, 28, 29, 30, 31, 32, 33,\n",
      "       34, 35, 36, 37, 38, 39, 40, 41, 42, 43]))])),\n",
      "                                                 ('estimator',\n",
      "                                                  XGBClassifier(base_score=None,\n",
      "                                                                booster=None,\n",
      "                                                                callbacks...\n",
      "                                                                                                   gpu_id=None,\n",
      "                                                                                                   grow_policy=None,\n",
      "                                                                                                   importance_type=None,\n",
      "                                                                                                   interaction_constraints=None,\n",
      "                                                                                                   learning_rate=0.01,\n",
      "                                                                                                   max_bin=None,\n",
      "                                                                                                   max_cat_threshold=None,\n",
      "                                                                                                   max_cat_to_onehot=None,\n",
      "                                                                                                   max_delta_step=None,\n",
      "                                                                                                   max_depth=4,\n",
      "                                                                                                   max_leaves=None,\n",
      "                                                                                                   min_child_weight=None,\n",
      "                                                                                                   missing=nan,\n",
      "                                                                                                   monotone_constraints=None,\n",
      "                                                                                                   n_estimators=100,\n",
      "                                                                                                   n_jobs=None,\n",
      "                                                                                                   nthread=1,\n",
      "                                                                                                   num_parallel_tree=None,\n",
      "                                                                                                   predictor=None, ...))])))), ('knn', ZeroInflatedRegressor(classifier=Pipeline(steps=[('preprocessor',\n",
      "                                                  ColumnTransformer(transformers=[('num',\n",
      "                                                                                   Pipeline(steps=[('scaler',\n",
      "                                                                                                    StandardScaler())]),\n",
      "                                                                                   array([ 0,  1,  2,  3,  4,  5,  6,  7,  8,  9, 10, 11, 12, 13, 14, 15, 16,\n",
      "       17, 18, 19, 20, 21, 22, 23, 24, 25, 26, 27, 28, 29, 30, 31, 32, 33,\n",
      "       34, 35, 36, 37, 38, 39, 40, 41, 42, 43]))])),\n",
      "                                                 ('estimator',\n",
      "                                                  BaggingClassifier(estimator=KNeighborsClassifier(n_n...\n",
      "                                                                                      ColumnTransformer(transformers=[('num',\n",
      "                                                                                                                       Pipeline(steps=[('scaler',\n",
      "                                                                                                                                        StandardScaler())]),\n",
      "                                                                                                                       array([ 0,  1,  2,  3,  4,  5,  6,  7,  8,  9, 10, 11, 12, 13, 14, 15, 16,\n",
      "       17, 18, 19, 20, 21, 22, 23, 24, 25, 26, 27, 28, 29, 30, 31, 32, 33,\n",
      "       34, 35, 36, 37, 38, 39, 40, 41, 42, 43]))])),\n",
      "                                                                                     ('estimator',\n",
      "                                                                                      BaggingRegressor(estimator=KNeighborsRegressor(n_neighbors=3,\n",
      "                                                                                                                                     p=1),\n",
      "                                                                                                       max_features=0.5,\n",
      "                                                                                                       max_samples=0.5,\n",
      "                                                                                                       n_estimators=30,\n",
      "                                                                                                       random_state=1))]))))]\n",
      "predicting ensemble model\n",
      "exporting ensemble prediction to: /home/phyto/CoccoML/ModelOutput/ens/predictions/\n",
      "exporting ensemble scores to: /home/phyto/CoccoML/ModelOutput/ens/scoring/\n",
      "finished\n",
      "execution time: 30.557539701461792 seconds\n"
     ]
    }
   ],
   "source": [
    "with open('/home/phyto/planktonSDM/configuration/2-phase_ensemble.yml', 'r') as f:\n",
    "    model_config = load(f, Loader=Loader)\n",
    "m = predict(X_train, y, X_predict, model_config)\n",
    "m.make_prediction()"
   ]
  }
 ],
 "metadata": {
  "kernelspec": {
   "display_name": "my-geopandas-env-2",
   "language": "python",
   "name": "python3"
  },
  "language_info": {
   "codemirror_mode": {
    "name": "ipython",
    "version": 3
   },
   "file_extension": ".py",
   "mimetype": "text/x-python",
   "name": "python",
   "nbconvert_exporter": "python",
   "pygments_lexer": "ipython3",
   "version": "3.11.4"
  },
  "orig_nbformat": 4
 },
 "nbformat": 4,
 "nbformat_minor": 2
}
