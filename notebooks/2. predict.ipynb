{
 "cells": [
  {
   "cell_type": "code",
   "execution_count": 2,
   "metadata": {},
   "outputs": [
    {
     "ename": "ModuleNotFoundError",
     "evalue": "No module named 'functions'",
     "output_type": "error",
     "traceback": [
      "\u001b[0;31m---------------------------------------------------------------------------\u001b[0m",
      "\u001b[0;31mModuleNotFoundError\u001b[0m                       Traceback (most recent call last)",
      "\u001b[1;32m/home/phyto/planktonSDM/notebooks/2. predict.ipynb Cell 1\u001b[0m line \u001b[0;36m1\n\u001b[1;32m     <a href='vscode-notebook-cell:/home/phyto/planktonSDM/notebooks/2.%20predict.ipynb#W0sZmlsZQ%3D%3D?line=10'>11</a>\u001b[0m \u001b[39mexcept\u001b[39;00m \u001b[39mImportError\u001b[39;00m:\n\u001b[1;32m     <a href='vscode-notebook-cell:/home/phyto/planktonSDM/notebooks/2.%20predict.ipynb#W0sZmlsZQ%3D%3D?line=11'>12</a>\u001b[0m     \u001b[39mfrom\u001b[39;00m \u001b[39myaml\u001b[39;00m \u001b[39mimport\u001b[39;00m Loader, Dumper   \n\u001b[0;32m---> <a href='vscode-notebook-cell:/home/phyto/planktonSDM/notebooks/2.%20predict.ipynb#W0sZmlsZQ%3D%3D?line=13'>14</a>\u001b[0m \u001b[39mfrom\u001b[39;00m \u001b[39mplanktonsdm\u001b[39;00m\u001b[39m.\u001b[39;00m\u001b[39mpredict\u001b[39;00m \u001b[39mimport\u001b[39;00m predict\n\u001b[1;32m     <a href='vscode-notebook-cell:/home/phyto/planktonSDM/notebooks/2.%20predict.ipynb#W0sZmlsZQ%3D%3D?line=14'>15</a>\u001b[0m \u001b[39mfrom\u001b[39;00m \u001b[39mplanktonsdm\u001b[39;00m\u001b[39m.\u001b[39;00m\u001b[39mfunctions\u001b[39;00m \u001b[39mimport\u001b[39;00m example_data\n",
      "File \u001b[0;32m~/anaconda3/envs/my-geopandas-env-2/lib/python3.11/site-packages/planktonsdm/predict.py:23\u001b[0m\n\u001b[1;32m     21\u001b[0m \u001b[39mimport\u001b[39;00m \u001b[39mcsv\u001b[39;00m\n\u001b[1;32m     22\u001b[0m \u001b[39mfrom\u001b[39;00m \u001b[39msklearn\u001b[39;00m\u001b[39m.\u001b[39;00m\u001b[39mpreprocessing\u001b[39;00m \u001b[39mimport\u001b[39;00m OneHotEncoder\n\u001b[0;32m---> 23\u001b[0m \u001b[39mfrom\u001b[39;00m \u001b[39mfunctions\u001b[39;00m \u001b[39mimport\u001b[39;00m do_log, do_exp,  ZeroInflatedRegressor, LogGridSearch, ZeroStratifiedKFold,  UpsampledZeroStratifiedKFold, tau_scoring, tau_scoring_p\n\u001b[1;32m     24\u001b[0m \u001b[39mfrom\u001b[39;00m \u001b[39mnumpy\u001b[39;00m\u001b[39m.\u001b[39;00m\u001b[39mrandom\u001b[39;00m \u001b[39mimport\u001b[39;00m rand\n\u001b[1;32m     26\u001b[0m \u001b[39mclass\u001b[39;00m \u001b[39mpredict\u001b[39;00m:\n",
      "\u001b[0;31mModuleNotFoundError\u001b[0m: No module named 'functions'"
     ]
    }
   ],
   "source": [
    "from sklearn.preprocessing import MinMaxScaler\n",
    "from sklearn.datasets import make_regression\n",
    "import numpy as np\n",
    "import pandas as pd\n",
    "import sys\n",
    "from numpy.random import rand\n",
    "\n",
    "from yaml import safe_load, load, dump\n",
    "try:\n",
    "    from yaml import CLoader as Loader, CDumper as Dumper\n",
    "except ImportError:\n",
    "    from yaml import Loader, Dumper   \n",
    "\n",
    "from planktonsdm.predict import predict\n",
    "from planktonsdm.functions import example_data"
   ]
  },
  {
   "cell_type": "code",
   "execution_count": 2,
   "metadata": {},
   "outputs": [
    {
     "name": "stdout",
     "output_type": "stream",
     "text": [
      "0      0.841346\n",
      "1      0.796708\n",
      "2      1.014411\n",
      "3      0.807395\n",
      "4      0.748397\n",
      "         ...   \n",
      "495    0.715812\n",
      "496    0.794570\n",
      "497    0.828226\n",
      "498    0.000000\n",
      "499    0.537139\n",
      "Name: Coccolithus pelagicus, Length: 500, dtype: float64\n"
     ]
    }
   ],
   "source": [
    "with open('/home/phyto/planktonSDM/configuration/example_model_config.yml', 'r') as f:\n",
    "    model_config = load(f, Loader=Loader)\n",
    "\n",
    "X, y = example_data(y_name =  \"Coccolithus pelagicus\", n_samples=500, n_features=5, noise=20, random_state=model_config['seed'])\n",
    "\n",
    "envdata = pd.DataFrame({\"no3\": rand(50), \"mld\": rand(50), \"par\": rand(50), \"o2\": rand(50), \"temp\": rand(50),\n",
    "                        \"lat\": range(0,50, 1), \"lon\": 50*[1]})\n",
    "envdata.set_index(['lat', 'lon'], inplace=True)"
   ]
  },
  {
   "cell_type": "code",
   "execution_count": 3,
   "metadata": {},
   "outputs": [
    {
     "name": "stdout",
     "output_type": "stream",
     "text": [
      "scale X = True\n",
      "scaled X_predict\n",
      "\n",
      "number of models in ensemble:3\n",
      "predicting classifier\n",
      "exporting rf prediction to: /home/phyto/CoccoML/ModelOutput/rf/predictions/\n",
      "predicting classifier\n",
      "exporting xgb prediction to: /home/phyto/CoccoML/ModelOutput/xgb/predictions/\n",
      "predicting classifier\n",
      "exporting knn prediction to: /home/phyto/CoccoML/ModelOutput/knn/predictions/\n",
      "predicting ensemble model\n",
      "exporting ensemble prediction to: /home/phyto/CoccoML/ModelOutput/ens/predictions/\n",
      "exporting ensemble scores to: /home/phyto/CoccoML/ModelOutput/ens/scoring/\n",
      "finished\n",
      "execution time: 1.128922700881958 seconds\n"
     ]
    }
   ],
   "source": [
    "envdata = pd.DataFrame(X)\n",
    "m = predict(X, y, envdata, model_config)\n",
    "\n",
    "print()\n",
    "m.make_prediction()"
   ]
  }
 ],
 "metadata": {
  "kernelspec": {
   "display_name": "my-geopandas-env-2",
   "language": "python",
   "name": "python3"
  },
  "language_info": {
   "codemirror_mode": {
    "name": "ipython",
    "version": 3
   },
   "file_extension": ".py",
   "mimetype": "text/x-python",
   "name": "python",
   "nbconvert_exporter": "python",
   "pygments_lexer": "ipython3",
   "version": "3.11.4"
  },
  "orig_nbformat": 4
 },
 "nbformat": 4,
 "nbformat_minor": 2
}
