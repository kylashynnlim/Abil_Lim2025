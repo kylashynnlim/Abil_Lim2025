{
 "cells": [
  {
   "cell_type": "code",
   "execution_count": 1,
   "metadata": {},
   "outputs": [],
   "source": [
    "from sklearn.preprocessing import MinMaxScaler\n",
    "from sklearn.datasets import make_regression\n",
    "import numpy as np\n",
    "import pandas as pd\n",
    "import sys\n",
    "from numpy.random import rand\n",
    "\n",
    "from yaml import safe_load, load, dump\n",
    "try:\n",
    "    from yaml import CLoader as Loader, CDumper as Dumper\n",
    "except ImportError:\n",
    "    from yaml import Loader, Dumper   \n",
    "\n",
    "sys.path.insert(0, '/home/phyto/planktonSDM/functions/')\n",
    "\n",
    "from predict import predict\n",
    "from functions import example_data"
   ]
  },
  {
   "cell_type": "code",
   "execution_count": 2,
   "metadata": {},
   "outputs": [],
   "source": [
    "with open('/home/phyto/planktonSDM/configuration/example_model_config.yml', 'r') as f:\n",
    "    model_config = load(f, Loader=Loader)\n",
    "\n",
    "X, y = example_data(y_name =  \"Coccolithus pelagicus\", n_samples=500, n_features=5, noise=20, random_state=model_config['seed'])\n",
    "\n",
    "envdata = pd.DataFrame({\"no3\": rand(50), \"mld\": rand(50), \"par\": rand(50), \"o2\": rand(50), \"temp\": rand(50),\n",
    "                        \"lat\": range(0,50, 1), \"lon\": 50*[1]})\n",
    "envdata.set_index(['lat', 'lon'], inplace=True)\n"
   ]
  },
  {
   "cell_type": "code",
   "execution_count": 3,
   "metadata": {},
   "outputs": [
    {
     "name": "stdout",
     "output_type": "stream",
     "text": [
      "2\n",
      "predictions/merged/m1/scoring/\n",
      "predictions/merged/m1/model/\n"
     ]
    },
    {
     "ename": "TypeError",
     "evalue": "string indices must be integers, not 'str'",
     "output_type": "error",
     "traceback": [
      "\u001b[0;31m---------------------------------------------------------------------------\u001b[0m",
      "\u001b[0;31mTypeError\u001b[0m                                 Traceback (most recent call last)",
      "Cell \u001b[0;32mIn[3], line 2\u001b[0m\n\u001b[1;32m      1\u001b[0m m \u001b[39m=\u001b[39m predict(X, y, envdata, model_config)\n\u001b[0;32m----> 2\u001b[0m m\u001b[39m.\u001b[39;49mmake_prediction()\n",
      "File \u001b[0;32m~/planktonSDM/functions/predict.py:145\u001b[0m, in \u001b[0;36mpredict.make_prediction\u001b[0;34m(self)\u001b[0m\n\u001b[1;32m    141\u001b[0m     \u001b[39mself\u001b[39m\u001b[39m.\u001b[39mexport_prediction(m, model_out)\n\u001b[1;32m    143\u001b[0m \u001b[39melif\u001b[39;00m \u001b[39mlen\u001b[39m(\u001b[39mself\u001b[39m\u001b[39m.\u001b[39mensemble_config)\u001b[39m==\u001b[39m\u001b[39m2\u001b[39m:\n\u001b[1;32m    144\u001b[0m     \u001b[39m#iteratively make prediction for each model\u001b[39;00m\n\u001b[0;32m--> 145\u001b[0m     m1, mae1 \u001b[39m=\u001b[39m \u001b[39mself\u001b[39;49m\u001b[39m.\u001b[39;49mdef_prediction(\u001b[39m0\u001b[39;49m)\n\u001b[1;32m    146\u001b[0m     model_out \u001b[39m=\u001b[39m \u001b[39mself\u001b[39m\u001b[39m.\u001b[39mpath_out \u001b[39m+\u001b[39m \u001b[39mlist\u001b[39m(\u001b[39mself\u001b[39m\u001b[39m.\u001b[39mensemble_config)[\u001b[39m0\u001b[39m] \u001b[39m+\u001b[39m \u001b[39m\"\u001b[39m\u001b[39m/predictions/\u001b[39m\u001b[39m\"\u001b[39m\n\u001b[1;32m    147\u001b[0m     \u001b[39mself\u001b[39m\u001b[39m.\u001b[39mexport_prediction(m1, model_out)\n",
      "File \u001b[0;32m~/planktonSDM/functions/predict.py:94\u001b[0m, in \u001b[0;36mpredict.def_prediction\u001b[0;34m(self, n)\u001b[0m\n\u001b[1;32m     87\u001b[0m         \u001b[39mprint\u001b[39m(path_to_param)\n\u001b[1;32m     90\u001b[0m \u001b[39m#        path_to_param = self.model_config[list(self.model_config)[n]]['path'] + \"model/\"\u001b[39;00m\n\u001b[1;32m     91\u001b[0m \u001b[39m#        path_to_scores = self.model_config[list(self.model_config)[n]]['path'] + \"scoring/\"\u001b[39;00m\n\u001b[0;32m---> 94\u001b[0m         \u001b[39mif\u001b[39;00m \u001b[39mself\u001b[39;49m\u001b[39m.\u001b[39;49mmodel_config[\u001b[39mlist\u001b[39;49m(\u001b[39mself\u001b[39;49m\u001b[39m.\u001b[39;49mmodel_config)[n]][\u001b[39m'\u001b[39;49m\u001b[39mconfig\u001b[39;49m\u001b[39m'\u001b[39;49m] \u001b[39m==\u001b[39m \u001b[39m\"\u001b[39m\u001b[39mzir\u001b[39m\u001b[39m\"\u001b[39m:\n\u001b[1;32m     95\u001b[0m             regr_zir_scores \u001b[39m=\u001b[39m pickle\u001b[39m.\u001b[39mload(\u001b[39mopen\u001b[39m(path_to_scores \u001b[39m+\u001b[39m \u001b[39mself\u001b[39m\u001b[39m.\u001b[39mspecies \u001b[39m+\u001b[39m \u001b[39m'\u001b[39m\u001b[39m_zir.sav\u001b[39m\u001b[39m'\u001b[39m, \u001b[39m'\u001b[39m\u001b[39mrb\u001b[39m\u001b[39m'\u001b[39m))\n\u001b[1;32m     96\u001b[0m             regr_reg_scores \u001b[39m=\u001b[39m pickle\u001b[39m.\u001b[39mload(\u001b[39mopen\u001b[39m(path_to_scores \u001b[39m+\u001b[39m \u001b[39mself\u001b[39m\u001b[39m.\u001b[39mspecies \u001b[39m+\u001b[39m \u001b[39m'\u001b[39m\u001b[39m_reg.sav\u001b[39m\u001b[39m'\u001b[39m, \u001b[39m'\u001b[39m\u001b[39mrb\u001b[39m\u001b[39m'\u001b[39m))\n",
      "\u001b[0;31mTypeError\u001b[0m: string indices must be integers, not 'str'"
     ]
    }
   ],
   "source": [
    "m = predict(X, y, envdata, model_config)\n",
    "m.make_prediction()"
   ]
  }
 ],
 "metadata": {
  "kernelspec": {
   "display_name": "my-geopandas-env-2",
   "language": "python",
   "name": "python3"
  },
  "language_info": {
   "codemirror_mode": {
    "name": "ipython",
    "version": 3
   },
   "file_extension": ".py",
   "mimetype": "text/x-python",
   "name": "python",
   "nbconvert_exporter": "python",
   "pygments_lexer": "ipython3",
   "version": "3.11.4"
  },
  "orig_nbformat": 4
 },
 "nbformat": 4,
 "nbformat_minor": 2
}
