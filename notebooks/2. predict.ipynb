{
 "cells": [
  {
   "cell_type": "code",
   "execution_count": 1,
   "metadata": {},
   "outputs": [],
   "source": [
    "import pandas as pd\n",
    "from numpy.random import rand\n",
    "from yaml import load, Loader\n",
    "\n",
    "# from abil.predict import predict\n",
    "# from abil.functions import example_data\n",
    "# from sklearn.preprocessing import OneHotEncoder"
   ]
  },
  {
   "cell_type": "code",
   "execution_count": 2,
   "metadata": {},
   "outputs": [],
   "source": [
    "#If you want to debug the package without repackaging, you can read files locally:\n",
    "\n",
    "import sys\n",
    "sys.path.insert(0, '/home/phyto/Abil/abil/')\n",
    "from predict import predict\n",
    "from functions import example_data"
   ]
  },
  {
   "cell_type": "code",
   "execution_count": 3,
   "metadata": {},
   "outputs": [],
   "source": [
    "with open('/home/phyto/Abil/configuration/ensemble_regressor.yml', 'r') as f:\n",
    "    model_config = load(f, Loader=Loader)\n",
    "\n",
    "predictors = model_config['predictors']\n",
    "d = pd.read_csv(\"/home/phyto/Abil/devries2024/data/obs_env.csv\")\n",
    "species = 'Emiliania huxleyi'\n",
    "d = d[d[species]>0]\n",
    "\n",
    "d.dropna(subset=species, inplace=True)\n",
    "d.dropna(subset='FID', inplace=True)\n",
    "X_train = d[predictors]\n",
    "y = d[species]\n",
    "X_predict = pd.read_csv(\"/home/phyto/Abil/data/envdata_april_surface.csv\")\n",
    "X_predict.set_index([\"time\", \"depth\", \"lat\", \"lon\"], inplace=True)\n",
    "X_predict = X_predict[X_train.columns]"
   ]
  },
  {
   "cell_type": "code",
   "execution_count": 4,
   "metadata": {},
   "outputs": [
    {
     "name": "stdout",
     "output_type": "stream",
     "text": [
      "initialized prediction\n",
      "number of models in ensemble:3\n",
      "predicting regressor\n",
      "exporting rf prediction to: /home/phyto/planktonSDM/ModelOutput/rf/predictions/\n",
      "predicting regressor\n",
      "exporting xgb prediction to: /home/phyto/planktonSDM/ModelOutput/xgb/predictions/\n",
      "predicting regressor\n"
     ]
    },
    {
     "name": "stdout",
     "output_type": "stream",
     "text": [
      "exporting knn prediction to: /home/phyto/planktonSDM/ModelOutput/knn/predictions/\n",
      "0.04\n",
      "\n",
      "68\n",
      "exported MAPIE 32 prediction to: /home/phyto/planktonSDM/ModelOutput/mapie/predictions/32/Emiliania huxleyi.nc\n",
      "exported MAPIE CI50 prediction to: /home/phyto/planktonSDM/ModelOutput/mapie/predictions/median/Emiliania huxleyi.nc\n",
      "exported MAPIE 68 prediction to: /home/phyto/planktonSDM/ModelOutput/mapie/predictions/68/Emiliania huxleyi.nc\n"
     ]
    },
    {
     "name": "stderr",
     "output_type": "stream",
     "text": [
      "[Parallel(n_jobs=10)]: Using backend LokyBackend with 10 concurrent workers.\n",
      "[Parallel(n_jobs=10)]: Done   2 out of  10 | elapsed:    2.8s remaining:   11.4s\n"
     ]
    },
    {
     "name": "stdout",
     "output_type": "stream",
     "text": [
      "exporting ensemble scores to: /home/phyto/planktonSDM/ModelOutput/ens/scoring/\n",
      "finished\n",
      "execution time: 129.70542359352112 seconds\n"
     ]
    },
    {
     "name": "stderr",
     "output_type": "stream",
     "text": [
      "[Parallel(n_jobs=10)]: Done  10 out of  10 | elapsed:    3.5s finished\n"
     ]
    }
   ],
   "source": [
    "m = predict(X_train=X_train, y=y, X_predict=X_predict, model_config=model_config)\n",
    "m.make_prediction()"
   ]
  }
 ],
 "metadata": {
  "kernelspec": {
   "display_name": "my-geopandas-env-2",
   "language": "python",
   "name": "python3"
  },
  "language_info": {
   "codemirror_mode": {
    "name": "ipython",
    "version": 3
   },
   "file_extension": ".py",
   "mimetype": "text/x-python",
   "name": "python",
   "nbconvert_exporter": "python",
   "pygments_lexer": "ipython3",
   "version": "3.11.4"
  },
  "orig_nbformat": 4
 },
 "nbformat": 4,
 "nbformat_minor": 2
}
