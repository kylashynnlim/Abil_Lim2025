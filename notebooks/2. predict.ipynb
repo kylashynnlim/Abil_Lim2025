{
 "cells": [
  {
   "cell_type": "code",
   "execution_count": 1,
   "metadata": {},
   "outputs": [],
   "source": [
    "import pandas as pd\n",
    "from numpy.random import rand\n",
    "from yaml import load, Loader\n",
    "\n",
    "from planktonsdm.predict import predict\n",
    "from planktonsdm.functions import example_data"
   ]
  },
  {
   "cell_type": "code",
   "execution_count": 2,
   "metadata": {},
   "outputs": [],
   "source": [
    "#If you want to debug the package without repackaging, you can read files locally:\n",
    "\n",
    "#import sys\n",
    "#sys.path.insert(0, '/home/phyto/planktonSDM/planktonsdm/')\n",
    "#from predict import predict\n",
    "#from functions import example_data"
   ]
  },
  {
   "cell_type": "code",
   "execution_count": 3,
   "metadata": {},
   "outputs": [],
   "source": [
    "X, y = example_data(y_name =  \"Coccolithus pelagicus\", n_samples=500, n_features=5, noise=20, random_state=model_config['seed'])\n",
    "\n",
    "envdata = pd.DataFrame({\"no3\": rand(50), \"mld\": rand(50), \"par\": rand(50), \"o2\": rand(50), \"temp\": rand(50),\n",
    "                        \"lat\": range(0,50, 1), \"lon\": 50*[1]})\n",
    "envdata.set_index(['lat', 'lon'], inplace=True)\n",
    "envdata = pd.DataFrame(X)"
   ]
  },
  {
   "cell_type": "code",
   "execution_count": 4,
   "metadata": {},
   "outputs": [
    {
     "name": "stdout",
     "output_type": "stream",
     "text": [
      "scale X = True\n",
      "scaled X_predict\n",
      "\n",
      "number of models in ensemble:3\n",
      "predicting classifier\n",
      "exporting rf prediction to: /home/phyto/CoccoML/ModelOutput/rf/predictions/\n",
      "predicting classifier\n",
      "exporting xgb prediction to: /home/phyto/CoccoML/ModelOutput/xgb/predictions/\n",
      "predicting classifier\n",
      "exporting knn prediction to: /home/phyto/CoccoML/ModelOutput/knn/predictions/\n",
      "predicting ensemble model\n",
      "exporting ensemble prediction to: /home/phyto/CoccoML/ModelOutput/ens/predictions/\n",
      "exporting ensemble scores to: /home/phyto/CoccoML/ModelOutput/ens/scoring/\n",
      "finished\n",
      "execution time: 3.619521379470825 seconds\n"
     ]
    }
   ],
   "source": [
    "with open('/home/phyto/planktonSDM/configuration/1-phase_rf.yml', 'r') as f:\n",
    "    model_config = load(f, Loader=Loader)\n",
    "\n",
    "m = predict(X, y, envdata, model_config)\n",
    "m.make_prediction()"
   ]
  },
  {
   "cell_type": "code",
   "execution_count": 5,
   "metadata": {},
   "outputs": [
    {
     "name": "stdout",
     "output_type": "stream",
     "text": [
      "scale X = True\n",
      "scaled X_predict\n",
      "\n",
      "number of models in ensemble:1\n",
      "predicting classifier\n",
      "finished\n",
      "execution time: 0.06909871101379395 seconds\n"
     ]
    }
   ],
   "source": [
    "with open('/home/phyto/planktonSDM/configuration/2-phase_ensemble.yml', 'r') as f:\n",
    "    model_config = load(f, Loader=Loader)\n",
    "m = predict(X, y, envdata, model_config)\n",
    "m.make_prediction()"
   ]
  }
 ],
 "metadata": {
  "kernelspec": {
   "display_name": "my-geopandas-env-2",
   "language": "python",
   "name": "python3"
  },
  "language_info": {
   "codemirror_mode": {
    "name": "ipython",
    "version": 3
   },
   "file_extension": ".py",
   "mimetype": "text/x-python",
   "name": "python",
   "nbconvert_exporter": "python",
   "pygments_lexer": "ipython3",
   "version": "3.11.4"
  },
  "orig_nbformat": 4
 },
 "nbformat": 4,
 "nbformat_minor": 2
}
