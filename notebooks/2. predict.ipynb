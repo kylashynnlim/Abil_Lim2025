{
 "cells": [
  {
   "cell_type": "code",
   "execution_count": 1,
   "metadata": {},
   "outputs": [],
   "source": [
    "import pandas as pd\n",
    "from numpy.random import rand\n",
    "from yaml import load, Loader\n",
    "\n",
    "# from abil.predict import predict\n",
    "# from abil.functions import example_data\n",
    "# from sklearn.preprocessing import OneHotEncoder"
   ]
  },
  {
   "cell_type": "code",
   "execution_count": 2,
   "metadata": {},
   "outputs": [],
   "source": [
    "#If you want to debug the package without repackaging, you can read files locally:\n",
    "\n",
    "import sys\n",
    "sys.path.insert(0, '/home/phyto/Abil/abil/')\n",
    "from predict import predict\n",
    "from functions import example_data"
   ]
  },
  {
   "cell_type": "code",
   "execution_count": 3,
   "metadata": {},
   "outputs": [],
   "source": [
    "with open('/home/phyto/Abil/configuration/ensemble_regressor.yml', 'r') as f:\n",
    "    model_config = load(f, Loader=Loader)\n",
    "\n",
    "predictors = model_config['predictors']\n",
    "d = pd.read_csv(\"/home/phyto/Abil/devries2024/data/obs_env.csv\")\n",
    "species = 'Emiliania huxleyi'\n",
    "d = d[d[species]>0]\n",
    "\n",
    "d.dropna(subset=species, inplace=True)\n",
    "d.dropna(subset='FID', inplace=True)\n",
    "X_train = d[predictors]\n",
    "y = d[species]\n",
    "X_predict = pd.read_csv(\"/home/phyto/Abil/data/prediction.csv\")\n",
    "X_predict.set_index([\"time\", \"depth\", \"lat\", \"lon\"], inplace=True)\n",
    "\n",
    "X_predict = X_predict[X_train.columns]"
   ]
  },
  {
   "cell_type": "code",
   "execution_count": 4,
   "metadata": {},
   "outputs": [
    {
     "name": "stdout",
     "output_type": "stream",
     "text": [
      "{'R2': 'r2', 'MAE': 'neg_mean_absolute_error', 'RMSE': 'neg_root_mean_squared_error', 'tau': make_scorer(tau_scoring), 'tau_p': make_scorer(tau_scoring_p)}\n",
      "initialized prediction\n",
      "number of models in ensemble:2\n",
      "predicting regressor\n"
     ]
    },
    {
     "name": "stdout",
     "output_type": "stream",
     "text": [
      "exporting rf prediction to: /home/phyto/Abil/ModelOutput/rf/predictions/\n",
      "predicting regressor\n",
      "exporting xgb prediction to: /home/phyto/Abil/ModelOutput/xgb/predictions/\n",
      "0.04\n",
      "\n",
      "exported MAPIE CI50 prediction to: /home/phyto/Abil/ModelOutput/mapie/predictions/50/Emiliania huxleyi.nc\n",
      "min 68 CI:\n",
      "64674.21523542652\n",
      "min 68 CI (incl NA):\n",
      "64674.21523542652\n",
      "exported MAPIE 32 prediction to: /home/phyto/Abil/ModelOutput/mapie/predictions/32/Emiliania huxleyi.nc\n",
      "exported MAPIE 68 prediction to: /home/phyto/Abil/ModelOutput/mapie/predictions/68/Emiliania huxleyi.nc\n"
     ]
    },
    {
     "name": "stderr",
     "output_type": "stream",
     "text": [
      "[Parallel(n_jobs=2)]: Using backend LokyBackend with 2 concurrent workers.\n"
     ]
    },
    {
     "name": "stdout",
     "output_type": "stream",
     "text": [
      "exporting ensemble scores to: /home/phyto/Abil/ModelOutput/ens/scoring/\n",
      "finished\n",
      "execution time: 23.85653305053711 seconds\n"
     ]
    },
    {
     "name": "stderr",
     "output_type": "stream",
     "text": [
      "[Parallel(n_jobs=2)]: Done   4 out of   4 | elapsed:    6.7s finished\n"
     ]
    }
   ],
   "source": [
    "m = predict(X_train=X_train, y=y, X_predict=X_predict, \n",
    "    model_config=model_config, n_jobs=2)\n",
    "m.make_prediction(prediction_inference=True)"
   ]
  },
  {
   "cell_type": "code",
   "execution_count": 5,
   "metadata": {},
   "outputs": [
    {
     "name": "stdout",
     "output_type": "stream",
     "text": [
      "{'R2': 'r2', 'MAE': 'neg_mean_absolute_error', 'RMSE': 'neg_root_mean_squared_error', 'tau': make_scorer(tau_scoring), 'tau_p': make_scorer(tau_scoring_p)}\n",
      "initialized prediction\n",
      "number of models in ensemble:2\n",
      "predicting regressor\n",
      "exporting rf prediction to: /home/phyto/Abil/ModelOutput/rf/predictions/\n",
      "predicting regressor\n",
      "exporting xgb prediction to: /home/phyto/Abil/ModelOutput/xgb/predictions/\n",
      "3.04\n",
      "\n",
      "exported MAPIE CI50 prediction to: /home/phyto/Abil/ModelOutput/mapie/predictions/50/Coccolithus pelagicus.nc\n",
      "min 68 CI:\n",
      "444.99788632278177\n",
      "min 68 CI (incl NA):\n",
      "444.99788632278177\n",
      "exported MAPIE 32 prediction to: /home/phyto/Abil/ModelOutput/mapie/predictions/32/Coccolithus pelagicus.nc\n",
      "exported MAPIE 68 prediction to: /home/phyto/Abil/ModelOutput/mapie/predictions/68/Coccolithus pelagicus.nc\n"
     ]
    },
    {
     "name": "stderr",
     "output_type": "stream",
     "text": [
      "[Parallel(n_jobs=2)]: Using backend LokyBackend with 2 concurrent workers.\n"
     ]
    },
    {
     "name": "stdout",
     "output_type": "stream",
     "text": [
      "exporting ensemble scores to: /home/phyto/Abil/ModelOutput/ens/scoring/\n",
      "finished\n",
      "execution time: 12.906422853469849 seconds\n"
     ]
    },
    {
     "name": "stderr",
     "output_type": "stream",
     "text": [
      "[Parallel(n_jobs=2)]: Done   4 out of   4 | elapsed:    5.1s finished\n"
     ]
    }
   ],
   "source": [
    "with open('/home/phyto/Abil/configuration/ensemble_regressor.yml', 'r') as f:\n",
    "    model_config = load(f, Loader=Loader)\n",
    "\n",
    "predictors = model_config['predictors']\n",
    "d = pd.read_csv(\"/home/phyto/Abil/devries2024/data/obs_env.csv\")\n",
    "species = 'Coccolithus pelagicus'\n",
    "d = d[d[species]>0]\n",
    "\n",
    "d.dropna(subset=species, inplace=True)\n",
    "d.dropna(subset='FID', inplace=True)\n",
    "X_train = d[predictors]\n",
    "y = d[species]\n",
    "X_predict = pd.read_csv(\"/home/phyto/Abil/data/prediction.csv\")\n",
    "X_predict.set_index([\"time\", \"depth\", \"lat\", \"lon\"], inplace=True)\n",
    "\n",
    "X_predict = X_predict[X_train.columns]\n",
    "\n",
    "m = predict(X_train=X_train, y=y, X_predict=X_predict, \n",
    "    model_config=model_config, n_jobs=2)\n",
    "m.make_prediction(prediction_inference=True)\n"
   ]
  }
 ],
 "metadata": {
  "kernelspec": {
   "display_name": "my-geopandas-env-2",
   "language": "python",
   "name": "python3"
  },
  "language_info": {
   "codemirror_mode": {
    "name": "ipython",
    "version": 3
   },
   "file_extension": ".py",
   "mimetype": "text/x-python",
   "name": "python",
   "nbconvert_exporter": "python",
   "pygments_lexer": "ipython3",
   "version": "3.11.4"
  },
  "orig_nbformat": 4
 },
 "nbformat": 4,
 "nbformat_minor": 2
}
