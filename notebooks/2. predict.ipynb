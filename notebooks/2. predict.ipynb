{
 "cells": [
  {
   "cell_type": "code",
   "execution_count": 1,
   "metadata": {},
   "outputs": [],
   "source": [
    "import pandas as pd\n",
    "from numpy.random import rand\n",
    "from yaml import load, Loader\n",
    "\n",
    "# from planktonsdm.predict import predict\n",
    "# from planktonsdm.functions import example_data\n",
    "# from sklearn.preprocessing import OneHotEncoder"
   ]
  },
  {
   "cell_type": "code",
   "execution_count": 2,
   "metadata": {},
   "outputs": [],
   "source": [
    "#If you want to debug the package without repackaging, you can read files locally:\n",
    "\n",
    "import sys\n",
    "sys.path.insert(0, '/home/phyto/planktonSDM/planktonsdm/')\n",
    "from predict import predict\n",
    "from functions import example_data"
   ]
  },
  {
   "cell_type": "code",
   "execution_count": 3,
   "metadata": {},
   "outputs": [],
   "source": [
    "with open('/home/phyto/planktonSDM/configuration/ensemble_regressor.yml', 'r') as f:\n",
    "    model_config = load(f, Loader=Loader)\n",
    "\n",
    "predictors = model_config['predictors']\n",
    "d = pd.read_csv(\"/home/phyto/planktonSDM/data/abundances_environment.csv\")\n",
    "species = 'Emiliania huxleyi'\n",
    "d.dropna(subset=species, inplace=True)\n",
    "d.dropna(subset='FID', inplace=True)\n",
    "X_train = d[predictors]\n",
    "y = d[species]\n",
    "X_predict = pd.read_csv(\"/home/phyto/planktonSDM/data/envdata_april_surface.csv\")\n",
    "X_predict.set_index([\"time\", \"depth\", \"lat\", \"lon\"], inplace=True)\n",
    "X_predict = X_predict[X_train.columns]"
   ]
  },
  {
   "cell_type": "code",
   "execution_count": 4,
   "metadata": {},
   "outputs": [
    {
     "name": "stdout",
     "output_type": "stream",
     "text": [
      "upsampling = True\n",
      "number of models in ensemble:3\n",
      "predicting regressor\n",
      "exporting rf prediction to: /home/phyto/CoccoML/ModelOutput/rf/predictions/\n",
      "predicting regressor\n",
      "exporting xgb prediction to: /home/phyto/CoccoML/ModelOutput/xgb/predictions/\n",
      "predicting regressor\n",
      "exporting knn prediction to: /home/phyto/CoccoML/ModelOutput/knn/predictions/\n",
      "predicting ensemble model\n",
      "exporting ensemble prediction to: /home/phyto/CoccoML/ModelOutput/ens/predictions/\n",
      "exporting ensemble scores to: /home/phyto/CoccoML/ModelOutput/ens/scoring/\n",
      "finished\n",
      "execution time: 35.00714659690857 seconds\n"
     ]
    }
   ],
   "source": [
    "m = predict(X_train=X_train, y=y, X_predict=X_predict, model_config=model_config)\n",
    "m.make_prediction()"
   ]
  }
 ],
 "metadata": {
  "kernelspec": {
   "display_name": "my-geopandas-env-2",
   "language": "python",
   "name": "python3"
  },
  "language_info": {
   "codemirror_mode": {
    "name": "ipython",
    "version": 3
   },
   "file_extension": ".py",
   "mimetype": "text/x-python",
   "name": "python",
   "nbconvert_exporter": "python",
   "pygments_lexer": "ipython3",
   "version": "3.11.4"
  },
  "orig_nbformat": 4
 },
 "nbformat": 4,
 "nbformat_minor": 2
}
