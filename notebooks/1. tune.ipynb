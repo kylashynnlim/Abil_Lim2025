{
 "cells": [
  {
   "cell_type": "code",
   "execution_count": 1,
   "metadata": {},
   "outputs": [],
   "source": [
    "import pandas as pd\n",
    "from yaml import load\n",
    "from yaml import CLoader as Loader\n",
    "from planktonsdm.tune import tune\n",
    "from planktonsdm.functions import example_data\n",
    "from sklearn.preprocessing import OneHotEncoder"
   ]
  },
  {
   "cell_type": "code",
   "execution_count": 2,
   "metadata": {},
   "outputs": [],
   "source": [
    "#If you want to debug the package without repackaging, you can read files locally:\n",
    "\n",
    "import sys\n",
    "sys.path.insert(0, '/home/phyto/planktonSDM/planktonsdm/')\n",
    "from tune import tune\n",
    "from functions import example_data"
   ]
  },
  {
   "cell_type": "code",
   "execution_count": 3,
   "metadata": {},
   "outputs": [
    {
     "name": "stdout",
     "output_type": "stream",
     "text": [
      "upsampling = True\n"
     ]
    }
   ],
   "source": [
    "# Setting up the model\n",
    "\n",
    "with open('/home/phyto/planktonSDM/configuration/ensemble.yml', 'r') as f:\n",
    "    model_config = load(f, Loader=Loader)\n",
    "\n",
    "d = pd.read_csv(\"/home/phyto/planktonSDM/data/abundances_environment.csv\")\n",
    "species = 'Umbellosphaera tenuis'\n",
    "species = 'Emiliania huxleyi'\n",
    "\n",
    "d.dropna(subset=species, inplace=True)\n",
    "d.dropna(subset='FID', inplace=True)\n",
    "\n",
    "features = model_config['predictors']\n",
    "\n",
    "X_train = d[features]\n",
    "y = d[species]\n",
    "\n",
    "\n",
    "try:\n",
    "    X_train = X_train.drop(columns=['FID'])\n",
    "    enc = OneHotEncoder()\n",
    "    regions  = enc.fit_transform(d[['FID']])\n",
    "    X_train.loc[:, enc.categories_[0]]  = regions.toarray()\n",
    "    X_train.columns = X_train.columns.astype(str)\n",
    "    \n",
    "except:\n",
    "    print(\"FID not part of predictors\")\n",
    "\n",
    "\n",
    "m = tune(X_train, y, model_config)"
   ]
  },
  {
   "cell_type": "code",
   "execution_count": 4,
   "metadata": {},
   "outputs": [
    {
     "name": "stdout",
     "output_type": "stream",
     "text": [
      "training regressor\n",
      "Fitting 10 folds for each of 72 candidates, totalling 720 fits\n",
      "exported model to: /home/phyto/CoccoML/ModelOutput/rf/model/Umbellosphaera tenuis_reg.sav\n",
      "exported scoring to: /home/phyto/CoccoML/ModelOutput/rf/scoring/Umbellosphaera tenuis_reg.sav\n",
      "reg rRMSE: 302%\n",
      "reg rMAE: 98%\n",
      "reg R2: 0.43\n",
      "execution time: 1.1920928955078125e-06 seconds\n"
     ]
    }
   ],
   "source": [
    "'''\n",
    "1-phase Random forest regressor\n",
    "'''\n",
    "m.train(model=\"rf\", regressor=True)"
   ]
  },
  {
   "cell_type": "code",
   "execution_count": 5,
   "metadata": {},
   "outputs": [
    {
     "name": "stdout",
     "output_type": "stream",
     "text": [
      "training regressor\n",
      "Fitting 10 folds for each of 72 candidates, totalling 720 fits\n",
      "exported model to: /home/phyto/CoccoML/ModelOutput/xgb/model/Umbellosphaera tenuis_reg.sav\n",
      "exported scoring to: /home/phyto/CoccoML/ModelOutput/xgb/scoring/Umbellosphaera tenuis_reg.sav\n",
      "reg rRMSE: 319%\n",
      "reg rMAE: 77%\n",
      "reg R2: 0.33\n",
      "execution time: 7.152557373046875e-07 seconds\n"
     ]
    }
   ],
   "source": [
    "'''\n",
    "1-phase XGboost regressor\n",
    "'''\n",
    "m.train(model=\"xgb\", regressor=True)"
   ]
  },
  {
   "cell_type": "code",
   "execution_count": 6,
   "metadata": {},
   "outputs": [
    {
     "name": "stdout",
     "output_type": "stream",
     "text": [
      "training regressor\n",
      "Fitting 10 folds for each of 1 candidates, totalling 10 fits\n",
      "exported model to: /home/phyto/CoccoML/ModelOutput/knn/model/Umbellosphaera tenuis_reg.sav\n",
      "exported scoring to: /home/phyto/CoccoML/ModelOutput/knn/scoring/Umbellosphaera tenuis_reg.sav\n",
      "reg rRMSE: 318%\n",
      "reg rMAE: 103%\n",
      "reg R2: 0.32\n",
      "execution time: 9.5367431640625e-07 seconds\n"
     ]
    }
   ],
   "source": [
    "'''\n",
    "1-phase KNN regressor\n",
    "'''\n",
    "m.train(model=\"knn\", regressor=True)"
   ]
  }
 ],
 "metadata": {
  "kernelspec": {
   "display_name": "my-geopandas-env-2",
   "language": "python",
   "name": "python3"
  },
  "language_info": {
   "codemirror_mode": {
    "name": "ipython",
    "version": 3
   },
   "file_extension": ".py",
   "mimetype": "text/x-python",
   "name": "python",
   "nbconvert_exporter": "python",
   "pygments_lexer": "ipython3",
   "version": "3.11.4"
  }
 },
 "nbformat": 4,
 "nbformat_minor": 2
}
