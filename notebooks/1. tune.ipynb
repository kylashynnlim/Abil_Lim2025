{
 "cells": [
  {
   "cell_type": "code",
   "execution_count": 1,
   "metadata": {},
   "outputs": [],
   "source": [
    "import pandas as pd\n",
    "import numpy as np\n",
    "from sklearn.preprocessing import MinMaxScaler\n",
    "from sklearn.datasets import make_regression\n",
    "import sys\n",
    "from yaml import load\n",
    "from yaml import CLoader as Loader\n",
    "\n",
    "sys.path.insert(0, '/home/phyto/planktonSDM/functions/')\n",
    "from tune import tune \n",
    "from functions import example_data"
   ]
  },
  {
   "cell_type": "code",
   "execution_count": 2,
   "metadata": {},
   "outputs": [],
   "source": [
    "# Setting up the model\n",
    "\n",
    "with open('/home/phyto/planktonSDM/configuration/example_model_config.yml', 'r') as f:\n",
    "    model_config = load(f, Loader=Loader)\n",
    "\n",
    "X, y = example_data(y_name =  \"Coccolithus pelagicus\", n_samples=500, n_features=5, noise=20, \n",
    "                    random_state=model_config['seed'])\n",
    "\n",
    "m = tune(X, y, model_config)"
   ]
  },
  {
   "cell_type": "code",
   "execution_count": 3,
   "metadata": {},
   "outputs": [
    {
     "name": "stdout",
     "output_type": "stream",
     "text": [
      "training classifier\n",
      "Fitting 3 folds for each of 16 candidates, totalling 48 fits\n",
      "clf balanced accuray 0.78\n",
      "execution time: 7.152557373046875e-07 seconds\n"
     ]
    }
   ],
   "source": [
    "'''\n",
    "1-phase Random forest classifier\n",
    "'''\n",
    "m.train(model=\"rf\", classifier=True)"
   ]
  },
  {
   "cell_type": "code",
   "execution_count": 4,
   "metadata": {},
   "outputs": [
    {
     "name": "stdout",
     "output_type": "stream",
     "text": [
      "training regressor\n",
      "Fitting 3 folds for each of 16 candidates, totalling 48 fits\n",
      "reg rRMSE: 24%\n",
      "reg rMAE: 17%\n",
      "reg R2: 0.79\n",
      "execution time: 9.5367431640625e-07 seconds\n"
     ]
    }
   ],
   "source": [
    "'''\n",
    "1-phase Random forest regressor\n",
    "'''\n",
    "m.train(model=\"rf\", regressor=True)"
   ]
  },
  {
   "cell_type": "code",
   "execution_count": 5,
   "metadata": {},
   "outputs": [
    {
     "name": "stdout",
     "output_type": "stream",
     "text": [
      "training regressor\n",
      "Fitting 3 folds for each of 16 candidates, totalling 48 fits\n",
      "Fitting 3 folds for each of 16 candidates, totalling 48 fits\n",
      "reg rRMSE: 24%\n",
      "reg rMAE: 17%\n",
      "reg R2: 0.79\n",
      "execution time: 7.152557373046875e-07 seconds\n"
     ]
    }
   ],
   "source": [
    "'''\n",
    "1-phase Random forest regressor -  testing log transformations\n",
    "'''\n",
    "m.train(model=\"rf\", regressor=True, log=\"both\")"
   ]
  },
  {
   "cell_type": "code",
   "execution_count": 6,
   "metadata": {},
   "outputs": [
    {
     "name": "stdout",
     "output_type": "stream",
     "text": [
      "training classifier\n",
      "Fitting 3 folds for each of 16 candidates, totalling 48 fits\n",
      "clf balanced accuray 0.78\n",
      "training regressor\n",
      "Fitting 3 folds for each of 16 candidates, totalling 48 fits\n",
      "reg rRMSE: 24%\n",
      "reg rMAE: 17%\n",
      "reg R2: 0.79\n",
      "zir rRMSE: 27%\n",
      "zir rMAE: 16%\n",
      "zir R2: 0.73\n",
      "execution time: 7.152557373046875e-07 seconds\n"
     ]
    }
   ],
   "source": [
    "'''\n",
    "2-phase Random forest regressor\n",
    "'''\n",
    "m.train(model=\"rf\", classifier=True, regressor=True)"
   ]
  },
  {
   "cell_type": "code",
   "execution_count": 7,
   "metadata": {},
   "outputs": [
    {
     "name": "stdout",
     "output_type": "stream",
     "text": [
      "training regressor\n",
      "Fitting 3 folds for each of 1 candidates, totalling 3 fits\n",
      "reg rRMSE: 43%\n",
      "reg rMAE: 34%\n",
      "reg R2: 0.33\n",
      "execution time: 9.5367431640625e-07 seconds\n"
     ]
    }
   ],
   "source": [
    "'''\n",
    "1-phase XGboost\n",
    "'''\n",
    "m.train(model=\"xgb\", regressor=True)"
   ]
  },
  {
   "cell_type": "code",
   "execution_count": 8,
   "metadata": {},
   "outputs": [
    {
     "name": "stdout",
     "output_type": "stream",
     "text": [
      "training regressor\n",
      "Fitting 3 folds for each of 1 candidates, totalling 3 fits\n",
      "reg rRMSE: 37%\n",
      "reg rMAE: 27%\n",
      "reg R2: 0.51\n",
      "execution time: 7.152557373046875e-07 seconds\n"
     ]
    }
   ],
   "source": [
    "'''\n",
    "1-phase KNN regressor\n",
    "'''\n",
    "m.train(model=\"knn\", regressor=True)"
   ]
  }
 ],
 "metadata": {
  "kernelspec": {
   "display_name": "Python 3 (ipykernel)",
   "language": "python",
   "name": "python3"
  },
  "language_info": {
   "codemirror_mode": {
    "name": "ipython",
    "version": 3
   },
   "file_extension": ".py",
   "mimetype": "text/x-python",
   "name": "python",
   "nbconvert_exporter": "python",
   "pygments_lexer": "ipython3",
   "version": "3.11.4"
  }
 },
 "nbformat": 4,
 "nbformat_minor": 2
}
