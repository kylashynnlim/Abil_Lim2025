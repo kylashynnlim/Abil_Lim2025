{
 "cells": [
  {
   "cell_type": "code",
   "execution_count": 1,
   "metadata": {},
   "outputs": [],
   "source": [
    "import pandas as pd\n",
    "import numpy as np\n",
    "from sklearn.preprocessing import MinMaxScaler\n",
    "from sklearn.datasets import make_regression\n",
    "import sys\n",
    "from yaml import load\n",
    "from yaml import CLoader as Loader\n",
    "\n",
    "sys.path.insert(0, '/home/phyto/planktonSDM/functions/')\n",
    "from tune import tune \n",
    "from functions import example_data"
   ]
  },
  {
   "cell_type": "code",
   "execution_count": 2,
   "metadata": {},
   "outputs": [],
   "source": [
    "# Setting up the model\n",
    "\n",
    "with open('/home/phyto/planktonSDM/configuration/example_model_config.yml', 'r') as f:\n",
    "    model_config = load(f, Loader=Loader)\n",
    "\n",
    "X, y = example_data(y_name =  \"Coccolithus pelagicus\", n_samples=500, n_features=5, noise=20, \n",
    "                    random_state=model_config['seed'])\n",
    "\n",
    "m = tune(X, y, model_config)"
   ]
  },
  {
   "cell_type": "code",
   "execution_count": 3,
   "metadata": {},
   "outputs": [
    {
     "name": "stdout",
     "output_type": "stream",
     "text": [
      "test\n",
      "training classifier\n",
      "Fitting 3 folds for each of 12 candidates, totalling 36 fits\n",
      "{'fit_time': array([0.10586643, 0.10485506, 0.10603714]), 'score_time': array([0.00701594, 0.00693727, 0.00685215]), 'test_accuracy': array([0.5, 0.5, 0.5])}\n",
      "clf balanced accuray 0.5\n",
      "execution time: 2.384185791015625e-07 seconds\n"
     ]
    }
   ],
   "source": [
    "'''\n",
    "1-phase Random forest classifier\n",
    "'''\n",
    "m.train(model=\"rf\", classifier=True)"
   ]
  },
  {
   "cell_type": "code",
   "execution_count": 4,
   "metadata": {},
   "outputs": [
    {
     "name": "stdout",
     "output_type": "stream",
     "text": [
      "test\n",
      "training regressor\n",
      "Fitting 3 folds for each of 24 candidates, totalling 72 fits\n",
      "reg rRMSE: 49%\n",
      "reg rMAE: 36%\n",
      "reg R2: 0.13\n",
      "execution time: 2.384185791015625e-07 seconds\n"
     ]
    }
   ],
   "source": [
    "'''\n",
    "1-phase Random forest regressor\n",
    "'''\n",
    "m.train(model=\"rf\", regressor=True)"
   ]
  },
  {
   "cell_type": "code",
   "execution_count": 6,
   "metadata": {},
   "outputs": [
    {
     "name": "stdout",
     "output_type": "stream",
     "text": [
      "test\n",
      "training regressor\n",
      "Fitting 3 folds for each of 24 candidates, totalling 72 fits\n",
      "Fitting 3 folds for each of 24 candidates, totalling 72 fits\n",
      "reg rRMSE: 49%\n",
      "reg rMAE: 36%\n",
      "reg R2: 0.13\n",
      "execution time: 2.384185791015625e-07 seconds\n"
     ]
    }
   ],
   "source": [
    "'''\n",
    "1-phase Random forest regressor -  testing log transformations\n",
    "'''\n",
    "m.train(model=\"rf\", regressor=True, log=\"both\")"
   ]
  },
  {
   "cell_type": "code",
   "execution_count": 7,
   "metadata": {},
   "outputs": [
    {
     "name": "stdout",
     "output_type": "stream",
     "text": [
      "test\n",
      "training classifier\n",
      "Fitting 3 folds for each of 12 candidates, totalling 36 fits\n",
      "{'fit_time': array([0.11016083, 0.10908222, 0.10904837]), 'score_time': array([0.00721884, 0.00712371, 0.00718117]), 'test_accuracy': array([0.5, 0.5, 0.5])}\n",
      "clf balanced accuray 0.5\n",
      "training regressor\n",
      "Fitting 3 folds for each of 24 candidates, totalling 72 fits\n",
      "reg rRMSE: 49%\n",
      "reg rMAE: 36%\n",
      "reg R2: 0.13\n",
      "zir rRMSE: 49%\n",
      "zir rMAE: 36%\n",
      "zir R2: 0.13\n",
      "execution time: 2.384185791015625e-07 seconds\n"
     ]
    }
   ],
   "source": [
    "'''\n",
    "2-phase Random forest regressor\n",
    "'''\n",
    "m.train(model=\"rf\", classifier=True, regressor=True)"
   ]
  },
  {
   "cell_type": "code",
   "execution_count": null,
   "metadata": {},
   "outputs": [
    {
     "name": "stdout",
     "output_type": "stream",
     "text": [
      "Fitting 3 folds for each of 24 candidates, totalling 72 fits\n",
      "finished tuning model\n",
      "reg rRMSE: 54%\n",
      "reg rMAE: 41%\n",
      "reg R2: -0.03\n",
      "execution time: 8.961717128753662 seconds\n",
      "both models:\n",
      "Fitting 3 folds for each of 24 candidates, totalling 72 fits\n",
      "Fitting 3 folds for each of 24 candidates, totalling 72 fits\n",
      "finished tuning model\n",
      "reg rRMSE: 53%\n",
      "reg rMAE: 40%\n",
      "reg R2: -0.02\n",
      "execution time: 17.13132405281067 seconds\n"
     ]
    }
   ],
   "source": [
    "'''\n",
    "1-phase XGboost\n",
    "'''\n",
    "m.train(model=\"xgb\", regressor=True)"
   ]
  },
  {
   "cell_type": "code",
   "execution_count": null,
   "metadata": {},
   "outputs": [
    {
     "name": "stdout",
     "output_type": "stream",
     "text": [
      "Fitting 3 folds for each of 1 candidates, totalling 3 fits\n",
      "finished tuning model\n",
      "reg rRMSE: 54%\n",
      "reg rMAE: 42%\n",
      "reg R2: -0.05\n",
      "execution time: 0.30060482025146484 seconds\n"
     ]
    }
   ],
   "source": [
    "'''\n",
    "1-phase KNN\n",
    "'''\n",
    "m.train(model=\"xgb\", regressor=True)"
   ]
  }
 ],
 "metadata": {
  "kernelspec": {
   "display_name": "Python 3 (ipykernel)",
   "language": "python",
   "name": "python3"
  },
  "language_info": {
   "codemirror_mode": {
    "name": "ipython",
    "version": 3
   },
   "file_extension": ".py",
   "mimetype": "text/x-python",
   "name": "python",
   "nbconvert_exporter": "python",
   "pygments_lexer": "ipython3",
   "version": "3.11.4"
  }
 },
 "nbformat": 4,
 "nbformat_minor": 2
}
