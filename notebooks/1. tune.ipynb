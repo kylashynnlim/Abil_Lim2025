{
 "cells": [
  {
   "cell_type": "code",
   "execution_count": 4,
   "metadata": {},
   "outputs": [],
   "source": [
    "from yaml import load\n",
    "from yaml import CLoader as Loader\n",
    "from planktonsdm.tune import tune\n",
    "from planktonsdm.functions import example_data"
   ]
  },
  {
   "cell_type": "code",
   "execution_count": 5,
   "metadata": {},
   "outputs": [],
   "source": [
    "#If you want to debug the package without repackaging, you can read files locally:\n",
    "\n",
    "#import sys\n",
    "#sys.path.insert(0, '/home/phyto/planktonSDM/planktonsdm/')\n",
    "#from tune import tune\n",
    "#from functions import example_data"
   ]
  },
  {
   "cell_type": "code",
   "execution_count": 6,
   "metadata": {},
   "outputs": [
    {
     "name": "stdout",
     "output_type": "stream",
     "text": [
      "scale X = True\n"
     ]
    }
   ],
   "source": [
    "# Setting up the model\n",
    "\n",
    "with open('/home/phyto/planktonSDM/configuration/2-phase_ensemble.yml', 'r') as f:\n",
    "    model_config = load(f, Loader=Loader)\n",
    "\n",
    "X, y = example_data(y_name =  \"Coccolithus pelagicus\", n_samples=500, n_features=5, noise=20, \n",
    "                    random_state=model_config['seed'])\n",
    "\n",
    "\n",
    "m = tune(X, y, model_config)"
   ]
  },
  {
   "cell_type": "code",
   "execution_count": 7,
   "metadata": {},
   "outputs": [
    {
     "name": "stdout",
     "output_type": "stream",
     "text": [
      "training classifier\n",
      "Fitting 3 folds for each of 16 candidates, totalling 48 fits\n"
     ]
    },
    {
     "name": "stdout",
     "output_type": "stream",
     "text": [
      "exported model to:/home/phyto/CoccoML/ModelOutput/rf/model/Coccolithus pelagicus_clf.sav\n",
      "exported scoring to: /home/phyto/CoccoML/ModelOutput/rf/scoring/Coccolithus pelagicus_clf.sav\n",
      "[0.87460317 0.69270298 0.76698641]\n",
      "clf balanced accuracy 0.78\n",
      "execution time: 7.152557373046875e-07 seconds\n"
     ]
    }
   ],
   "source": [
    "'''\n",
    "1-phase Random forest classifier\n",
    "'''\n",
    "m.train(model=\"rf\", classifier=True)"
   ]
  },
  {
   "cell_type": "code",
   "execution_count": 8,
   "metadata": {},
   "outputs": [
    {
     "name": "stdout",
     "output_type": "stream",
     "text": [
      "training regressor\n",
      "Fitting 3 folds for each of 16 candidates, totalling 48 fits\n",
      "exported model to: /home/phyto/CoccoML/ModelOutput/rf/model/Coccolithus pelagicus_reg.sav\n",
      "exported scoring to: /home/phyto/CoccoML/ModelOutput/rf/scoring/Coccolithus pelagicus_reg.sav\n",
      "reg rRMSE: 25%\n",
      "reg rMAE: 18%\n",
      "reg R2: 0.78\n",
      "execution time: 4.76837158203125e-07 seconds\n"
     ]
    }
   ],
   "source": [
    "'''\n",
    "1-phase Random forest regressor\n",
    "'''\n",
    "m.train(model=\"rf\", regressor=True)"
   ]
  },
  {
   "cell_type": "code",
   "execution_count": 9,
   "metadata": {},
   "outputs": [
    {
     "name": "stdout",
     "output_type": "stream",
     "text": [
      "training regressor\n",
      "Fitting 3 folds for each of 16 candidates, totalling 48 fits\n",
      "Fitting 3 folds for each of 16 candidates, totalling 48 fits\n",
      "exported model to: /home/phyto/CoccoML/ModelOutput/rf/model/Coccolithus pelagicus_reg.sav\n",
      "exported scoring to: /home/phyto/CoccoML/ModelOutput/rf/scoring/Coccolithus pelagicus_reg.sav\n",
      "reg rRMSE: 25%\n",
      "reg rMAE: 18%\n",
      "reg R2: 0.78\n",
      "execution time: 7.152557373046875e-07 seconds\n"
     ]
    }
   ],
   "source": [
    "'''\n",
    "1-phase Random forest regressor -  testing log transformations\n",
    "'''\n",
    "m.train(model=\"rf\", regressor=True, log=\"both\")"
   ]
  },
  {
   "cell_type": "code",
   "execution_count": 10,
   "metadata": {},
   "outputs": [
    {
     "name": "stdout",
     "output_type": "stream",
     "text": [
      "training classifier\n",
      "Fitting 3 folds for each of 16 candidates, totalling 48 fits\n",
      "exported model to:/home/phyto/CoccoML/ModelOutput/rf/model/Coccolithus pelagicus_clf.sav\n",
      "exported scoring to: /home/phyto/CoccoML/ModelOutput/rf/scoring/Coccolithus pelagicus_clf.sav\n",
      "[0.87460317 0.69270298 0.76698641]\n",
      "clf balanced accuracy 0.78\n",
      "training regressor\n",
      "Fitting 3 folds for each of 16 candidates, totalling 48 fits\n",
      "exported model to: /home/phyto/CoccoML/ModelOutput/rf/model/Coccolithus pelagicus_reg.sav\n",
      "exported scoring to: /home/phyto/CoccoML/ModelOutput/rf/scoring/Coccolithus pelagicus_reg.sav\n",
      "reg rRMSE: 25%\n",
      "reg rMAE: 18%\n",
      "reg R2: 0.78\n",
      "training zero-inflated regressor\n",
      "exported model to: /home/phyto/CoccoML/ModelOutput/rf/model/Coccolithus pelagicus_zir.sav\n",
      "exported scoring to: /home/phyto/CoccoML/ModelOutput/rf/scoring/Coccolithus pelagicus_zir.sav\n",
      "zir rRMSE: 28%\n",
      "zir rMAE: 17%\n",
      "zir R2: 0.7\n",
      "execution time: 4.76837158203125e-07 seconds\n"
     ]
    }
   ],
   "source": [
    "'''\n",
    "2-phase Random forest regressor\n",
    "'''\n",
    "m.train(model=\"rf\", classifier=True, regressor=True)"
   ]
  },
  {
   "cell_type": "code",
   "execution_count": 11,
   "metadata": {},
   "outputs": [
    {
     "name": "stdout",
     "output_type": "stream",
     "text": [
      "training classifier\n",
      "Fitting 3 folds for each of 1 candidates, totalling 3 fits\n",
      "exported model to:/home/phyto/CoccoML/ModelOutput/xgb/model/Coccolithus pelagicus_clf.sav\n",
      "exported scoring to: /home/phyto/CoccoML/ModelOutput/xgb/scoring/Coccolithus pelagicus_clf.sav\n",
      "[0.72222222 0.61780576 0.60751399]\n",
      "clf balanced accuracy 0.65\n",
      "execution time: 4.76837158203125e-07 seconds\n"
     ]
    }
   ],
   "source": [
    "'''\n",
    "1-phase XGboost classifier\n",
    "'''\n",
    "m.train(model=\"xgb\", classifier=True)"
   ]
  },
  {
   "cell_type": "code",
   "execution_count": 12,
   "metadata": {},
   "outputs": [
    {
     "name": "stdout",
     "output_type": "stream",
     "text": [
      "training regressor\n",
      "Fitting 3 folds for each of 1 candidates, totalling 3 fits\n",
      "exported model to: /home/phyto/CoccoML/ModelOutput/xgb/model/Coccolithus pelagicus_reg.sav\n",
      "exported scoring to: /home/phyto/CoccoML/ModelOutput/xgb/scoring/Coccolithus pelagicus_reg.sav\n",
      "reg rRMSE: 43%\n",
      "reg rMAE: 34%\n",
      "reg R2: 0.33\n",
      "execution time: 9.5367431640625e-07 seconds\n"
     ]
    }
   ],
   "source": [
    "'''\n",
    "1-phase XGboost regressor\n",
    "'''\n",
    "m.train(model=\"xgb\", regressor=True)"
   ]
  },
  {
   "cell_type": "code",
   "execution_count": 13,
   "metadata": {},
   "outputs": [
    {
     "name": "stdout",
     "output_type": "stream",
     "text": [
      "training classifier\n",
      "Fitting 3 folds for each of 1 candidates, totalling 3 fits\n",
      "exported model to:/home/phyto/CoccoML/ModelOutput/knn/model/Coccolithus pelagicus_clf.sav\n",
      "exported scoring to: /home/phyto/CoccoML/ModelOutput/knn/scoring/Coccolithus pelagicus_clf.sav\n",
      "[0.59259259 0.53571429 0.55555556]\n",
      "clf balanced accuracy 0.56\n",
      "execution time: 4.76837158203125e-07 seconds\n"
     ]
    }
   ],
   "source": [
    "'''\n",
    "1-phase KNN classifier\n",
    "'''\n",
    "m.train(model=\"knn\", classifier=True)"
   ]
  },
  {
   "cell_type": "code",
   "execution_count": 14,
   "metadata": {},
   "outputs": [
    {
     "name": "stdout",
     "output_type": "stream",
     "text": [
      "training regressor\n",
      "Fitting 3 folds for each of 1 candidates, totalling 3 fits\n",
      "exported model to: /home/phyto/CoccoML/ModelOutput/knn/model/Coccolithus pelagicus_reg.sav\n",
      "exported scoring to: /home/phyto/CoccoML/ModelOutput/knn/scoring/Coccolithus pelagicus_reg.sav\n",
      "reg rRMSE: 39%\n",
      "reg rMAE: 28%\n",
      "reg R2: 0.46\n",
      "execution time: 7.152557373046875e-07 seconds\n"
     ]
    }
   ],
   "source": [
    "'''\n",
    "1-phase KNN regressor\n",
    "'''\n",
    "m.train(model=\"knn\", regressor=True)"
   ]
  }
 ],
 "metadata": {
  "kernelspec": {
   "display_name": "my-geopandas-env-2",
   "language": "python",
   "name": "python3"
  },
  "language_info": {
   "codemirror_mode": {
    "name": "ipython",
    "version": 3
   },
   "file_extension": ".py",
   "mimetype": "text/x-python",
   "name": "python",
   "nbconvert_exporter": "python",
   "pygments_lexer": "ipython3",
   "version": "3.11.4"
  }
 },
 "nbformat": 4,
 "nbformat_minor": 2
}
