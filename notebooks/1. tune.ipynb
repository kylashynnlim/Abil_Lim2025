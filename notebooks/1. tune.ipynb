{
 "cells": [
  {
   "cell_type": "code",
   "execution_count": 12,
   "metadata": {},
   "outputs": [],
   "source": [
    "import pandas as pd\n",
    "from yaml import load\n",
    "from yaml import CLoader as Loader\n",
    "from planktonsdm.tune import tune\n",
    "from planktonsdm.functions import example_data"
   ]
  },
  {
   "cell_type": "code",
   "execution_count": 13,
   "metadata": {},
   "outputs": [],
   "source": [
    "#If you want to debug the package without repackaging, you can read files locally:\n",
    "\n",
    "# import sys\n",
    "# sys.path.insert(0, '/home/phyto/planktonSDM/planktonsdm/')\n",
    "# from tune import tune\n",
    "# from functions import example_data"
   ]
  },
  {
   "cell_type": "code",
   "execution_count": 14,
   "metadata": {},
   "outputs": [],
   "source": [
    "# Setting up the model\n",
    "\n",
    "with open('/home/phyto/planktonSDM/configuration/2-phase_ensemble.yml', 'r') as f:\n",
    "    model_config = load(f, Loader=Loader)\n",
    "\n",
    "X, y = example_data(y_name =  \"Coccolithus pelagicus\", n_samples=500, n_features=5, noise=20, \n",
    "                    random_state=model_config['seed'])\n",
    "\n",
    "X = pd.DataFrame(X, columns = ['Column_A','Column_B','Column_C','Column_D','Column_E'])\n",
    "\n",
    "m = tune(X, y, model_config)"
   ]
  },
  {
   "cell_type": "code",
   "execution_count": 15,
   "metadata": {},
   "outputs": [
    {
     "name": "stdout",
     "output_type": "stream",
     "text": [
      "training classifier\n",
      "[0 1 2 3 4]\n",
      "Fitting 3 folds for each of 16 candidates, totalling 48 fits\n"
     ]
    },
    {
     "name": "stdout",
     "output_type": "stream",
     "text": [
      "exported model to:/home/phyto/CoccoML/ModelOutput/rf/model/Coccolithus pelagicus_clf.sav\n",
      "exported scoring to: /home/phyto/CoccoML/ModelOutput/rf/scoring/Coccolithus pelagicus_clf.sav\n",
      "[0.87460317 0.69270298 0.76698641]\n",
      "clf balanced accuracy 0.78\n",
      "execution time: 4.76837158203125e-07 seconds\n"
     ]
    }
   ],
   "source": [
    "'''\n",
    "1-phase Random forest classifier\n",
    "'''\n",
    "m.train(model=\"rf\", classifier=True)"
   ]
  },
  {
   "cell_type": "code",
   "execution_count": 16,
   "metadata": {},
   "outputs": [
    {
     "name": "stdout",
     "output_type": "stream",
     "text": [
      "training regressor\n",
      "Fitting 3 folds for each of 16 candidates, totalling 48 fits\n",
      "exported model to: /home/phyto/CoccoML/ModelOutput/rf/model/Coccolithus pelagicus_reg.sav\n",
      "exported scoring to: /home/phyto/CoccoML/ModelOutput/rf/scoring/Coccolithus pelagicus_reg.sav\n",
      "reg rRMSE: 25%\n",
      "reg rMAE: 18%\n",
      "reg R2: 0.78\n",
      "execution time: 7.152557373046875e-07 seconds\n"
     ]
    }
   ],
   "source": [
    "'''\n",
    "1-phase Random forest regressor\n",
    "'''\n",
    "m.train(model=\"rf\", regressor=True)"
   ]
  },
  {
   "cell_type": "code",
   "execution_count": 17,
   "metadata": {},
   "outputs": [
    {
     "name": "stdout",
     "output_type": "stream",
     "text": [
      "training regressor\n",
      "Fitting 3 folds for each of 16 candidates, totalling 48 fits\n",
      "Fitting 3 folds for each of 16 candidates, totalling 48 fits\n",
      "exported model to: /home/phyto/CoccoML/ModelOutput/rf/model/Coccolithus pelagicus_reg.sav\n",
      "exported scoring to: /home/phyto/CoccoML/ModelOutput/rf/scoring/Coccolithus pelagicus_reg.sav\n",
      "reg rRMSE: 25%\n",
      "reg rMAE: 18%\n",
      "reg R2: 0.78\n",
      "execution time: 7.152557373046875e-07 seconds\n"
     ]
    }
   ],
   "source": [
    "'''\n",
    "1-phase Random forest regressor -  testing log transformations\n",
    "'''\n",
    "m.train(model=\"rf\", regressor=True, log=\"both\")"
   ]
  },
  {
   "cell_type": "code",
   "execution_count": 18,
   "metadata": {},
   "outputs": [
    {
     "name": "stdout",
     "output_type": "stream",
     "text": [
      "training classifier\n",
      "[0 1 2 3 4]\n",
      "Fitting 3 folds for each of 16 candidates, totalling 48 fits\n",
      "exported model to:/home/phyto/CoccoML/ModelOutput/rf/model/Coccolithus pelagicus_clf.sav\n",
      "exported scoring to: /home/phyto/CoccoML/ModelOutput/rf/scoring/Coccolithus pelagicus_clf.sav\n",
      "[0.87460317 0.69270298 0.76698641]\n",
      "clf balanced accuracy 0.78\n",
      "training regressor\n",
      "Fitting 3 folds for each of 16 candidates, totalling 48 fits\n",
      "exported model to: /home/phyto/CoccoML/ModelOutput/rf/model/Coccolithus pelagicus_reg.sav\n",
      "exported scoring to: /home/phyto/CoccoML/ModelOutput/rf/scoring/Coccolithus pelagicus_reg.sav\n",
      "reg rRMSE: 25%\n",
      "reg rMAE: 18%\n",
      "reg R2: 0.78\n",
      "training zero-inflated regressor\n",
      "exported model to: /home/phyto/CoccoML/ModelOutput/rf/model/Coccolithus pelagicus_zir.sav\n"
     ]
    },
    {
     "name": "stderr",
     "output_type": "stream",
     "text": [
      "/home/phyto/anaconda3/envs/my-geopandas-env-2/lib/python3.11/site-packages/sklearn/base.py:464: UserWarning: X does not have valid feature names, but StandardScaler was fitted with feature names\n",
      "  warnings.warn(\n"
     ]
    },
    {
     "name": "stdout",
     "output_type": "stream",
     "text": [
      "exported scoring to: /home/phyto/CoccoML/ModelOutput/rf/scoring/Coccolithus pelagicus_zir.sav\n",
      "zir rRMSE: 28%\n",
      "zir rMAE: 17%\n",
      "zir R2: 0.7\n",
      "execution time: 4.76837158203125e-07 seconds\n"
     ]
    }
   ],
   "source": [
    "'''\n",
    "2-phase Random forest regressor\n",
    "'''\n",
    "m.train(model=\"rf\", classifier=True, regressor=True)"
   ]
  },
  {
   "cell_type": "code",
   "execution_count": 19,
   "metadata": {},
   "outputs": [
    {
     "name": "stdout",
     "output_type": "stream",
     "text": [
      "training classifier\n",
      "[0 1 2 3 4]\n",
      "Fitting 3 folds for each of 1 candidates, totalling 3 fits\n",
      "exported model to:/home/phyto/CoccoML/ModelOutput/xgb/model/Coccolithus pelagicus_clf.sav\n",
      "exported scoring to: /home/phyto/CoccoML/ModelOutput/xgb/scoring/Coccolithus pelagicus_clf.sav\n",
      "[0.72222222 0.61780576 0.60751399]\n",
      "clf balanced accuracy 0.65\n",
      "execution time: 2.384185791015625e-07 seconds\n"
     ]
    }
   ],
   "source": [
    "'''\n",
    "1-phase XGboost classifier\n",
    "'''\n",
    "m.train(model=\"xgb\", classifier=True)"
   ]
  },
  {
   "cell_type": "code",
   "execution_count": 20,
   "metadata": {},
   "outputs": [
    {
     "name": "stdout",
     "output_type": "stream",
     "text": [
      "training regressor\n",
      "Fitting 3 folds for each of 1 candidates, totalling 3 fits\n",
      "exported model to: /home/phyto/CoccoML/ModelOutput/xgb/model/Coccolithus pelagicus_reg.sav\n",
      "exported scoring to: /home/phyto/CoccoML/ModelOutput/xgb/scoring/Coccolithus pelagicus_reg.sav\n",
      "reg rRMSE: 43%\n",
      "reg rMAE: 34%\n",
      "reg R2: 0.33\n",
      "execution time: 7.152557373046875e-07 seconds\n"
     ]
    }
   ],
   "source": [
    "'''\n",
    "1-phase XGboost regressor\n",
    "'''\n",
    "m.train(model=\"xgb\", regressor=True)"
   ]
  },
  {
   "cell_type": "code",
   "execution_count": 21,
   "metadata": {},
   "outputs": [
    {
     "name": "stdout",
     "output_type": "stream",
     "text": [
      "training classifier\n",
      "[0 1 2 3 4]\n",
      "Fitting 3 folds for each of 1 candidates, totalling 3 fits\n",
      "exported model to:/home/phyto/CoccoML/ModelOutput/xgb/model/Coccolithus pelagicus_clf.sav\n",
      "exported scoring to: /home/phyto/CoccoML/ModelOutput/xgb/scoring/Coccolithus pelagicus_clf.sav\n",
      "[0.72222222 0.61780576 0.60751399]\n",
      "clf balanced accuracy 0.65\n",
      "training regressor\n",
      "Fitting 3 folds for each of 1 candidates, totalling 3 fits\n",
      "exported model to: /home/phyto/CoccoML/ModelOutput/xgb/model/Coccolithus pelagicus_reg.sav\n",
      "exported scoring to: /home/phyto/CoccoML/ModelOutput/xgb/scoring/Coccolithus pelagicus_reg.sav\n",
      "reg rRMSE: 43%\n",
      "reg rMAE: 34%\n",
      "reg R2: 0.33\n",
      "training zero-inflated regressor\n",
      "exported model to: /home/phyto/CoccoML/ModelOutput/xgb/model/Coccolithus pelagicus_zir.sav\n"
     ]
    },
    {
     "name": "stderr",
     "output_type": "stream",
     "text": [
      "/home/phyto/anaconda3/envs/my-geopandas-env-2/lib/python3.11/site-packages/sklearn/base.py:464: UserWarning: X does not have valid feature names, but StandardScaler was fitted with feature names\n",
      "  warnings.warn(\n"
     ]
    },
    {
     "name": "stdout",
     "output_type": "stream",
     "text": [
      "exported scoring to: /home/phyto/CoccoML/ModelOutput/xgb/scoring/Coccolithus pelagicus_zir.sav\n",
      "zir rRMSE: 43%\n",
      "zir rMAE: 32%\n",
      "zir R2: 0.33\n",
      "execution time: 9.5367431640625e-07 seconds\n"
     ]
    }
   ],
   "source": [
    "'''\n",
    "2-phase XGboost regressor\n",
    "'''\n",
    "m.train(model=\"xgb\", regressor=True, classifier=True)"
   ]
  },
  {
   "cell_type": "code",
   "execution_count": 22,
   "metadata": {},
   "outputs": [
    {
     "name": "stdout",
     "output_type": "stream",
     "text": [
      "training classifier\n",
      "[0 1 2 3 4]\n",
      "Fitting 3 folds for each of 1 candidates, totalling 3 fits\n",
      "exported model to:/home/phyto/CoccoML/ModelOutput/knn/model/Coccolithus pelagicus_clf.sav\n",
      "exported scoring to: /home/phyto/CoccoML/ModelOutput/knn/scoring/Coccolithus pelagicus_clf.sav\n",
      "[0.5        0.5        0.51851852]\n",
      "clf balanced accuracy 0.51\n",
      "execution time: 9.5367431640625e-07 seconds\n"
     ]
    }
   ],
   "source": [
    "'''\n",
    "1-phase KNN classifier\n",
    "'''\n",
    "m.train(model=\"knn\", classifier=True)"
   ]
  },
  {
   "cell_type": "code",
   "execution_count": 23,
   "metadata": {},
   "outputs": [
    {
     "name": "stdout",
     "output_type": "stream",
     "text": [
      "training regressor\n",
      "Fitting 3 folds for each of 1 candidates, totalling 3 fits\n",
      "exported model to: /home/phyto/CoccoML/ModelOutput/knn/model/Coccolithus pelagicus_reg.sav\n",
      "exported scoring to: /home/phyto/CoccoML/ModelOutput/knn/scoring/Coccolithus pelagicus_reg.sav\n",
      "reg rRMSE: 40%\n",
      "reg rMAE: 28%\n",
      "reg R2: 0.44\n",
      "execution time: 7.152557373046875e-07 seconds\n"
     ]
    }
   ],
   "source": [
    "'''\n",
    "1-phase KNN regressor\n",
    "'''\n",
    "m.train(model=\"knn\", regressor=True)"
   ]
  },
  {
   "cell_type": "code",
   "execution_count": 24,
   "metadata": {},
   "outputs": [
    {
     "name": "stdout",
     "output_type": "stream",
     "text": [
      "training classifier\n",
      "[0 1 2 3 4]\n",
      "Fitting 3 folds for each of 1 candidates, totalling 3 fits\n",
      "exported model to:/home/phyto/CoccoML/ModelOutput/knn/model/Coccolithus pelagicus_clf.sav\n",
      "exported scoring to: /home/phyto/CoccoML/ModelOutput/knn/scoring/Coccolithus pelagicus_clf.sav\n",
      "[0.55555556 0.58928571 0.53703704]\n",
      "clf balanced accuracy 0.56\n",
      "training regressor\n",
      "Fitting 3 folds for each of 1 candidates, totalling 3 fits\n",
      "exported model to: /home/phyto/CoccoML/ModelOutput/knn/model/Coccolithus pelagicus_reg.sav\n",
      "exported scoring to: /home/phyto/CoccoML/ModelOutput/knn/scoring/Coccolithus pelagicus_reg.sav\n",
      "reg rRMSE: 39%\n",
      "reg rMAE: 28%\n",
      "reg R2: 0.47\n",
      "training zero-inflated regressor\n",
      "exported model to: /home/phyto/CoccoML/ModelOutput/knn/model/Coccolithus pelagicus_zir.sav\n"
     ]
    },
    {
     "name": "stderr",
     "output_type": "stream",
     "text": [
      "/home/phyto/anaconda3/envs/my-geopandas-env-2/lib/python3.11/site-packages/sklearn/base.py:464: UserWarning: X does not have valid feature names, but StandardScaler was fitted with feature names\n",
      "  warnings.warn(\n"
     ]
    },
    {
     "name": "stdout",
     "output_type": "stream",
     "text": [
      "exported scoring to: /home/phyto/CoccoML/ModelOutput/knn/scoring/Coccolithus pelagicus_zir.sav\n",
      "zir rRMSE: 39%\n",
      "zir rMAE: 27%\n",
      "zir R2: 0.47\n",
      "execution time: 9.5367431640625e-07 seconds\n"
     ]
    }
   ],
   "source": [
    "'''\n",
    "2-phase KNN regressor\n",
    "'''\n",
    "m.train(model=\"knn\", regressor=True, classifier=True)"
   ]
  }
 ],
 "metadata": {
  "kernelspec": {
   "display_name": "my-geopandas-env-2",
   "language": "python",
   "name": "python3"
  },
  "language_info": {
   "codemirror_mode": {
    "name": "ipython",
    "version": 3
   },
   "file_extension": ".py",
   "mimetype": "text/x-python",
   "name": "python",
   "nbconvert_exporter": "python",
   "pygments_lexer": "ipython3",
   "version": "3.11.4"
  }
 },
 "nbformat": 4,
 "nbformat_minor": 2
}
