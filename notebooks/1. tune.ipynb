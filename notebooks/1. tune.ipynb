{
 "cells": [
  {
   "cell_type": "code",
   "execution_count": 1,
   "metadata": {},
   "outputs": [],
   "source": [
    "# import required packages\n",
    "import pandas as pd\n",
    "import numpy as np\n",
    "from sklearn.preprocessing import MinMaxScaler\n",
    "from sklearn.datasets import make_regression\n",
    "import sys\n",
    "\n",
    "from yaml import load\n",
    "from yaml import CLoader as Loader\n",
    "\n",
    "sys.path.insert(0, '/home/phyto/planktonSDM/functions/')\n",
    "from tune import tune \n",
    "from functions import example_data"
   ]
  },
  {
   "cell_type": "code",
   "execution_count": 2,
   "metadata": {},
   "outputs": [],
   "source": [
    "# Setting up the model\n",
    "\n",
    "with open('/home/phyto/planktonSDM/configuration/example_model_config.yml', 'r') as f:\n",
    "    model_config = load(f, Loader=Loader)\n",
    "\n",
    "X, y = example_data(y_name =  \"Coccolithus pelagicus\", n_samples=500, n_features=5, noise=20, random_state=model_config['seed'])\n",
    "\n",
    "m = tune(X, y, model_config)"
   ]
  },
  {
   "cell_type": "code",
   "execution_count": 4,
   "metadata": {},
   "outputs": [
    {
     "name": "stdout",
     "output_type": "stream",
     "text": [
      "{'regressor__n_estimators': [100], 'regressor__max_features': [2, 3, 4], 'regressor__max_depth': [3, 5], 'regressor__min_samples_leaf': [0.2, 0.5], 'regressor__max_samples': [0.2, 0.5]}\n",
      "Fitting 3 folds for each of 24 candidates, totalling 72 fits\n",
      "finished tuning model\n",
      "reg rRMSE: 49%\n",
      "reg rMAE: 36%\n",
      "reg R2: 0.14\n",
      "execution time: 8.792784929275513 seconds\n"
     ]
    }
   ],
   "source": [
    "'''\n",
    "1-phase Random forest \n",
    "'''\n",
    "m.train(model=\"rf\")"
   ]
  },
  {
   "cell_type": "code",
   "execution_count": 5,
   "metadata": {},
   "outputs": [
    {
     "name": "stdout",
     "output_type": "stream",
     "text": [
      "{'regressor__n_estimators': [100], 'regressor__max_features': [2, 3, 4], 'regressor__max_depth': [3, 5], 'regressor__min_samples_leaf': [0.2, 0.5], 'regressor__max_samples': [0.2, 0.5]}\n",
      "Fitting 3 folds for each of 24 candidates, totalling 72 fits\n",
      "finished tuning model\n",
      "reg rRMSE: 49%\n",
      "reg rMAE: 36%\n",
      "reg R2: 0.14\n",
      "Fitting 3 folds for each of 12 candidates, totalling 36 fits\n",
      "zir rRMSE: 49%\n",
      "zir rMAE: 36%\n",
      "zir R2: 0.14\n",
      "execution time: 14.214104175567627 seconds\n"
     ]
    }
   ],
   "source": [
    "'''\n",
    "2-phase Random forest \n",
    "note: for the 2-phase model we need to define the model configuration for both the classifier and the regressor\n",
    "'''\n",
    "m.train(model=\"rf\", zir=True)"
   ]
  },
  {
   "cell_type": "code",
   "execution_count": 6,
   "metadata": {},
   "outputs": [
    {
     "name": "stdout",
     "output_type": "stream",
     "text": [
      "{'regressor__n_estimators': [100], 'regressor__max_features': [2, 3, 4], 'regressor__max_depth': [3, 5], 'regressor__min_samples_leaf': [0.2, 0.5], 'regressor__max_samples': [0.2, 0.5]}\n",
      "Fitting 3 folds for each of 24 candidates, totalling 72 fits\n",
      "finished tuning model\n",
      "reg rRMSE: 49%\n",
      "reg rMAE: 38%\n",
      "reg R2: 0.14\n",
      "execution time: 8.988041400909424 seconds\n",
      "both models:\n",
      "{'regressor__n_estimators': [100], 'regressor__max_features': [2, 3, 4], 'regressor__max_depth': [3, 5], 'regressor__min_samples_leaf': [0.2, 0.5], 'regressor__max_samples': [0.2, 0.5]}\n",
      "Fitting 3 folds for each of 24 candidates, totalling 72 fits\n",
      "Fitting 3 folds for each of 24 candidates, totalling 72 fits\n",
      "finished tuning model\n",
      "reg rRMSE: 49%\n",
      "reg rMAE: 36%\n",
      "reg R2: 0.14\n",
      "execution time: 17.228796005249023 seconds\n"
     ]
    }
   ],
   "source": [
    "'''\n",
    "Adding log transformation\n",
    "'''\n",
    "#add log:\n",
    "m.train(model=\"rf\", log=\"yes\")\n",
    "\n",
    "#try both:\n",
    "print(\"both models:\")\n",
    "m.train(model=\"rf\", log=\"both\")"
   ]
  },
  {
   "cell_type": "code",
   "execution_count": 7,
   "metadata": {},
   "outputs": [
    {
     "name": "stdout",
     "output_type": "stream",
     "text": [
      "{'regressor__eta': [0.01], 'regressor__n_estimators': [100], 'regressor__max_depth': [4], 'regressor__subsample': [0.6], 'regressor__colsample_bytree': [0.6], 'regressor__gamma': [1], 'regressor__alpha': [1]}\n",
      "Fitting 3 folds for each of 1 candidates, totalling 3 fits\n",
      "finished tuning model\n",
      "reg rRMSE: 44%\n",
      "reg rMAE: 35%\n",
      "reg R2: 0.31\n",
      "execution time: 0.3430941104888916 seconds\n"
     ]
    }
   ],
   "source": [
    "'''\n",
    "1-phase Gradient boosting with XGBoost:\n",
    "'''\n",
    "m.train(model=\"xgb\")"
   ]
  },
  {
   "cell_type": "code",
   "execution_count": 8,
   "metadata": {},
   "outputs": [
    {
     "name": "stdout",
     "output_type": "stream",
     "text": [
      "{'regressor__eta': [0.01], 'regressor__n_estimators': [100], 'regressor__max_depth': [4], 'regressor__subsample': [0.6], 'regressor__colsample_bytree': [0.6], 'regressor__gamma': [1], 'regressor__alpha': [1]}\n",
      "Fitting 3 folds for each of 1 candidates, totalling 3 fits\n",
      "finished tuning model\n",
      "reg rRMSE: 44%\n",
      "reg rMAE: 35%\n",
      "reg R2: 0.31\n",
      "Fitting 3 folds for each of 1 candidates, totalling 3 fits\n",
      "zir rRMSE: 42%\n",
      "zir rMAE: 30%\n",
      "zir R2: 0.38\n",
      "execution time: 0.5884270668029785 seconds\n"
     ]
    }
   ],
   "source": [
    "'''\n",
    "2-phase Gradient boosting with XGBoost:\n",
    "'''\n",
    "m.train(model=\"xgb\", zir=True)"
   ]
  },
  {
   "cell_type": "code",
   "execution_count": 9,
   "metadata": {},
   "outputs": [
    {
     "name": "stdout",
     "output_type": "stream",
     "text": [
      "{'regressor__max_samples': [0.5], 'regressor__max_features': [0.5], 'regressor__estimator__leaf_size': [30], 'regressor__estimator__n_neighbors': [3], 'regressor__estimator__p': [1], 'regressor__estimator__weights': ['uniform']}\n",
      "Fitting 3 folds for each of 1 candidates, totalling 3 fits\n",
      "finished tuning model\n",
      "reg rRMSE: 39%\n",
      "reg rMAE: 28%\n",
      "reg R2: 0.44\n",
      "execution time: 1.529144048690796 seconds\n"
     ]
    }
   ],
   "source": [
    "'''\n",
    "1-phase bagged nearest neighbors\n",
    "'''\n",
    "m.train(model=\"knn\")"
   ]
  },
  {
   "cell_type": "code",
   "execution_count": 10,
   "metadata": {},
   "outputs": [
    {
     "name": "stdout",
     "output_type": "stream",
     "text": [
      "{'regressor__max_samples': [0.5], 'regressor__max_features': [0.5], 'regressor__estimator__leaf_size': [30], 'regressor__estimator__n_neighbors': [3], 'regressor__estimator__p': [1], 'regressor__estimator__weights': ['uniform']}\n",
      "Fitting 3 folds for each of 1 candidates, totalling 3 fits\n",
      "finished tuning model\n",
      "reg rRMSE: 39%\n",
      "reg rMAE: 28%\n",
      "reg R2: 0.46\n",
      "Fitting 3 folds for each of 1 candidates, totalling 3 fits\n",
      "zir rRMSE: 40%\n",
      "zir rMAE: 28%\n",
      "zir R2: 0.42\n",
      "execution time: 4.300597667694092 seconds\n"
     ]
    }
   ],
   "source": [
    "'''\n",
    "2-phase bagged nearest neighbors\n",
    "'''\n",
    "m.train(model=\"knn\", zir=True)"
   ]
  }
 ],
 "metadata": {
  "kernelspec": {
   "display_name": "Python 3 (ipykernel)",
   "language": "python",
   "name": "python3"
  },
  "language_info": {
   "codemirror_mode": {
    "name": "ipython",
    "version": 3
   },
   "file_extension": ".py",
   "mimetype": "text/x-python",
   "name": "python",
   "nbconvert_exporter": "python",
   "pygments_lexer": "ipython3",
   "version": "3.11.4"
  }
 },
 "nbformat": 4,
 "nbformat_minor": 2
}
