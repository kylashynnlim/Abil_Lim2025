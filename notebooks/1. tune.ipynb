{
 "cells": [
  {
   "cell_type": "code",
   "execution_count": 1,
   "metadata": {},
   "outputs": [],
   "source": [
    "import pandas as pd\n",
    "from yaml import load\n",
    "from yaml import CLoader as Loader\n",
    "from planktonsdm.tune import tune\n",
    "from planktonsdm.functions import example_data\n",
    "from sklearn.preprocessing import OneHotEncoder"
   ]
  },
  {
   "cell_type": "code",
   "execution_count": null,
   "metadata": {},
   "outputs": [],
   "source": [
    "#If you want to debug the package without repackaging, you can read files locally:\n",
    "\n",
    "import sys\n",
    "sys.path.insert(0, '/home/phyto/planktonSDM/planktonsdm/')\n",
    "from tune import tune\n",
    "from functions import example_data"
   ]
  },
  {
   "cell_type": "code",
   "execution_count": null,
   "metadata": {},
   "outputs": [
    {
     "ename": "FileNotFoundError",
     "evalue": "[Errno 2] No such file or directory: '/home/phyto/planktonSDM/configuration/ensemble_regressor'",
     "output_type": "error",
     "traceback": [
      "\u001b[0;31m---------------------------------------------------------------------------\u001b[0m",
      "\u001b[0;31mFileNotFoundError\u001b[0m                         Traceback (most recent call last)",
      "\u001b[1;32m/home/phyto/planktonSDM/notebooks/1. tune.ipynb Cell 3\u001b[0m line \u001b[0;36m3\n\u001b[1;32m      <a href='vscode-notebook-cell:/home/phyto/planktonSDM/notebooks/1.%20tune.ipynb#W2sZmlsZQ%3D%3D?line=0'>1</a>\u001b[0m \u001b[39m# Setting up a regressor model\u001b[39;00m\n\u001b[0;32m----> <a href='vscode-notebook-cell:/home/phyto/planktonSDM/notebooks/1.%20tune.ipynb#W2sZmlsZQ%3D%3D?line=2'>3</a>\u001b[0m \u001b[39mwith\u001b[39;00m \u001b[39mopen\u001b[39;49m(\u001b[39m'\u001b[39;49m\u001b[39m/home/phyto/planktonSDM/configuration/ensemble_regressor\u001b[39;49m\u001b[39m'\u001b[39;49m, \u001b[39m'\u001b[39;49m\u001b[39mr\u001b[39;49m\u001b[39m'\u001b[39;49m) \u001b[39mas\u001b[39;00m f:\n\u001b[1;32m      <a href='vscode-notebook-cell:/home/phyto/planktonSDM/notebooks/1.%20tune.ipynb#W2sZmlsZQ%3D%3D?line=3'>4</a>\u001b[0m     model_config \u001b[39m=\u001b[39m load(f, Loader\u001b[39m=\u001b[39mLoader)\n\u001b[1;32m      <a href='vscode-notebook-cell:/home/phyto/planktonSDM/notebooks/1.%20tune.ipynb#W2sZmlsZQ%3D%3D?line=5'>6</a>\u001b[0m predictors \u001b[39m=\u001b[39m model_config[\u001b[39m'\u001b[39m\u001b[39mpredictors\u001b[39m\u001b[39m'\u001b[39m]\n",
      "File \u001b[0;32m~/anaconda3/envs/my-geopandas-env-2/lib/python3.11/site-packages/IPython/core/interactiveshell.py:284\u001b[0m, in \u001b[0;36m_modified_open\u001b[0;34m(file, *args, **kwargs)\u001b[0m\n\u001b[1;32m    277\u001b[0m \u001b[39mif\u001b[39;00m file \u001b[39min\u001b[39;00m {\u001b[39m0\u001b[39m, \u001b[39m1\u001b[39m, \u001b[39m2\u001b[39m}:\n\u001b[1;32m    278\u001b[0m     \u001b[39mraise\u001b[39;00m \u001b[39mValueError\u001b[39;00m(\n\u001b[1;32m    279\u001b[0m         \u001b[39mf\u001b[39m\u001b[39m\"\u001b[39m\u001b[39mIPython won\u001b[39m\u001b[39m'\u001b[39m\u001b[39mt let you open fd=\u001b[39m\u001b[39m{\u001b[39;00mfile\u001b[39m}\u001b[39;00m\u001b[39m by default \u001b[39m\u001b[39m\"\u001b[39m\n\u001b[1;32m    280\u001b[0m         \u001b[39m\"\u001b[39m\u001b[39mas it is likely to crash IPython. If you know what you are doing, \u001b[39m\u001b[39m\"\u001b[39m\n\u001b[1;32m    281\u001b[0m         \u001b[39m\"\u001b[39m\u001b[39myou can use builtins\u001b[39m\u001b[39m'\u001b[39m\u001b[39m open.\u001b[39m\u001b[39m\"\u001b[39m\n\u001b[1;32m    282\u001b[0m     )\n\u001b[0;32m--> 284\u001b[0m \u001b[39mreturn\u001b[39;00m io_open(file, \u001b[39m*\u001b[39;49margs, \u001b[39m*\u001b[39;49m\u001b[39m*\u001b[39;49mkwargs)\n",
      "\u001b[0;31mFileNotFoundError\u001b[0m: [Errno 2] No such file or directory: '/home/phyto/planktonSDM/configuration/ensemble_regressor'"
     ]
    }
   ],
   "source": [
    "# Setting up a regressor model\n",
    "\n",
    "with open('/home/phyto/planktonSDM/configuration/ensemble_regressor.yml', 'r') as f:\n",
    "    model_config = load(f, Loader=Loader)\n",
    "\n",
    "predictors = model_config['predictors']\n",
    "d = pd.read_csv(\"/home/phyto/planktonSDM/data/abundances_environment.csv\")\n",
    "species = 'Emiliania huxleyi'\n",
    "d.dropna(subset=species, inplace=True)\n",
    "d.dropna(subset='FID', inplace=True)\n",
    "X_train = d[predictors]\n",
    "y = d[species]\n",
    "X_predict = pd.read_csv(\"/home/phyto/planktonSDM/data/envdata_april_surface.csv\")\n",
    "X_predict.set_index([\"time\", \"depth\", \"lat\", \"lon\"], inplace=True)\n",
    "X_predict = X_predict[X_train.columns]\n",
    "\n",
    "\n",
    "m = tune(X_train, y, model_config, regions=\"FID\")"
   ]
  },
  {
   "cell_type": "code",
   "execution_count": null,
   "metadata": {},
   "outputs": [
    {
     "ename": "ValueError",
     "evalue": "2-phase model not supported, choose classifier OR regressor",
     "output_type": "error",
     "traceback": [
      "\u001b[0;31m---------------------------------------------------------------------------\u001b[0m",
      "\u001b[0;31mValueError\u001b[0m                                Traceback (most recent call last)",
      "\u001b[1;32m/home/phyto/planktonSDM/notebooks/1. tune.ipynb Cell 4\u001b[0m line \u001b[0;36m4\n\u001b[1;32m      <a href='vscode-notebook-cell:/home/phyto/planktonSDM/notebooks/1.%20tune.ipynb#W3sZmlsZQ%3D%3D?line=0'>1</a>\u001b[0m \u001b[39m'''\u001b[39;00m\n\u001b[1;32m      <a href='vscode-notebook-cell:/home/phyto/planktonSDM/notebooks/1.%20tune.ipynb#W3sZmlsZQ%3D%3D?line=1'>2</a>\u001b[0m \u001b[39m1-phase Random forest regressor\u001b[39;00m\n\u001b[1;32m      <a href='vscode-notebook-cell:/home/phyto/planktonSDM/notebooks/1.%20tune.ipynb#W3sZmlsZQ%3D%3D?line=2'>3</a>\u001b[0m \u001b[39m'''\u001b[39;00m\n\u001b[0;32m----> <a href='vscode-notebook-cell:/home/phyto/planktonSDM/notebooks/1.%20tune.ipynb#W3sZmlsZQ%3D%3D?line=3'>4</a>\u001b[0m m\u001b[39m.\u001b[39;49mtrain(model\u001b[39m=\u001b[39;49m\u001b[39m\"\u001b[39;49m\u001b[39mrf\u001b[39;49m\u001b[39m\"\u001b[39;49m, regressor\u001b[39m=\u001b[39;49m\u001b[39mTrue\u001b[39;49;00m, classifier\u001b[39m=\u001b[39;49m\u001b[39mTrue\u001b[39;49;00m)\n",
      "File \u001b[0;32m~/planktonSDM/planktonsdm/tune.py:173\u001b[0m, in \u001b[0;36mtune.train\u001b[0;34m(self, model, classifier, regressor, log)\u001b[0m\n\u001b[1;32m    169\u001b[0m     \u001b[39mraise\u001b[39;00m \u001b[39mValueError\u001b[39;00m(\u001b[39m\"\u001b[39m\u001b[39mboth classifier and regressor defined as False\u001b[39m\u001b[39m\"\u001b[39m)\n\u001b[1;32m    172\u001b[0m \u001b[39mif\u001b[39;00m (classifier \u001b[39m==\u001b[39m\u001b[39mTrue\u001b[39;00m) \u001b[39mand\u001b[39;00m (regressor \u001b[39m==\u001b[39m\u001b[39mTrue\u001b[39;00m):\n\u001b[0;32m--> 173\u001b[0m     \u001b[39mraise\u001b[39;00m \u001b[39mValueError\u001b[39;00m(\u001b[39m\"\u001b[39m\u001b[39m2-phase model not supported, choose classifier OR regressor\u001b[39m\u001b[39m\"\u001b[39m)\n\u001b[1;32m    176\u001b[0m \u001b[39mif\u001b[39;00m classifier \u001b[39m==\u001b[39m\u001b[39mTrue\u001b[39;00m:\n\u001b[1;32m    177\u001b[0m     \u001b[39mprint\u001b[39m(\u001b[39m\"\u001b[39m\u001b[39mtraining classifier\u001b[39m\u001b[39m\"\u001b[39m)\n",
      "\u001b[0;31mValueError\u001b[0m: 2-phase model not supported, choose classifier OR regressor"
     ]
    }
   ],
   "source": [
    "'''\n",
    "1-phase Random forest regressor\n",
    "'''\n",
    "m.train(model=\"rf\", regressor=True)"
   ]
  },
  {
   "cell_type": "code",
   "execution_count": null,
   "metadata": {},
   "outputs": [
    {
     "name": "stdout",
     "output_type": "stream",
     "text": [
      "training regressor\n",
      "Fitting 10 folds for each of 72 candidates, totalling 720 fits\n",
      "exported model to: /home/phyto/CoccoML/ModelOutput/xgb/model/Emiliania huxleyi_reg.sav\n",
      "exported scoring to: /home/phyto/CoccoML/ModelOutput/xgb/scoring/Emiliania huxleyi_reg.sav\n",
      "reg rRMSE: 353%\n",
      "reg rMAE: 87%\n",
      "reg R2: 0.19\n",
      "execution time: 4.76837158203125e-07 seconds\n"
     ]
    }
   ],
   "source": [
    "'''\n",
    "1-phase XGboost regressor\n",
    "'''\n",
    "m.train(model=\"xgb\", regressor=True)"
   ]
  },
  {
   "cell_type": "code",
   "execution_count": null,
   "metadata": {},
   "outputs": [
    {
     "name": "stdout",
     "output_type": "stream",
     "text": [
      "training regressor\n",
      "Fitting 10 folds for each of 1 candidates, totalling 10 fits\n"
     ]
    },
    {
     "name": "stdout",
     "output_type": "stream",
     "text": [
      "exported model to: /home/phyto/CoccoML/ModelOutput/knn/model/Emiliania huxleyi_reg.sav\n",
      "exported scoring to: /home/phyto/CoccoML/ModelOutput/knn/scoring/Emiliania huxleyi_reg.sav\n",
      "reg rRMSE: 356%\n",
      "reg rMAE: 96%\n",
      "reg R2: 0.14\n",
      "execution time: 1.1920928955078125e-06 seconds\n"
     ]
    }
   ],
   "source": [
    "'''\n",
    "1-phase KNN regressor\n",
    "'''\n",
    "m.train(model=\"knn\", regressor=True)"
   ]
  }
 ],
 "metadata": {
  "kernelspec": {
   "display_name": "my-geopandas-env-2",
   "language": "python",
   "name": "python3"
  },
  "language_info": {
   "codemirror_mode": {
    "name": "ipython",
    "version": 3
   },
   "file_extension": ".py",
   "mimetype": "text/x-python",
   "name": "python",
   "nbconvert_exporter": "python",
   "pygments_lexer": "ipython3",
   "version": "3.11.4"
  }
 },
 "nbformat": 4,
 "nbformat_minor": 2
}
