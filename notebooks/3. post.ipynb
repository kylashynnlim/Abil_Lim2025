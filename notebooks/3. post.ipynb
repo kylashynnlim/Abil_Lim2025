{
 "cells": [
  {
   "cell_type": "code",
   "execution_count": 1,
   "metadata": {},
   "outputs": [],
   "source": [
    "import sys\n",
    "import pandas as pd\n",
    "from yaml import load, Loader\n",
    "sys.path.insert(0, '/home/phyto/planktonSDM/functions/')\n",
    "from post import post"
   ]
  },
  {
   "cell_type": "code",
   "execution_count": 2,
   "metadata": {},
   "outputs": [],
   "source": [
    "with open('/home/phyto/planktonSDM/configuration/devries2023_model_config.yml', 'r') as f:\n",
    "    model_config = load(f, Loader=Loader)\n",
    "\n",
    "model_config['remote'] = False"
   ]
  },
  {
   "cell_type": "code",
   "execution_count": 3,
   "metadata": {},
   "outputs": [
    {
     "name": "stdout",
     "output_type": "stream",
     "text": [
      "merging...\n",
      "                     Algirosphaera robusta  Acanthoica quattrospina\n",
      "lon  lat depth time                                                \n",
      "-179 -69 0     1.0                1.604333                 0.029322\n",
      "               2.0                3.084407                -0.000203\n",
      "               3.0                5.031272                -0.003472\n",
      "         5     1.0                1.604333                 0.003326\n",
      "               2.0                2.023434                -0.000169\n",
      "                         Algirosphaera robusta  Acanthoica quattrospina  \\\n",
      "time depth lat   lon                                                      \n",
      "1.0  0     -69.0 -179.0               1.604333                 0.029322   \n",
      "2.0  0     -69.0 -179.0               3.084407                -0.000203   \n",
      "3.0  0     -69.0 -179.0               5.031272                -0.003472   \n",
      "1.0  5     -69.0 -179.0               1.604333                 0.003326   \n",
      "2.0  5     -69.0 -179.0               2.023434                -0.000169   \n",
      "\n",
      "                          chlor_a  temperature         si  phosphate  \\\n",
      "time depth lat   lon                                                   \n",
      "1.0  0     -69.0 -179.0  0.271183    -0.749478  54.980301   1.596990   \n",
      "2.0  0     -69.0 -179.0  0.343217    -0.295056  53.654330   1.541042   \n",
      "3.0  0     -69.0 -179.0  0.263287    -0.709024  61.333297   1.676564   \n",
      "1.0  5     -69.0 -179.0  0.271183    -0.836923  55.447951   1.607041   \n",
      "2.0  5     -69.0 -179.0  0.343217    -0.334594  53.629139   1.558322   \n",
      "\n",
      "                               din          o2        mld          DIC  \\\n",
      "time depth lat   lon                                                     \n",
      "1.0  0     -69.0 -179.0  24.931624  342.576323  39.755333  2151.296802   \n",
      "2.0  0     -69.0 -179.0  24.673010  344.362040  44.239802  2144.194550   \n",
      "3.0  0     -69.0 -179.0  27.476131  344.263892  52.801590  2158.932748   \n",
      "1.0  5     -69.0 -179.0  24.942089  342.368471  39.755333  2153.380429   \n",
      "2.0  5     -69.0 -179.0  24.382552  343.798717  44.239802  2147.669656   \n",
      "\n",
      "                         irradiance   FID  \n",
      "time depth lat   lon                       \n",
      "1.0  0     -69.0 -179.0   22.985498  APLR  \n",
      "2.0  0     -69.0 -179.0   18.437012  APLR  \n",
      "3.0  0     -69.0 -179.0    7.835509  APLR  \n",
      "1.0  5     -69.0 -179.0   16.628453  APLR  \n",
      "2.0  5     -69.0 -179.0   14.039295  APLR  \n",
      "exported ds to: /home/phyto/CoccoML/predictions/abundances_test3.nc\n"
     ]
    }
   ],
   "source": [
    "#load model:\n",
    "m = post(model_config)\n",
    "\n",
    "m.merge_env()\n",
    "\n",
    "# m.total()\n",
    "# m.cwm(\"cell diameter\")\n",
    "# m.richness('observed_otus')\n",
    "# m.richness('simpson')\n",
    "\n",
    "# #export \n",
    "m.export_ds(file_name = \"abundances_test3\")"
   ]
  },
  {
   "cell_type": "code",
   "execution_count": 4,
   "metadata": {},
   "outputs": [
    {
     "name": "stdout",
     "output_type": "stream",
     "text": [
      "merging...\n",
      "[6 5]\n"
     ]
    },
    {
     "ename": "KeyboardInterrupt",
     "evalue": "",
     "output_type": "error",
     "traceback": [
      "\u001b[0;31m---------------------------------------------------------------------------\u001b[0m",
      "\u001b[0;31mKeyboardInterrupt\u001b[0m                         Traceback (most recent call last)",
      "Cell \u001b[0;32mIn[4], line 4\u001b[0m\n\u001b[1;32m      2\u001b[0m m \u001b[39m=\u001b[39m post(model_config)\n\u001b[1;32m      3\u001b[0m \u001b[39m# convert to carbon:\u001b[39;00m\n\u001b[0;32m----> 4\u001b[0m m\u001b[39m.\u001b[39;49mestimate_carbon(\u001b[39m\"\u001b[39;49m\u001b[39mcell diameter\u001b[39;49m\u001b[39m\"\u001b[39;49m)\n\u001b[1;32m      6\u001b[0m \u001b[39m#apply calculations:\u001b[39;00m\n\u001b[1;32m      7\u001b[0m m\u001b[39m.\u001b[39mtotal()\n",
      "File \u001b[0;32m~/planktonSDM/functions/post.py:38\u001b[0m, in \u001b[0;36mpost.estimate_carbon\u001b[0;34m(self, variable)\u001b[0m\n\u001b[1;32m     36\u001b[0m var \u001b[39m=\u001b[39m w[variable]\u001b[39m.\u001b[39mto_numpy()\n\u001b[1;32m     37\u001b[0m \u001b[39mprint\u001b[39m(var)\n\u001b[0;32m---> 38\u001b[0m \u001b[39mself\u001b[39m\u001b[39m.\u001b[39md \u001b[39m=\u001b[39m \u001b[39mself\u001b[39;49m\u001b[39m.\u001b[39;49md\u001b[39m.\u001b[39;49mapply(\u001b[39mlambda\u001b[39;49;00m row : (row[\u001b[39mself\u001b[39;49m\u001b[39m.\u001b[39;49mspecies]\u001b[39m*\u001b[39;49m var), axis \u001b[39m=\u001b[39;49m \u001b[39m1\u001b[39;49m)\n\u001b[1;32m     39\u001b[0m \u001b[39mprint\u001b[39m(\u001b[39m\"\u001b[39m\u001b[39mfinished estimating \u001b[39m\u001b[39m\"\u001b[39m \u001b[39m+\u001b[39m variable)\n",
      "File \u001b[0;32m~/anaconda3/envs/my-geopandas-env-2/lib/python3.11/site-packages/pandas/core/frame.py:9423\u001b[0m, in \u001b[0;36mDataFrame.apply\u001b[0;34m(self, func, axis, raw, result_type, args, **kwargs)\u001b[0m\n\u001b[1;32m   9412\u001b[0m \u001b[39mfrom\u001b[39;00m \u001b[39mpandas\u001b[39;00m\u001b[39m.\u001b[39;00m\u001b[39mcore\u001b[39;00m\u001b[39m.\u001b[39;00m\u001b[39mapply\u001b[39;00m \u001b[39mimport\u001b[39;00m frame_apply\n\u001b[1;32m   9414\u001b[0m op \u001b[39m=\u001b[39m frame_apply(\n\u001b[1;32m   9415\u001b[0m     \u001b[39mself\u001b[39m,\n\u001b[1;32m   9416\u001b[0m     func\u001b[39m=\u001b[39mfunc,\n\u001b[0;32m   (...)\u001b[0m\n\u001b[1;32m   9421\u001b[0m     kwargs\u001b[39m=\u001b[39mkwargs,\n\u001b[1;32m   9422\u001b[0m )\n\u001b[0;32m-> 9423\u001b[0m \u001b[39mreturn\u001b[39;00m op\u001b[39m.\u001b[39;49mapply()\u001b[39m.\u001b[39m__finalize__(\u001b[39mself\u001b[39m, method\u001b[39m=\u001b[39m\u001b[39m\"\u001b[39m\u001b[39mapply\u001b[39m\u001b[39m\"\u001b[39m)\n",
      "File \u001b[0;32m~/anaconda3/envs/my-geopandas-env-2/lib/python3.11/site-packages/pandas/core/apply.py:678\u001b[0m, in \u001b[0;36mFrameApply.apply\u001b[0;34m(self)\u001b[0m\n\u001b[1;32m    675\u001b[0m \u001b[39melif\u001b[39;00m \u001b[39mself\u001b[39m\u001b[39m.\u001b[39mraw:\n\u001b[1;32m    676\u001b[0m     \u001b[39mreturn\u001b[39;00m \u001b[39mself\u001b[39m\u001b[39m.\u001b[39mapply_raw()\n\u001b[0;32m--> 678\u001b[0m \u001b[39mreturn\u001b[39;00m \u001b[39mself\u001b[39;49m\u001b[39m.\u001b[39;49mapply_standard()\n",
      "File \u001b[0;32m~/anaconda3/envs/my-geopandas-env-2/lib/python3.11/site-packages/pandas/core/apply.py:798\u001b[0m, in \u001b[0;36mFrameApply.apply_standard\u001b[0;34m(self)\u001b[0m\n\u001b[1;32m    797\u001b[0m \u001b[39mdef\u001b[39;00m \u001b[39mapply_standard\u001b[39m(\u001b[39mself\u001b[39m):\n\u001b[0;32m--> 798\u001b[0m     results, res_index \u001b[39m=\u001b[39m \u001b[39mself\u001b[39;49m\u001b[39m.\u001b[39;49mapply_series_generator()\n\u001b[1;32m    800\u001b[0m     \u001b[39m# wrap results\u001b[39;00m\n\u001b[1;32m    801\u001b[0m     \u001b[39mreturn\u001b[39;00m \u001b[39mself\u001b[39m\u001b[39m.\u001b[39mwrap_results(results, res_index)\n",
      "File \u001b[0;32m~/anaconda3/envs/my-geopandas-env-2/lib/python3.11/site-packages/pandas/core/apply.py:812\u001b[0m, in \u001b[0;36mFrameApply.apply_series_generator\u001b[0;34m(self)\u001b[0m\n\u001b[1;32m    809\u001b[0m results \u001b[39m=\u001b[39m {}\n\u001b[1;32m    811\u001b[0m \u001b[39mwith\u001b[39;00m option_context(\u001b[39m\"\u001b[39m\u001b[39mmode.chained_assignment\u001b[39m\u001b[39m\"\u001b[39m, \u001b[39mNone\u001b[39;00m):\n\u001b[0;32m--> 812\u001b[0m     \u001b[39mfor\u001b[39;00m i, v \u001b[39min\u001b[39;00m \u001b[39menumerate\u001b[39m(series_gen):\n\u001b[1;32m    813\u001b[0m         \u001b[39m# ignore SettingWithCopy here in case the user mutates\u001b[39;00m\n\u001b[1;32m    814\u001b[0m         results[i] \u001b[39m=\u001b[39m \u001b[39mself\u001b[39m\u001b[39m.\u001b[39mf(v)\n\u001b[1;32m    815\u001b[0m         \u001b[39mif\u001b[39;00m \u001b[39misinstance\u001b[39m(results[i], ABCSeries):\n\u001b[1;32m    816\u001b[0m             \u001b[39m# If we have a view on v, we need to make a copy because\u001b[39;00m\n\u001b[1;32m    817\u001b[0m             \u001b[39m#  series_generator will swap out the underlying data\u001b[39;00m\n",
      "File \u001b[0;32m~/anaconda3/envs/my-geopandas-env-2/lib/python3.11/site-packages/pandas/core/apply.py:937\u001b[0m, in \u001b[0;36mFrameColumnApply.series_generator\u001b[0;34m(self)\u001b[0m\n\u001b[1;32m    934\u001b[0m         \u001b[39myield\u001b[39;00m obj\u001b[39m.\u001b[39m_ixs(i, axis\u001b[39m=\u001b[39m\u001b[39m0\u001b[39m)\n\u001b[1;32m    936\u001b[0m \u001b[39melse\u001b[39;00m:\n\u001b[0;32m--> 937\u001b[0m     \u001b[39mfor\u001b[39;00m arr, name \u001b[39min\u001b[39;00m \u001b[39mzip\u001b[39;49m(values, \u001b[39mself\u001b[39;49m\u001b[39m.\u001b[39;49mindex):\n\u001b[1;32m    938\u001b[0m         \u001b[39m# GH#35462 re-pin mgr in case setitem changed it\u001b[39;00m\n\u001b[1;32m    939\u001b[0m         ser\u001b[39m.\u001b[39m_mgr \u001b[39m=\u001b[39m mgr\n\u001b[1;32m    940\u001b[0m         mgr\u001b[39m.\u001b[39mset_values(arr)\n",
      "File \u001b[0;32m~/anaconda3/envs/my-geopandas-env-2/lib/python3.11/site-packages/pandas/core/base.py:780\u001b[0m, in \u001b[0;36mIndexOpsMixin.__iter__\u001b[0;34m(self)\u001b[0m\n\u001b[1;32m    768\u001b[0m \u001b[39m\u001b[39m\u001b[39m\"\"\"\u001b[39;00m\n\u001b[1;32m    769\u001b[0m \u001b[39mReturn an iterator of the values.\u001b[39;00m\n\u001b[1;32m    770\u001b[0m \n\u001b[0;32m   (...)\u001b[0m\n\u001b[1;32m    777\u001b[0m \u001b[39miterator\u001b[39;00m\n\u001b[1;32m    778\u001b[0m \u001b[39m\"\"\"\u001b[39;00m\n\u001b[1;32m    779\u001b[0m \u001b[39m# We are explicitly making element iterators.\u001b[39;00m\n\u001b[0;32m--> 780\u001b[0m \u001b[39mif\u001b[39;00m \u001b[39mnot\u001b[39;00m \u001b[39misinstance\u001b[39m(\u001b[39mself\u001b[39;49m\u001b[39m.\u001b[39;49m_values, np\u001b[39m.\u001b[39mndarray):\n\u001b[1;32m    781\u001b[0m     \u001b[39m# Check type instead of dtype to catch DTA/TDA\u001b[39;00m\n\u001b[1;32m    782\u001b[0m     \u001b[39mreturn\u001b[39;00m \u001b[39miter\u001b[39m(\u001b[39mself\u001b[39m\u001b[39m.\u001b[39m_values)\n\u001b[1;32m    783\u001b[0m \u001b[39melse\u001b[39;00m:\n",
      "File \u001b[0;32m~/anaconda3/envs/my-geopandas-env-2/lib/python3.11/site-packages/pandas/_libs/properties.pyx:36\u001b[0m, in \u001b[0;36mpandas._libs.properties.CachedProperty.__get__\u001b[0;34m()\u001b[0m\n",
      "File \u001b[0;32m~/anaconda3/envs/my-geopandas-env-2/lib/python3.11/site-packages/pandas/core/indexes/multi.py:749\u001b[0m, in \u001b[0;36mMultiIndex._values\u001b[0;34m(self)\u001b[0m\n\u001b[1;32m    746\u001b[0m     vals \u001b[39m=\u001b[39m algos\u001b[39m.\u001b[39mtake_nd(vals, codes, fill_value\u001b[39m=\u001b[39mindex\u001b[39m.\u001b[39m_na_value)\n\u001b[1;32m    747\u001b[0m     values\u001b[39m.\u001b[39mappend(vals)\n\u001b[0;32m--> 749\u001b[0m arr \u001b[39m=\u001b[39m lib\u001b[39m.\u001b[39;49mfast_zip(values)\n\u001b[1;32m    750\u001b[0m \u001b[39mreturn\u001b[39;00m arr\n",
      "\u001b[0;31mKeyboardInterrupt\u001b[0m: "
     ]
    }
   ],
   "source": [
    "#(re)load model:\n",
    "m = post(model_config)\n",
    "# convert to carbon:\n",
    "m.estimate_carbon(\"cell diameter\")\n",
    "\n",
    "#apply calculations:\n",
    "m.total()\n",
    "m.cwm(\"cell diameter\")\n",
    "m.richness('observed_otus')\n",
    "m.richness('simpson')\n",
    "\n",
    "#export:\n",
    "m.export_ds(file_name = \"biomass_menden\")"
   ]
  },
  {
   "cell_type": "code",
   "execution_count": null,
   "metadata": {},
   "outputs": [],
   "source": [
    "m = post(model_config)\n",
    "# convert to carbon:\n",
    "m.convert_to_carbon(\"MxV\")\n",
    "\n",
    "#apply calculations:\n",
    "m.cwm(\"cell diameter\")\n",
    "m.richness('observed_otus')\n",
    "m.richness('simpson')\n",
    "m.total()\n",
    "m.export_ds(\"MxV_biomass\")"
   ]
  },
  {
   "cell_type": "code",
   "execution_count": null,
   "metadata": {},
   "outputs": [],
   "source": [
    "m = post(model_config)\n",
    "# convert to carbon:\n",
    "m.convert_to_carbon(\"one-size-fits-all\")\n",
    "\n",
    "#apply calculations:\n",
    "m.total()\n",
    "m.export_ds(\"one-size-fits-all\")"
   ]
  }
 ],
 "metadata": {
  "kernelspec": {
   "display_name": "my-geopandas-env-2",
   "language": "python",
   "name": "python3"
  },
  "language_info": {
   "codemirror_mode": {
    "name": "ipython",
    "version": 3
   },
   "file_extension": ".py",
   "mimetype": "text/x-python",
   "name": "python",
   "nbconvert_exporter": "python",
   "pygments_lexer": "ipython3",
   "version": "3.11.4"
  },
  "orig_nbformat": 4
 },
 "nbformat": 4,
 "nbformat_minor": 2
}
