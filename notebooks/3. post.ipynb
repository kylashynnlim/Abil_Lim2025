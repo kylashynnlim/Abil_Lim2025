{
 "cells": [
  {
   "cell_type": "code",
   "execution_count": 1,
   "metadata": {},
   "outputs": [],
   "source": [
    "import pandas as pd\n",
    "from yaml import load, Loader\n",
    "from planktonsdm.post import post"
   ]
  },
  {
   "cell_type": "code",
   "execution_count": 2,
   "metadata": {},
   "outputs": [],
   "source": [
    "#If you want to debug the package without repackaging, you can read files locally:\n",
    "\n",
    "#import sys\n",
    "#sys.path.insert(0, '/home/phyto/planktonSDM/planktonsdm/')\n",
    "#from post import post"
   ]
  },
  {
   "cell_type": "code",
   "execution_count": 3,
   "metadata": {},
   "outputs": [],
   "source": [
    "with open('/home/phyto/planktonSDM/configuration/example_model_config.yml', 'r') as f:\n",
    "    model_config = load(f, Loader=Loader)\n",
    "\n",
    "model_config['remote'] = False"
   ]
  },
  {
   "cell_type": "code",
   "execution_count": 4,
   "metadata": {},
   "outputs": [
    {
     "name": "stdout",
     "output_type": "stream",
     "text": [
      "merging...\n",
      "finished calculating total\n",
      "       Coccolithus pelagicus  total  total_log\n",
      "index                                         \n",
      "0                        1.0    1.0        0.0\n",
      "1                        1.0    1.0        0.0\n",
      "2                        1.0    1.0        0.0\n",
      "3                        1.0    1.0        0.0\n",
      "4                        1.0    1.0        0.0\n"
     ]
    },
    {
     "name": "stdout",
     "output_type": "stream",
     "text": [
      "exported ds to: /home/phyto/CoccoML/ModelOutput/abundances_test3.nc\n"
     ]
    }
   ],
   "source": [
    "#load model:\n",
    "m = post(model_config)\n",
    "m.total()\n",
    "\n",
    "# #export \n",
    "m.export_ds(file_name = \"abundances_test3\")"
   ]
  },
  {
   "cell_type": "code",
   "execution_count": 5,
   "metadata": {},
   "outputs": [
    {
     "name": "stdout",
     "output_type": "stream",
     "text": [
      "merging...\n",
      "[14]\n",
      "finished estimating cell diameter\n",
      "finished calculating total\n",
      "       Coccolithus pelagicus  total  total_log\n",
      "index                                         \n",
      "0                       14.0   14.0   2.639057\n",
      "1                       14.0   14.0   2.639057\n",
      "2                       14.0   14.0   2.639057\n",
      "3                       14.0   14.0   2.639057\n",
      "4                       14.0   14.0   2.639057\n",
      "exported ds to: /home/phyto/CoccoML/ModelOutput/biomass_menden.nc\n"
     ]
    }
   ],
   "source": [
    "#(re)load model:\n",
    "m = post(model_config)\n",
    "# convert to carbon:\n",
    "m.estimate_carbon(\"cell diameter\")\n",
    "m.total()\n",
    "\n",
    "#export:\n",
    "m.export_ds(file_name = \"biomass_menden\")"
   ]
  }
 ],
 "metadata": {
  "kernelspec": {
   "display_name": "my-geopandas-env-2",
   "language": "python",
   "name": "python3"
  },
  "language_info": {
   "codemirror_mode": {
    "name": "ipython",
    "version": 3
   },
   "file_extension": ".py",
   "mimetype": "text/x-python",
   "name": "python",
   "nbconvert_exporter": "python",
   "pygments_lexer": "ipython3",
   "version": "3.11.4"
  },
  "orig_nbformat": 4
 },
 "nbformat": 4,
 "nbformat_minor": 2
}
