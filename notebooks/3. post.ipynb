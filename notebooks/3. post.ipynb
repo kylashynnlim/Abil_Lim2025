{
 "cells": [
  {
   "cell_type": "code",
   "execution_count": 1,
   "metadata": {},
   "outputs": [],
   "source": [
    "import pandas as pd\n",
    "from yaml import load, Loader\n",
    "#from abil.post import post"
   ]
  },
  {
   "cell_type": "code",
   "execution_count": 2,
   "metadata": {},
   "outputs": [],
   "source": [
    "#If you want to debug the package without repackaging, you can read files locally:\n",
    "\n",
    "import sys\n",
    "sys.path.insert(0, '/home/phyto/planktonSDM/abil/')\n",
    "from post import post"
   ]
  },
  {
   "cell_type": "code",
   "execution_count": 3,
   "metadata": {},
   "outputs": [],
   "source": [
    "with open('/home/phyto/planktonSDM/configuration/ensemble_regressor.yml', 'r') as f:\n",
    "    model_config = load(f, Loader=Loader)\n",
    "\n",
    "model_config['hpc']==False\n",
    "\n",
    "\n",
    "predictors = model_config['predictors']\n",
    "d = pd.read_csv(\"/home/phyto/planktonSDM/data/abundances_environment.csv\")\n",
    "d.dropna(subset='FID', inplace=True)\n",
    "X_train = d[predictors]\n",
    "X_predict = pd.read_csv(\"/home/phyto/planktonSDM/data/envdata_april_surface.csv\")\n",
    "X_predict.set_index([\"time\", \"depth\", \"lat\", \"lon\"], inplace=True)\n",
    "X_predict = X_predict[X_train.columns]"
   ]
  },
  {
   "cell_type": "code",
   "execution_count": 4,
   "metadata": {},
   "outputs": [
    {
     "name": "stdout",
     "output_type": "stream",
     "text": [
      "merging...\n",
      "finished merging performance\n",
      "finished merging performance\n",
      "finished merging performance\n",
      "finished merging performance\n",
      "finished merging parameters\n",
      "finished merging parameters\n",
      "finished merging parameters\n",
      "finished calculating total\n",
      "                     Emiliania huxleyi          total  total_log  temperature  \\\n",
      "time depth lat lon                                                              \n",
      "4    5     -63 -116      238719.543963  238719.543963  12.383045     2.286171   \n",
      "                62        15562.778795   15562.778795   9.652637    -0.213222   \n",
      "                75        38706.605565   38706.605565  10.563766    -0.526558   \n",
      "                112       16822.302476   16822.302476   9.730461    -0.457661   \n",
      "                163       52475.623229   52475.623229  10.868104     0.408347   \n",
      "\n",
      "                            si  phosphate        din          o2         mld  \\\n",
      "time depth lat lon                                                             \n",
      "4    5     -63 -116  13.475782   1.755559  21.675440  321.343261  115.277958   \n",
      "                62   41.212371   1.800967  27.745327  335.259693   90.215135   \n",
      "                75   28.376062   1.524157  26.879908  333.751993   77.274522   \n",
      "                112  51.091538   1.827123  25.879806  331.433000   69.507898   \n",
      "                163  43.308691   1.366334  23.528028  322.766328   72.483737   \n",
      "\n",
      "                             DIC  irradiance   chlor_a   FID  \n",
      "time depth lat lon                                            \n",
      "4    5     -63 -116  2135.570170    4.908306  0.193001  ANTA  \n",
      "                62   2170.328064    4.749198  0.210738  ANTA  \n",
      "                75   2162.280787    4.566532  0.237152  ANTA  \n",
      "                112  2172.508951    3.128941  0.942697  ANTA  \n",
      "                163  2158.839210    3.699550  0.503678  ANTA  \n",
      "exported ds to: /home/phyto/CoccoML/ModelOutput/19_oct.nc\n",
      "                     Emiliania huxleyi          total  total_log  temperature  \\\n",
      "time depth lat lon                                                              \n",
      "4    5     -63 -116      238719.543963  238719.543963  12.383045     2.286171   \n",
      "                62        15562.778795   15562.778795   9.652637    -0.213222   \n",
      "                75        38706.605565   38706.605565  10.563766    -0.526558   \n",
      "                112       16822.302476   16822.302476   9.730461    -0.457661   \n",
      "                163       52475.623229   52475.623229  10.868104     0.408347   \n",
      "\n",
      "                            si  phosphate        din          o2         mld  \\\n",
      "time depth lat lon                                                             \n",
      "4    5     -63 -116  13.475782   1.755559  21.675440  321.343261  115.277958   \n",
      "                62   41.212371   1.800967  27.745327  335.259693   90.215135   \n",
      "                75   28.376062   1.524157  26.879908  333.751993   77.274522   \n",
      "                112  51.091538   1.827123  25.879806  331.433000   69.507898   \n",
      "                163  43.308691   1.366334  23.528028  322.766328   72.483737   \n",
      "\n",
      "                             DIC  irradiance   chlor_a   FID  \n",
      "time depth lat lon                                            \n",
      "4    5     -63 -116  2135.570170    4.908306  0.193001  ANTA  \n",
      "                62   2170.328064    4.749198  0.210738  ANTA  \n",
      "                75   2162.280787    4.566532  0.237152  ANTA  \n",
      "                112  2172.508951    3.128941  0.942697  ANTA  \n",
      "                163  2158.839210    3.699550  0.503678  ANTA  \n",
      "exported d to: /home/phyto/CoccoML/ModelOutput/19_oct.csv\n"
     ]
    }
   ],
   "source": [
    "\n",
    "m = post(model_config)\n",
    "m.merge_performance(model=\"ens\")\n",
    "m.merge_performance(model=\"xgb\", configuration= \"reg\")\n",
    "m.merge_performance(model=\"rf\", configuration= \"reg\")\n",
    "m.merge_performance(model=\"knn\", configuration= \"reg\")\n",
    "\n",
    "m.merge_parameters(model=\"rf\")\n",
    "m.merge_parameters(model=\"xgb\")\n",
    "m.merge_parameters(model=\"knn\")\n",
    "\n",
    "m.total()\n",
    "\n",
    "m.merge_env(X_predict)\n",
    "\n",
    "m.export_ds(\"19_oct\")\n",
    "m.export_csv(\"19_oct\")\n"
   ]
  }
 ],
 "metadata": {
  "kernelspec": {
   "display_name": "my-geopandas-env-2",
   "language": "python",
   "name": "python3"
  },
  "language_info": {
   "codemirror_mode": {
    "name": "ipython",
    "version": 3
   },
   "file_extension": ".py",
   "mimetype": "text/x-python",
   "name": "python",
   "nbconvert_exporter": "python",
   "pygments_lexer": "ipython3",
   "version": "3.11.4"
  },
  "orig_nbformat": 4
 },
 "nbformat": 4,
 "nbformat_minor": 2
}
