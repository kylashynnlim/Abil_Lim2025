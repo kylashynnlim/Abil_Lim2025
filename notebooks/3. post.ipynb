{
 "cells": [
  {
   "cell_type": "code",
   "execution_count": 1,
   "metadata": {},
   "outputs": [],
   "source": [
    "import pandas as pd\n",
    "from yaml import load, Loader\n",
    "#from planktonsdm.post import post"
   ]
  },
  {
   "cell_type": "code",
   "execution_count": 2,
   "metadata": {},
   "outputs": [],
   "source": [
    "#If you want to debug the package without repackaging, you can read files locally:\n",
    "\n",
    "import sys\n",
    "sys.path.insert(0, '/home/phyto/planktonSDM/planktonsdm/')\n",
    "from post import post"
   ]
  },
  {
   "cell_type": "code",
   "execution_count": 3,
   "metadata": {},
   "outputs": [
    {
     "data": {
      "text/plain": [
       "True"
      ]
     },
     "execution_count": 3,
     "metadata": {},
     "output_type": "execute_result"
    }
   ],
   "source": [
    "with open('/home/phyto/planktonSDM/configuration/ensemble_regressor.yml', 'r') as f:\n",
    "    model_config = load(f, Loader=Loader)\n",
    "\n",
    "model_config['hpc']==False\n",
    "\n",
    "\n",
    "predictors = model_config['predictors']\n",
    "d = pd.read_csv(\"/home/phyto/planktonSDM/data/abundances_environment.csv\")\n",
    "species = 'Emiliania huxleyi'\n",
    "d.dropna(subset=species, inplace=True)\n",
    "d.dropna(subset='FID', inplace=True)\n",
    "X_train = d[predictors]\n",
    "y = d[species]\n",
    "X_predict = pd.read_csv(\"/home/phyto/planktonSDM/data/envdata_april_surface.csv\")\n",
    "X_predict.set_index([\"time\", \"depth\", \"lat\", \"lon\"], inplace=True)\n",
    "X_predict = X_predict[X_train.columns]\n",
    "\n"
   ]
  },
  {
   "cell_type": "code",
   "execution_count": 4,
   "metadata": {},
   "outputs": [
    {
     "name": "stdout",
     "output_type": "stream",
     "text": [
      "merging...\n",
      "finished merging performance\n",
      "finished merging performance\n",
      "finished merging performance\n",
      "finished merging performance\n"
     ]
    },
    {
     "name": "stdout",
     "output_type": "stream",
     "text": [
      "finished merging parameters\n",
      "finished merging parameters\n",
      "finished merging parameters\n",
      "finished calculating total\n",
      "                     Emiliania huxleyi          total  total_log\n",
      "time depth lat lon                                              \n",
      "4    5     -63 -116      238719.543963  238719.543963  12.383045\n",
      "                62        15562.778795   15562.778795   9.652637\n",
      "                75        38706.605565   38706.605565  10.563766\n",
      "                112       16822.302476   16822.302476   9.730461\n",
      "                163       52475.623229   52475.623229  10.868104\n"
     ]
    },
    {
     "ename": "KeyboardInterrupt",
     "evalue": "",
     "output_type": "error",
     "traceback": [
      "\u001b[0;31m---------------------------------------------------------------------------\u001b[0m",
      "\u001b[0;31mKeyboardInterrupt\u001b[0m                         Traceback (most recent call last)",
      "\u001b[1;32m/home/phyto/planktonSDM/notebooks/3. post.ipynb Cell 4\u001b[0m line \u001b[0;36m1\n\u001b[1;32m      <a href='vscode-notebook-cell:/home/phyto/planktonSDM/notebooks/3.%20post.ipynb#W3sZmlsZQ%3D%3D?line=8'>9</a>\u001b[0m m\u001b[39m.\u001b[39mmerge_parameters(model\u001b[39m=\u001b[39m\u001b[39m\"\u001b[39m\u001b[39mknn\u001b[39m\u001b[39m\"\u001b[39m)\n\u001b[1;32m     <a href='vscode-notebook-cell:/home/phyto/planktonSDM/notebooks/3.%20post.ipynb#W3sZmlsZQ%3D%3D?line=10'>11</a>\u001b[0m m\u001b[39m.\u001b[39mtotal()\n\u001b[0;32m---> <a href='vscode-notebook-cell:/home/phyto/planktonSDM/notebooks/3.%20post.ipynb#W3sZmlsZQ%3D%3D?line=12'>13</a>\u001b[0m m\u001b[39m.\u001b[39;49mmerge_env()\n\u001b[1;32m     <a href='vscode-notebook-cell:/home/phyto/planktonSDM/notebooks/3.%20post.ipynb#W3sZmlsZQ%3D%3D?line=14'>15</a>\u001b[0m \u001b[39m#m.export_ds(\"17_oct\")\u001b[39;00m\n\u001b[1;32m     <a href='vscode-notebook-cell:/home/phyto/planktonSDM/notebooks/3.%20post.ipynb#W3sZmlsZQ%3D%3D?line=15'>16</a>\u001b[0m \u001b[39m#m.export_csv(\"17_oct\")\u001b[39;00m\n",
      "File \u001b[0;32m~/planktonSDM/planktonsdm/post.py:222\u001b[0m, in \u001b[0;36mpost.merge_env\u001b[0;34m(self)\u001b[0m\n\u001b[1;32m    219\u001b[0m env_data\u001b[39m.\u001b[39mset_index([\u001b[39m\"\u001b[39m\u001b[39mtime\u001b[39m\u001b[39m\"\u001b[39m, \u001b[39m\"\u001b[39m\u001b[39mdepth\u001b[39m\u001b[39m\"\u001b[39m, \u001b[39m\"\u001b[39m\u001b[39mlat\u001b[39m\u001b[39m\"\u001b[39m, \u001b[39m\"\u001b[39m\u001b[39mlon\u001b[39m\u001b[39m\"\u001b[39m], inplace\u001b[39m=\u001b[39m\u001b[39mTrue\u001b[39;00m)\n\u001b[1;32m    220\u001b[0m \u001b[39mprint\u001b[39m(\u001b[39mself\u001b[39m\u001b[39m.\u001b[39md\u001b[39m.\u001b[39mhead())\n\u001b[0;32m--> 222\u001b[0m \u001b[39mself\u001b[39m\u001b[39m.\u001b[39md \u001b[39m=\u001b[39m pd\u001b[39m.\u001b[39;49mconcat([\u001b[39mself\u001b[39;49m\u001b[39m.\u001b[39;49md, env_data], axis\u001b[39m=\u001b[39;49m\u001b[39m1\u001b[39;49m)\n",
      "File \u001b[0;32m~/anaconda3/envs/my-geopandas-env-2/lib/python3.11/site-packages/pandas/core/reshape/concat.py:385\u001b[0m, in \u001b[0;36mconcat\u001b[0;34m(objs, axis, join, ignore_index, keys, levels, names, verify_integrity, sort, copy)\u001b[0m\n\u001b[1;32m    370\u001b[0m     copy \u001b[39m=\u001b[39m \u001b[39mFalse\u001b[39;00m\n\u001b[1;32m    372\u001b[0m op \u001b[39m=\u001b[39m _Concatenator(\n\u001b[1;32m    373\u001b[0m     objs,\n\u001b[1;32m    374\u001b[0m     axis\u001b[39m=\u001b[39maxis,\n\u001b[0;32m   (...)\u001b[0m\n\u001b[1;32m    382\u001b[0m     sort\u001b[39m=\u001b[39msort,\n\u001b[1;32m    383\u001b[0m )\n\u001b[0;32m--> 385\u001b[0m \u001b[39mreturn\u001b[39;00m op\u001b[39m.\u001b[39;49mget_result()\n",
      "File \u001b[0;32m~/anaconda3/envs/my-geopandas-env-2/lib/python3.11/site-packages/pandas/core/reshape/concat.py:612\u001b[0m, in \u001b[0;36m_Concatenator.get_result\u001b[0;34m(self)\u001b[0m\n\u001b[1;32m    610\u001b[0m         obj_labels \u001b[39m=\u001b[39m obj\u001b[39m.\u001b[39maxes[\u001b[39m1\u001b[39m \u001b[39m-\u001b[39m ax]\n\u001b[1;32m    611\u001b[0m         \u001b[39mif\u001b[39;00m \u001b[39mnot\u001b[39;00m new_labels\u001b[39m.\u001b[39mequals(obj_labels):\n\u001b[0;32m--> 612\u001b[0m             indexers[ax] \u001b[39m=\u001b[39m obj_labels\u001b[39m.\u001b[39;49mget_indexer(new_labels)\n\u001b[1;32m    614\u001b[0m     mgrs_indexers\u001b[39m.\u001b[39mappend((obj\u001b[39m.\u001b[39m_mgr, indexers))\n\u001b[1;32m    616\u001b[0m new_data \u001b[39m=\u001b[39m concatenate_managers(\n\u001b[1;32m    617\u001b[0m     mgrs_indexers, \u001b[39mself\u001b[39m\u001b[39m.\u001b[39mnew_axes, concat_axis\u001b[39m=\u001b[39m\u001b[39mself\u001b[39m\u001b[39m.\u001b[39mbm_axis, copy\u001b[39m=\u001b[39m\u001b[39mself\u001b[39m\u001b[39m.\u001b[39mcopy\n\u001b[1;32m    618\u001b[0m )\n",
      "File \u001b[0;32m~/anaconda3/envs/my-geopandas-env-2/lib/python3.11/site-packages/pandas/core/indexes/base.py:3802\u001b[0m, in \u001b[0;36mIndex.get_indexer\u001b[0;34m(self, target, method, limit, tolerance)\u001b[0m\n\u001b[1;32m   3797\u001b[0m     target \u001b[39m=\u001b[39m target\u001b[39m.\u001b[39mastype(dtype, copy\u001b[39m=\u001b[39m\u001b[39mFalse\u001b[39;00m)\n\u001b[1;32m   3798\u001b[0m     \u001b[39mreturn\u001b[39;00m this\u001b[39m.\u001b[39m_get_indexer(\n\u001b[1;32m   3799\u001b[0m         target, method\u001b[39m=\u001b[39mmethod, limit\u001b[39m=\u001b[39mlimit, tolerance\u001b[39m=\u001b[39mtolerance\n\u001b[1;32m   3800\u001b[0m     )\n\u001b[0;32m-> 3802\u001b[0m \u001b[39mreturn\u001b[39;00m \u001b[39mself\u001b[39;49m\u001b[39m.\u001b[39;49m_get_indexer(target, method, limit, tolerance)\n",
      "File \u001b[0;32m~/anaconda3/envs/my-geopandas-env-2/lib/python3.11/site-packages/pandas/core/indexes/base.py:3823\u001b[0m, in \u001b[0;36mIndex._get_indexer\u001b[0;34m(self, target, method, limit, tolerance)\u001b[0m\n\u001b[1;32m   3820\u001b[0m     engine \u001b[39m=\u001b[39m \u001b[39mself\u001b[39m\u001b[39m.\u001b[39m_engine\n\u001b[1;32m   3821\u001b[0m     \u001b[39m# error: Item \"IndexEngine\" of \"Union[IndexEngine, ExtensionEngine]\"\u001b[39;00m\n\u001b[1;32m   3822\u001b[0m     \u001b[39m# has no attribute \"_extract_level_codes\"\u001b[39;00m\n\u001b[0;32m-> 3823\u001b[0m     tgt_values \u001b[39m=\u001b[39m engine\u001b[39m.\u001b[39;49m_extract_level_codes(  \u001b[39m# type: ignore[union-attr]\u001b[39;49;00m\n\u001b[1;32m   3824\u001b[0m         target\n\u001b[1;32m   3825\u001b[0m     )\n\u001b[1;32m   3826\u001b[0m \u001b[39melse\u001b[39;00m:\n\u001b[1;32m   3827\u001b[0m     tgt_values \u001b[39m=\u001b[39m target\u001b[39m.\u001b[39m_get_engine_target()\n",
      "File \u001b[0;32m~/anaconda3/envs/my-geopandas-env-2/lib/python3.11/site-packages/pandas/_libs/index.pyx:709\u001b[0m, in \u001b[0;36mpandas._libs.index.BaseMultiIndexCodesEngine._extract_level_codes\u001b[0;34m()\u001b[0m\n",
      "File \u001b[0;32m~/anaconda3/envs/my-geopandas-env-2/lib/python3.11/site-packages/pandas/core/indexes/base.py:5859\u001b[0m, in \u001b[0;36mIndex.get_indexer_for\u001b[0;34m(self, target)\u001b[0m\n\u001b[1;32m   5841\u001b[0m \u001b[39m\u001b[39m\u001b[39m\"\"\"\u001b[39;00m\n\u001b[1;32m   5842\u001b[0m \u001b[39mGuaranteed return of an indexer even when non-unique.\u001b[39;00m\n\u001b[1;32m   5843\u001b[0m \n\u001b[0;32m   (...)\u001b[0m\n\u001b[1;32m   5856\u001b[0m \u001b[39marray([0, 2])\u001b[39;00m\n\u001b[1;32m   5857\u001b[0m \u001b[39m\"\"\"\u001b[39;00m\n\u001b[1;32m   5858\u001b[0m \u001b[39mif\u001b[39;00m \u001b[39mself\u001b[39m\u001b[39m.\u001b[39m_index_as_unique:\n\u001b[0;32m-> 5859\u001b[0m     \u001b[39mreturn\u001b[39;00m \u001b[39mself\u001b[39;49m\u001b[39m.\u001b[39;49mget_indexer(target)\n\u001b[1;32m   5860\u001b[0m indexer, _ \u001b[39m=\u001b[39m \u001b[39mself\u001b[39m\u001b[39m.\u001b[39mget_indexer_non_unique(target)\n\u001b[1;32m   5861\u001b[0m \u001b[39mreturn\u001b[39;00m indexer\n",
      "File \u001b[0;32m~/anaconda3/envs/my-geopandas-env-2/lib/python3.11/site-packages/pandas/core/indexes/base.py:3802\u001b[0m, in \u001b[0;36mIndex.get_indexer\u001b[0;34m(self, target, method, limit, tolerance)\u001b[0m\n\u001b[1;32m   3797\u001b[0m     target \u001b[39m=\u001b[39m target\u001b[39m.\u001b[39mastype(dtype, copy\u001b[39m=\u001b[39m\u001b[39mFalse\u001b[39;00m)\n\u001b[1;32m   3798\u001b[0m     \u001b[39mreturn\u001b[39;00m this\u001b[39m.\u001b[39m_get_indexer(\n\u001b[1;32m   3799\u001b[0m         target, method\u001b[39m=\u001b[39mmethod, limit\u001b[39m=\u001b[39mlimit, tolerance\u001b[39m=\u001b[39mtolerance\n\u001b[1;32m   3800\u001b[0m     )\n\u001b[0;32m-> 3802\u001b[0m \u001b[39mreturn\u001b[39;00m \u001b[39mself\u001b[39;49m\u001b[39m.\u001b[39;49m_get_indexer(target, method, limit, tolerance)\n",
      "File \u001b[0;32m~/anaconda3/envs/my-geopandas-env-2/lib/python3.11/site-packages/pandas/core/indexes/base.py:3829\u001b[0m, in \u001b[0;36mIndex._get_indexer\u001b[0;34m(self, target, method, limit, tolerance)\u001b[0m\n\u001b[1;32m   3826\u001b[0m     \u001b[39melse\u001b[39;00m:\n\u001b[1;32m   3827\u001b[0m         tgt_values \u001b[39m=\u001b[39m target\u001b[39m.\u001b[39m_get_engine_target()\n\u001b[0;32m-> 3829\u001b[0m     indexer \u001b[39m=\u001b[39m \u001b[39mself\u001b[39;49m\u001b[39m.\u001b[39;49m_engine\u001b[39m.\u001b[39;49mget_indexer(tgt_values)\n\u001b[1;32m   3831\u001b[0m \u001b[39mreturn\u001b[39;00m ensure_platform_int(indexer)\n",
      "\u001b[0;31mKeyboardInterrupt\u001b[0m: "
     ]
    }
   ],
   "source": [
    "\n",
    "m = post(model_config)\n",
    "m.merge_performance(model=\"ens\")\n",
    "m.merge_performance(model=\"xgb\", configuration= \"reg\")\n",
    "m.merge_performance(model=\"rf\", configuration= \"reg\")\n",
    "m.merge_performance(model=\"knn\", configuration= \"reg\")\n",
    "\n",
    "m.merge_parameters(model=\"rf\")\n",
    "m.merge_parameters(model=\"xgb\")\n",
    "m.merge_parameters(model=\"knn\")\n",
    "\n",
    "m.total()\n",
    "\n",
    "m.merge_env()\n",
    "\n",
    "#m.export_ds(\"17_oct\")\n",
    "#m.export_csv(\"17_oct\")\n"
   ]
  }
 ],
 "metadata": {
  "kernelspec": {
   "display_name": "my-geopandas-env-2",
   "language": "python",
   "name": "python3"
  },
  "language_info": {
   "codemirror_mode": {
    "name": "ipython",
    "version": 3
   },
   "file_extension": ".py",
   "mimetype": "text/x-python",
   "name": "python",
   "nbconvert_exporter": "python",
   "pygments_lexer": "ipython3",
   "version": "3.11.4"
  },
  "orig_nbformat": 4
 },
 "nbformat": 4,
 "nbformat_minor": 2
}
