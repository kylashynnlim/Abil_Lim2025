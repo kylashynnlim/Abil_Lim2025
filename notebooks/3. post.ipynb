{
 "cells": [
  {
   "cell_type": "code",
   "execution_count": 5,
   "metadata": {},
   "outputs": [],
   "source": [
    "import pandas as pd\n",
    "from yaml import load, Loader\n",
    "#from abil.post import post"
   ]
  },
  {
   "cell_type": "code",
   "execution_count": 6,
   "metadata": {},
   "outputs": [],
   "source": [
    "#If you want to debug the package without repackaging, you can read files locally:\n",
    "\n",
    "import sys\n",
    "sys.path.insert(0, '/home/phyto/Abil/abil/')\n",
    "from post import post"
   ]
  },
  {
   "cell_type": "code",
   "execution_count": 7,
   "metadata": {},
   "outputs": [],
   "source": [
    "with open('/home/phyto/Abil/configuration/regressor.yml', 'r') as f:\n",
    "    model_config = load(f, Loader=Loader)\n",
    "\n",
    "model_config['hpc']==False\n",
    "\n",
    "\n",
    "predictors = model_config['predictors']\n",
    "d = pd.read_csv(\"/home/phyto/Abil/data/training.csv\")\n",
    "d.dropna(subset='FID', inplace=True)\n",
    "X_train = d[predictors]\n",
    "X_predict = pd.read_csv(\"/home/phyto/Abil/data/prediction.csv\")\n",
    "X_predict.set_index([\"time\", \"depth\", \"lat\", \"lon\"], inplace=True)\n",
    "X_predict = X_predict[X_train.columns]\n",
    "\n",
    "targets = ['Emiliania huxleyi']"
   ]
  },
  {
   "cell_type": "code",
   "execution_count": 8,
   "metadata": {},
   "outputs": [
    {
     "name": "stdout",
     "output_type": "stream",
     "text": [
      "merging...\n",
      "finished loading netcdf files\n",
      "Final integrated total: 1.8468593508694337e+20\n",
      "Exported totals to: /home/phyto/Abil/ModelOutput/ens_integrated_totals.csv\n",
      "Final integrated total: 1.735896688361229e+20\n",
      "Exported totals to: /home/phyto/Abil/ModelOutput/ens_integrated_totals_depth_100m.csv\n",
      "finished merging performance\n",
      "finished merging performance\n",
      "finished merging performance\n",
      "finished merging performance\n",
      "finished merging parameters\n",
      "finished merging parameters\n",
      "finished merging parameters\n",
      "finished calculating total\n",
      "export_ds\n",
      "dataframe: \n",
      "                    Emiliania huxleyi         total  total_log  temperature  \\\n",
      "time depth lat lon                                                            \n",
      "1    0     -64 175       35637.044465  35637.044465  10.481141     1.233371   \n",
      "           -63 172       40493.489633  40493.489633  10.608896     2.014557   \n",
      "           -61 174       21862.242512  21862.242512   9.992516     4.051562   \n",
      "           -59 174       27342.975738  27342.975738  10.216215     5.749196   \n",
      "           -58 174       17049.186745  17049.186745   9.743858     6.408585   \n",
      "\n",
      "                          din  irradiance  \n",
      "time depth lat lon                         \n",
      "1    0     -64 175  24.355671   33.018021  \n",
      "           -63 172  24.231096   33.707485  \n",
      "           -61 174  18.368236   33.717991  \n",
      "           -59 174  14.921047   36.398514  \n",
      "           -58 174  14.644286   37.355007  \n",
      "                    Emiliania huxleyi         total  total_log  temperature  \\\n",
      "time depth lat lon                                                            \n",
      "1    0     -64 175       35637.044465  35637.044465  10.481141     1.233371   \n",
      "           -63 172       40493.489633  40493.489633  10.608896     2.014557   \n",
      "           -61 174       21862.242512  21862.242512   9.992516     4.051562   \n",
      "           -59 174       27342.975738  27342.975738  10.216215     5.749196   \n",
      "           -58 174       17049.186745  17049.186745   9.743858     6.408585   \n",
      "\n",
      "                          din  irradiance  \n",
      "time depth lat lon                         \n",
      "1    0     -64 175  24.355671   33.018021  \n",
      "           -63 172  24.231096   33.707485  \n",
      "           -61 174  18.368236   33.717991  \n",
      "           -59 174  14.921047   36.398514  \n",
      "           -58 174  14.644286   37.355007  \n",
      "exported ds to: /home/phyto/Abil/ModelOutput/50/19_oct.nc\n",
      "                    Emiliania huxleyi         total  total_log  temperature  \\\n",
      "time depth lat lon                                                            \n",
      "1    0     -64 175       35637.044465  35637.044465  10.481141     1.233371   \n",
      "           -63 172       40493.489633  40493.489633  10.608896     2.014557   \n",
      "           -61 174       21862.242512  21862.242512   9.992516     4.051562   \n",
      "           -59 174       27342.975738  27342.975738  10.216215     5.749196   \n",
      "           -58 174       17049.186745  17049.186745   9.743858     6.408585   \n",
      "\n",
      "                          din  irradiance  \n",
      "time depth lat lon                         \n",
      "1    0     -64 175  24.355671   33.018021  \n",
      "           -63 172  24.231096   33.707485  \n",
      "           -61 174  18.368236   33.717991  \n",
      "           -59 174  14.921047   36.398514  \n",
      "           -58 174  14.644286   37.355007  \n",
      "exported d to: /home/phyto/Abil/ModelOutput/50/19_oct.csv\n"
     ]
    }
   ],
   "source": [
    "\n",
    "m = post(model_config)\n",
    "\n",
    "integ = m.integration(m,vol_conversion=1e3)\n",
    "integ.integrated_totals(targets)\n",
    "integ.integrated_totals(targets, subset_depth=100)\n",
    "\n",
    "m.merge_performance(model=\"ens\")\n",
    "m.merge_performance(model=\"xgb\", configuration= \"reg\")\n",
    "m.merge_performance(model=\"rf\", configuration= \"reg\")\n",
    "m.merge_performance(model=\"knn\", configuration= \"reg\")\n",
    "\n",
    "m.merge_parameters(model=\"rf\")\n",
    "m.merge_parameters(model=\"xgb\")\n",
    "m.merge_parameters(model=\"knn\")\n",
    "\n",
    "m.total()\n",
    "\n",
    "m.merge_env(X_predict)\n",
    "\n",
    "m.export_ds(\"19_oct\")\n",
    "m.export_csv(\"19_oct\")\n"
   ]
  }
 ],
 "metadata": {
  "kernelspec": {
   "display_name": "my-geopandas-env-2",
   "language": "python",
   "name": "python3"
  },
  "language_info": {
   "codemirror_mode": {
    "name": "ipython",
    "version": 3
   },
   "file_extension": ".py",
   "mimetype": "text/x-python",
   "name": "python",
   "nbconvert_exporter": "python",
   "pygments_lexer": "ipython3",
   "version": "3.11.4"
  },
  "orig_nbformat": 4
 },
 "nbformat": 4,
 "nbformat_minor": 2
}
