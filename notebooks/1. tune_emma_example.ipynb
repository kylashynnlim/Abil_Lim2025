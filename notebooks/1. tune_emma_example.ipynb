{
 "cells": [
  {
   "cell_type": "code",
   "execution_count": 1,
   "metadata": {},
   "outputs": [],
   "source": [
    "import pandas as pd\n",
    "import numpy as np\n",
    "from sklearn.preprocessing import MinMaxScaler\n",
    "from sklearn.datasets import make_regression\n",
    "import sys\n",
    "from yaml import load\n",
    "from yaml import CLoader as Loader\n",
    "import xarray as xr\n",
    "sys.path.insert(0, '/home/phyto/planktonSDM/functions/')\n",
    "from tune import tune \n",
    "from functions import example_data"
   ]
  },
  {
   "cell_type": "code",
   "execution_count": 2,
   "metadata": {},
   "outputs": [],
   "source": [
    "# Setting up the model\n",
    "\n",
    "with open('/home/phyto/planktonSDM/configuration/example_Emma.yml', 'r') as f:\n",
    "    model_config = load(f, Loader=Loader)\n",
    "\n",
    "ds = xr.open_data(\"path to netcdf\")\n",
    "d = ds.to_dataframe()\n"
   ]
  },
  {
   "cell_type": "code",
   "execution_count": 3,
   "metadata": {},
   "outputs": [
    {
     "name": "stdout",
     "output_type": "stream",
     "text": [
      "Fitting 3 folds for each of 24 candidates, totalling 72 fits\n",
      "finished tuning model\n",
      "reg rRMSE: 53%\n",
      "reg rMAE: 40%\n",
      "reg R2: -0.02\n",
      "execution time: 8.763795137405396 seconds\n"
     ]
    }
   ],
   "source": [
    "'''\n",
    "1-phase Random forest \n",
    "'''\n",
    "\n",
    "traits = pd.read_csv(model_config['root'] + model_config['traits'])\n",
    "\n",
    "for i in range(0, len(traits)):\n",
    "\n",
    "    species =  traits['species'][i]\n",
    "\n",
    "    X = d[[\"temperature\", \"salinity\"]]\n",
    "    y = d[species]\n",
    "\n",
    "    m = tune(X, y, model_config)\n",
    "\n",
    "    m.train(model=\"rf\")"
   ]
  }
 ],
 "metadata": {
  "kernelspec": {
   "display_name": "Python 3 (ipykernel)",
   "language": "python",
   "name": "python3"
  },
  "language_info": {
   "codemirror_mode": {
    "name": "ipython",
    "version": 3
   },
   "file_extension": ".py",
   "mimetype": "text/x-python",
   "name": "python",
   "nbconvert_exporter": "python",
   "pygments_lexer": "ipython3",
   "version": "3.11.4"
  }
 },
 "nbformat": 4,
 "nbformat_minor": 2
}
