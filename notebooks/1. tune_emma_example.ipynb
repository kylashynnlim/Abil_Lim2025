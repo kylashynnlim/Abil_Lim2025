{
 "cells": [
  {
   "cell_type": "code",
   "execution_count": 1,
   "metadata": {},
   "outputs": [],
   "source": [
    "import pandas as pd\n",
    "import numpy as np\n",
    "from sklearn.preprocessing import MinMaxScaler\n",
    "from sklearn.datasets import make_regression\n",
    "import sys\n",
    "from yaml import load\n",
    "from yaml import CLoader as Loader\n",
    "\n",
    "sys.path.insert(0, '/home/phyto/planktonSDM/functions/')\n",
    "from tune import tune \n",
    "from functions import example_data"
   ]
  },
  {
   "cell_type": "code",
   "execution_count": 2,
   "metadata": {},
   "outputs": [],
   "source": [
    "# Setting up the model\n",
    "\n",
    "with open('/home/phyto/planktonSDM/configuration/example_model_config.yml', 'r') as f:\n",
    "    model_config = load(f, Loader=Loader)\n",
    "\n",
    "X, y = example_data(y_name =  \"Coccolithus pelagicus\", n_samples=500, n_features=5, noise=20, \n",
    "                    random_state=model_config['seed'])\n",
    "\n",
    "m = tune(X, y, model_config)"
   ]
  },
  {
   "cell_type": "code",
   "execution_count": 3,
   "metadata": {},
   "outputs": [
    {
     "name": "stdout",
     "output_type": "stream",
     "text": [
      "Fitting 3 folds for each of 24 candidates, totalling 72 fits\n",
      "finished tuning model\n",
      "reg rRMSE: 53%\n",
      "reg rMAE: 40%\n",
      "reg R2: -0.02\n",
      "execution time: 8.763795137405396 seconds\n"
     ]
    }
   ],
   "source": [
    "'''\n",
    "1-phase Random forest \n",
    "'''\n",
    "m.train(model=\"rf\")"
   ]
  },
  {
   "cell_type": "code",
   "execution_count": 4,
   "metadata": {},
   "outputs": [
    {
     "name": "stdout",
     "output_type": "stream",
     "text": [
      "Fitting 3 folds for each of 24 candidates, totalling 72 fits\n",
      "finished tuning model\n",
      "reg rRMSE: 53%\n",
      "reg rMAE: 40%\n",
      "reg R2: -0.02\n",
      "Fitting 3 folds for each of 12 candidates, totalling 36 fits\n",
      "zir rRMSE: 53%\n",
      "zir rMAE: 40%\n",
      "zir R2: -0.02\n",
      "execution time: 14.657129764556885 seconds\n"
     ]
    }
   ],
   "source": [
    "'''\n",
    "2-phase Random forest \n",
    "note: for the 2-phase model we need to define both the classifier and the regressor\n",
    "'''\n",
    "m.train(model=\"rf\", zir=True)"
   ]
  },
  {
   "cell_type": "code",
   "execution_count": 5,
   "metadata": {},
   "outputs": [
    {
     "name": "stdout",
     "output_type": "stream",
     "text": [
      "Fitting 3 folds for each of 24 candidates, totalling 72 fits\n",
      "finished tuning model\n",
      "reg rRMSE: 54%\n",
      "reg rMAE: 41%\n",
      "reg R2: -0.03\n",
      "execution time: 8.961717128753662 seconds\n",
      "both models:\n",
      "Fitting 3 folds for each of 24 candidates, totalling 72 fits\n",
      "Fitting 3 folds for each of 24 candidates, totalling 72 fits\n",
      "finished tuning model\n",
      "reg rRMSE: 53%\n",
      "reg rMAE: 40%\n",
      "reg R2: -0.02\n",
      "execution time: 17.13132405281067 seconds\n"
     ]
    }
   ],
   "source": [
    "'''\n",
    "Adding log transformation\n",
    "'''\n",
    "#add log:\n",
    "m.train(model=\"rf\", log=\"yes\")\n",
    "\n",
    "#try both:\n",
    "print(\"both models:\")\n",
    "m.train(model=\"rf\", log=\"both\")"
   ]
  },
  {
   "cell_type": "code",
   "execution_count": 6,
   "metadata": {},
   "outputs": [
    {
     "name": "stdout",
     "output_type": "stream",
     "text": [
      "Fitting 3 folds for each of 1 candidates, totalling 3 fits\n",
      "finished tuning model\n",
      "reg rRMSE: 54%\n",
      "reg rMAE: 42%\n",
      "reg R2: -0.05\n",
      "execution time: 0.30060482025146484 seconds\n"
     ]
    }
   ],
   "source": [
    "'''\n",
    "1-phase Gradient boosting with XGBoost:\n",
    "'''\n",
    "m.train(model=\"xgb\")"
   ]
  },
  {
   "cell_type": "code",
   "execution_count": 7,
   "metadata": {},
   "outputs": [
    {
     "name": "stdout",
     "output_type": "stream",
     "text": [
      "Fitting 3 folds for each of 1 candidates, totalling 3 fits\n",
      "finished tuning model\n",
      "reg rRMSE: 54%\n",
      "reg rMAE: 42%\n",
      "reg R2: -0.05\n",
      "Fitting 3 folds for each of 1 candidates, totalling 3 fits\n",
      "zir rRMSE: 54%\n",
      "zir rMAE: 42%\n",
      "zir R2: -0.05\n",
      "execution time: 0.5986864566802979 seconds\n"
     ]
    }
   ],
   "source": [
    "'''\n",
    "2-phase Gradient boosting with XGBoost:\n",
    "'''\n",
    "m.train(model=\"xgb\", zir=True)"
   ]
  },
  {
   "cell_type": "code",
   "execution_count": 8,
   "metadata": {},
   "outputs": [
    {
     "name": "stdout",
     "output_type": "stream",
     "text": [
      "Fitting 3 folds for each of 1 candidates, totalling 3 fits\n",
      "finished tuning model\n",
      "reg rRMSE: 54%\n",
      "reg rMAE: 41%\n",
      "reg R2: -0.04\n",
      "execution time: 1.5303997993469238 seconds\n"
     ]
    }
   ],
   "source": [
    "'''\n",
    "1-phase bagged nearest neighbors\n",
    "'''\n",
    "m.train(model=\"knn\")"
   ]
  },
  {
   "cell_type": "code",
   "execution_count": 9,
   "metadata": {},
   "outputs": [
    {
     "name": "stdout",
     "output_type": "stream",
     "text": [
      "Fitting 3 folds for each of 1 candidates, totalling 3 fits\n",
      "finished tuning model\n",
      "reg rRMSE: 54%\n",
      "reg rMAE: 40%\n",
      "reg R2: -0.05\n",
      "Fitting 3 folds for each of 1 candidates, totalling 3 fits\n",
      "zir rRMSE: 54%\n",
      "zir rMAE: 41%\n",
      "zir R2: -0.04\n",
      "execution time: 4.25219988822937 seconds\n"
     ]
    }
   ],
   "source": [
    "'''\n",
    "2-phase bagged nearest neighbors\n",
    "'''\n",
    "m.train(model=\"knn\", zir=True)"
   ]
  }
 ],
 "metadata": {
  "kernelspec": {
   "display_name": "Python 3 (ipykernel)",
   "language": "python",
   "name": "python3"
  },
  "language_info": {
   "codemirror_mode": {
    "name": "ipython",
    "version": 3
   },
   "file_extension": ".py",
   "mimetype": "text/x-python",
   "name": "python",
   "nbconvert_exporter": "python",
   "pygments_lexer": "ipython3",
   "version": "3.11.4"
  }
 },
 "nbformat": 4,
 "nbformat_minor": 2
}
