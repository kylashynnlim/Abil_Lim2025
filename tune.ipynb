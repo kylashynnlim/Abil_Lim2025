{
 "cells": [
  {
   "attachments": {},
   "cell_type": "markdown",
   "metadata": {},
   "source": [
    "Overview\n",
    "\n",
    "This is a notebook that shows you how to tune plankton ML models using the 'tune' class.\n",
    "\n",
    "This is the first notebook in a set of three:\n",
    "\n",
    "    - tune.ipynb: tune hyper-parameters to find the best model configuration\n",
    "\n",
    "    - predict.ipynb: make predictions using the best fitting model\n",
    "\n",
    "    - post.ipynb: analyse predictions and calculate metrics such as diversity\n",
    "\n",
    "There are several dependencies that need to be install prior to running this notebook:\n",
    "\n",
    "    pandas\n",
    "    numpy\n",
    "    scikit-learn\n",
    "    xgboost\n",
    "    joblib\n",
    "    \n",
    "\n",
    "Tuned models and scoring are saved using the following directory structure:\n",
    "\n",
    "    \n",
    "    /your_base_path/scoring/xgb/sppA_reg.sav\n",
    "    /your_base_path/scoring/rf/sppA_reg.sav\n",
    "    /your_base_path/scoring/rf/sppA_reg.sav\n",
    "\n",
    "    \n",
    "    /your_base_path/tuning/xgb/sppA_reg.sav\n"
   ]
  },
  {
   "cell_type": "code",
   "execution_count": 6,
   "metadata": {},
   "outputs": [],
   "source": [
    "# import required packages\n",
    "import pandas as pd\n",
    "import numpy as np\n",
    "from tune import tune \n",
    "from sklearn.preprocessing import MinMaxScaler\n",
    "from sklearn.datasets import make_regression\n",
    "\n",
    "from yaml import safe_load, load, dump\n",
    "try:\n",
    "    from yaml import CLoader as Loader, CDumper as Dumper\n",
    "except ImportError:\n",
    "    from yaml import Loader, Dumper   \n",
    "\n",
    "from functions import example_data"
   ]
  },
  {
   "cell_type": "code",
   "execution_count": 7,
   "metadata": {},
   "outputs": [],
   "source": [
    "# Setting up the model\n",
    "\n",
    "with open('/home/phyto/planktonSDM/model_config.yml', 'r') as f:\n",
    "    model_config = load(f, Loader=Loader)\n",
    "\n",
    "\n",
    "seed = 1 # random seed\n",
    "n_threads = 2 # how many cpu threads to use\n",
    "n_spp = 0 # which species to model\n",
    "path_out = \"/home/phyto/ModelOutput/test/\" #where to save model output\n",
    "\n",
    "X, y = example_data(y_name =  \"Coccolithus pelagicus\", n_samples=500, n_features=5, noise=20, random_state=seed)\n",
    "\n",
    "cv = 3\n",
    "verbose = 3"
   ]
  },
  {
   "cell_type": "code",
   "execution_count": 8,
   "metadata": {},
   "outputs": [
    {
     "name": "stdout",
     "output_type": "stream",
     "text": [
      "Fitting 3 folds for each of 54 candidates, totalling 162 fits\n",
      "[CV 1/3] END regressor__max_depth=3, regressor__max_features=2, regressor__max_samples=0.2, regressor__min_samples_leaf=0.2, regressor__n_estimators=100;, score=(train=-0.292, test=-0.250) total time=   0.4s\n",
      "[CV 2/3] END regressor__max_depth=3, regressor__max_features=2, regressor__max_samples=0.2, regressor__min_samples_leaf=0.2, regressor__n_estimators=100;, score=(train=-0.279, test=-0.281) total time=   0.4s\n",
      "[CV 3/3] END regressor__max_depth=3, regressor__max_features=2, regressor__max_samples=0.2, regressor__min_samples_leaf=0.2, regressor__n_estimators=100;, score=(train=-0.270, test=-0.312) total time=   0.4s\n",
      "[CV 1/3] END regressor__max_depth=3, regressor__max_features=2, regressor__max_samples=0.2, regressor__min_samples_leaf=0.5, regressor__n_estimators=100;, score=(train=-0.292, test=-0.250) total time=   0.4s\n",
      "[CV 2/3] END regressor__max_depth=3, regressor__max_features=2, regressor__max_samples=0.2, regressor__min_samples_leaf=0.5, regressor__n_estimators=100;, score=(train=-0.279, test=-0.281) total time=   0.3s\n",
      "[CV 3/3] END regressor__max_depth=3, regressor__max_features=2, regressor__max_samples=0.2, regressor__min_samples_leaf=0.5, regressor__n_estimators=100;, score=(train=-0.270, test=-0.312) total time=   0.4s\n",
      "[CV 1/3] END regressor__max_depth=3, regressor__max_features=2, regressor__max_samples=0.2, regressor__min_samples_leaf=0.8, regressor__n_estimators=100;, score=(train=-0.292, test=-0.250) total time=   0.3s\n",
      "[CV 2/3] END regressor__max_depth=3, regressor__max_features=2, regressor__max_samples=0.2, regressor__min_samples_leaf=0.8, regressor__n_estimators=100;, score=(train=-0.279, test=-0.281) total time=   0.3s\n",
      "[CV 3/3] END regressor__max_depth=3, regressor__max_features=2, regressor__max_samples=0.2, regressor__min_samples_leaf=0.8, regressor__n_estimators=100;, score=(train=-0.270, test=-0.312) total time=   0.3s\n",
      "[CV 1/3] END regressor__max_depth=3, regressor__max_features=2, regressor__max_samples=0.5, regressor__min_samples_leaf=0.2, regressor__n_estimators=100;, score=(train=-0.276, test=-0.233) total time=   0.4s\n",
      "[CV 2/3] END regressor__max_depth=3, regressor__max_features=2, regressor__max_samples=0.5, regressor__min_samples_leaf=0.2, regressor__n_estimators=100;, score=(train=-0.259, test=-0.267) total time=   0.3s\n",
      "[CV 3/3] END regressor__max_depth=3, regressor__max_features=2, regressor__max_samples=0.5, regressor__min_samples_leaf=0.2, regressor__n_estimators=100;, score=(train=-0.257, test=-0.294) total time=   0.3s\n",
      "[CV 1/3] END regressor__max_depth=3, regressor__max_features=2, regressor__max_samples=0.5, regressor__min_samples_leaf=0.5, regressor__n_estimators=100;, score=(train=-0.293, test=-0.250) total time=   0.4s\n",
      "[CV 2/3] END regressor__max_depth=3, regressor__max_features=2, regressor__max_samples=0.5, regressor__min_samples_leaf=0.5, regressor__n_estimators=100;, score=(train=-0.279, test=-0.281) total time=   0.4s\n",
      "[CV 3/3] END regressor__max_depth=3, regressor__max_features=2, regressor__max_samples=0.5, regressor__min_samples_leaf=0.5, regressor__n_estimators=100;, score=(train=-0.271, test=-0.313) total time=   0.4s\n",
      "[CV 1/3] END regressor__max_depth=3, regressor__max_features=2, regressor__max_samples=0.5, regressor__min_samples_leaf=0.8, regressor__n_estimators=100;, score=(train=-0.293, test=-0.250) total time=   0.4s\n",
      "[CV 2/3] END regressor__max_depth=3, regressor__max_features=2, regressor__max_samples=0.5, regressor__min_samples_leaf=0.8, regressor__n_estimators=100;, score=(train=-0.279, test=-0.281) total time=   0.4s\n",
      "[CV 3/3] END regressor__max_depth=3, regressor__max_features=2, regressor__max_samples=0.5, regressor__min_samples_leaf=0.8, regressor__n_estimators=100;, score=(train=-0.271, test=-0.313) total time=   0.4s\n",
      "[CV 1/3] END regressor__max_depth=3, regressor__max_features=2, regressor__max_samples=0.8, regressor__min_samples_leaf=0.2, regressor__n_estimators=100;, score=(train=-0.245, test=-0.210) total time=   0.4s\n",
      "[CV 2/3] END regressor__max_depth=3, regressor__max_features=2, regressor__max_samples=0.8, regressor__min_samples_leaf=0.2, regressor__n_estimators=100;, score=(train=-0.225, test=-0.240) total time=   0.4s\n",
      "[CV 3/3] END regressor__max_depth=3, regressor__max_features=2, regressor__max_samples=0.8, regressor__min_samples_leaf=0.2, regressor__n_estimators=100;, score=(train=-0.230, test=-0.267) total time=   0.4s\n",
      "[CV 1/3] END regressor__max_depth=3, regressor__max_features=2, regressor__max_samples=0.8, regressor__min_samples_leaf=0.5, regressor__n_estimators=100;, score=(train=-0.293, test=-0.250) total time=   0.4s\n",
      "[CV 2/3] END regressor__max_depth=3, regressor__max_features=2, regressor__max_samples=0.8, regressor__min_samples_leaf=0.5, regressor__n_estimators=100;, score=(train=-0.278, test=-0.280) total time=   0.4s\n",
      "[CV 3/3] END regressor__max_depth=3, regressor__max_features=2, regressor__max_samples=0.8, regressor__min_samples_leaf=0.5, regressor__n_estimators=100;, score=(train=-0.271, test=-0.313) total time=   0.3s\n",
      "[CV 1/3] END regressor__max_depth=3, regressor__max_features=2, regressor__max_samples=0.8, regressor__min_samples_leaf=0.8, regressor__n_estimators=100;, score=(train=-0.293, test=-0.250) total time=   0.4s\n",
      "[CV 2/3] END regressor__max_depth=3, regressor__max_features=2, regressor__max_samples=0.8, regressor__min_samples_leaf=0.8, regressor__n_estimators=100;, score=(train=-0.278, test=-0.280) total time=   0.4s\n",
      "[CV 3/3] END regressor__max_depth=3, regressor__max_features=2, regressor__max_samples=0.8, regressor__min_samples_leaf=0.8, regressor__n_estimators=100;, score=(train=-0.271, test=-0.313) total time=   0.4s\n",
      "[CV 1/3] END regressor__max_depth=3, regressor__max_features=3, regressor__max_samples=0.2, regressor__min_samples_leaf=0.2, regressor__n_estimators=100;, score=(train=-0.292, test=-0.250) total time=   0.4s\n",
      "[CV 2/3] END regressor__max_depth=3, regressor__max_features=3, regressor__max_samples=0.2, regressor__min_samples_leaf=0.2, regressor__n_estimators=100;, score=(train=-0.279, test=-0.281) total time=   0.4s\n",
      "[CV 3/3] END regressor__max_depth=3, regressor__max_features=3, regressor__max_samples=0.2, regressor__min_samples_leaf=0.2, regressor__n_estimators=100;, score=(train=-0.270, test=-0.312) total time=   0.4s\n",
      "[CV 1/3] END regressor__max_depth=3, regressor__max_features=3, regressor__max_samples=0.2, regressor__min_samples_leaf=0.5, regressor__n_estimators=100;, score=(train=-0.292, test=-0.250) total time=   0.3s\n",
      "[CV 2/3] END regressor__max_depth=3, regressor__max_features=3, regressor__max_samples=0.2, regressor__min_samples_leaf=0.5, regressor__n_estimators=100;, score=(train=-0.279, test=-0.281) total time=   0.3s\n",
      "[CV 3/3] END regressor__max_depth=3, regressor__max_features=3, regressor__max_samples=0.2, regressor__min_samples_leaf=0.5, regressor__n_estimators=100;, score=(train=-0.270, test=-0.312) total time=   0.3s\n",
      "[CV 1/3] END regressor__max_depth=3, regressor__max_features=3, regressor__max_samples=0.2, regressor__min_samples_leaf=0.8, regressor__n_estimators=100;, score=(train=-0.292, test=-0.250) total time=   0.4s\n",
      "[CV 2/3] END regressor__max_depth=3, regressor__max_features=3, regressor__max_samples=0.2, regressor__min_samples_leaf=0.8, regressor__n_estimators=100;, score=(train=-0.279, test=-0.281) total time=   0.4s\n",
      "[CV 3/3] END regressor__max_depth=3, regressor__max_features=3, regressor__max_samples=0.2, regressor__min_samples_leaf=0.8, regressor__n_estimators=100;, score=(train=-0.270, test=-0.312) total time=   0.4s\n",
      "[CV 1/3] END regressor__max_depth=3, regressor__max_features=3, regressor__max_samples=0.5, regressor__min_samples_leaf=0.2, regressor__n_estimators=100;, score=(train=-0.271, test=-0.229) total time=   0.4s\n",
      "[CV 2/3] END regressor__max_depth=3, regressor__max_features=3, regressor__max_samples=0.5, regressor__min_samples_leaf=0.2, regressor__n_estimators=100;, score=(train=-0.253, test=-0.265) total time=   0.4s\n",
      "[CV 3/3] END regressor__max_depth=3, regressor__max_features=3, regressor__max_samples=0.5, regressor__min_samples_leaf=0.2, regressor__n_estimators=100;, score=(train=-0.254, test=-0.288) total time=   0.4s\n",
      "[CV 1/3] END regressor__max_depth=3, regressor__max_features=3, regressor__max_samples=0.5, regressor__min_samples_leaf=0.5, regressor__n_estimators=100;, score=(train=-0.293, test=-0.250) total time=   0.4s\n",
      "[CV 2/3] END regressor__max_depth=3, regressor__max_features=3, regressor__max_samples=0.5, regressor__min_samples_leaf=0.5, regressor__n_estimators=100;, score=(train=-0.279, test=-0.281) total time=   0.4s\n",
      "[CV 3/3] END regressor__max_depth=3, regressor__max_features=3, regressor__max_samples=0.5, regressor__min_samples_leaf=0.5, regressor__n_estimators=100;, score=(train=-0.271, test=-0.313) total time=   0.3s\n",
      "[CV 1/3] END regressor__max_depth=3, regressor__max_features=3, regressor__max_samples=0.5, regressor__min_samples_leaf=0.8, regressor__n_estimators=100;, score=(train=-0.293, test=-0.250) total time=   0.4s\n",
      "[CV 2/3] END regressor__max_depth=3, regressor__max_features=3, regressor__max_samples=0.5, regressor__min_samples_leaf=0.8, regressor__n_estimators=100;, score=(train=-0.279, test=-0.281) total time=   0.4s\n",
      "[CV 3/3] END regressor__max_depth=3, regressor__max_features=3, regressor__max_samples=0.5, regressor__min_samples_leaf=0.8, regressor__n_estimators=100;, score=(train=-0.271, test=-0.313) total time=   0.3s\n",
      "[CV 1/3] END regressor__max_depth=3, regressor__max_features=3, regressor__max_samples=0.8, regressor__min_samples_leaf=0.2, regressor__n_estimators=100;, score=(train=-0.239, test=-0.209) total time=   0.3s\n",
      "[CV 2/3] END regressor__max_depth=3, regressor__max_features=3, regressor__max_samples=0.8, regressor__min_samples_leaf=0.2, regressor__n_estimators=100;, score=(train=-0.221, test=-0.240) total time=   0.3s\n",
      "[CV 3/3] END regressor__max_depth=3, regressor__max_features=3, regressor__max_samples=0.8, regressor__min_samples_leaf=0.2, regressor__n_estimators=100;, score=(train=-0.226, test=-0.256) total time=   0.3s\n",
      "[CV 1/3] END regressor__max_depth=3, regressor__max_features=3, regressor__max_samples=0.8, regressor__min_samples_leaf=0.5, regressor__n_estimators=100;, score=(train=-0.293, test=-0.250) total time=   0.3s\n",
      "[CV 2/3] END regressor__max_depth=3, regressor__max_features=3, regressor__max_samples=0.8, regressor__min_samples_leaf=0.5, regressor__n_estimators=100;, score=(train=-0.278, test=-0.280) total time=   0.3s\n",
      "[CV 3/3] END regressor__max_depth=3, regressor__max_features=3, regressor__max_samples=0.8, regressor__min_samples_leaf=0.5, regressor__n_estimators=100;, score=(train=-0.271, test=-0.313) total time=   0.3s\n",
      "[CV 1/3] END regressor__max_depth=3, regressor__max_features=3, regressor__max_samples=0.8, regressor__min_samples_leaf=0.8, regressor__n_estimators=100;, score=(train=-0.293, test=-0.250) total time=   0.3s\n",
      "[CV 2/3] END regressor__max_depth=3, regressor__max_features=3, regressor__max_samples=0.8, regressor__min_samples_leaf=0.8, regressor__n_estimators=100;, score=(train=-0.278, test=-0.280) total time=   0.3s\n",
      "[CV 3/3] END regressor__max_depth=3, regressor__max_features=3, regressor__max_samples=0.8, regressor__min_samples_leaf=0.8, regressor__n_estimators=100;, score=(train=-0.271, test=-0.313) total time=   0.3s\n",
      "[CV 1/3] END regressor__max_depth=3, regressor__max_features=4, regressor__max_samples=0.2, regressor__min_samples_leaf=0.2, regressor__n_estimators=100;, score=(train=-0.292, test=-0.250) total time=   0.3s\n",
      "[CV 2/3] END regressor__max_depth=3, regressor__max_features=4, regressor__max_samples=0.2, regressor__min_samples_leaf=0.2, regressor__n_estimators=100;, score=(train=-0.279, test=-0.281) total time=   0.3s\n",
      "[CV 3/3] END regressor__max_depth=3, regressor__max_features=4, regressor__max_samples=0.2, regressor__min_samples_leaf=0.2, regressor__n_estimators=100;, score=(train=-0.270, test=-0.312) total time=   0.3s\n",
      "[CV 1/3] END regressor__max_depth=3, regressor__max_features=4, regressor__max_samples=0.2, regressor__min_samples_leaf=0.5, regressor__n_estimators=100;, score=(train=-0.292, test=-0.250) total time=   0.4s\n",
      "[CV 2/3] END regressor__max_depth=3, regressor__max_features=4, regressor__max_samples=0.2, regressor__min_samples_leaf=0.5, regressor__n_estimators=100;, score=(train=-0.279, test=-0.281) total time=   0.4s\n",
      "[CV 3/3] END regressor__max_depth=3, regressor__max_features=4, regressor__max_samples=0.2, regressor__min_samples_leaf=0.5, regressor__n_estimators=100;, score=(train=-0.270, test=-0.312) total time=   0.3s\n",
      "[CV 1/3] END regressor__max_depth=3, regressor__max_features=4, regressor__max_samples=0.2, regressor__min_samples_leaf=0.8, regressor__n_estimators=100;, score=(train=-0.292, test=-0.250) total time=   0.3s\n",
      "[CV 2/3] END regressor__max_depth=3, regressor__max_features=4, regressor__max_samples=0.2, regressor__min_samples_leaf=0.8, regressor__n_estimators=100;, score=(train=-0.279, test=-0.281) total time=   0.4s\n",
      "[CV 3/3] END regressor__max_depth=3, regressor__max_features=4, regressor__max_samples=0.2, regressor__min_samples_leaf=0.8, regressor__n_estimators=100;, score=(train=-0.270, test=-0.312) total time=   0.3s\n",
      "[CV 1/3] END regressor__max_depth=3, regressor__max_features=4, regressor__max_samples=0.5, regressor__min_samples_leaf=0.2, regressor__n_estimators=100;, score=(train=-0.267, test=-0.226) total time=   0.3s\n",
      "[CV 2/3] END regressor__max_depth=3, regressor__max_features=4, regressor__max_samples=0.5, regressor__min_samples_leaf=0.2, regressor__n_estimators=100;, score=(train=-0.250, test=-0.263) total time=   0.3s\n",
      "[CV 3/3] END regressor__max_depth=3, regressor__max_features=4, regressor__max_samples=0.5, regressor__min_samples_leaf=0.2, regressor__n_estimators=100;, score=(train=-0.252, test=-0.284) total time=   0.3s\n",
      "[CV 1/3] END regressor__max_depth=3, regressor__max_features=4, regressor__max_samples=0.5, regressor__min_samples_leaf=0.5, regressor__n_estimators=100;, score=(train=-0.293, test=-0.250) total time=   0.3s\n",
      "[CV 2/3] END regressor__max_depth=3, regressor__max_features=4, regressor__max_samples=0.5, regressor__min_samples_leaf=0.5, regressor__n_estimators=100;, score=(train=-0.279, test=-0.281) total time=   0.3s\n",
      "[CV 3/3] END regressor__max_depth=3, regressor__max_features=4, regressor__max_samples=0.5, regressor__min_samples_leaf=0.5, regressor__n_estimators=100;, score=(train=-0.271, test=-0.313) total time=   0.3s\n",
      "[CV 1/3] END regressor__max_depth=3, regressor__max_features=4, regressor__max_samples=0.5, regressor__min_samples_leaf=0.8, regressor__n_estimators=100;, score=(train=-0.293, test=-0.250) total time=   0.3s\n",
      "[CV 2/3] END regressor__max_depth=3, regressor__max_features=4, regressor__max_samples=0.5, regressor__min_samples_leaf=0.8, regressor__n_estimators=100;, score=(train=-0.279, test=-0.281) total time=   0.3s\n",
      "[CV 3/3] END regressor__max_depth=3, regressor__max_features=4, regressor__max_samples=0.5, regressor__min_samples_leaf=0.8, regressor__n_estimators=100;, score=(train=-0.271, test=-0.313) total time=   0.3s\n",
      "[CV 1/3] END regressor__max_depth=3, regressor__max_features=4, regressor__max_samples=0.8, regressor__min_samples_leaf=0.2, regressor__n_estimators=100;, score=(train=-0.238, test=-0.212) total time=   0.3s\n",
      "[CV 2/3] END regressor__max_depth=3, regressor__max_features=4, regressor__max_samples=0.8, regressor__min_samples_leaf=0.2, regressor__n_estimators=100;, score=(train=-0.222, test=-0.243) total time=   0.3s\n",
      "[CV 3/3] END regressor__max_depth=3, regressor__max_features=4, regressor__max_samples=0.8, regressor__min_samples_leaf=0.2, regressor__n_estimators=100;, score=(train=-0.226, test=-0.249) total time=   0.3s\n",
      "[CV 1/3] END regressor__max_depth=3, regressor__max_features=4, regressor__max_samples=0.8, regressor__min_samples_leaf=0.5, regressor__n_estimators=100;, score=(train=-0.293, test=-0.250) total time=   0.3s\n",
      "[CV 2/3] END regressor__max_depth=3, regressor__max_features=4, regressor__max_samples=0.8, regressor__min_samples_leaf=0.5, regressor__n_estimators=100;, score=(train=-0.278, test=-0.280) total time=   0.3s\n",
      "[CV 3/3] END regressor__max_depth=3, regressor__max_features=4, regressor__max_samples=0.8, regressor__min_samples_leaf=0.5, regressor__n_estimators=100;, score=(train=-0.271, test=-0.313) total time=   0.3s\n",
      "[CV 1/3] END regressor__max_depth=3, regressor__max_features=4, regressor__max_samples=0.8, regressor__min_samples_leaf=0.8, regressor__n_estimators=100;, score=(train=-0.293, test=-0.250) total time=   0.3s\n",
      "[CV 2/3] END regressor__max_depth=3, regressor__max_features=4, regressor__max_samples=0.8, regressor__min_samples_leaf=0.8, regressor__n_estimators=100;, score=(train=-0.278, test=-0.280) total time=   0.3s\n",
      "[CV 3/3] END regressor__max_depth=3, regressor__max_features=4, regressor__max_samples=0.8, regressor__min_samples_leaf=0.8, regressor__n_estimators=100;, score=(train=-0.271, test=-0.313) total time=   0.3s\n",
      "[CV 1/3] END regressor__max_depth=5, regressor__max_features=2, regressor__max_samples=0.2, regressor__min_samples_leaf=0.2, regressor__n_estimators=100;, score=(train=-0.292, test=-0.250) total time=   0.3s\n",
      "[CV 2/3] END regressor__max_depth=5, regressor__max_features=2, regressor__max_samples=0.2, regressor__min_samples_leaf=0.2, regressor__n_estimators=100;, score=(train=-0.279, test=-0.281) total time=   0.3s\n",
      "[CV 3/3] END regressor__max_depth=5, regressor__max_features=2, regressor__max_samples=0.2, regressor__min_samples_leaf=0.2, regressor__n_estimators=100;, score=(train=-0.270, test=-0.312) total time=   0.3s\n",
      "[CV 1/3] END regressor__max_depth=5, regressor__max_features=2, regressor__max_samples=0.2, regressor__min_samples_leaf=0.5, regressor__n_estimators=100;, score=(train=-0.292, test=-0.250) total time=   0.3s\n",
      "[CV 2/3] END regressor__max_depth=5, regressor__max_features=2, regressor__max_samples=0.2, regressor__min_samples_leaf=0.5, regressor__n_estimators=100;, score=(train=-0.279, test=-0.281) total time=   0.3s\n",
      "[CV 3/3] END regressor__max_depth=5, regressor__max_features=2, regressor__max_samples=0.2, regressor__min_samples_leaf=0.5, regressor__n_estimators=100;, score=(train=-0.270, test=-0.312) total time=   0.3s\n",
      "[CV 1/3] END regressor__max_depth=5, regressor__max_features=2, regressor__max_samples=0.2, regressor__min_samples_leaf=0.8, regressor__n_estimators=100;, score=(train=-0.292, test=-0.250) total time=   0.3s\n",
      "[CV 2/3] END regressor__max_depth=5, regressor__max_features=2, regressor__max_samples=0.2, regressor__min_samples_leaf=0.8, regressor__n_estimators=100;, score=(train=-0.279, test=-0.281) total time=   0.3s\n",
      "[CV 3/3] END regressor__max_depth=5, regressor__max_features=2, regressor__max_samples=0.2, regressor__min_samples_leaf=0.8, regressor__n_estimators=100;, score=(train=-0.270, test=-0.312) total time=   0.3s\n",
      "[CV 1/3] END regressor__max_depth=5, regressor__max_features=2, regressor__max_samples=0.5, regressor__min_samples_leaf=0.2, regressor__n_estimators=100;, score=(train=-0.276, test=-0.233) total time=   0.3s\n",
      "[CV 2/3] END regressor__max_depth=5, regressor__max_features=2, regressor__max_samples=0.5, regressor__min_samples_leaf=0.2, regressor__n_estimators=100;, score=(train=-0.259, test=-0.267) total time=   0.3s\n",
      "[CV 3/3] END regressor__max_depth=5, regressor__max_features=2, regressor__max_samples=0.5, regressor__min_samples_leaf=0.2, regressor__n_estimators=100;, score=(train=-0.257, test=-0.294) total time=   0.3s\n",
      "[CV 1/3] END regressor__max_depth=5, regressor__max_features=2, regressor__max_samples=0.5, regressor__min_samples_leaf=0.5, regressor__n_estimators=100;, score=(train=-0.293, test=-0.250) total time=   0.3s\n",
      "[CV 2/3] END regressor__max_depth=5, regressor__max_features=2, regressor__max_samples=0.5, regressor__min_samples_leaf=0.5, regressor__n_estimators=100;, score=(train=-0.279, test=-0.281) total time=   0.3s\n",
      "[CV 3/3] END regressor__max_depth=5, regressor__max_features=2, regressor__max_samples=0.5, regressor__min_samples_leaf=0.5, regressor__n_estimators=100;, score=(train=-0.271, test=-0.313) total time=   0.3s\n",
      "[CV 1/3] END regressor__max_depth=5, regressor__max_features=2, regressor__max_samples=0.5, regressor__min_samples_leaf=0.8, regressor__n_estimators=100;, score=(train=-0.293, test=-0.250) total time=   0.3s\n",
      "[CV 2/3] END regressor__max_depth=5, regressor__max_features=2, regressor__max_samples=0.5, regressor__min_samples_leaf=0.8, regressor__n_estimators=100;, score=(train=-0.279, test=-0.281) total time=   0.3s\n",
      "[CV 3/3] END regressor__max_depth=5, regressor__max_features=2, regressor__max_samples=0.5, regressor__min_samples_leaf=0.8, regressor__n_estimators=100;, score=(train=-0.271, test=-0.313) total time=   0.3s\n",
      "[CV 1/3] END regressor__max_depth=5, regressor__max_features=2, regressor__max_samples=0.8, regressor__min_samples_leaf=0.2, regressor__n_estimators=100;, score=(train=-0.245, test=-0.210) total time=   0.3s\n",
      "[CV 2/3] END regressor__max_depth=5, regressor__max_features=2, regressor__max_samples=0.8, regressor__min_samples_leaf=0.2, regressor__n_estimators=100;, score=(train=-0.225, test=-0.240) total time=   0.3s\n",
      "[CV 3/3] END regressor__max_depth=5, regressor__max_features=2, regressor__max_samples=0.8, regressor__min_samples_leaf=0.2, regressor__n_estimators=100;, score=(train=-0.230, test=-0.267) total time=   0.3s\n",
      "[CV 1/3] END regressor__max_depth=5, regressor__max_features=2, regressor__max_samples=0.8, regressor__min_samples_leaf=0.5, regressor__n_estimators=100;, score=(train=-0.293, test=-0.250) total time=   0.3s\n",
      "[CV 2/3] END regressor__max_depth=5, regressor__max_features=2, regressor__max_samples=0.8, regressor__min_samples_leaf=0.5, regressor__n_estimators=100;, score=(train=-0.278, test=-0.280) total time=   0.3s\n",
      "[CV 3/3] END regressor__max_depth=5, regressor__max_features=2, regressor__max_samples=0.8, regressor__min_samples_leaf=0.5, regressor__n_estimators=100;, score=(train=-0.271, test=-0.313) total time=   0.3s\n",
      "[CV 1/3] END regressor__max_depth=5, regressor__max_features=2, regressor__max_samples=0.8, regressor__min_samples_leaf=0.8, regressor__n_estimators=100;, score=(train=-0.293, test=-0.250) total time=   0.3s\n",
      "[CV 2/3] END regressor__max_depth=5, regressor__max_features=2, regressor__max_samples=0.8, regressor__min_samples_leaf=0.8, regressor__n_estimators=100;, score=(train=-0.278, test=-0.280) total time=   0.3s\n",
      "[CV 3/3] END regressor__max_depth=5, regressor__max_features=2, regressor__max_samples=0.8, regressor__min_samples_leaf=0.8, regressor__n_estimators=100;, score=(train=-0.271, test=-0.313) total time=   0.3s\n",
      "[CV 1/3] END regressor__max_depth=5, regressor__max_features=3, regressor__max_samples=0.2, regressor__min_samples_leaf=0.2, regressor__n_estimators=100;, score=(train=-0.292, test=-0.250) total time=   0.3s\n",
      "[CV 2/3] END regressor__max_depth=5, regressor__max_features=3, regressor__max_samples=0.2, regressor__min_samples_leaf=0.2, regressor__n_estimators=100;, score=(train=-0.279, test=-0.281) total time=   0.3s\n",
      "[CV 3/3] END regressor__max_depth=5, regressor__max_features=3, regressor__max_samples=0.2, regressor__min_samples_leaf=0.2, regressor__n_estimators=100;, score=(train=-0.270, test=-0.312) total time=   0.3s\n",
      "[CV 1/3] END regressor__max_depth=5, regressor__max_features=3, regressor__max_samples=0.2, regressor__min_samples_leaf=0.5, regressor__n_estimators=100;, score=(train=-0.292, test=-0.250) total time=   0.3s\n",
      "[CV 2/3] END regressor__max_depth=5, regressor__max_features=3, regressor__max_samples=0.2, regressor__min_samples_leaf=0.5, regressor__n_estimators=100;, score=(train=-0.279, test=-0.281) total time=   0.3s\n",
      "[CV 3/3] END regressor__max_depth=5, regressor__max_features=3, regressor__max_samples=0.2, regressor__min_samples_leaf=0.5, regressor__n_estimators=100;, score=(train=-0.270, test=-0.312) total time=   0.3s\n",
      "[CV 1/3] END regressor__max_depth=5, regressor__max_features=3, regressor__max_samples=0.2, regressor__min_samples_leaf=0.8, regressor__n_estimators=100;, score=(train=-0.292, test=-0.250) total time=   0.3s\n",
      "[CV 2/3] END regressor__max_depth=5, regressor__max_features=3, regressor__max_samples=0.2, regressor__min_samples_leaf=0.8, regressor__n_estimators=100;, score=(train=-0.279, test=-0.281) total time=   0.3s\n",
      "[CV 3/3] END regressor__max_depth=5, regressor__max_features=3, regressor__max_samples=0.2, regressor__min_samples_leaf=0.8, regressor__n_estimators=100;, score=(train=-0.270, test=-0.312) total time=   0.3s\n",
      "[CV 1/3] END regressor__max_depth=5, regressor__max_features=3, regressor__max_samples=0.5, regressor__min_samples_leaf=0.2, regressor__n_estimators=100;, score=(train=-0.271, test=-0.229) total time=   0.3s\n",
      "[CV 2/3] END regressor__max_depth=5, regressor__max_features=3, regressor__max_samples=0.5, regressor__min_samples_leaf=0.2, regressor__n_estimators=100;, score=(train=-0.253, test=-0.265) total time=   0.3s\n",
      "[CV 3/3] END regressor__max_depth=5, regressor__max_features=3, regressor__max_samples=0.5, regressor__min_samples_leaf=0.2, regressor__n_estimators=100;, score=(train=-0.254, test=-0.288) total time=   0.3s\n",
      "[CV 1/3] END regressor__max_depth=5, regressor__max_features=3, regressor__max_samples=0.5, regressor__min_samples_leaf=0.5, regressor__n_estimators=100;, score=(train=-0.293, test=-0.250) total time=   0.3s\n",
      "[CV 2/3] END regressor__max_depth=5, regressor__max_features=3, regressor__max_samples=0.5, regressor__min_samples_leaf=0.5, regressor__n_estimators=100;, score=(train=-0.279, test=-0.281) total time=   0.3s\n",
      "[CV 3/3] END regressor__max_depth=5, regressor__max_features=3, regressor__max_samples=0.5, regressor__min_samples_leaf=0.5, regressor__n_estimators=100;, score=(train=-0.271, test=-0.313) total time=   0.3s\n",
      "[CV 1/3] END regressor__max_depth=5, regressor__max_features=3, regressor__max_samples=0.5, regressor__min_samples_leaf=0.8, regressor__n_estimators=100;, score=(train=-0.293, test=-0.250) total time=   0.3s\n",
      "[CV 2/3] END regressor__max_depth=5, regressor__max_features=3, regressor__max_samples=0.5, regressor__min_samples_leaf=0.8, regressor__n_estimators=100;, score=(train=-0.279, test=-0.281) total time=   0.3s\n",
      "[CV 3/3] END regressor__max_depth=5, regressor__max_features=3, regressor__max_samples=0.5, regressor__min_samples_leaf=0.8, regressor__n_estimators=100;, score=(train=-0.271, test=-0.313) total time=   0.3s\n",
      "[CV 1/3] END regressor__max_depth=5, regressor__max_features=3, regressor__max_samples=0.8, regressor__min_samples_leaf=0.2, regressor__n_estimators=100;, score=(train=-0.239, test=-0.209) total time=   0.3s\n",
      "[CV 2/3] END regressor__max_depth=5, regressor__max_features=3, regressor__max_samples=0.8, regressor__min_samples_leaf=0.2, regressor__n_estimators=100;, score=(train=-0.221, test=-0.240) total time=   0.3s\n",
      "[CV 3/3] END regressor__max_depth=5, regressor__max_features=3, regressor__max_samples=0.8, regressor__min_samples_leaf=0.2, regressor__n_estimators=100;, score=(train=-0.226, test=-0.256) total time=   0.3s\n",
      "[CV 1/3] END regressor__max_depth=5, regressor__max_features=3, regressor__max_samples=0.8, regressor__min_samples_leaf=0.5, regressor__n_estimators=100;, score=(train=-0.293, test=-0.250) total time=   0.3s\n",
      "[CV 2/3] END regressor__max_depth=5, regressor__max_features=3, regressor__max_samples=0.8, regressor__min_samples_leaf=0.5, regressor__n_estimators=100;, score=(train=-0.278, test=-0.280) total time=   0.3s\n",
      "[CV 3/3] END regressor__max_depth=5, regressor__max_features=3, regressor__max_samples=0.8, regressor__min_samples_leaf=0.5, regressor__n_estimators=100;, score=(train=-0.271, test=-0.313) total time=   0.3s\n",
      "[CV 1/3] END regressor__max_depth=5, regressor__max_features=3, regressor__max_samples=0.8, regressor__min_samples_leaf=0.8, regressor__n_estimators=100;, score=(train=-0.293, test=-0.250) total time=   0.3s\n",
      "[CV 2/3] END regressor__max_depth=5, regressor__max_features=3, regressor__max_samples=0.8, regressor__min_samples_leaf=0.8, regressor__n_estimators=100;, score=(train=-0.278, test=-0.280) total time=   0.3s\n",
      "[CV 3/3] END regressor__max_depth=5, regressor__max_features=3, regressor__max_samples=0.8, regressor__min_samples_leaf=0.8, regressor__n_estimators=100;, score=(train=-0.271, test=-0.313) total time=   0.3s\n",
      "[CV 1/3] END regressor__max_depth=5, regressor__max_features=4, regressor__max_samples=0.2, regressor__min_samples_leaf=0.2, regressor__n_estimators=100;, score=(train=-0.292, test=-0.250) total time=   0.3s\n",
      "[CV 2/3] END regressor__max_depth=5, regressor__max_features=4, regressor__max_samples=0.2, regressor__min_samples_leaf=0.2, regressor__n_estimators=100;, score=(train=-0.279, test=-0.281) total time=   0.3s\n",
      "[CV 3/3] END regressor__max_depth=5, regressor__max_features=4, regressor__max_samples=0.2, regressor__min_samples_leaf=0.2, regressor__n_estimators=100;, score=(train=-0.270, test=-0.312) total time=   0.3s\n",
      "[CV 1/3] END regressor__max_depth=5, regressor__max_features=4, regressor__max_samples=0.2, regressor__min_samples_leaf=0.5, regressor__n_estimators=100;, score=(train=-0.292, test=-0.250) total time=   0.3s\n",
      "[CV 2/3] END regressor__max_depth=5, regressor__max_features=4, regressor__max_samples=0.2, regressor__min_samples_leaf=0.5, regressor__n_estimators=100;, score=(train=-0.279, test=-0.281) total time=   0.3s\n",
      "[CV 3/3] END regressor__max_depth=5, regressor__max_features=4, regressor__max_samples=0.2, regressor__min_samples_leaf=0.5, regressor__n_estimators=100;, score=(train=-0.270, test=-0.312) total time=   0.3s\n",
      "[CV 1/3] END regressor__max_depth=5, regressor__max_features=4, regressor__max_samples=0.2, regressor__min_samples_leaf=0.8, regressor__n_estimators=100;, score=(train=-0.292, test=-0.250) total time=   0.3s\n",
      "[CV 2/3] END regressor__max_depth=5, regressor__max_features=4, regressor__max_samples=0.2, regressor__min_samples_leaf=0.8, regressor__n_estimators=100;, score=(train=-0.279, test=-0.281) total time=   0.3s\n",
      "[CV 3/3] END regressor__max_depth=5, regressor__max_features=4, regressor__max_samples=0.2, regressor__min_samples_leaf=0.8, regressor__n_estimators=100;, score=(train=-0.270, test=-0.312) total time=   0.3s\n",
      "[CV 1/3] END regressor__max_depth=5, regressor__max_features=4, regressor__max_samples=0.5, regressor__min_samples_leaf=0.2, regressor__n_estimators=100;, score=(train=-0.267, test=-0.226) total time=   0.3s\n",
      "[CV 2/3] END regressor__max_depth=5, regressor__max_features=4, regressor__max_samples=0.5, regressor__min_samples_leaf=0.2, regressor__n_estimators=100;, score=(train=-0.250, test=-0.263) total time=   0.3s\n",
      "[CV 3/3] END regressor__max_depth=5, regressor__max_features=4, regressor__max_samples=0.5, regressor__min_samples_leaf=0.2, regressor__n_estimators=100;, score=(train=-0.252, test=-0.284) total time=   0.3s\n",
      "[CV 1/3] END regressor__max_depth=5, regressor__max_features=4, regressor__max_samples=0.5, regressor__min_samples_leaf=0.5, regressor__n_estimators=100;, score=(train=-0.293, test=-0.250) total time=   0.3s\n",
      "[CV 2/3] END regressor__max_depth=5, regressor__max_features=4, regressor__max_samples=0.5, regressor__min_samples_leaf=0.5, regressor__n_estimators=100;, score=(train=-0.279, test=-0.281) total time=   0.3s\n",
      "[CV 1/3] END regressor__max_depth=5, regressor__max_features=4, regressor__max_samples=0.5, regressor__min_samples_leaf=0.8, regressor__n_estimators=100;, score=(train=-0.293, test=-0.250) total time=   0.3s\n",
      "[CV 3/3] END regressor__max_depth=5, regressor__max_features=4, regressor__max_samples=0.5, regressor__min_samples_leaf=0.5, regressor__n_estimators=100;, score=(train=-0.271, test=-0.313) total time=   0.3s\n",
      "[CV 2/3] END regressor__max_depth=5, regressor__max_features=4, regressor__max_samples=0.5, regressor__min_samples_leaf=0.8, regressor__n_estimators=100;, score=(train=-0.279, test=-0.281) total time=   0.3s\n",
      "[CV 3/3] END regressor__max_depth=5, regressor__max_features=4, regressor__max_samples=0.5, regressor__min_samples_leaf=0.8, regressor__n_estimators=100;, score=(train=-0.271, test=-0.313) total time=   0.3s\n",
      "[CV 1/3] END regressor__max_depth=5, regressor__max_features=4, regressor__max_samples=0.8, regressor__min_samples_leaf=0.2, regressor__n_estimators=100;, score=(train=-0.238, test=-0.212) total time=   0.4s\n",
      "[CV 2/3] END regressor__max_depth=5, regressor__max_features=4, regressor__max_samples=0.8, regressor__min_samples_leaf=0.2, regressor__n_estimators=100;, score=(train=-0.222, test=-0.243) total time=   0.4s\n",
      "[CV 3/3] END regressor__max_depth=5, regressor__max_features=4, regressor__max_samples=0.8, regressor__min_samples_leaf=0.2, regressor__n_estimators=100;, score=(train=-0.226, test=-0.249) total time=   0.3s\n",
      "[CV 1/3] END regressor__max_depth=5, regressor__max_features=4, regressor__max_samples=0.8, regressor__min_samples_leaf=0.5, regressor__n_estimators=100;, score=(train=-0.293, test=-0.250) total time=   0.3s\n",
      "[CV 2/3] END regressor__max_depth=5, regressor__max_features=4, regressor__max_samples=0.8, regressor__min_samples_leaf=0.5, regressor__n_estimators=100;, score=(train=-0.278, test=-0.280) total time=   0.3s\n",
      "[CV 3/3] END regressor__max_depth=5, regressor__max_features=4, regressor__max_samples=0.8, regressor__min_samples_leaf=0.5, regressor__n_estimators=100;, score=(train=-0.271, test=-0.313) total time=   0.3s\n",
      "[CV 1/3] END regressor__max_depth=5, regressor__max_features=4, regressor__max_samples=0.8, regressor__min_samples_leaf=0.8, regressor__n_estimators=100;, score=(train=-0.293, test=-0.250) total time=   0.3s\n",
      "[CV 2/3] END regressor__max_depth=5, regressor__max_features=4, regressor__max_samples=0.8, regressor__min_samples_leaf=0.8, regressor__n_estimators=100;, score=(train=-0.278, test=-0.280) total time=   0.3s\n",
      "[CV 3/3] END regressor__max_depth=5, regressor__max_features=4, regressor__max_samples=0.8, regressor__min_samples_leaf=0.8, regressor__n_estimators=100;, score=(train=-0.271, test=-0.313) total time=   0.3s\n"
     ]
    },
    {
     "name": "stderr",
     "output_type": "stream",
     "text": [
      "[Parallel(n_jobs=2)]: Using backend MultiprocessingBackend with 2 concurrent workers.\n"
     ]
    },
    {
     "name": "stdout",
     "output_type": "stream",
     "text": [
      "[CV] END  MAE: (test=-0.243) R2: (test=0.293) RMSE: (test=-0.307) total time=   0.3s[CV] END  MAE: (test=-0.212) R2: (test=0.356) RMSE: (test=-0.270) total time=   0.3s\n",
      "\n",
      "[CV] END  MAE: (test=-0.249) R2: (test=0.357) RMSE: (test=-0.308) total time=   0.3s\n",
      "finished tuning model\n",
      "reg rRMSE: 43%\n",
      "reg rMAE: 34%\n",
      "reg R2: 0.34\n",
      "execution time: 30.50816535949707 seconds\n"
     ]
    },
    {
     "name": "stderr",
     "output_type": "stream",
     "text": [
      "[Parallel(n_jobs=2)]: Done   3 out of   3 | elapsed:    0.7s finished\n"
     ]
    }
   ],
   "source": [
    "'''\n",
    "1-phase Random forest \n",
    "'''\n",
    "reg_scoring = model_config['reg_scoring']\n",
    "reg_param_grid = model_config['rf_param_grid']['reg_param_grid']\n",
    "\n",
    "m = tune(X, y, seed, n_threads, verbose, cv, path_out)\n",
    "m.XGB(reg_scoring, reg_param_grid, cv=cv, model=\"rf\", zir=False, log=\"yes\")"
   ]
  },
  {
   "cell_type": "code",
   "execution_count": 9,
   "metadata": {},
   "outputs": [
    {
     "name": "stdout",
     "output_type": "stream",
     "text": [
      "Fitting 3 folds for each of 54 candidates, totalling 162 fits\n",
      "[CV 1/3] END regressor__max_depth=3, regressor__max_features=2, regressor__max_samples=0.2, regressor__min_samples_leaf=0.2, regressor__n_estimators=100;, score=(train=-0.292, test=-0.250) total time=   0.3s[CV 2/3] END regressor__max_depth=3, regressor__max_features=2, regressor__max_samples=0.2, regressor__min_samples_leaf=0.2, regressor__n_estimators=100;, score=(train=-0.279, test=-0.281) total time=   0.3s\n",
      "\n",
      "[CV 3/3] END regressor__max_depth=3, regressor__max_features=2, regressor__max_samples=0.2, regressor__min_samples_leaf=0.2, regressor__n_estimators=100;, score=(train=-0.270, test=-0.312) total time=   0.3s\n",
      "[CV 1/3] END regressor__max_depth=3, regressor__max_features=2, regressor__max_samples=0.2, regressor__min_samples_leaf=0.5, regressor__n_estimators=100;, score=(train=-0.292, test=-0.250) total time=   0.3s\n",
      "[CV 2/3] END regressor__max_depth=3, regressor__max_features=2, regressor__max_samples=0.2, regressor__min_samples_leaf=0.5, regressor__n_estimators=100;, score=(train=-0.279, test=-0.281) total time=   0.3s\n",
      "[CV 3/3] END regressor__max_depth=3, regressor__max_features=2, regressor__max_samples=0.2, regressor__min_samples_leaf=0.5, regressor__n_estimators=100;, score=(train=-0.270, test=-0.312) total time=   0.3s\n",
      "[CV 1/3] END regressor__max_depth=3, regressor__max_features=2, regressor__max_samples=0.2, regressor__min_samples_leaf=0.8, regressor__n_estimators=100;, score=(train=-0.292, test=-0.250) total time=   0.3s\n",
      "[CV 2/3] END regressor__max_depth=3, regressor__max_features=2, regressor__max_samples=0.2, regressor__min_samples_leaf=0.8, regressor__n_estimators=100;, score=(train=-0.279, test=-0.281) total time=   0.3s\n",
      "[CV 3/3] END regressor__max_depth=3, regressor__max_features=2, regressor__max_samples=0.2, regressor__min_samples_leaf=0.8, regressor__n_estimators=100;, score=(train=-0.270, test=-0.312) total time=   0.3s\n",
      "[CV 1/3] END regressor__max_depth=3, regressor__max_features=2, regressor__max_samples=0.5, regressor__min_samples_leaf=0.2, regressor__n_estimators=100;, score=(train=-0.276, test=-0.233) total time=   0.3s\n",
      "[CV 2/3] END regressor__max_depth=3, regressor__max_features=2, regressor__max_samples=0.5, regressor__min_samples_leaf=0.2, regressor__n_estimators=100;, score=(train=-0.259, test=-0.267) total time=   0.3s\n",
      "[CV 3/3] END regressor__max_depth=3, regressor__max_features=2, regressor__max_samples=0.5, regressor__min_samples_leaf=0.2, regressor__n_estimators=100;, score=(train=-0.257, test=-0.294) total time=   0.3s\n",
      "[CV 1/3] END regressor__max_depth=3, regressor__max_features=2, regressor__max_samples=0.5, regressor__min_samples_leaf=0.5, regressor__n_estimators=100;, score=(train=-0.293, test=-0.250) total time=   0.3s\n",
      "[CV 2/3] END regressor__max_depth=3, regressor__max_features=2, regressor__max_samples=0.5, regressor__min_samples_leaf=0.5, regressor__n_estimators=100;, score=(train=-0.279, test=-0.281) total time=   0.3s\n",
      "[CV 3/3] END regressor__max_depth=3, regressor__max_features=2, regressor__max_samples=0.5, regressor__min_samples_leaf=0.5, regressor__n_estimators=100;, score=(train=-0.271, test=-0.313) total time=   0.3s\n",
      "[CV 1/3] END regressor__max_depth=3, regressor__max_features=2, regressor__max_samples=0.5, regressor__min_samples_leaf=0.8, regressor__n_estimators=100;, score=(train=-0.293, test=-0.250) total time=   0.3s\n",
      "[CV 2/3] END regressor__max_depth=3, regressor__max_features=2, regressor__max_samples=0.5, regressor__min_samples_leaf=0.8, regressor__n_estimators=100;, score=(train=-0.279, test=-0.281) total time=   0.3s\n",
      "[CV 3/3] END regressor__max_depth=3, regressor__max_features=2, regressor__max_samples=0.5, regressor__min_samples_leaf=0.8, regressor__n_estimators=100;, score=(train=-0.271, test=-0.313) total time=   0.3s\n",
      "[CV 1/3] END regressor__max_depth=3, regressor__max_features=2, regressor__max_samples=0.8, regressor__min_samples_leaf=0.2, regressor__n_estimators=100;, score=(train=-0.245, test=-0.210) total time=   0.3s\n",
      "[CV 2/3] END regressor__max_depth=3, regressor__max_features=2, regressor__max_samples=0.8, regressor__min_samples_leaf=0.2, regressor__n_estimators=100;, score=(train=-0.225, test=-0.240) total time=   0.3s\n",
      "[CV 1/3] END regressor__max_depth=3, regressor__max_features=2, regressor__max_samples=0.8, regressor__min_samples_leaf=0.5, regressor__n_estimators=100;, score=(train=-0.293, test=-0.250) total time=   0.3s\n",
      "[CV 3/3] END regressor__max_depth=3, regressor__max_features=2, regressor__max_samples=0.8, regressor__min_samples_leaf=0.2, regressor__n_estimators=100;, score=(train=-0.230, test=-0.267) total time=   0.3s\n",
      "[CV 2/3] END regressor__max_depth=3, regressor__max_features=2, regressor__max_samples=0.8, regressor__min_samples_leaf=0.5, regressor__n_estimators=100;, score=(train=-0.278, test=-0.280) total time=   0.3s\n",
      "[CV 3/3] END regressor__max_depth=3, regressor__max_features=2, regressor__max_samples=0.8, regressor__min_samples_leaf=0.5, regressor__n_estimators=100;, score=(train=-0.271, test=-0.313) total time=   0.3s\n",
      "[CV 1/3] END regressor__max_depth=3, regressor__max_features=2, regressor__max_samples=0.8, regressor__min_samples_leaf=0.8, regressor__n_estimators=100;, score=(train=-0.293, test=-0.250) total time=   0.4s\n",
      "[CV 2/3] END regressor__max_depth=3, regressor__max_features=2, regressor__max_samples=0.8, regressor__min_samples_leaf=0.8, regressor__n_estimators=100;, score=(train=-0.278, test=-0.280) total time=   0.4s\n",
      "[CV 3/3] END regressor__max_depth=3, regressor__max_features=2, regressor__max_samples=0.8, regressor__min_samples_leaf=0.8, regressor__n_estimators=100;, score=(train=-0.271, test=-0.313) total time=   0.3s\n",
      "[CV 1/3] END regressor__max_depth=3, regressor__max_features=3, regressor__max_samples=0.2, regressor__min_samples_leaf=0.2, regressor__n_estimators=100;, score=(train=-0.292, test=-0.250) total time=   0.3s\n",
      "[CV 2/3] END regressor__max_depth=3, regressor__max_features=3, regressor__max_samples=0.2, regressor__min_samples_leaf=0.2, regressor__n_estimators=100;, score=(train=-0.279, test=-0.281) total time=   0.3s\n",
      "[CV 3/3] END regressor__max_depth=3, regressor__max_features=3, regressor__max_samples=0.2, regressor__min_samples_leaf=0.2, regressor__n_estimators=100;, score=(train=-0.270, test=-0.312) total time=   0.3s\n",
      "[CV 1/3] END regressor__max_depth=3, regressor__max_features=3, regressor__max_samples=0.2, regressor__min_samples_leaf=0.5, regressor__n_estimators=100;, score=(train=-0.292, test=-0.250) total time=   0.3s\n",
      "[CV 2/3] END regressor__max_depth=3, regressor__max_features=3, regressor__max_samples=0.2, regressor__min_samples_leaf=0.5, regressor__n_estimators=100;, score=(train=-0.279, test=-0.281) total time=   0.4s\n",
      "[CV 3/3] END regressor__max_depth=3, regressor__max_features=3, regressor__max_samples=0.2, regressor__min_samples_leaf=0.5, regressor__n_estimators=100;, score=(train=-0.270, test=-0.312) total time=   0.4s\n",
      "[CV 1/3] END regressor__max_depth=3, regressor__max_features=3, regressor__max_samples=0.2, regressor__min_samples_leaf=0.8, regressor__n_estimators=100;, score=(train=-0.292, test=-0.250) total time=   0.4s\n",
      "[CV 2/3] END regressor__max_depth=3, regressor__max_features=3, regressor__max_samples=0.2, regressor__min_samples_leaf=0.8, regressor__n_estimators=100;, score=(train=-0.279, test=-0.281) total time=   0.4s\n",
      "[CV 3/3] END regressor__max_depth=3, regressor__max_features=3, regressor__max_samples=0.2, regressor__min_samples_leaf=0.8, regressor__n_estimators=100;, score=(train=-0.270, test=-0.312) total time=   0.4s\n",
      "[CV 1/3] END regressor__max_depth=3, regressor__max_features=3, regressor__max_samples=0.5, regressor__min_samples_leaf=0.2, regressor__n_estimators=100;, score=(train=-0.271, test=-0.229) total time=   0.5s\n",
      "[CV 2/3] END regressor__max_depth=3, regressor__max_features=3, regressor__max_samples=0.5, regressor__min_samples_leaf=0.2, regressor__n_estimators=100;, score=(train=-0.253, test=-0.265) total time=   0.4s\n",
      "[CV 3/3] END regressor__max_depth=3, regressor__max_features=3, regressor__max_samples=0.5, regressor__min_samples_leaf=0.2, regressor__n_estimators=100;, score=(train=-0.254, test=-0.288) total time=   0.4s\n",
      "[CV 1/3] END regressor__max_depth=3, regressor__max_features=3, regressor__max_samples=0.5, regressor__min_samples_leaf=0.5, regressor__n_estimators=100;, score=(train=-0.293, test=-0.250) total time=   0.4s\n",
      "[CV 2/3] END regressor__max_depth=3, regressor__max_features=3, regressor__max_samples=0.5, regressor__min_samples_leaf=0.5, regressor__n_estimators=100;, score=(train=-0.279, test=-0.281) total time=   0.4s\n",
      "[CV 3/3] END regressor__max_depth=3, regressor__max_features=3, regressor__max_samples=0.5, regressor__min_samples_leaf=0.5, regressor__n_estimators=100;, score=(train=-0.271, test=-0.313) total time=   0.4s\n",
      "[CV 1/3] END regressor__max_depth=3, regressor__max_features=3, regressor__max_samples=0.5, regressor__min_samples_leaf=0.8, regressor__n_estimators=100;, score=(train=-0.293, test=-0.250) total time=   0.4s\n",
      "[CV 2/3] END regressor__max_depth=3, regressor__max_features=3, regressor__max_samples=0.5, regressor__min_samples_leaf=0.8, regressor__n_estimators=100;, score=(train=-0.279, test=-0.281) total time=   0.4s\n",
      "[CV 3/3] END regressor__max_depth=3, regressor__max_features=3, regressor__max_samples=0.5, regressor__min_samples_leaf=0.8, regressor__n_estimators=100;, score=(train=-0.271, test=-0.313) total time=   0.4s\n",
      "[CV 1/3] END regressor__max_depth=3, regressor__max_features=3, regressor__max_samples=0.8, regressor__min_samples_leaf=0.2, regressor__n_estimators=100;, score=(train=-0.239, test=-0.209) total time=   0.4s\n",
      "[CV 2/3] END regressor__max_depth=3, regressor__max_features=3, regressor__max_samples=0.8, regressor__min_samples_leaf=0.2, regressor__n_estimators=100;, score=(train=-0.221, test=-0.240) total time=   0.4s\n",
      "[CV 3/3] END regressor__max_depth=3, regressor__max_features=3, regressor__max_samples=0.8, regressor__min_samples_leaf=0.2, regressor__n_estimators=100;, score=(train=-0.226, test=-0.256) total time=   0.4s\n",
      "[CV 1/3] END regressor__max_depth=3, regressor__max_features=3, regressor__max_samples=0.8, regressor__min_samples_leaf=0.5, regressor__n_estimators=100;, score=(train=-0.293, test=-0.250) total time=   0.4s\n",
      "[CV 2/3] END regressor__max_depth=3, regressor__max_features=3, regressor__max_samples=0.8, regressor__min_samples_leaf=0.5, regressor__n_estimators=100;, score=(train=-0.278, test=-0.280) total time=   0.4s\n",
      "[CV 3/3] END regressor__max_depth=3, regressor__max_features=3, regressor__max_samples=0.8, regressor__min_samples_leaf=0.5, regressor__n_estimators=100;, score=(train=-0.271, test=-0.313) total time=   0.4s\n",
      "[CV 1/3] END regressor__max_depth=3, regressor__max_features=3, regressor__max_samples=0.8, regressor__min_samples_leaf=0.8, regressor__n_estimators=100;, score=(train=-0.293, test=-0.250) total time=   0.4s\n",
      "[CV 2/3] END regressor__max_depth=3, regressor__max_features=3, regressor__max_samples=0.8, regressor__min_samples_leaf=0.8, regressor__n_estimators=100;, score=(train=-0.278, test=-0.280) total time=   0.4s\n",
      "[CV 3/3] END regressor__max_depth=3, regressor__max_features=3, regressor__max_samples=0.8, regressor__min_samples_leaf=0.8, regressor__n_estimators=100;, score=(train=-0.271, test=-0.313) total time=   0.4s\n",
      "[CV 1/3] END regressor__max_depth=3, regressor__max_features=4, regressor__max_samples=0.2, regressor__min_samples_leaf=0.2, regressor__n_estimators=100;, score=(train=-0.292, test=-0.250) total time=   0.4s\n",
      "[CV 2/3] END regressor__max_depth=3, regressor__max_features=4, regressor__max_samples=0.2, regressor__min_samples_leaf=0.2, regressor__n_estimators=100;, score=(train=-0.279, test=-0.281) total time=   0.4s\n",
      "[CV 3/3] END regressor__max_depth=3, regressor__max_features=4, regressor__max_samples=0.2, regressor__min_samples_leaf=0.2, regressor__n_estimators=100;, score=(train=-0.270, test=-0.312) total time=   0.4s\n",
      "[CV 1/3] END regressor__max_depth=3, regressor__max_features=4, regressor__max_samples=0.2, regressor__min_samples_leaf=0.5, regressor__n_estimators=100;, score=(train=-0.292, test=-0.250) total time=   0.4s\n",
      "[CV 2/3] END regressor__max_depth=3, regressor__max_features=4, regressor__max_samples=0.2, regressor__min_samples_leaf=0.5, regressor__n_estimators=100;, score=(train=-0.279, test=-0.281) total time=   0.4s\n",
      "[CV 3/3] END regressor__max_depth=3, regressor__max_features=4, regressor__max_samples=0.2, regressor__min_samples_leaf=0.5, regressor__n_estimators=100;, score=(train=-0.270, test=-0.312) total time=   0.4s\n",
      "[CV 1/3] END regressor__max_depth=3, regressor__max_features=4, regressor__max_samples=0.2, regressor__min_samples_leaf=0.8, regressor__n_estimators=100;, score=(train=-0.292, test=-0.250) total time=   0.4s\n",
      "[CV 2/3] END regressor__max_depth=3, regressor__max_features=4, regressor__max_samples=0.2, regressor__min_samples_leaf=0.8, regressor__n_estimators=100;, score=(train=-0.279, test=-0.281) total time=   0.4s\n",
      "[CV 3/3] END regressor__max_depth=3, regressor__max_features=4, regressor__max_samples=0.2, regressor__min_samples_leaf=0.8, regressor__n_estimators=100;, score=(train=-0.270, test=-0.312) total time=   0.4s\n",
      "[CV 1/3] END regressor__max_depth=3, regressor__max_features=4, regressor__max_samples=0.5, regressor__min_samples_leaf=0.2, regressor__n_estimators=100;, score=(train=-0.267, test=-0.226) total time=   0.4s\n",
      "[CV 2/3] END regressor__max_depth=3, regressor__max_features=4, regressor__max_samples=0.5, regressor__min_samples_leaf=0.2, regressor__n_estimators=100;, score=(train=-0.250, test=-0.263) total time=   0.4s\n",
      "[CV 3/3] END regressor__max_depth=3, regressor__max_features=4, regressor__max_samples=0.5, regressor__min_samples_leaf=0.2, regressor__n_estimators=100;, score=(train=-0.252, test=-0.284) total time=   0.4s\n",
      "[CV 1/3] END regressor__max_depth=3, regressor__max_features=4, regressor__max_samples=0.5, regressor__min_samples_leaf=0.5, regressor__n_estimators=100;, score=(train=-0.293, test=-0.250) total time=   0.4s\n",
      "[CV 2/3] END regressor__max_depth=3, regressor__max_features=4, regressor__max_samples=0.5, regressor__min_samples_leaf=0.5, regressor__n_estimators=100;, score=(train=-0.279, test=-0.281) total time=   0.4s\n",
      "[CV 3/3] END regressor__max_depth=3, regressor__max_features=4, regressor__max_samples=0.5, regressor__min_samples_leaf=0.5, regressor__n_estimators=100;, score=(train=-0.271, test=-0.313) total time=   0.4s\n",
      "[CV 1/3] END regressor__max_depth=3, regressor__max_features=4, regressor__max_samples=0.5, regressor__min_samples_leaf=0.8, regressor__n_estimators=100;, score=(train=-0.293, test=-0.250) total time=   0.4s\n",
      "[CV 2/3] END regressor__max_depth=3, regressor__max_features=4, regressor__max_samples=0.5, regressor__min_samples_leaf=0.8, regressor__n_estimators=100;, score=(train=-0.279, test=-0.281) total time=   0.4s\n",
      "[CV 3/3] END regressor__max_depth=3, regressor__max_features=4, regressor__max_samples=0.5, regressor__min_samples_leaf=0.8, regressor__n_estimators=100;, score=(train=-0.271, test=-0.313) total time=   0.4s\n",
      "[CV 1/3] END regressor__max_depth=3, regressor__max_features=4, regressor__max_samples=0.8, regressor__min_samples_leaf=0.2, regressor__n_estimators=100;, score=(train=-0.238, test=-0.212) total time=   0.4s\n",
      "[CV 2/3] END regressor__max_depth=3, regressor__max_features=4, regressor__max_samples=0.8, regressor__min_samples_leaf=0.2, regressor__n_estimators=100;, score=(train=-0.222, test=-0.243) total time=   0.4s\n",
      "[CV 3/3] END regressor__max_depth=3, regressor__max_features=4, regressor__max_samples=0.8, regressor__min_samples_leaf=0.2, regressor__n_estimators=100;, score=(train=-0.226, test=-0.249) total time=   0.4s\n",
      "[CV 1/3] END regressor__max_depth=3, regressor__max_features=4, regressor__max_samples=0.8, regressor__min_samples_leaf=0.5, regressor__n_estimators=100;, score=(train=-0.293, test=-0.250) total time=   0.4s\n",
      "[CV 2/3] END regressor__max_depth=3, regressor__max_features=4, regressor__max_samples=0.8, regressor__min_samples_leaf=0.5, regressor__n_estimators=100;, score=(train=-0.278, test=-0.280) total time=   0.4s\n",
      "[CV 3/3] END regressor__max_depth=3, regressor__max_features=4, regressor__max_samples=0.8, regressor__min_samples_leaf=0.5, regressor__n_estimators=100;, score=(train=-0.271, test=-0.313) total time=   0.4s\n",
      "[CV 1/3] END regressor__max_depth=3, regressor__max_features=4, regressor__max_samples=0.8, regressor__min_samples_leaf=0.8, regressor__n_estimators=100;, score=(train=-0.293, test=-0.250) total time=   0.4s\n",
      "[CV 2/3] END regressor__max_depth=3, regressor__max_features=4, regressor__max_samples=0.8, regressor__min_samples_leaf=0.8, regressor__n_estimators=100;, score=(train=-0.278, test=-0.280) total time=   0.4s\n",
      "[CV 3/3] END regressor__max_depth=3, regressor__max_features=4, regressor__max_samples=0.8, regressor__min_samples_leaf=0.8, regressor__n_estimators=100;, score=(train=-0.271, test=-0.313) total time=   0.4s\n",
      "[CV 1/3] END regressor__max_depth=5, regressor__max_features=2, regressor__max_samples=0.2, regressor__min_samples_leaf=0.2, regressor__n_estimators=100;, score=(train=-0.292, test=-0.250) total time=   0.4s\n",
      "[CV 2/3] END regressor__max_depth=5, regressor__max_features=2, regressor__max_samples=0.2, regressor__min_samples_leaf=0.2, regressor__n_estimators=100;, score=(train=-0.279, test=-0.281) total time=   0.4s\n",
      "[CV 3/3] END regressor__max_depth=5, regressor__max_features=2, regressor__max_samples=0.2, regressor__min_samples_leaf=0.2, regressor__n_estimators=100;, score=(train=-0.270, test=-0.312) total time=   0.4s\n",
      "[CV 1/3] END regressor__max_depth=5, regressor__max_features=2, regressor__max_samples=0.2, regressor__min_samples_leaf=0.5, regressor__n_estimators=100;, score=(train=-0.292, test=-0.250) total time=   0.4s\n",
      "[CV 2/3] END regressor__max_depth=5, regressor__max_features=2, regressor__max_samples=0.2, regressor__min_samples_leaf=0.5, regressor__n_estimators=100;, score=(train=-0.279, test=-0.281) total time=   0.4s\n",
      "[CV 3/3] END regressor__max_depth=5, regressor__max_features=2, regressor__max_samples=0.2, regressor__min_samples_leaf=0.5, regressor__n_estimators=100;, score=(train=-0.270, test=-0.312) total time=   0.4s\n",
      "[CV 1/3] END regressor__max_depth=5, regressor__max_features=2, regressor__max_samples=0.2, regressor__min_samples_leaf=0.8, regressor__n_estimators=100;, score=(train=-0.292, test=-0.250) total time=   0.4s\n",
      "[CV 2/3] END regressor__max_depth=5, regressor__max_features=2, regressor__max_samples=0.2, regressor__min_samples_leaf=0.8, regressor__n_estimators=100;, score=(train=-0.279, test=-0.281) total time=   0.4s\n",
      "[CV 3/3] END regressor__max_depth=5, regressor__max_features=2, regressor__max_samples=0.2, regressor__min_samples_leaf=0.8, regressor__n_estimators=100;, score=(train=-0.270, test=-0.312) total time=   0.4s\n",
      "[CV 1/3] END regressor__max_depth=5, regressor__max_features=2, regressor__max_samples=0.5, regressor__min_samples_leaf=0.2, regressor__n_estimators=100;, score=(train=-0.276, test=-0.233) total time=   0.4s\n",
      "[CV 2/3] END regressor__max_depth=5, regressor__max_features=2, regressor__max_samples=0.5, regressor__min_samples_leaf=0.2, regressor__n_estimators=100;, score=(train=-0.259, test=-0.267) total time=   0.3s\n",
      "[CV 3/3] END regressor__max_depth=5, regressor__max_features=2, regressor__max_samples=0.5, regressor__min_samples_leaf=0.2, regressor__n_estimators=100;, score=(train=-0.257, test=-0.294) total time=   0.4s\n",
      "[CV 1/3] END regressor__max_depth=5, regressor__max_features=2, regressor__max_samples=0.5, regressor__min_samples_leaf=0.5, regressor__n_estimators=100;, score=(train=-0.293, test=-0.250) total time=   0.4s\n",
      "[CV 2/3] END regressor__max_depth=5, regressor__max_features=2, regressor__max_samples=0.5, regressor__min_samples_leaf=0.5, regressor__n_estimators=100;, score=(train=-0.279, test=-0.281) total time=   0.4s\n",
      "[CV 3/3] END regressor__max_depth=5, regressor__max_features=2, regressor__max_samples=0.5, regressor__min_samples_leaf=0.5, regressor__n_estimators=100;, score=(train=-0.271, test=-0.313) total time=   0.3s\n",
      "[CV 1/3] END regressor__max_depth=5, regressor__max_features=2, regressor__max_samples=0.5, regressor__min_samples_leaf=0.8, regressor__n_estimators=100;, score=(train=-0.293, test=-0.250) total time=   0.3s\n",
      "[CV 2/3] END regressor__max_depth=5, regressor__max_features=2, regressor__max_samples=0.5, regressor__min_samples_leaf=0.8, regressor__n_estimators=100;, score=(train=-0.279, test=-0.281) total time=   0.4s\n",
      "[CV 3/3] END regressor__max_depth=5, regressor__max_features=2, regressor__max_samples=0.5, regressor__min_samples_leaf=0.8, regressor__n_estimators=100;, score=(train=-0.271, test=-0.313) total time=   0.4s\n",
      "[CV 1/3] END regressor__max_depth=5, regressor__max_features=2, regressor__max_samples=0.8, regressor__min_samples_leaf=0.2, regressor__n_estimators=100;, score=(train=-0.245, test=-0.210) total time=   0.4s\n",
      "[CV 2/3] END regressor__max_depth=5, regressor__max_features=2, regressor__max_samples=0.8, regressor__min_samples_leaf=0.2, regressor__n_estimators=100;, score=(train=-0.225, test=-0.240) total time=   0.4s\n",
      "[CV 3/3] END regressor__max_depth=5, regressor__max_features=2, regressor__max_samples=0.8, regressor__min_samples_leaf=0.2, regressor__n_estimators=100;, score=(train=-0.230, test=-0.267) total time=   0.4s\n",
      "[CV 1/3] END regressor__max_depth=5, regressor__max_features=2, regressor__max_samples=0.8, regressor__min_samples_leaf=0.5, regressor__n_estimators=100;, score=(train=-0.293, test=-0.250) total time=   0.4s\n",
      "[CV 2/3] END regressor__max_depth=5, regressor__max_features=2, regressor__max_samples=0.8, regressor__min_samples_leaf=0.5, regressor__n_estimators=100;, score=(train=-0.278, test=-0.280) total time=   0.4s\n",
      "[CV 3/3] END regressor__max_depth=5, regressor__max_features=2, regressor__max_samples=0.8, regressor__min_samples_leaf=0.5, regressor__n_estimators=100;, score=(train=-0.271, test=-0.313) total time=   0.4s\n",
      "[CV 1/3] END regressor__max_depth=5, regressor__max_features=2, regressor__max_samples=0.8, regressor__min_samples_leaf=0.8, regressor__n_estimators=100;, score=(train=-0.293, test=-0.250) total time=   0.5s\n",
      "[CV 2/3] END regressor__max_depth=5, regressor__max_features=2, regressor__max_samples=0.8, regressor__min_samples_leaf=0.8, regressor__n_estimators=100;, score=(train=-0.278, test=-0.280) total time=   0.6s\n",
      "[CV 3/3] END regressor__max_depth=5, regressor__max_features=2, regressor__max_samples=0.8, regressor__min_samples_leaf=0.8, regressor__n_estimators=100;, score=(train=-0.271, test=-0.313) total time=   0.5s\n",
      "[CV 1/3] END regressor__max_depth=5, regressor__max_features=3, regressor__max_samples=0.2, regressor__min_samples_leaf=0.2, regressor__n_estimators=100;, score=(train=-0.292, test=-0.250) total time=   0.5s\n",
      "[CV 2/3] END regressor__max_depth=5, regressor__max_features=3, regressor__max_samples=0.2, regressor__min_samples_leaf=0.2, regressor__n_estimators=100;, score=(train=-0.279, test=-0.281) total time=   0.5s\n",
      "[CV 3/3] END regressor__max_depth=5, regressor__max_features=3, regressor__max_samples=0.2, regressor__min_samples_leaf=0.2, regressor__n_estimators=100;, score=(train=-0.270, test=-0.312) total time=   0.4s\n",
      "[CV 1/3] END regressor__max_depth=5, regressor__max_features=3, regressor__max_samples=0.2, regressor__min_samples_leaf=0.5, regressor__n_estimators=100;, score=(train=-0.292, test=-0.250) total time=   0.4s\n",
      "[CV 2/3] END regressor__max_depth=5, regressor__max_features=3, regressor__max_samples=0.2, regressor__min_samples_leaf=0.5, regressor__n_estimators=100;, score=(train=-0.279, test=-0.281) total time=   0.4s\n",
      "[CV 3/3] END regressor__max_depth=5, regressor__max_features=3, regressor__max_samples=0.2, regressor__min_samples_leaf=0.5, regressor__n_estimators=100;, score=(train=-0.270, test=-0.312) total time=   0.4s\n",
      "[CV 1/3] END regressor__max_depth=5, regressor__max_features=3, regressor__max_samples=0.2, regressor__min_samples_leaf=0.8, regressor__n_estimators=100;, score=(train=-0.292, test=-0.250) total time=   0.4s\n",
      "[CV 2/3] END regressor__max_depth=5, regressor__max_features=3, regressor__max_samples=0.2, regressor__min_samples_leaf=0.8, regressor__n_estimators=100;, score=(train=-0.279, test=-0.281) total time=   0.4s\n",
      "[CV 3/3] END regressor__max_depth=5, regressor__max_features=3, regressor__max_samples=0.2, regressor__min_samples_leaf=0.8, regressor__n_estimators=100;, score=(train=-0.270, test=-0.312) total time=   0.4s\n",
      "[CV 1/3] END regressor__max_depth=5, regressor__max_features=3, regressor__max_samples=0.5, regressor__min_samples_leaf=0.2, regressor__n_estimators=100;, score=(train=-0.271, test=-0.229) total time=   0.4s\n",
      "[CV 2/3] END regressor__max_depth=5, regressor__max_features=3, regressor__max_samples=0.5, regressor__min_samples_leaf=0.2, regressor__n_estimators=100;, score=(train=-0.253, test=-0.265) total time=   0.4s\n",
      "[CV 3/3] END regressor__max_depth=5, regressor__max_features=3, regressor__max_samples=0.5, regressor__min_samples_leaf=0.2, regressor__n_estimators=100;, score=(train=-0.254, test=-0.288) total time=   0.4s\n",
      "[CV 1/3] END regressor__max_depth=5, regressor__max_features=3, regressor__max_samples=0.5, regressor__min_samples_leaf=0.5, regressor__n_estimators=100;, score=(train=-0.293, test=-0.250) total time=   0.4s\n",
      "[CV 2/3] END regressor__max_depth=5, regressor__max_features=3, regressor__max_samples=0.5, regressor__min_samples_leaf=0.5, regressor__n_estimators=100;, score=(train=-0.279, test=-0.281) total time=   0.4s\n",
      "[CV 1/3] END regressor__max_depth=5, regressor__max_features=3, regressor__max_samples=0.5, regressor__min_samples_leaf=0.8, regressor__n_estimators=100;, score=(train=-0.293, test=-0.250) total time=   0.5s\n",
      "[CV 3/3] END regressor__max_depth=5, regressor__max_features=3, regressor__max_samples=0.5, regressor__min_samples_leaf=0.5, regressor__n_estimators=100;, score=(train=-0.271, test=-0.313) total time=   0.5s\n",
      "[CV 2/3] END regressor__max_depth=5, regressor__max_features=3, regressor__max_samples=0.5, regressor__min_samples_leaf=0.8, regressor__n_estimators=100;, score=(train=-0.279, test=-0.281) total time=   0.4s\n",
      "[CV 3/3] END regressor__max_depth=5, regressor__max_features=3, regressor__max_samples=0.5, regressor__min_samples_leaf=0.8, regressor__n_estimators=100;, score=(train=-0.271, test=-0.313) total time=   0.5s\n",
      "[CV 1/3] END regressor__max_depth=5, regressor__max_features=3, regressor__max_samples=0.8, regressor__min_samples_leaf=0.2, regressor__n_estimators=100;, score=(train=-0.239, test=-0.209) total time=   0.5s\n",
      "[CV 2/3] END regressor__max_depth=5, regressor__max_features=3, regressor__max_samples=0.8, regressor__min_samples_leaf=0.2, regressor__n_estimators=100;, score=(train=-0.221, test=-0.240) total time=   0.4s\n",
      "[CV 3/3] END regressor__max_depth=5, regressor__max_features=3, regressor__max_samples=0.8, regressor__min_samples_leaf=0.2, regressor__n_estimators=100;, score=(train=-0.226, test=-0.256) total time=   0.4s[CV 1/3] END regressor__max_depth=5, regressor__max_features=3, regressor__max_samples=0.8, regressor__min_samples_leaf=0.5, regressor__n_estimators=100;, score=(train=-0.293, test=-0.250) total time=   0.4s\n",
      "\n",
      "[CV 3/3] END regressor__max_depth=5, regressor__max_features=3, regressor__max_samples=0.8, regressor__min_samples_leaf=0.5, regressor__n_estimators=100;, score=(train=-0.271, test=-0.313) total time=   0.4s\n",
      "[CV 2/3] END regressor__max_depth=5, regressor__max_features=3, regressor__max_samples=0.8, regressor__min_samples_leaf=0.5, regressor__n_estimators=100;, score=(train=-0.278, test=-0.280) total time=   0.4s\n",
      "[CV 2/3] END regressor__max_depth=5, regressor__max_features=3, regressor__max_samples=0.8, regressor__min_samples_leaf=0.8, regressor__n_estimators=100;, score=(train=-0.278, test=-0.280) total time=   0.4s\n",
      "[CV 1/3] END regressor__max_depth=5, regressor__max_features=3, regressor__max_samples=0.8, regressor__min_samples_leaf=0.8, regressor__n_estimators=100;, score=(train=-0.293, test=-0.250) total time=   0.4s\n",
      "[CV 3/3] END regressor__max_depth=5, regressor__max_features=3, regressor__max_samples=0.8, regressor__min_samples_leaf=0.8, regressor__n_estimators=100;, score=(train=-0.271, test=-0.313) total time=   0.4s\n",
      "[CV 1/3] END regressor__max_depth=5, regressor__max_features=4, regressor__max_samples=0.2, regressor__min_samples_leaf=0.2, regressor__n_estimators=100;, score=(train=-0.292, test=-0.250) total time=   0.4s\n",
      "[CV 2/3] END regressor__max_depth=5, regressor__max_features=4, regressor__max_samples=0.2, regressor__min_samples_leaf=0.2, regressor__n_estimators=100;, score=(train=-0.279, test=-0.281) total time=   0.4s\n",
      "[CV 3/3] END regressor__max_depth=5, regressor__max_features=4, regressor__max_samples=0.2, regressor__min_samples_leaf=0.2, regressor__n_estimators=100;, score=(train=-0.270, test=-0.312) total time=   0.4s\n",
      "[CV 1/3] END regressor__max_depth=5, regressor__max_features=4, regressor__max_samples=0.2, regressor__min_samples_leaf=0.5, regressor__n_estimators=100;, score=(train=-0.292, test=-0.250) total time=   0.4s\n",
      "[CV 2/3] END regressor__max_depth=5, regressor__max_features=4, regressor__max_samples=0.2, regressor__min_samples_leaf=0.5, regressor__n_estimators=100;, score=(train=-0.279, test=-0.281) total time=   0.4s\n",
      "[CV 3/3] END regressor__max_depth=5, regressor__max_features=4, regressor__max_samples=0.2, regressor__min_samples_leaf=0.5, regressor__n_estimators=100;, score=(train=-0.270, test=-0.312) total time=   0.4s\n",
      "[CV 1/3] END regressor__max_depth=5, regressor__max_features=4, regressor__max_samples=0.2, regressor__min_samples_leaf=0.8, regressor__n_estimators=100;, score=(train=-0.292, test=-0.250) total time=   0.4s\n",
      "[CV 2/3] END regressor__max_depth=5, regressor__max_features=4, regressor__max_samples=0.2, regressor__min_samples_leaf=0.8, regressor__n_estimators=100;, score=(train=-0.279, test=-0.281) total time=   0.4s\n",
      "[CV 3/3] END regressor__max_depth=5, regressor__max_features=4, regressor__max_samples=0.2, regressor__min_samples_leaf=0.8, regressor__n_estimators=100;, score=(train=-0.270, test=-0.312) total time=   0.4s\n",
      "[CV 1/3] END regressor__max_depth=5, regressor__max_features=4, regressor__max_samples=0.5, regressor__min_samples_leaf=0.2, regressor__n_estimators=100;, score=(train=-0.267, test=-0.226) total time=   0.4s\n",
      "[CV 2/3] END regressor__max_depth=5, regressor__max_features=4, regressor__max_samples=0.5, regressor__min_samples_leaf=0.2, regressor__n_estimators=100;, score=(train=-0.250, test=-0.263) total time=   0.5s\n",
      "[CV 3/3] END regressor__max_depth=5, regressor__max_features=4, regressor__max_samples=0.5, regressor__min_samples_leaf=0.2, regressor__n_estimators=100;, score=(train=-0.252, test=-0.284) total time=   0.4s\n",
      "[CV 1/3] END regressor__max_depth=5, regressor__max_features=4, regressor__max_samples=0.5, regressor__min_samples_leaf=0.5, regressor__n_estimators=100;, score=(train=-0.293, test=-0.250) total time=   0.4s\n",
      "[CV 2/3] END regressor__max_depth=5, regressor__max_features=4, regressor__max_samples=0.5, regressor__min_samples_leaf=0.5, regressor__n_estimators=100;, score=(train=-0.279, test=-0.281) total time=   0.4s\n",
      "[CV 3/3] END regressor__max_depth=5, regressor__max_features=4, regressor__max_samples=0.5, regressor__min_samples_leaf=0.5, regressor__n_estimators=100;, score=(train=-0.271, test=-0.313) total time=   0.4s\n",
      "[CV 1/3] END regressor__max_depth=5, regressor__max_features=4, regressor__max_samples=0.5, regressor__min_samples_leaf=0.8, regressor__n_estimators=100;, score=(train=-0.293, test=-0.250) total time=   0.4s\n",
      "[CV 2/3] END regressor__max_depth=5, regressor__max_features=4, regressor__max_samples=0.5, regressor__min_samples_leaf=0.8, regressor__n_estimators=100;, score=(train=-0.279, test=-0.281) total time=   0.4s\n",
      "[CV 3/3] END regressor__max_depth=5, regressor__max_features=4, regressor__max_samples=0.5, regressor__min_samples_leaf=0.8, regressor__n_estimators=100;, score=(train=-0.271, test=-0.313) total time=   0.4s\n",
      "[CV 1/3] END regressor__max_depth=5, regressor__max_features=4, regressor__max_samples=0.8, regressor__min_samples_leaf=0.2, regressor__n_estimators=100;, score=(train=-0.238, test=-0.212) total time=   0.4s\n",
      "[CV 2/3] END regressor__max_depth=5, regressor__max_features=4, regressor__max_samples=0.8, regressor__min_samples_leaf=0.2, regressor__n_estimators=100;, score=(train=-0.222, test=-0.243) total time=   0.4s\n",
      "[CV 3/3] END regressor__max_depth=5, regressor__max_features=4, regressor__max_samples=0.8, regressor__min_samples_leaf=0.2, regressor__n_estimators=100;, score=(train=-0.226, test=-0.249) total time=   0.4s\n",
      "[CV 1/3] END regressor__max_depth=5, regressor__max_features=4, regressor__max_samples=0.8, regressor__min_samples_leaf=0.5, regressor__n_estimators=100;, score=(train=-0.293, test=-0.250) total time=   0.4s\n",
      "[CV 2/3] END regressor__max_depth=5, regressor__max_features=4, regressor__max_samples=0.8, regressor__min_samples_leaf=0.5, regressor__n_estimators=100;, score=(train=-0.278, test=-0.280) total time=   0.4s\n",
      "[CV 3/3] END regressor__max_depth=5, regressor__max_features=4, regressor__max_samples=0.8, regressor__min_samples_leaf=0.5, regressor__n_estimators=100;, score=(train=-0.271, test=-0.313) total time=   0.4s\n",
      "[CV 1/3] END regressor__max_depth=5, regressor__max_features=4, regressor__max_samples=0.8, regressor__min_samples_leaf=0.8, regressor__n_estimators=100;, score=(train=-0.293, test=-0.250) total time=   0.4s\n",
      "[CV 2/3] END regressor__max_depth=5, regressor__max_features=4, regressor__max_samples=0.8, regressor__min_samples_leaf=0.8, regressor__n_estimators=100;, score=(train=-0.278, test=-0.280) total time=   0.4s\n",
      "[CV 3/3] END regressor__max_depth=5, regressor__max_features=4, regressor__max_samples=0.8, regressor__min_samples_leaf=0.8, regressor__n_estimators=100;, score=(train=-0.271, test=-0.313) total time=   0.4s\n"
     ]
    },
    {
     "name": "stderr",
     "output_type": "stream",
     "text": [
      "/home/phyto/anaconda3/envs/my-geopandas-env-2/lib/python3.11/site-packages/sklearn/model_selection/_validation.py:686: DataConversionWarning: A column-vector y was passed when a 1d array was expected. Please change the shape of y to (n_samples,), for example using ravel().\n",
      "  estimator.fit(X_train, y_train, **fit_params)\n",
      "/home/phyto/anaconda3/envs/my-geopandas-env-2/lib/python3.11/site-packages/sklearn/model_selection/_validation.py:686: DataConversionWarning: A column-vector y was passed when a 1d array was expected. Please change the shape of y to (n_samples,), for example using ravel().\n",
      "  estimator.fit(X_train, y_train, **fit_params)\n"
     ]
    },
    {
     "name": "stdout",
     "output_type": "stream",
     "text": [
      "Fitting 3 folds for each of 18 candidates, totalling 54 fits\n",
      "[CV 2/3] END max_depth=3, max_features=2, max_samples=0.5, min_samples_leaf=0.2, n_estimators=100;, score=0.500 total time=   0.5s[CV 1/3] END max_depth=3, max_features=2, max_samples=0.5, min_samples_leaf=0.2, n_estimators=100;, score=0.500 total time=   0.5s\n",
      "\n"
     ]
    },
    {
     "name": "stderr",
     "output_type": "stream",
     "text": [
      "/home/phyto/anaconda3/envs/my-geopandas-env-2/lib/python3.11/site-packages/sklearn/model_selection/_validation.py:686: DataConversionWarning: A column-vector y was passed when a 1d array was expected. Please change the shape of y to (n_samples,), for example using ravel().\n",
      "  estimator.fit(X_train, y_train, **fit_params)\n",
      "/home/phyto/anaconda3/envs/my-geopandas-env-2/lib/python3.11/site-packages/sklearn/model_selection/_validation.py:686: DataConversionWarning: A column-vector y was passed when a 1d array was expected. Please change the shape of y to (n_samples,), for example using ravel().\n",
      "  estimator.fit(X_train, y_train, **fit_params)\n"
     ]
    },
    {
     "name": "stdout",
     "output_type": "stream",
     "text": [
      "[CV 1/3] END max_depth=3, max_features=2, max_samples=0.5, min_samples_leaf=0.5, n_estimators=100;, score=0.500 total time=   0.4s\n"
     ]
    },
    {
     "name": "stderr",
     "output_type": "stream",
     "text": [
      "/home/phyto/anaconda3/envs/my-geopandas-env-2/lib/python3.11/site-packages/sklearn/model_selection/_validation.py:686: DataConversionWarning: A column-vector y was passed when a 1d array was expected. Please change the shape of y to (n_samples,), for example using ravel().\n",
      "  estimator.fit(X_train, y_train, **fit_params)\n"
     ]
    },
    {
     "name": "stdout",
     "output_type": "stream",
     "text": [
      "[CV 3/3] END max_depth=3, max_features=2, max_samples=0.5, min_samples_leaf=0.2, n_estimators=100;, score=0.500 total time=   0.4s\n"
     ]
    },
    {
     "name": "stderr",
     "output_type": "stream",
     "text": [
      "/home/phyto/anaconda3/envs/my-geopandas-env-2/lib/python3.11/site-packages/sklearn/model_selection/_validation.py:686: DataConversionWarning: A column-vector y was passed when a 1d array was expected. Please change the shape of y to (n_samples,), for example using ravel().\n",
      "  estimator.fit(X_train, y_train, **fit_params)\n"
     ]
    },
    {
     "name": "stdout",
     "output_type": "stream",
     "text": [
      "[CV 2/3] END max_depth=3, max_features=2, max_samples=0.5, min_samples_leaf=0.5, n_estimators=100;, score=0.500 total time=   0.4s\n"
     ]
    },
    {
     "name": "stderr",
     "output_type": "stream",
     "text": [
      "/home/phyto/anaconda3/envs/my-geopandas-env-2/lib/python3.11/site-packages/sklearn/model_selection/_validation.py:686: DataConversionWarning: A column-vector y was passed when a 1d array was expected. Please change the shape of y to (n_samples,), for example using ravel().\n",
      "  estimator.fit(X_train, y_train, **fit_params)\n"
     ]
    },
    {
     "name": "stdout",
     "output_type": "stream",
     "text": [
      "[CV 3/3] END max_depth=3, max_features=2, max_samples=0.5, min_samples_leaf=0.5, n_estimators=100;, score=0.500 total time=   0.4s\n"
     ]
    },
    {
     "name": "stderr",
     "output_type": "stream",
     "text": [
      "/home/phyto/anaconda3/envs/my-geopandas-env-2/lib/python3.11/site-packages/sklearn/model_selection/_validation.py:686: DataConversionWarning: A column-vector y was passed when a 1d array was expected. Please change the shape of y to (n_samples,), for example using ravel().\n",
      "  estimator.fit(X_train, y_train, **fit_params)\n"
     ]
    },
    {
     "name": "stdout",
     "output_type": "stream",
     "text": [
      "[CV 1/3] END max_depth=3, max_features=2, max_samples=0.5, min_samples_leaf=0.8, n_estimators=100;, score=0.500 total time=   0.4s\n"
     ]
    },
    {
     "name": "stderr",
     "output_type": "stream",
     "text": [
      "/home/phyto/anaconda3/envs/my-geopandas-env-2/lib/python3.11/site-packages/sklearn/model_selection/_validation.py:686: DataConversionWarning: A column-vector y was passed when a 1d array was expected. Please change the shape of y to (n_samples,), for example using ravel().\n",
      "  estimator.fit(X_train, y_train, **fit_params)\n"
     ]
    },
    {
     "name": "stdout",
     "output_type": "stream",
     "text": [
      "[CV 2/3] END max_depth=3, max_features=2, max_samples=0.5, min_samples_leaf=0.8, n_estimators=100;, score=0.500 total time=   0.5s\n"
     ]
    },
    {
     "name": "stderr",
     "output_type": "stream",
     "text": [
      "/home/phyto/anaconda3/envs/my-geopandas-env-2/lib/python3.11/site-packages/sklearn/model_selection/_validation.py:686: DataConversionWarning: A column-vector y was passed when a 1d array was expected. Please change the shape of y to (n_samples,), for example using ravel().\n",
      "  estimator.fit(X_train, y_train, **fit_params)\n"
     ]
    },
    {
     "name": "stdout",
     "output_type": "stream",
     "text": [
      "[CV 3/3] END max_depth=3, max_features=2, max_samples=0.5, min_samples_leaf=0.8, n_estimators=100;, score=0.500 total time=   0.4s\n"
     ]
    },
    {
     "name": "stderr",
     "output_type": "stream",
     "text": [
      "/home/phyto/anaconda3/envs/my-geopandas-env-2/lib/python3.11/site-packages/sklearn/model_selection/_validation.py:686: DataConversionWarning: A column-vector y was passed when a 1d array was expected. Please change the shape of y to (n_samples,), for example using ravel().\n",
      "  estimator.fit(X_train, y_train, **fit_params)\n"
     ]
    },
    {
     "name": "stdout",
     "output_type": "stream",
     "text": [
      "[CV 1/3] END max_depth=3, max_features=3, max_samples=0.5, min_samples_leaf=0.2, n_estimators=100;, score=0.500 total time=   0.5s\n"
     ]
    },
    {
     "name": "stderr",
     "output_type": "stream",
     "text": [
      "/home/phyto/anaconda3/envs/my-geopandas-env-2/lib/python3.11/site-packages/sklearn/model_selection/_validation.py:686: DataConversionWarning: A column-vector y was passed when a 1d array was expected. Please change the shape of y to (n_samples,), for example using ravel().\n",
      "  estimator.fit(X_train, y_train, **fit_params)\n"
     ]
    },
    {
     "name": "stdout",
     "output_type": "stream",
     "text": [
      "[CV 2/3] END max_depth=3, max_features=3, max_samples=0.5, min_samples_leaf=0.2, n_estimators=100;, score=0.500 total time=   0.5s\n"
     ]
    },
    {
     "name": "stderr",
     "output_type": "stream",
     "text": [
      "/home/phyto/anaconda3/envs/my-geopandas-env-2/lib/python3.11/site-packages/sklearn/model_selection/_validation.py:686: DataConversionWarning: A column-vector y was passed when a 1d array was expected. Please change the shape of y to (n_samples,), for example using ravel().\n",
      "  estimator.fit(X_train, y_train, **fit_params)\n"
     ]
    },
    {
     "name": "stdout",
     "output_type": "stream",
     "text": [
      "[CV 3/3] END max_depth=3, max_features=3, max_samples=0.5, min_samples_leaf=0.2, n_estimators=100;, score=0.500 total time=   0.5s\n"
     ]
    },
    {
     "name": "stderr",
     "output_type": "stream",
     "text": [
      "/home/phyto/anaconda3/envs/my-geopandas-env-2/lib/python3.11/site-packages/sklearn/model_selection/_validation.py:686: DataConversionWarning: A column-vector y was passed when a 1d array was expected. Please change the shape of y to (n_samples,), for example using ravel().\n",
      "  estimator.fit(X_train, y_train, **fit_params)\n"
     ]
    },
    {
     "name": "stdout",
     "output_type": "stream",
     "text": [
      "[CV 1/3] END max_depth=3, max_features=3, max_samples=0.5, min_samples_leaf=0.5, n_estimators=100;, score=0.500 total time=   0.5s\n"
     ]
    },
    {
     "name": "stderr",
     "output_type": "stream",
     "text": [
      "/home/phyto/anaconda3/envs/my-geopandas-env-2/lib/python3.11/site-packages/sklearn/model_selection/_validation.py:686: DataConversionWarning: A column-vector y was passed when a 1d array was expected. Please change the shape of y to (n_samples,), for example using ravel().\n",
      "  estimator.fit(X_train, y_train, **fit_params)\n"
     ]
    },
    {
     "name": "stdout",
     "output_type": "stream",
     "text": [
      "[CV 2/3] END max_depth=3, max_features=3, max_samples=0.5, min_samples_leaf=0.5, n_estimators=100;, score=0.500 total time=   0.5s\n"
     ]
    },
    {
     "name": "stderr",
     "output_type": "stream",
     "text": [
      "/home/phyto/anaconda3/envs/my-geopandas-env-2/lib/python3.11/site-packages/sklearn/model_selection/_validation.py:686: DataConversionWarning: A column-vector y was passed when a 1d array was expected. Please change the shape of y to (n_samples,), for example using ravel().\n",
      "  estimator.fit(X_train, y_train, **fit_params)\n"
     ]
    },
    {
     "name": "stdout",
     "output_type": "stream",
     "text": [
      "[CV 3/3] END max_depth=3, max_features=3, max_samples=0.5, min_samples_leaf=0.5, n_estimators=100;, score=0.500 total time=   0.5s\n",
      "[CV 1/3] END max_depth=3, max_features=3, max_samples=0.5, min_samples_leaf=0.8, n_estimators=100;, score=0.500 total time=   0.4s\n"
     ]
    },
    {
     "name": "stderr",
     "output_type": "stream",
     "text": [
      "/home/phyto/anaconda3/envs/my-geopandas-env-2/lib/python3.11/site-packages/sklearn/model_selection/_validation.py:686: DataConversionWarning: A column-vector y was passed when a 1d array was expected. Please change the shape of y to (n_samples,), for example using ravel().\n",
      "  estimator.fit(X_train, y_train, **fit_params)\n",
      "/home/phyto/anaconda3/envs/my-geopandas-env-2/lib/python3.11/site-packages/sklearn/model_selection/_validation.py:686: DataConversionWarning: A column-vector y was passed when a 1d array was expected. Please change the shape of y to (n_samples,), for example using ravel().\n",
      "  estimator.fit(X_train, y_train, **fit_params)\n"
     ]
    },
    {
     "name": "stdout",
     "output_type": "stream",
     "text": [
      "[CV 2/3] END max_depth=3, max_features=3, max_samples=0.5, min_samples_leaf=0.8, n_estimators=100;, score=0.500 total time=   0.4s\n"
     ]
    },
    {
     "name": "stderr",
     "output_type": "stream",
     "text": [
      "/home/phyto/anaconda3/envs/my-geopandas-env-2/lib/python3.11/site-packages/sklearn/model_selection/_validation.py:686: DataConversionWarning: A column-vector y was passed when a 1d array was expected. Please change the shape of y to (n_samples,), for example using ravel().\n",
      "  estimator.fit(X_train, y_train, **fit_params)\n"
     ]
    },
    {
     "name": "stdout",
     "output_type": "stream",
     "text": [
      "[CV 3/3] END max_depth=3, max_features=3, max_samples=0.5, min_samples_leaf=0.8, n_estimators=100;, score=0.500 total time=   0.4s\n"
     ]
    },
    {
     "name": "stderr",
     "output_type": "stream",
     "text": [
      "/home/phyto/anaconda3/envs/my-geopandas-env-2/lib/python3.11/site-packages/sklearn/model_selection/_validation.py:686: DataConversionWarning: A column-vector y was passed when a 1d array was expected. Please change the shape of y to (n_samples,), for example using ravel().\n",
      "  estimator.fit(X_train, y_train, **fit_params)\n"
     ]
    },
    {
     "name": "stdout",
     "output_type": "stream",
     "text": [
      "[CV 1/3] END max_depth=3, max_features=4, max_samples=0.5, min_samples_leaf=0.2, n_estimators=100;, score=0.500 total time=   0.4s\n"
     ]
    },
    {
     "name": "stderr",
     "output_type": "stream",
     "text": [
      "/home/phyto/anaconda3/envs/my-geopandas-env-2/lib/python3.11/site-packages/sklearn/model_selection/_validation.py:686: DataConversionWarning: A column-vector y was passed when a 1d array was expected. Please change the shape of y to (n_samples,), for example using ravel().\n",
      "  estimator.fit(X_train, y_train, **fit_params)\n"
     ]
    },
    {
     "name": "stdout",
     "output_type": "stream",
     "text": [
      "[CV 2/3] END max_depth=3, max_features=4, max_samples=0.5, min_samples_leaf=0.2, n_estimators=100;, score=0.500 total time=   0.5s\n"
     ]
    },
    {
     "name": "stderr",
     "output_type": "stream",
     "text": [
      "/home/phyto/anaconda3/envs/my-geopandas-env-2/lib/python3.11/site-packages/sklearn/model_selection/_validation.py:686: DataConversionWarning: A column-vector y was passed when a 1d array was expected. Please change the shape of y to (n_samples,), for example using ravel().\n",
      "  estimator.fit(X_train, y_train, **fit_params)\n"
     ]
    },
    {
     "name": "stdout",
     "output_type": "stream",
     "text": [
      "[CV 3/3] END max_depth=3, max_features=4, max_samples=0.5, min_samples_leaf=0.2, n_estimators=100;, score=0.500 total time=   0.5s\n"
     ]
    },
    {
     "name": "stderr",
     "output_type": "stream",
     "text": [
      "/home/phyto/anaconda3/envs/my-geopandas-env-2/lib/python3.11/site-packages/sklearn/model_selection/_validation.py:686: DataConversionWarning: A column-vector y was passed when a 1d array was expected. Please change the shape of y to (n_samples,), for example using ravel().\n",
      "  estimator.fit(X_train, y_train, **fit_params)\n"
     ]
    },
    {
     "name": "stdout",
     "output_type": "stream",
     "text": [
      "[CV 1/3] END max_depth=3, max_features=4, max_samples=0.5, min_samples_leaf=0.5, n_estimators=100;, score=0.500 total time=   0.5s\n"
     ]
    },
    {
     "name": "stderr",
     "output_type": "stream",
     "text": [
      "/home/phyto/anaconda3/envs/my-geopandas-env-2/lib/python3.11/site-packages/sklearn/model_selection/_validation.py:686: DataConversionWarning: A column-vector y was passed when a 1d array was expected. Please change the shape of y to (n_samples,), for example using ravel().\n",
      "  estimator.fit(X_train, y_train, **fit_params)\n"
     ]
    },
    {
     "name": "stdout",
     "output_type": "stream",
     "text": [
      "[CV 3/3] END max_depth=3, max_features=4, max_samples=0.5, min_samples_leaf=0.5, n_estimators=100;, score=0.500 total time=   0.5s\n",
      "[CV 2/3] END max_depth=3, max_features=4, max_samples=0.5, min_samples_leaf=0.5, n_estimators=100;, score=0.500 total time=   0.5s\n"
     ]
    },
    {
     "name": "stderr",
     "output_type": "stream",
     "text": [
      "/home/phyto/anaconda3/envs/my-geopandas-env-2/lib/python3.11/site-packages/sklearn/model_selection/_validation.py:686: DataConversionWarning: A column-vector y was passed when a 1d array was expected. Please change the shape of y to (n_samples,), for example using ravel().\n",
      "  estimator.fit(X_train, y_train, **fit_params)\n",
      "/home/phyto/anaconda3/envs/my-geopandas-env-2/lib/python3.11/site-packages/sklearn/model_selection/_validation.py:686: DataConversionWarning: A column-vector y was passed when a 1d array was expected. Please change the shape of y to (n_samples,), for example using ravel().\n",
      "  estimator.fit(X_train, y_train, **fit_params)\n"
     ]
    },
    {
     "name": "stdout",
     "output_type": "stream",
     "text": [
      "[CV 1/3] END max_depth=3, max_features=4, max_samples=0.5, min_samples_leaf=0.8, n_estimators=100;, score=0.500 total time=   0.4s\n"
     ]
    },
    {
     "name": "stderr",
     "output_type": "stream",
     "text": [
      "/home/phyto/anaconda3/envs/my-geopandas-env-2/lib/python3.11/site-packages/sklearn/model_selection/_validation.py:686: DataConversionWarning: A column-vector y was passed when a 1d array was expected. Please change the shape of y to (n_samples,), for example using ravel().\n",
      "  estimator.fit(X_train, y_train, **fit_params)\n"
     ]
    },
    {
     "name": "stdout",
     "output_type": "stream",
     "text": [
      "[CV 2/3] END max_depth=3, max_features=4, max_samples=0.5, min_samples_leaf=0.8, n_estimators=100;, score=0.500 total time=   0.5s\n"
     ]
    },
    {
     "name": "stderr",
     "output_type": "stream",
     "text": [
      "/home/phyto/anaconda3/envs/my-geopandas-env-2/lib/python3.11/site-packages/sklearn/model_selection/_validation.py:686: DataConversionWarning: A column-vector y was passed when a 1d array was expected. Please change the shape of y to (n_samples,), for example using ravel().\n",
      "  estimator.fit(X_train, y_train, **fit_params)\n"
     ]
    },
    {
     "name": "stdout",
     "output_type": "stream",
     "text": [
      "[CV 3/3] END max_depth=3, max_features=4, max_samples=0.5, min_samples_leaf=0.8, n_estimators=100;, score=0.500 total time=   0.5s\n"
     ]
    },
    {
     "name": "stderr",
     "output_type": "stream",
     "text": [
      "/home/phyto/anaconda3/envs/my-geopandas-env-2/lib/python3.11/site-packages/sklearn/model_selection/_validation.py:686: DataConversionWarning: A column-vector y was passed when a 1d array was expected. Please change the shape of y to (n_samples,), for example using ravel().\n",
      "  estimator.fit(X_train, y_train, **fit_params)\n"
     ]
    },
    {
     "name": "stdout",
     "output_type": "stream",
     "text": [
      "[CV 1/3] END max_depth=5, max_features=2, max_samples=0.5, min_samples_leaf=0.2, n_estimators=100;, score=0.500 total time=   0.5s\n"
     ]
    },
    {
     "name": "stderr",
     "output_type": "stream",
     "text": [
      "/home/phyto/anaconda3/envs/my-geopandas-env-2/lib/python3.11/site-packages/sklearn/model_selection/_validation.py:686: DataConversionWarning: A column-vector y was passed when a 1d array was expected. Please change the shape of y to (n_samples,), for example using ravel().\n",
      "  estimator.fit(X_train, y_train, **fit_params)\n"
     ]
    },
    {
     "name": "stdout",
     "output_type": "stream",
     "text": [
      "[CV 2/3] END max_depth=5, max_features=2, max_samples=0.5, min_samples_leaf=0.2, n_estimators=100;, score=0.500 total time=   0.4s\n"
     ]
    },
    {
     "name": "stderr",
     "output_type": "stream",
     "text": [
      "/home/phyto/anaconda3/envs/my-geopandas-env-2/lib/python3.11/site-packages/sklearn/model_selection/_validation.py:686: DataConversionWarning: A column-vector y was passed when a 1d array was expected. Please change the shape of y to (n_samples,), for example using ravel().\n",
      "  estimator.fit(X_train, y_train, **fit_params)\n"
     ]
    },
    {
     "name": "stdout",
     "output_type": "stream",
     "text": [
      "[CV 3/3] END max_depth=5, max_features=2, max_samples=0.5, min_samples_leaf=0.2, n_estimators=100;, score=0.500 total time=   0.4s\n"
     ]
    },
    {
     "name": "stderr",
     "output_type": "stream",
     "text": [
      "/home/phyto/anaconda3/envs/my-geopandas-env-2/lib/python3.11/site-packages/sklearn/model_selection/_validation.py:686: DataConversionWarning: A column-vector y was passed when a 1d array was expected. Please change the shape of y to (n_samples,), for example using ravel().\n",
      "  estimator.fit(X_train, y_train, **fit_params)\n"
     ]
    },
    {
     "name": "stdout",
     "output_type": "stream",
     "text": [
      "[CV 1/3] END max_depth=5, max_features=2, max_samples=0.5, min_samples_leaf=0.5, n_estimators=100;, score=0.500 total time=   0.4s\n"
     ]
    },
    {
     "name": "stderr",
     "output_type": "stream",
     "text": [
      "/home/phyto/anaconda3/envs/my-geopandas-env-2/lib/python3.11/site-packages/sklearn/model_selection/_validation.py:686: DataConversionWarning: A column-vector y was passed when a 1d array was expected. Please change the shape of y to (n_samples,), for example using ravel().\n",
      "  estimator.fit(X_train, y_train, **fit_params)\n"
     ]
    },
    {
     "name": "stdout",
     "output_type": "stream",
     "text": [
      "[CV 2/3] END max_depth=5, max_features=2, max_samples=0.5, min_samples_leaf=0.5, n_estimators=100;, score=0.500 total time=   0.4s\n"
     ]
    },
    {
     "name": "stderr",
     "output_type": "stream",
     "text": [
      "/home/phyto/anaconda3/envs/my-geopandas-env-2/lib/python3.11/site-packages/sklearn/model_selection/_validation.py:686: DataConversionWarning: A column-vector y was passed when a 1d array was expected. Please change the shape of y to (n_samples,), for example using ravel().\n",
      "  estimator.fit(X_train, y_train, **fit_params)\n"
     ]
    },
    {
     "name": "stdout",
     "output_type": "stream",
     "text": [
      "[CV 3/3] END max_depth=5, max_features=2, max_samples=0.5, min_samples_leaf=0.5, n_estimators=100;, score=0.500 total time=   0.4s\n"
     ]
    },
    {
     "name": "stderr",
     "output_type": "stream",
     "text": [
      "/home/phyto/anaconda3/envs/my-geopandas-env-2/lib/python3.11/site-packages/sklearn/model_selection/_validation.py:686: DataConversionWarning: A column-vector y was passed when a 1d array was expected. Please change the shape of y to (n_samples,), for example using ravel().\n",
      "  estimator.fit(X_train, y_train, **fit_params)\n"
     ]
    },
    {
     "name": "stdout",
     "output_type": "stream",
     "text": [
      "[CV 1/3] END max_depth=5, max_features=2, max_samples=0.5, min_samples_leaf=0.8, n_estimators=100;, score=0.500 total time=   0.4s\n"
     ]
    },
    {
     "name": "stderr",
     "output_type": "stream",
     "text": [
      "/home/phyto/anaconda3/envs/my-geopandas-env-2/lib/python3.11/site-packages/sklearn/model_selection/_validation.py:686: DataConversionWarning: A column-vector y was passed when a 1d array was expected. Please change the shape of y to (n_samples,), for example using ravel().\n",
      "  estimator.fit(X_train, y_train, **fit_params)\n"
     ]
    },
    {
     "name": "stdout",
     "output_type": "stream",
     "text": [
      "[CV 2/3] END max_depth=5, max_features=2, max_samples=0.5, min_samples_leaf=0.8, n_estimators=100;, score=0.500 total time=   0.4s\n"
     ]
    },
    {
     "name": "stderr",
     "output_type": "stream",
     "text": [
      "/home/phyto/anaconda3/envs/my-geopandas-env-2/lib/python3.11/site-packages/sklearn/model_selection/_validation.py:686: DataConversionWarning: A column-vector y was passed when a 1d array was expected. Please change the shape of y to (n_samples,), for example using ravel().\n",
      "  estimator.fit(X_train, y_train, **fit_params)\n"
     ]
    },
    {
     "name": "stdout",
     "output_type": "stream",
     "text": [
      "[CV 3/3] END max_depth=5, max_features=2, max_samples=0.5, min_samples_leaf=0.8, n_estimators=100;, score=0.500 total time=   0.4s\n"
     ]
    },
    {
     "name": "stderr",
     "output_type": "stream",
     "text": [
      "/home/phyto/anaconda3/envs/my-geopandas-env-2/lib/python3.11/site-packages/sklearn/model_selection/_validation.py:686: DataConversionWarning: A column-vector y was passed when a 1d array was expected. Please change the shape of y to (n_samples,), for example using ravel().\n",
      "  estimator.fit(X_train, y_train, **fit_params)\n"
     ]
    },
    {
     "name": "stdout",
     "output_type": "stream",
     "text": [
      "[CV 1/3] END max_depth=5, max_features=3, max_samples=0.5, min_samples_leaf=0.2, n_estimators=100;, score=0.500 total time=   0.5s\n"
     ]
    },
    {
     "name": "stderr",
     "output_type": "stream",
     "text": [
      "/home/phyto/anaconda3/envs/my-geopandas-env-2/lib/python3.11/site-packages/sklearn/model_selection/_validation.py:686: DataConversionWarning: A column-vector y was passed when a 1d array was expected. Please change the shape of y to (n_samples,), for example using ravel().\n",
      "  estimator.fit(X_train, y_train, **fit_params)\n"
     ]
    },
    {
     "name": "stdout",
     "output_type": "stream",
     "text": [
      "[CV 2/3] END max_depth=5, max_features=3, max_samples=0.5, min_samples_leaf=0.2, n_estimators=100;, score=0.500 total time=   0.5s\n"
     ]
    },
    {
     "name": "stderr",
     "output_type": "stream",
     "text": [
      "/home/phyto/anaconda3/envs/my-geopandas-env-2/lib/python3.11/site-packages/sklearn/model_selection/_validation.py:686: DataConversionWarning: A column-vector y was passed when a 1d array was expected. Please change the shape of y to (n_samples,), for example using ravel().\n",
      "  estimator.fit(X_train, y_train, **fit_params)\n"
     ]
    },
    {
     "name": "stdout",
     "output_type": "stream",
     "text": [
      "[CV 3/3] END max_depth=5, max_features=3, max_samples=0.5, min_samples_leaf=0.2, n_estimators=100;, score=0.500 total time=   0.4s\n"
     ]
    },
    {
     "name": "stderr",
     "output_type": "stream",
     "text": [
      "/home/phyto/anaconda3/envs/my-geopandas-env-2/lib/python3.11/site-packages/sklearn/model_selection/_validation.py:686: DataConversionWarning: A column-vector y was passed when a 1d array was expected. Please change the shape of y to (n_samples,), for example using ravel().\n",
      "  estimator.fit(X_train, y_train, **fit_params)\n"
     ]
    },
    {
     "name": "stdout",
     "output_type": "stream",
     "text": [
      "[CV 1/3] END max_depth=5, max_features=3, max_samples=0.5, min_samples_leaf=0.5, n_estimators=100;, score=0.500 total time=   0.4s\n"
     ]
    },
    {
     "name": "stderr",
     "output_type": "stream",
     "text": [
      "/home/phyto/anaconda3/envs/my-geopandas-env-2/lib/python3.11/site-packages/sklearn/model_selection/_validation.py:686: DataConversionWarning: A column-vector y was passed when a 1d array was expected. Please change the shape of y to (n_samples,), for example using ravel().\n",
      "  estimator.fit(X_train, y_train, **fit_params)\n"
     ]
    },
    {
     "name": "stdout",
     "output_type": "stream",
     "text": [
      "[CV 2/3] END max_depth=5, max_features=3, max_samples=0.5, min_samples_leaf=0.5, n_estimators=100;, score=0.500 total time=   0.4s\n"
     ]
    },
    {
     "name": "stderr",
     "output_type": "stream",
     "text": [
      "/home/phyto/anaconda3/envs/my-geopandas-env-2/lib/python3.11/site-packages/sklearn/model_selection/_validation.py:686: DataConversionWarning: A column-vector y was passed when a 1d array was expected. Please change the shape of y to (n_samples,), for example using ravel().\n",
      "  estimator.fit(X_train, y_train, **fit_params)\n"
     ]
    },
    {
     "name": "stdout",
     "output_type": "stream",
     "text": [
      "[CV 3/3] END max_depth=5, max_features=3, max_samples=0.5, min_samples_leaf=0.5, n_estimators=100;, score=0.500 total time=   0.4s\n"
     ]
    },
    {
     "name": "stderr",
     "output_type": "stream",
     "text": [
      "/home/phyto/anaconda3/envs/my-geopandas-env-2/lib/python3.11/site-packages/sklearn/model_selection/_validation.py:686: DataConversionWarning: A column-vector y was passed when a 1d array was expected. Please change the shape of y to (n_samples,), for example using ravel().\n",
      "  estimator.fit(X_train, y_train, **fit_params)\n"
     ]
    },
    {
     "name": "stdout",
     "output_type": "stream",
     "text": [
      "[CV 1/3] END max_depth=5, max_features=3, max_samples=0.5, min_samples_leaf=0.8, n_estimators=100;, score=0.500 total time=   0.4s\n"
     ]
    },
    {
     "name": "stderr",
     "output_type": "stream",
     "text": [
      "/home/phyto/anaconda3/envs/my-geopandas-env-2/lib/python3.11/site-packages/sklearn/model_selection/_validation.py:686: DataConversionWarning: A column-vector y was passed when a 1d array was expected. Please change the shape of y to (n_samples,), for example using ravel().\n",
      "  estimator.fit(X_train, y_train, **fit_params)\n"
     ]
    },
    {
     "name": "stdout",
     "output_type": "stream",
     "text": [
      "[CV 2/3] END max_depth=5, max_features=3, max_samples=0.5, min_samples_leaf=0.8, n_estimators=100;, score=0.500 total time=   0.4s\n"
     ]
    },
    {
     "name": "stderr",
     "output_type": "stream",
     "text": [
      "/home/phyto/anaconda3/envs/my-geopandas-env-2/lib/python3.11/site-packages/sklearn/model_selection/_validation.py:686: DataConversionWarning: A column-vector y was passed when a 1d array was expected. Please change the shape of y to (n_samples,), for example using ravel().\n",
      "  estimator.fit(X_train, y_train, **fit_params)\n"
     ]
    },
    {
     "name": "stdout",
     "output_type": "stream",
     "text": [
      "[CV 3/3] END max_depth=5, max_features=3, max_samples=0.5, min_samples_leaf=0.8, n_estimators=100;, score=0.500 total time=   0.4s\n"
     ]
    },
    {
     "name": "stderr",
     "output_type": "stream",
     "text": [
      "/home/phyto/anaconda3/envs/my-geopandas-env-2/lib/python3.11/site-packages/sklearn/model_selection/_validation.py:686: DataConversionWarning: A column-vector y was passed when a 1d array was expected. Please change the shape of y to (n_samples,), for example using ravel().\n",
      "  estimator.fit(X_train, y_train, **fit_params)\n"
     ]
    },
    {
     "name": "stdout",
     "output_type": "stream",
     "text": [
      "[CV 1/3] END max_depth=5, max_features=4, max_samples=0.5, min_samples_leaf=0.2, n_estimators=100;, score=0.500 total time=   0.4s\n"
     ]
    },
    {
     "name": "stderr",
     "output_type": "stream",
     "text": [
      "/home/phyto/anaconda3/envs/my-geopandas-env-2/lib/python3.11/site-packages/sklearn/model_selection/_validation.py:686: DataConversionWarning: A column-vector y was passed when a 1d array was expected. Please change the shape of y to (n_samples,), for example using ravel().\n",
      "  estimator.fit(X_train, y_train, **fit_params)\n"
     ]
    },
    {
     "name": "stdout",
     "output_type": "stream",
     "text": [
      "[CV 2/3] END max_depth=5, max_features=4, max_samples=0.5, min_samples_leaf=0.2, n_estimators=100;, score=0.500 total time=   0.5s\n"
     ]
    },
    {
     "name": "stderr",
     "output_type": "stream",
     "text": [
      "/home/phyto/anaconda3/envs/my-geopandas-env-2/lib/python3.11/site-packages/sklearn/model_selection/_validation.py:686: DataConversionWarning: A column-vector y was passed when a 1d array was expected. Please change the shape of y to (n_samples,), for example using ravel().\n",
      "  estimator.fit(X_train, y_train, **fit_params)\n"
     ]
    },
    {
     "name": "stdout",
     "output_type": "stream",
     "text": [
      "[CV 3/3] END max_depth=5, max_features=4, max_samples=0.5, min_samples_leaf=0.2, n_estimators=100;, score=0.500 total time=   0.5s\n"
     ]
    },
    {
     "name": "stderr",
     "output_type": "stream",
     "text": [
      "/home/phyto/anaconda3/envs/my-geopandas-env-2/lib/python3.11/site-packages/sklearn/model_selection/_validation.py:686: DataConversionWarning: A column-vector y was passed when a 1d array was expected. Please change the shape of y to (n_samples,), for example using ravel().\n",
      "  estimator.fit(X_train, y_train, **fit_params)\n"
     ]
    },
    {
     "name": "stdout",
     "output_type": "stream",
     "text": [
      "[CV 1/3] END max_depth=5, max_features=4, max_samples=0.5, min_samples_leaf=0.5, n_estimators=100;, score=0.500 total time=   0.5s\n"
     ]
    },
    {
     "name": "stderr",
     "output_type": "stream",
     "text": [
      "/home/phyto/anaconda3/envs/my-geopandas-env-2/lib/python3.11/site-packages/sklearn/model_selection/_validation.py:686: DataConversionWarning: A column-vector y was passed when a 1d array was expected. Please change the shape of y to (n_samples,), for example using ravel().\n",
      "  estimator.fit(X_train, y_train, **fit_params)\n"
     ]
    },
    {
     "name": "stdout",
     "output_type": "stream",
     "text": [
      "[CV 2/3] END max_depth=5, max_features=4, max_samples=0.5, min_samples_leaf=0.5, n_estimators=100;, score=0.500 total time=   0.4s\n"
     ]
    },
    {
     "name": "stderr",
     "output_type": "stream",
     "text": [
      "/home/phyto/anaconda3/envs/my-geopandas-env-2/lib/python3.11/site-packages/sklearn/model_selection/_validation.py:686: DataConversionWarning: A column-vector y was passed when a 1d array was expected. Please change the shape of y to (n_samples,), for example using ravel().\n",
      "  estimator.fit(X_train, y_train, **fit_params)\n"
     ]
    },
    {
     "name": "stdout",
     "output_type": "stream",
     "text": [
      "[CV 3/3] END max_depth=5, max_features=4, max_samples=0.5, min_samples_leaf=0.5, n_estimators=100;, score=0.500 total time=   0.4s\n"
     ]
    },
    {
     "name": "stderr",
     "output_type": "stream",
     "text": [
      "/home/phyto/anaconda3/envs/my-geopandas-env-2/lib/python3.11/site-packages/sklearn/model_selection/_validation.py:686: DataConversionWarning: A column-vector y was passed when a 1d array was expected. Please change the shape of y to (n_samples,), for example using ravel().\n",
      "  estimator.fit(X_train, y_train, **fit_params)\n"
     ]
    },
    {
     "name": "stdout",
     "output_type": "stream",
     "text": [
      "[CV 1/3] END max_depth=5, max_features=4, max_samples=0.5, min_samples_leaf=0.8, n_estimators=100;, score=0.500 total time=   0.5s\n"
     ]
    },
    {
     "name": "stderr",
     "output_type": "stream",
     "text": [
      "/home/phyto/anaconda3/envs/my-geopandas-env-2/lib/python3.11/site-packages/sklearn/model_selection/_validation.py:686: DataConversionWarning: A column-vector y was passed when a 1d array was expected. Please change the shape of y to (n_samples,), for example using ravel().\n",
      "  estimator.fit(X_train, y_train, **fit_params)\n"
     ]
    },
    {
     "name": "stdout",
     "output_type": "stream",
     "text": [
      "[CV 2/3] END max_depth=5, max_features=4, max_samples=0.5, min_samples_leaf=0.8, n_estimators=100;, score=0.500 total time=   0.4s\n",
      "[CV 3/3] END max_depth=5, max_features=4, max_samples=0.5, min_samples_leaf=0.8, n_estimators=100;, score=0.500 total time=   0.5s\n"
     ]
    },
    {
     "name": "stderr",
     "output_type": "stream",
     "text": [
      "/home/phyto/anaconda3/envs/my-geopandas-env-2/lib/python3.11/site-packages/sklearn/model_selection/_search.py:909: DataConversionWarning: A column-vector y was passed when a 1d array was expected. Please change the shape of y to (n_samples,), for example using ravel().\n",
      "  self.best_estimator_.fit(X, y, **fit_params)\n",
      "/home/phyto/anaconda3/envs/my-geopandas-env-2/lib/python3.11/site-packages/sklearn/model_selection/_validation.py:686: DataConversionWarning: A column-vector y was passed when a 1d array was expected. Please change the shape of y to (n_samples,), for example using ravel().\n",
      "  estimator.fit(X_train, y_train, **fit_params)\n",
      "/home/phyto/anaconda3/envs/my-geopandas-env-2/lib/python3.11/site-packages/sklearn/model_selection/_validation.py:686: DataConversionWarning: A column-vector y was passed when a 1d array was expected. Please change the shape of y to (n_samples,), for example using ravel().\n",
      "  estimator.fit(X_train, y_train, **fit_params)\n",
      "[Parallel(n_jobs=2)]: Using backend MultiprocessingBackend with 2 concurrent workers.\n"
     ]
    },
    {
     "name": "stdout",
     "output_type": "stream",
     "text": [
      "[CV] END ............................. accuracy: (test=0.500) total time=   0.5s\n"
     ]
    },
    {
     "name": "stderr",
     "output_type": "stream",
     "text": [
      "/home/phyto/anaconda3/envs/my-geopandas-env-2/lib/python3.11/site-packages/sklearn/model_selection/_validation.py:686: DataConversionWarning: A column-vector y was passed when a 1d array was expected. Please change the shape of y to (n_samples,), for example using ravel().\n",
      "  estimator.fit(X_train, y_train, **fit_params)\n"
     ]
    },
    {
     "name": "stdout",
     "output_type": "stream",
     "text": [
      "[CV] END ............................. accuracy: (test=0.500) total time=   0.5s\n",
      "[CV] END ............................. accuracy: (test=0.500) total time=   0.4s\n"
     ]
    },
    {
     "name": "stderr",
     "output_type": "stream",
     "text": [
      "[Parallel(n_jobs=2)]: Done   3 out of   3 | elapsed:    0.9s finished\n",
      "[Parallel(n_jobs=2)]: Using backend MultiprocessingBackend with 2 concurrent workers.\n"
     ]
    },
    {
     "name": "stdout",
     "output_type": "stream",
     "text": [
      "[CV] END  MAE: (test=-0.243) R2: (test=0.293) RMSE: (test=-0.307) total time=   0.4s\n",
      "[CV] END  MAE: (test=-0.212) R2: (test=0.356) RMSE: (test=-0.270) total time=   0.4s\n",
      "[CV] END  MAE: (test=-0.249) R2: (test=0.357) RMSE: (test=-0.308) total time=   0.3s\n"
     ]
    },
    {
     "name": "stderr",
     "output_type": "stream",
     "text": [
      "[Parallel(n_jobs=2)]: Done   3 out of   3 | elapsed:    0.7s finished\n",
      "/home/phyto/anaconda3/envs/my-geopandas-env-2/lib/python3.11/site-packages/sklearn/utils/validation.py:1143: DataConversionWarning: A column-vector y was passed when a 1d array was expected. Please change the shape of y to (n_samples, ), for example using ravel().\n",
      "  y = column_or_1d(y, warn=True)\n",
      "/home/phyto/anaconda3/envs/my-geopandas-env-2/lib/python3.11/site-packages/sklearn/utils/validation.py:1143: DataConversionWarning: A column-vector y was passed when a 1d array was expected. Please change the shape of y to (n_samples, ), for example using ravel().\n",
      "  y = column_or_1d(y, warn=True)\n",
      "[Parallel(n_jobs=2)]: Using backend MultiprocessingBackend with 2 concurrent workers.\n"
     ]
    },
    {
     "name": "stdout",
     "output_type": "stream",
     "text": [
      "[CV] END  MAE: (test=-0.212) R2: (test=0.356) RMSE: (test=-0.270) total time=   0.8s\n"
     ]
    },
    {
     "name": "stderr",
     "output_type": "stream",
     "text": [
      "/home/phyto/anaconda3/envs/my-geopandas-env-2/lib/python3.11/site-packages/sklearn/utils/validation.py:1143: DataConversionWarning: A column-vector y was passed when a 1d array was expected. Please change the shape of y to (n_samples, ), for example using ravel().\n",
      "  y = column_or_1d(y, warn=True)\n"
     ]
    },
    {
     "name": "stdout",
     "output_type": "stream",
     "text": [
      "[CV] END  MAE: (test=-0.243) R2: (test=0.293) RMSE: (test=-0.307) total time=   0.8s\n",
      "[CV] END  MAE: (test=-0.249) R2: (test=0.357) RMSE: (test=-0.308) total time=   0.8s\n",
      "finished tuning model\n",
      "reg rRMSE: 43%\n",
      "reg rMAE: 34%\n",
      "reg R2: 0.34\n",
      "zir rRMSE: 43%\n",
      "zir rMAE: 34%\n",
      "zir R2: 0.34\n",
      "execution time: 51.498241901397705 seconds\n"
     ]
    },
    {
     "name": "stderr",
     "output_type": "stream",
     "text": [
      "[Parallel(n_jobs=2)]: Done   3 out of   3 | elapsed:    1.6s finished\n"
     ]
    }
   ],
   "source": [
    "'''\n",
    "2-phase Random forest \n",
    "note: for the 2-phase model we need to define the model configuration for both the classifier and the regressor\n",
    "'''\n",
    "\n",
    "reg_scoring = model_config['reg_scoring']\n",
    "clf_scoring = model_config['clf_scoring']\n",
    "\n",
    "clf_param_grid = model_config['rf_param_grid']['clf_param_grid']\n",
    "reg_param_grid = model_config['rf_param_grid']['reg_param_grid']\n",
    "\n",
    "m = tune(X, y, seed, n_threads, verbose, cv, path_out)\n",
    "m.XGB(reg_scoring, reg_param_grid, clf_scoring = clf_scoring, clf_param_grid = clf_param_grid, \n",
    "      cv=cv, model=\"rf\", zir=True, log=\"yes\")"
   ]
  },
  {
   "cell_type": "code",
   "execution_count": 10,
   "metadata": {},
   "outputs": [
    {
     "name": "stdout",
     "output_type": "stream",
     "text": [
      "Fitting 3 folds for each of 54 candidates, totalling 162 fits\n",
      "[CV 2/3] END regressor__max_depth=3, regressor__max_features=2, regressor__max_samples=0.2, regressor__min_samples_leaf=0.2, regressor__n_estimators=100;, score=(train=-0.271, test=-0.270) total time=   0.3s\n",
      "[CV 1/3] END regressor__max_depth=3, regressor__max_features=2, regressor__max_samples=0.2, regressor__min_samples_leaf=0.2, regressor__n_estimators=100;, score=(train=-0.282, test=-0.246) total time=   0.4s\n",
      "[CV 3/3] END regressor__max_depth=3, regressor__max_features=2, regressor__max_samples=0.2, regressor__min_samples_leaf=0.2, regressor__n_estimators=100;, score=(train=-0.261, test=-0.300) total time=   0.3s\n",
      "[CV 1/3] END regressor__max_depth=3, regressor__max_features=2, regressor__max_samples=0.2, regressor__min_samples_leaf=0.5, regressor__n_estimators=100;, score=(train=-0.282, test=-0.246) total time=   0.3s\n",
      "[CV 2/3] END regressor__max_depth=3, regressor__max_features=2, regressor__max_samples=0.2, regressor__min_samples_leaf=0.5, regressor__n_estimators=100;, score=(train=-0.271, test=-0.270) total time=   0.3s\n",
      "[CV 3/3] END regressor__max_depth=3, regressor__max_features=2, regressor__max_samples=0.2, regressor__min_samples_leaf=0.5, regressor__n_estimators=100;, score=(train=-0.261, test=-0.300) total time=   0.3s\n",
      "[CV 1/3] END regressor__max_depth=3, regressor__max_features=2, regressor__max_samples=0.2, regressor__min_samples_leaf=0.8, regressor__n_estimators=100;, score=(train=-0.282, test=-0.246) total time=   0.3s\n",
      "[CV 2/3] END regressor__max_depth=3, regressor__max_features=2, regressor__max_samples=0.2, regressor__min_samples_leaf=0.8, regressor__n_estimators=100;, score=(train=-0.271, test=-0.270) total time=   0.3s\n",
      "[CV 3/3] END regressor__max_depth=3, regressor__max_features=2, regressor__max_samples=0.2, regressor__min_samples_leaf=0.8, regressor__n_estimators=100;, score=(train=-0.261, test=-0.300) total time=   0.3s\n",
      "[CV 1/3] END regressor__max_depth=3, regressor__max_features=2, regressor__max_samples=0.5, regressor__min_samples_leaf=0.2, regressor__n_estimators=100;, score=(train=-0.265, test=-0.229) total time=   0.3s\n",
      "[CV 2/3] END regressor__max_depth=3, regressor__max_features=2, regressor__max_samples=0.5, regressor__min_samples_leaf=0.2, regressor__n_estimators=100;, score=(train=-0.251, test=-0.255) total time=   0.4s\n",
      "[CV 3/3] END regressor__max_depth=3, regressor__max_features=2, regressor__max_samples=0.5, regressor__min_samples_leaf=0.2, regressor__n_estimators=100;, score=(train=-0.245, test=-0.282) total time=   0.3s\n",
      "[CV 1/3] END regressor__max_depth=3, regressor__max_features=2, regressor__max_samples=0.5, regressor__min_samples_leaf=0.5, regressor__n_estimators=100;, score=(train=-0.283, test=-0.246) total time=   0.3s\n",
      "[CV 2/3] END regressor__max_depth=3, regressor__max_features=2, regressor__max_samples=0.5, regressor__min_samples_leaf=0.5, regressor__n_estimators=100;, score=(train=-0.271, test=-0.270) total time=   0.3s\n",
      "[CV 1/3] END regressor__max_depth=3, regressor__max_features=2, regressor__max_samples=0.5, regressor__min_samples_leaf=0.8, regressor__n_estimators=100;, score=(train=-0.283, test=-0.246) total time=   0.4s\n",
      "[CV 3/3] END regressor__max_depth=3, regressor__max_features=2, regressor__max_samples=0.5, regressor__min_samples_leaf=0.5, regressor__n_estimators=100;, score=(train=-0.261, test=-0.301) total time=   0.4s\n",
      "[CV 3/3] END regressor__max_depth=3, regressor__max_features=2, regressor__max_samples=0.5, regressor__min_samples_leaf=0.8, regressor__n_estimators=100;, score=(train=-0.261, test=-0.301) total time=   0.3s\n",
      "[CV 2/3] END regressor__max_depth=3, regressor__max_features=2, regressor__max_samples=0.5, regressor__min_samples_leaf=0.8, regressor__n_estimators=100;, score=(train=-0.271, test=-0.270) total time=   0.3s\n",
      "[CV 1/3] END regressor__max_depth=3, regressor__max_features=2, regressor__max_samples=0.8, regressor__min_samples_leaf=0.2, regressor__n_estimators=100;, score=(train=-0.233, test=-0.200) total time=   0.3s\n",
      "[CV 2/3] END regressor__max_depth=3, regressor__max_features=2, regressor__max_samples=0.8, regressor__min_samples_leaf=0.2, regressor__n_estimators=100;, score=(train=-0.217, test=-0.230) total time=   0.3s\n",
      "[CV 3/3] END regressor__max_depth=3, regressor__max_features=2, regressor__max_samples=0.8, regressor__min_samples_leaf=0.2, regressor__n_estimators=100;, score=(train=-0.219, test=-0.253) total time=   0.3s\n",
      "[CV 1/3] END regressor__max_depth=3, regressor__max_features=2, regressor__max_samples=0.8, regressor__min_samples_leaf=0.5, regressor__n_estimators=100;, score=(train=-0.283, test=-0.246) total time=   0.3s\n",
      "[CV 2/3] END regressor__max_depth=3, regressor__max_features=2, regressor__max_samples=0.8, regressor__min_samples_leaf=0.5, regressor__n_estimators=100;, score=(train=-0.271, test=-0.270) total time=   0.3s\n",
      "[CV 3/3] END regressor__max_depth=3, regressor__max_features=2, regressor__max_samples=0.8, regressor__min_samples_leaf=0.5, regressor__n_estimators=100;, score=(train=-0.261, test=-0.301) total time=   0.3s\n",
      "[CV 1/3] END regressor__max_depth=3, regressor__max_features=2, regressor__max_samples=0.8, regressor__min_samples_leaf=0.8, regressor__n_estimators=100;, score=(train=-0.283, test=-0.246) total time=   0.3s\n",
      "[CV 2/3] END regressor__max_depth=3, regressor__max_features=2, regressor__max_samples=0.8, regressor__min_samples_leaf=0.8, regressor__n_estimators=100;, score=(train=-0.271, test=-0.270) total time=   0.3s\n",
      "[CV 3/3] END regressor__max_depth=3, regressor__max_features=2, regressor__max_samples=0.8, regressor__min_samples_leaf=0.8, regressor__n_estimators=100;, score=(train=-0.261, test=-0.301) total time=   0.3s\n",
      "[CV 1/3] END regressor__max_depth=3, regressor__max_features=3, regressor__max_samples=0.2, regressor__min_samples_leaf=0.2, regressor__n_estimators=100;, score=(train=-0.282, test=-0.246) total time=   0.3s\n",
      "[CV 2/3] END regressor__max_depth=3, regressor__max_features=3, regressor__max_samples=0.2, regressor__min_samples_leaf=0.2, regressor__n_estimators=100;, score=(train=-0.271, test=-0.270) total time=   0.3s\n",
      "[CV 3/3] END regressor__max_depth=3, regressor__max_features=3, regressor__max_samples=0.2, regressor__min_samples_leaf=0.2, regressor__n_estimators=100;, score=(train=-0.261, test=-0.300) total time=   0.3s\n",
      "[CV 1/3] END regressor__max_depth=3, regressor__max_features=3, regressor__max_samples=0.2, regressor__min_samples_leaf=0.5, regressor__n_estimators=100;, score=(train=-0.282, test=-0.246) total time=   0.3s\n",
      "[CV 2/3] END regressor__max_depth=3, regressor__max_features=3, regressor__max_samples=0.2, regressor__min_samples_leaf=0.5, regressor__n_estimators=100;, score=(train=-0.271, test=-0.270) total time=   0.3s\n",
      "[CV 3/3] END regressor__max_depth=3, regressor__max_features=3, regressor__max_samples=0.2, regressor__min_samples_leaf=0.5, regressor__n_estimators=100;, score=(train=-0.261, test=-0.300) total time=   0.3s\n",
      "[CV 1/3] END regressor__max_depth=3, regressor__max_features=3, regressor__max_samples=0.2, regressor__min_samples_leaf=0.8, regressor__n_estimators=100;, score=(train=-0.282, test=-0.246) total time=   0.3s\n",
      "[CV 2/3] END regressor__max_depth=3, regressor__max_features=3, regressor__max_samples=0.2, regressor__min_samples_leaf=0.8, regressor__n_estimators=100;, score=(train=-0.271, test=-0.270) total time=   0.3s\n",
      "[CV 3/3] END regressor__max_depth=3, regressor__max_features=3, regressor__max_samples=0.2, regressor__min_samples_leaf=0.8, regressor__n_estimators=100;, score=(train=-0.261, test=-0.300) total time=   0.3s\n",
      "[CV 1/3] END regressor__max_depth=3, regressor__max_features=3, regressor__max_samples=0.5, regressor__min_samples_leaf=0.2, regressor__n_estimators=100;, score=(train=-0.260, test=-0.223) total time=   0.3s\n",
      "[CV 2/3] END regressor__max_depth=3, regressor__max_features=3, regressor__max_samples=0.5, regressor__min_samples_leaf=0.2, regressor__n_estimators=100;, score=(train=-0.245, test=-0.251) total time=   0.4s\n",
      "[CV 3/3] END regressor__max_depth=3, regressor__max_features=3, regressor__max_samples=0.5, regressor__min_samples_leaf=0.2, regressor__n_estimators=100;, score=(train=-0.242, test=-0.276) total time=   0.4s\n",
      "[CV 1/3] END regressor__max_depth=3, regressor__max_features=3, regressor__max_samples=0.5, regressor__min_samples_leaf=0.5, regressor__n_estimators=100;, score=(train=-0.283, test=-0.246) total time=   0.4s\n",
      "[CV 2/3] END regressor__max_depth=3, regressor__max_features=3, regressor__max_samples=0.5, regressor__min_samples_leaf=0.5, regressor__n_estimators=100;, score=(train=-0.271, test=-0.270) total time=   0.4s\n",
      "[CV 3/3] END regressor__max_depth=3, regressor__max_features=3, regressor__max_samples=0.5, regressor__min_samples_leaf=0.5, regressor__n_estimators=100;, score=(train=-0.261, test=-0.301) total time=   0.3s\n",
      "[CV 1/3] END regressor__max_depth=3, regressor__max_features=3, regressor__max_samples=0.5, regressor__min_samples_leaf=0.8, regressor__n_estimators=100;, score=(train=-0.283, test=-0.246) total time=   0.4s\n",
      "[CV 2/3] END regressor__max_depth=3, regressor__max_features=3, regressor__max_samples=0.5, regressor__min_samples_leaf=0.8, regressor__n_estimators=100;, score=(train=-0.271, test=-0.270) total time=   0.4s\n",
      "[CV 3/3] END regressor__max_depth=3, regressor__max_features=3, regressor__max_samples=0.5, regressor__min_samples_leaf=0.8, regressor__n_estimators=100;, score=(train=-0.261, test=-0.301) total time=   0.4s\n",
      "[CV 1/3] END regressor__max_depth=3, regressor__max_features=3, regressor__max_samples=0.8, regressor__min_samples_leaf=0.2, regressor__n_estimators=100;, score=(train=-0.226, test=-0.198) total time=   0.4s\n",
      "[CV 3/3] END regressor__max_depth=3, regressor__max_features=3, regressor__max_samples=0.8, regressor__min_samples_leaf=0.2, regressor__n_estimators=100;, score=(train=-0.214, test=-0.243) total time=   0.4s\n",
      "[CV 2/3] END regressor__max_depth=3, regressor__max_features=3, regressor__max_samples=0.8, regressor__min_samples_leaf=0.2, regressor__n_estimators=100;, score=(train=-0.210, test=-0.227) total time=   0.4s\n",
      "[CV 1/3] END regressor__max_depth=3, regressor__max_features=3, regressor__max_samples=0.8, regressor__min_samples_leaf=0.5, regressor__n_estimators=100;, score=(train=-0.283, test=-0.246) total time=   0.3s\n",
      "[CV 2/3] END regressor__max_depth=3, regressor__max_features=3, regressor__max_samples=0.8, regressor__min_samples_leaf=0.5, regressor__n_estimators=100;, score=(train=-0.271, test=-0.270) total time=   0.3s\n",
      "[CV 3/3] END regressor__max_depth=3, regressor__max_features=3, regressor__max_samples=0.8, regressor__min_samples_leaf=0.5, regressor__n_estimators=100;, score=(train=-0.261, test=-0.301) total time=   0.3s\n",
      "[CV 1/3] END regressor__max_depth=3, regressor__max_features=3, regressor__max_samples=0.8, regressor__min_samples_leaf=0.8, regressor__n_estimators=100;, score=(train=-0.283, test=-0.246) total time=   0.3s\n",
      "[CV 2/3] END regressor__max_depth=3, regressor__max_features=3, regressor__max_samples=0.8, regressor__min_samples_leaf=0.8, regressor__n_estimators=100;, score=(train=-0.271, test=-0.270) total time=   0.3s\n",
      "[CV 3/3] END regressor__max_depth=3, regressor__max_features=3, regressor__max_samples=0.8, regressor__min_samples_leaf=0.8, regressor__n_estimators=100;, score=(train=-0.261, test=-0.301) total time=   0.3s\n",
      "[CV 1/3] END regressor__max_depth=3, regressor__max_features=4, regressor__max_samples=0.2, regressor__min_samples_leaf=0.2, regressor__n_estimators=100;, score=(train=-0.282, test=-0.246) total time=   0.3s\n",
      "[CV 2/3] END regressor__max_depth=3, regressor__max_features=4, regressor__max_samples=0.2, regressor__min_samples_leaf=0.2, regressor__n_estimators=100;, score=(train=-0.271, test=-0.270) total time=   0.3s\n",
      "[CV 3/3] END regressor__max_depth=3, regressor__max_features=4, regressor__max_samples=0.2, regressor__min_samples_leaf=0.2, regressor__n_estimators=100;, score=(train=-0.261, test=-0.300) total time=   0.3s\n",
      "[CV 1/3] END regressor__max_depth=3, regressor__max_features=4, regressor__max_samples=0.2, regressor__min_samples_leaf=0.5, regressor__n_estimators=100;, score=(train=-0.282, test=-0.246) total time=   0.3s\n",
      "[CV 2/3] END regressor__max_depth=3, regressor__max_features=4, regressor__max_samples=0.2, regressor__min_samples_leaf=0.5, regressor__n_estimators=100;, score=(train=-0.271, test=-0.270) total time=   0.3s\n",
      "[CV 3/3] END regressor__max_depth=3, regressor__max_features=4, regressor__max_samples=0.2, regressor__min_samples_leaf=0.5, regressor__n_estimators=100;, score=(train=-0.261, test=-0.300) total time=   0.3s\n",
      "[CV 1/3] END regressor__max_depth=3, regressor__max_features=4, regressor__max_samples=0.2, regressor__min_samples_leaf=0.8, regressor__n_estimators=100;, score=(train=-0.282, test=-0.246) total time=   0.3s\n",
      "[CV 2/3] END regressor__max_depth=3, regressor__max_features=4, regressor__max_samples=0.2, regressor__min_samples_leaf=0.8, regressor__n_estimators=100;, score=(train=-0.271, test=-0.270) total time=   0.3s\n",
      "[CV 3/3] END regressor__max_depth=3, regressor__max_features=4, regressor__max_samples=0.2, regressor__min_samples_leaf=0.8, regressor__n_estimators=100;, score=(train=-0.261, test=-0.300) total time=   0.4s\n",
      "[CV 1/3] END regressor__max_depth=3, regressor__max_features=4, regressor__max_samples=0.5, regressor__min_samples_leaf=0.2, regressor__n_estimators=100;, score=(train=-0.256, test=-0.219) total time=   0.4s\n",
      "[CV 2/3] END regressor__max_depth=3, regressor__max_features=4, regressor__max_samples=0.5, regressor__min_samples_leaf=0.2, regressor__n_estimators=100;, score=(train=-0.241, test=-0.250) total time=   0.4s\n",
      "[CV 3/3] END regressor__max_depth=3, regressor__max_features=4, regressor__max_samples=0.5, regressor__min_samples_leaf=0.2, regressor__n_estimators=100;, score=(train=-0.239, test=-0.271) total time=   0.4s\n",
      "[CV 1/3] END regressor__max_depth=3, regressor__max_features=4, regressor__max_samples=0.5, regressor__min_samples_leaf=0.5, regressor__n_estimators=100;, score=(train=-0.283, test=-0.246) total time=   0.3s\n",
      "[CV 2/3] END regressor__max_depth=3, regressor__max_features=4, regressor__max_samples=0.5, regressor__min_samples_leaf=0.5, regressor__n_estimators=100;, score=(train=-0.271, test=-0.270) total time=   0.3s\n",
      "[CV 3/3] END regressor__max_depth=3, regressor__max_features=4, regressor__max_samples=0.5, regressor__min_samples_leaf=0.5, regressor__n_estimators=100;, score=(train=-0.261, test=-0.301) total time=   0.4s\n",
      "[CV 1/3] END regressor__max_depth=3, regressor__max_features=4, regressor__max_samples=0.5, regressor__min_samples_leaf=0.8, regressor__n_estimators=100;, score=(train=-0.283, test=-0.246) total time=   0.4s\n",
      "[CV 2/3] END regressor__max_depth=3, regressor__max_features=4, regressor__max_samples=0.5, regressor__min_samples_leaf=0.8, regressor__n_estimators=100;, score=(train=-0.271, test=-0.270) total time=   0.3s\n",
      "[CV 3/3] END regressor__max_depth=3, regressor__max_features=4, regressor__max_samples=0.5, regressor__min_samples_leaf=0.8, regressor__n_estimators=100;, score=(train=-0.261, test=-0.301) total time=   0.3s\n",
      "[CV 1/3] END regressor__max_depth=3, regressor__max_features=4, regressor__max_samples=0.8, regressor__min_samples_leaf=0.2, regressor__n_estimators=100;, score=(train=-0.226, test=-0.203) total time=   0.4s\n",
      "[CV 2/3] END regressor__max_depth=3, regressor__max_features=4, regressor__max_samples=0.8, regressor__min_samples_leaf=0.2, regressor__n_estimators=100;, score=(train=-0.211, test=-0.231) total time=   0.4s\n",
      "[CV 3/3] END regressor__max_depth=3, regressor__max_features=4, regressor__max_samples=0.8, regressor__min_samples_leaf=0.2, regressor__n_estimators=100;, score=(train=-0.214, test=-0.238) total time=   0.3s\n",
      "[CV 1/3] END regressor__max_depth=3, regressor__max_features=4, regressor__max_samples=0.8, regressor__min_samples_leaf=0.5, regressor__n_estimators=100;, score=(train=-0.283, test=-0.246) total time=   0.3s\n",
      "[CV 2/3] END regressor__max_depth=3, regressor__max_features=4, regressor__max_samples=0.8, regressor__min_samples_leaf=0.5, regressor__n_estimators=100;, score=(train=-0.271, test=-0.270) total time=   0.3s\n",
      "[CV 3/3] END regressor__max_depth=3, regressor__max_features=4, regressor__max_samples=0.8, regressor__min_samples_leaf=0.5, regressor__n_estimators=100;, score=(train=-0.261, test=-0.301) total time=   0.3s\n",
      "[CV 1/3] END regressor__max_depth=3, regressor__max_features=4, regressor__max_samples=0.8, regressor__min_samples_leaf=0.8, regressor__n_estimators=100;, score=(train=-0.283, test=-0.246) total time=   0.3s\n",
      "[CV 2/3] END regressor__max_depth=3, regressor__max_features=4, regressor__max_samples=0.8, regressor__min_samples_leaf=0.8, regressor__n_estimators=100;, score=(train=-0.271, test=-0.270) total time=   0.3s\n",
      "[CV 1/3] END regressor__max_depth=5, regressor__max_features=2, regressor__max_samples=0.2, regressor__min_samples_leaf=0.2, regressor__n_estimators=100;, score=(train=-0.282, test=-0.246) total time=   0.3s\n",
      "[CV 3/3] END regressor__max_depth=3, regressor__max_features=4, regressor__max_samples=0.8, regressor__min_samples_leaf=0.8, regressor__n_estimators=100;, score=(train=-0.261, test=-0.301) total time=   0.3s\n",
      "[CV 2/3] END regressor__max_depth=5, regressor__max_features=2, regressor__max_samples=0.2, regressor__min_samples_leaf=0.2, regressor__n_estimators=100;, score=(train=-0.271, test=-0.270) total time=   0.3s\n",
      "[CV 3/3] END regressor__max_depth=5, regressor__max_features=2, regressor__max_samples=0.2, regressor__min_samples_leaf=0.2, regressor__n_estimators=100;, score=(train=-0.261, test=-0.300) total time=   0.3s\n",
      "[CV 1/3] END regressor__max_depth=5, regressor__max_features=2, regressor__max_samples=0.2, regressor__min_samples_leaf=0.5, regressor__n_estimators=100;, score=(train=-0.282, test=-0.246) total time=   0.3s\n",
      "[CV 2/3] END regressor__max_depth=5, regressor__max_features=2, regressor__max_samples=0.2, regressor__min_samples_leaf=0.5, regressor__n_estimators=100;, score=(train=-0.271, test=-0.270) total time=   0.3s\n",
      "[CV 3/3] END regressor__max_depth=5, regressor__max_features=2, regressor__max_samples=0.2, regressor__min_samples_leaf=0.5, regressor__n_estimators=100;, score=(train=-0.261, test=-0.300) total time=   0.3s\n",
      "[CV 1/3] END regressor__max_depth=5, regressor__max_features=2, regressor__max_samples=0.2, regressor__min_samples_leaf=0.8, regressor__n_estimators=100;, score=(train=-0.282, test=-0.246) total time=   0.3s\n",
      "[CV 2/3] END regressor__max_depth=5, regressor__max_features=2, regressor__max_samples=0.2, regressor__min_samples_leaf=0.8, regressor__n_estimators=100;, score=(train=-0.271, test=-0.270) total time=   0.3s\n",
      "[CV 3/3] END regressor__max_depth=5, regressor__max_features=2, regressor__max_samples=0.2, regressor__min_samples_leaf=0.8, regressor__n_estimators=100;, score=(train=-0.261, test=-0.300) total time=   0.3s\n",
      "[CV 1/3] END regressor__max_depth=5, regressor__max_features=2, regressor__max_samples=0.5, regressor__min_samples_leaf=0.2, regressor__n_estimators=100;, score=(train=-0.265, test=-0.229) total time=   0.3s\n",
      "[CV 2/3] END regressor__max_depth=5, regressor__max_features=2, regressor__max_samples=0.5, regressor__min_samples_leaf=0.2, regressor__n_estimators=100;, score=(train=-0.251, test=-0.255) total time=   0.3s\n",
      "[CV 3/3] END regressor__max_depth=5, regressor__max_features=2, regressor__max_samples=0.5, regressor__min_samples_leaf=0.2, regressor__n_estimators=100;, score=(train=-0.245, test=-0.282) total time=   0.3s\n",
      "[CV 1/3] END regressor__max_depth=5, regressor__max_features=2, regressor__max_samples=0.5, regressor__min_samples_leaf=0.5, regressor__n_estimators=100;, score=(train=-0.283, test=-0.246) total time=   0.3s\n",
      "[CV 3/3] END regressor__max_depth=5, regressor__max_features=2, regressor__max_samples=0.5, regressor__min_samples_leaf=0.5, regressor__n_estimators=100;, score=(train=-0.261, test=-0.301) total time=   0.3s\n",
      "[CV 2/3] END regressor__max_depth=5, regressor__max_features=2, regressor__max_samples=0.5, regressor__min_samples_leaf=0.5, regressor__n_estimators=100;, score=(train=-0.271, test=-0.270) total time=   0.3s\n",
      "[CV 1/3] END regressor__max_depth=5, regressor__max_features=2, regressor__max_samples=0.5, regressor__min_samples_leaf=0.8, regressor__n_estimators=100;, score=(train=-0.283, test=-0.246) total time=   0.3s\n",
      "[CV 2/3] END regressor__max_depth=5, regressor__max_features=2, regressor__max_samples=0.5, regressor__min_samples_leaf=0.8, regressor__n_estimators=100;, score=(train=-0.271, test=-0.270) total time=   0.3s\n",
      "[CV 3/3] END regressor__max_depth=5, regressor__max_features=2, regressor__max_samples=0.5, regressor__min_samples_leaf=0.8, regressor__n_estimators=100;, score=(train=-0.261, test=-0.301) total time=   0.3s\n",
      "[CV 1/3] END regressor__max_depth=5, regressor__max_features=2, regressor__max_samples=0.8, regressor__min_samples_leaf=0.2, regressor__n_estimators=100;, score=(train=-0.233, test=-0.200) total time=   0.3s\n",
      "[CV 2/3] END regressor__max_depth=5, regressor__max_features=2, regressor__max_samples=0.8, regressor__min_samples_leaf=0.2, regressor__n_estimators=100;, score=(train=-0.217, test=-0.230) total time=   0.3s\n",
      "[CV 3/3] END regressor__max_depth=5, regressor__max_features=2, regressor__max_samples=0.8, regressor__min_samples_leaf=0.2, regressor__n_estimators=100;, score=(train=-0.219, test=-0.253) total time=   0.3s\n",
      "[CV 1/3] END regressor__max_depth=5, regressor__max_features=2, regressor__max_samples=0.8, regressor__min_samples_leaf=0.5, regressor__n_estimators=100;, score=(train=-0.283, test=-0.246) total time=   0.3s\n",
      "[CV 2/3] END regressor__max_depth=5, regressor__max_features=2, regressor__max_samples=0.8, regressor__min_samples_leaf=0.5, regressor__n_estimators=100;, score=(train=-0.271, test=-0.270) total time=   0.3s\n",
      "[CV 3/3] END regressor__max_depth=5, regressor__max_features=2, regressor__max_samples=0.8, regressor__min_samples_leaf=0.5, regressor__n_estimators=100;, score=(train=-0.261, test=-0.301) total time=   0.3s\n",
      "[CV 1/3] END regressor__max_depth=5, regressor__max_features=2, regressor__max_samples=0.8, regressor__min_samples_leaf=0.8, regressor__n_estimators=100;, score=(train=-0.283, test=-0.246) total time=   0.3s\n",
      "[CV 2/3] END regressor__max_depth=5, regressor__max_features=2, regressor__max_samples=0.8, regressor__min_samples_leaf=0.8, regressor__n_estimators=100;, score=(train=-0.271, test=-0.270) total time=   0.3s\n",
      "[CV 3/3] END regressor__max_depth=5, regressor__max_features=2, regressor__max_samples=0.8, regressor__min_samples_leaf=0.8, regressor__n_estimators=100;, score=(train=-0.261, test=-0.301) total time=   0.3s\n",
      "[CV 1/3] END regressor__max_depth=5, regressor__max_features=3, regressor__max_samples=0.2, regressor__min_samples_leaf=0.2, regressor__n_estimators=100;, score=(train=-0.282, test=-0.246) total time=   0.4s\n",
      "[CV 2/3] END regressor__max_depth=5, regressor__max_features=3, regressor__max_samples=0.2, regressor__min_samples_leaf=0.2, regressor__n_estimators=100;, score=(train=-0.271, test=-0.270) total time=   0.3s\n",
      "[CV 3/3] END regressor__max_depth=5, regressor__max_features=3, regressor__max_samples=0.2, regressor__min_samples_leaf=0.2, regressor__n_estimators=100;, score=(train=-0.261, test=-0.300) total time=   0.3s\n",
      "[CV 1/3] END regressor__max_depth=5, regressor__max_features=3, regressor__max_samples=0.2, regressor__min_samples_leaf=0.5, regressor__n_estimators=100;, score=(train=-0.282, test=-0.246) total time=   0.3s\n",
      "[CV 2/3] END regressor__max_depth=5, regressor__max_features=3, regressor__max_samples=0.2, regressor__min_samples_leaf=0.5, regressor__n_estimators=100;, score=(train=-0.271, test=-0.270) total time=   0.3s\n",
      "[CV 3/3] END regressor__max_depth=5, regressor__max_features=3, regressor__max_samples=0.2, regressor__min_samples_leaf=0.5, regressor__n_estimators=100;, score=(train=-0.261, test=-0.300) total time=   0.3s\n",
      "[CV 1/3] END regressor__max_depth=5, regressor__max_features=3, regressor__max_samples=0.2, regressor__min_samples_leaf=0.8, regressor__n_estimators=100;, score=(train=-0.282, test=-0.246) total time=   0.3s\n",
      "[CV 2/3] END regressor__max_depth=5, regressor__max_features=3, regressor__max_samples=0.2, regressor__min_samples_leaf=0.8, regressor__n_estimators=100;, score=(train=-0.271, test=-0.270) total time=   0.3s\n",
      "[CV 3/3] END regressor__max_depth=5, regressor__max_features=3, regressor__max_samples=0.2, regressor__min_samples_leaf=0.8, regressor__n_estimators=100;, score=(train=-0.261, test=-0.300) total time=   0.3s\n",
      "[CV 1/3] END regressor__max_depth=5, regressor__max_features=3, regressor__max_samples=0.5, regressor__min_samples_leaf=0.2, regressor__n_estimators=100;, score=(train=-0.260, test=-0.223) total time=   0.3s\n",
      "[CV 2/3] END regressor__max_depth=5, regressor__max_features=3, regressor__max_samples=0.5, regressor__min_samples_leaf=0.2, regressor__n_estimators=100;, score=(train=-0.245, test=-0.251) total time=   0.3s\n",
      "[CV 3/3] END regressor__max_depth=5, regressor__max_features=3, regressor__max_samples=0.5, regressor__min_samples_leaf=0.2, regressor__n_estimators=100;, score=(train=-0.242, test=-0.276) total time=   0.3s\n",
      "[CV 1/3] END regressor__max_depth=5, regressor__max_features=3, regressor__max_samples=0.5, regressor__min_samples_leaf=0.5, regressor__n_estimators=100;, score=(train=-0.283, test=-0.246) total time=   0.3s\n",
      "[CV 2/3] END regressor__max_depth=5, regressor__max_features=3, regressor__max_samples=0.5, regressor__min_samples_leaf=0.5, regressor__n_estimators=100;, score=(train=-0.271, test=-0.270) total time=   0.3s\n",
      "[CV 3/3] END regressor__max_depth=5, regressor__max_features=3, regressor__max_samples=0.5, regressor__min_samples_leaf=0.5, regressor__n_estimators=100;, score=(train=-0.261, test=-0.301) total time=   0.3s\n",
      "[CV 1/3] END regressor__max_depth=5, regressor__max_features=3, regressor__max_samples=0.5, regressor__min_samples_leaf=0.8, regressor__n_estimators=100;, score=(train=-0.283, test=-0.246) total time=   0.3s\n",
      "[CV 2/3] END regressor__max_depth=5, regressor__max_features=3, regressor__max_samples=0.5, regressor__min_samples_leaf=0.8, regressor__n_estimators=100;, score=(train=-0.271, test=-0.270) total time=   0.3s\n",
      "[CV 3/3] END regressor__max_depth=5, regressor__max_features=3, regressor__max_samples=0.5, regressor__min_samples_leaf=0.8, regressor__n_estimators=100;, score=(train=-0.261, test=-0.301) total time=   0.3s\n",
      "[CV 1/3] END regressor__max_depth=5, regressor__max_features=3, regressor__max_samples=0.8, regressor__min_samples_leaf=0.2, regressor__n_estimators=100;, score=(train=-0.226, test=-0.198) total time=   0.3s\n",
      "[CV 2/3] END regressor__max_depth=5, regressor__max_features=3, regressor__max_samples=0.8, regressor__min_samples_leaf=0.2, regressor__n_estimators=100;, score=(train=-0.210, test=-0.227) total time=   0.3s\n",
      "[CV 3/3] END regressor__max_depth=5, regressor__max_features=3, regressor__max_samples=0.8, regressor__min_samples_leaf=0.2, regressor__n_estimators=100;, score=(train=-0.214, test=-0.243) total time=   0.3s\n",
      "[CV 1/3] END regressor__max_depth=5, regressor__max_features=3, regressor__max_samples=0.8, regressor__min_samples_leaf=0.5, regressor__n_estimators=100;, score=(train=-0.283, test=-0.246) total time=   0.3s\n",
      "[CV 2/3] END regressor__max_depth=5, regressor__max_features=3, regressor__max_samples=0.8, regressor__min_samples_leaf=0.5, regressor__n_estimators=100;, score=(train=-0.271, test=-0.270) total time=   0.4s\n",
      "[CV 3/3] END regressor__max_depth=5, regressor__max_features=3, regressor__max_samples=0.8, regressor__min_samples_leaf=0.5, regressor__n_estimators=100;, score=(train=-0.261, test=-0.301) total time=   0.4s\n",
      "[CV 1/3] END regressor__max_depth=5, regressor__max_features=3, regressor__max_samples=0.8, regressor__min_samples_leaf=0.8, regressor__n_estimators=100;, score=(train=-0.283, test=-0.246) total time=   0.3s\n",
      "[CV 2/3] END regressor__max_depth=5, regressor__max_features=3, regressor__max_samples=0.8, regressor__min_samples_leaf=0.8, regressor__n_estimators=100;, score=(train=-0.271, test=-0.270) total time=   0.3s\n",
      "[CV 3/3] END regressor__max_depth=5, regressor__max_features=3, regressor__max_samples=0.8, regressor__min_samples_leaf=0.8, regressor__n_estimators=100;, score=(train=-0.261, test=-0.301) total time=   0.3s\n",
      "[CV 1/3] END regressor__max_depth=5, regressor__max_features=4, regressor__max_samples=0.2, regressor__min_samples_leaf=0.2, regressor__n_estimators=100;, score=(train=-0.282, test=-0.246) total time=   0.3s\n",
      "[CV 2/3] END regressor__max_depth=5, regressor__max_features=4, regressor__max_samples=0.2, regressor__min_samples_leaf=0.2, regressor__n_estimators=100;, score=(train=-0.271, test=-0.270) total time=   0.3s\n",
      "[CV 3/3] END regressor__max_depth=5, regressor__max_features=4, regressor__max_samples=0.2, regressor__min_samples_leaf=0.2, regressor__n_estimators=100;, score=(train=-0.261, test=-0.300) total time=   0.3s\n",
      "[CV 1/3] END regressor__max_depth=5, regressor__max_features=4, regressor__max_samples=0.2, regressor__min_samples_leaf=0.5, regressor__n_estimators=100;, score=(train=-0.282, test=-0.246) total time=   0.3s\n",
      "[CV 2/3] END regressor__max_depth=5, regressor__max_features=4, regressor__max_samples=0.2, regressor__min_samples_leaf=0.5, regressor__n_estimators=100;, score=(train=-0.271, test=-0.270) total time=   0.3s\n",
      "[CV 3/3] END regressor__max_depth=5, regressor__max_features=4, regressor__max_samples=0.2, regressor__min_samples_leaf=0.5, regressor__n_estimators=100;, score=(train=-0.261, test=-0.300) total time=   0.3s\n",
      "[CV 1/3] END regressor__max_depth=5, regressor__max_features=4, regressor__max_samples=0.2, regressor__min_samples_leaf=0.8, regressor__n_estimators=100;, score=(train=-0.282, test=-0.246) total time=   0.3s\n",
      "[CV 2/3] END regressor__max_depth=5, regressor__max_features=4, regressor__max_samples=0.2, regressor__min_samples_leaf=0.8, regressor__n_estimators=100;, score=(train=-0.271, test=-0.270) total time=   0.3s\n",
      "[CV 3/3] END regressor__max_depth=5, regressor__max_features=4, regressor__max_samples=0.2, regressor__min_samples_leaf=0.8, regressor__n_estimators=100;, score=(train=-0.261, test=-0.300) total time=   0.3s\n",
      "[CV 1/3] END regressor__max_depth=5, regressor__max_features=4, regressor__max_samples=0.5, regressor__min_samples_leaf=0.2, regressor__n_estimators=100;, score=(train=-0.256, test=-0.219) total time=   0.3s\n",
      "[CV 2/3] END regressor__max_depth=5, regressor__max_features=4, regressor__max_samples=0.5, regressor__min_samples_leaf=0.2, regressor__n_estimators=100;, score=(train=-0.241, test=-0.250) total time=   0.3s\n",
      "[CV 3/3] END regressor__max_depth=5, regressor__max_features=4, regressor__max_samples=0.5, regressor__min_samples_leaf=0.2, regressor__n_estimators=100;, score=(train=-0.239, test=-0.271) total time=   0.3s\n",
      "[CV 1/3] END regressor__max_depth=5, regressor__max_features=4, regressor__max_samples=0.5, regressor__min_samples_leaf=0.5, regressor__n_estimators=100;, score=(train=-0.283, test=-0.246) total time=   0.3s\n",
      "[CV 2/3] END regressor__max_depth=5, regressor__max_features=4, regressor__max_samples=0.5, regressor__min_samples_leaf=0.5, regressor__n_estimators=100;, score=(train=-0.271, test=-0.270) total time=   0.3s\n",
      "[CV 3/3] END regressor__max_depth=5, regressor__max_features=4, regressor__max_samples=0.5, regressor__min_samples_leaf=0.5, regressor__n_estimators=100;, score=(train=-0.261, test=-0.301) total time=   0.3s\n",
      "[CV 1/3] END regressor__max_depth=5, regressor__max_features=4, regressor__max_samples=0.5, regressor__min_samples_leaf=0.8, regressor__n_estimators=100;, score=(train=-0.283, test=-0.246) total time=   0.3s\n",
      "[CV 2/3] END regressor__max_depth=5, regressor__max_features=4, regressor__max_samples=0.5, regressor__min_samples_leaf=0.8, regressor__n_estimators=100;, score=(train=-0.271, test=-0.270) total time=   0.4s\n",
      "[CV 3/3] END regressor__max_depth=5, regressor__max_features=4, regressor__max_samples=0.5, regressor__min_samples_leaf=0.8, regressor__n_estimators=100;, score=(train=-0.261, test=-0.301) total time=   0.4s\n",
      "[CV 1/3] END regressor__max_depth=5, regressor__max_features=4, regressor__max_samples=0.8, regressor__min_samples_leaf=0.2, regressor__n_estimators=100;, score=(train=-0.226, test=-0.203) total time=   0.4s\n",
      "[CV 2/3] END regressor__max_depth=5, regressor__max_features=4, regressor__max_samples=0.8, regressor__min_samples_leaf=0.2, regressor__n_estimators=100;, score=(train=-0.211, test=-0.231) total time=   0.4s\n",
      "[CV 3/3] END regressor__max_depth=5, regressor__max_features=4, regressor__max_samples=0.8, regressor__min_samples_leaf=0.2, regressor__n_estimators=100;, score=(train=-0.214, test=-0.238) total time=   0.4s\n",
      "[CV 1/3] END regressor__max_depth=5, regressor__max_features=4, regressor__max_samples=0.8, regressor__min_samples_leaf=0.5, regressor__n_estimators=100;, score=(train=-0.283, test=-0.246) total time=   0.3s\n",
      "[CV 2/3] END regressor__max_depth=5, regressor__max_features=4, regressor__max_samples=0.8, regressor__min_samples_leaf=0.5, regressor__n_estimators=100;, score=(train=-0.271, test=-0.270) total time=   0.3s\n",
      "[CV 3/3] END regressor__max_depth=5, regressor__max_features=4, regressor__max_samples=0.8, regressor__min_samples_leaf=0.5, regressor__n_estimators=100;, score=(train=-0.261, test=-0.301) total time=   0.4s\n",
      "[CV 1/3] END regressor__max_depth=5, regressor__max_features=4, regressor__max_samples=0.8, regressor__min_samples_leaf=0.8, regressor__n_estimators=100;, score=(train=-0.283, test=-0.246) total time=   0.4s\n",
      "[CV 2/3] END regressor__max_depth=5, regressor__max_features=4, regressor__max_samples=0.8, regressor__min_samples_leaf=0.8, regressor__n_estimators=100;, score=(train=-0.271, test=-0.270) total time=   0.4s\n",
      "[CV 3/3] END regressor__max_depth=5, regressor__max_features=4, regressor__max_samples=0.8, regressor__min_samples_leaf=0.8, regressor__n_estimators=100;, score=(train=-0.261, test=-0.301) total time=   0.3s\n",
      "Fitting 3 folds for each of 54 candidates, totalling 162 fits\n",
      "[CV 2/3] END regressor__max_depth=3, regressor__max_features=2, regressor__max_samples=0.2, regressor__min_samples_leaf=0.2, regressor__n_estimators=100;, score=(train=-0.279, test=-0.281) total time=   0.3s\n",
      "[CV 1/3] END regressor__max_depth=3, regressor__max_features=2, regressor__max_samples=0.2, regressor__min_samples_leaf=0.2, regressor__n_estimators=100;, score=(train=-0.292, test=-0.250) total time=   0.4s\n",
      "[CV 3/3] END regressor__max_depth=3, regressor__max_features=2, regressor__max_samples=0.2, regressor__min_samples_leaf=0.2, regressor__n_estimators=100;, score=(train=-0.270, test=-0.312) total time=   0.3s[CV 1/3] END regressor__max_depth=3, regressor__max_features=2, regressor__max_samples=0.2, regressor__min_samples_leaf=0.5, regressor__n_estimators=100;, score=(train=-0.292, test=-0.250) total time=   0.3s\n",
      "\n",
      "[CV 2/3] END regressor__max_depth=3, regressor__max_features=2, regressor__max_samples=0.2, regressor__min_samples_leaf=0.5, regressor__n_estimators=100;, score=(train=-0.279, test=-0.281) total time=   0.3s\n",
      "[CV 3/3] END regressor__max_depth=3, regressor__max_features=2, regressor__max_samples=0.2, regressor__min_samples_leaf=0.5, regressor__n_estimators=100;, score=(train=-0.270, test=-0.312) total time=   0.3s\n",
      "[CV 1/3] END regressor__max_depth=3, regressor__max_features=2, regressor__max_samples=0.2, regressor__min_samples_leaf=0.8, regressor__n_estimators=100;, score=(train=-0.292, test=-0.250) total time=   0.3s\n",
      "[CV 2/3] END regressor__max_depth=3, regressor__max_features=2, regressor__max_samples=0.2, regressor__min_samples_leaf=0.8, regressor__n_estimators=100;, score=(train=-0.279, test=-0.281) total time=   0.3s\n",
      "[CV 3/3] END regressor__max_depth=3, regressor__max_features=2, regressor__max_samples=0.2, regressor__min_samples_leaf=0.8, regressor__n_estimators=100;, score=(train=-0.270, test=-0.312) total time=   0.3s\n",
      "[CV 1/3] END regressor__max_depth=3, regressor__max_features=2, regressor__max_samples=0.5, regressor__min_samples_leaf=0.2, regressor__n_estimators=100;, score=(train=-0.276, test=-0.233) total time=   0.3s\n",
      "[CV 2/3] END regressor__max_depth=3, regressor__max_features=2, regressor__max_samples=0.5, regressor__min_samples_leaf=0.2, regressor__n_estimators=100;, score=(train=-0.259, test=-0.267) total time=   0.3s\n",
      "[CV 3/3] END regressor__max_depth=3, regressor__max_features=2, regressor__max_samples=0.5, regressor__min_samples_leaf=0.2, regressor__n_estimators=100;, score=(train=-0.257, test=-0.294) total time=   0.3s\n",
      "[CV 1/3] END regressor__max_depth=3, regressor__max_features=2, regressor__max_samples=0.5, regressor__min_samples_leaf=0.5, regressor__n_estimators=100;, score=(train=-0.293, test=-0.250) total time=   0.3s\n",
      "[CV 2/3] END regressor__max_depth=3, regressor__max_features=2, regressor__max_samples=0.5, regressor__min_samples_leaf=0.5, regressor__n_estimators=100;, score=(train=-0.279, test=-0.281) total time=   0.3s\n",
      "[CV 3/3] END regressor__max_depth=3, regressor__max_features=2, regressor__max_samples=0.5, regressor__min_samples_leaf=0.5, regressor__n_estimators=100;, score=(train=-0.271, test=-0.313) total time=   0.3s\n",
      "[CV 1/3] END regressor__max_depth=3, regressor__max_features=2, regressor__max_samples=0.5, regressor__min_samples_leaf=0.8, regressor__n_estimators=100;, score=(train=-0.293, test=-0.250) total time=   0.3s\n",
      "[CV 2/3] END regressor__max_depth=3, regressor__max_features=2, regressor__max_samples=0.5, regressor__min_samples_leaf=0.8, regressor__n_estimators=100;, score=(train=-0.279, test=-0.281) total time=   0.3s\n",
      "[CV 3/3] END regressor__max_depth=3, regressor__max_features=2, regressor__max_samples=0.5, regressor__min_samples_leaf=0.8, regressor__n_estimators=100;, score=(train=-0.271, test=-0.313) total time=   0.4s\n",
      "[CV 1/3] END regressor__max_depth=3, regressor__max_features=2, regressor__max_samples=0.8, regressor__min_samples_leaf=0.2, regressor__n_estimators=100;, score=(train=-0.245, test=-0.210) total time=   0.3s\n",
      "[CV 2/3] END regressor__max_depth=3, regressor__max_features=2, regressor__max_samples=0.8, regressor__min_samples_leaf=0.2, regressor__n_estimators=100;, score=(train=-0.225, test=-0.240) total time=   0.4s\n",
      "[CV 3/3] END regressor__max_depth=3, regressor__max_features=2, regressor__max_samples=0.8, regressor__min_samples_leaf=0.2, regressor__n_estimators=100;, score=(train=-0.230, test=-0.267) total time=   0.3s\n",
      "[CV 1/3] END regressor__max_depth=3, regressor__max_features=2, regressor__max_samples=0.8, regressor__min_samples_leaf=0.5, regressor__n_estimators=100;, score=(train=-0.293, test=-0.250) total time=   0.4s\n",
      "[CV 2/3] END regressor__max_depth=3, regressor__max_features=2, regressor__max_samples=0.8, regressor__min_samples_leaf=0.5, regressor__n_estimators=100;, score=(train=-0.278, test=-0.280) total time=   0.3s\n",
      "[CV 3/3] END regressor__max_depth=3, regressor__max_features=2, regressor__max_samples=0.8, regressor__min_samples_leaf=0.5, regressor__n_estimators=100;, score=(train=-0.271, test=-0.313) total time=   0.3s\n",
      "[CV 1/3] END regressor__max_depth=3, regressor__max_features=2, regressor__max_samples=0.8, regressor__min_samples_leaf=0.8, regressor__n_estimators=100;, score=(train=-0.293, test=-0.250) total time=   0.3s\n",
      "[CV 2/3] END regressor__max_depth=3, regressor__max_features=2, regressor__max_samples=0.8, regressor__min_samples_leaf=0.8, regressor__n_estimators=100;, score=(train=-0.278, test=-0.280) total time=   0.4s\n",
      "[CV 3/3] END regressor__max_depth=3, regressor__max_features=2, regressor__max_samples=0.8, regressor__min_samples_leaf=0.8, regressor__n_estimators=100;, score=(train=-0.271, test=-0.313) total time=   0.3s\n",
      "[CV 1/3] END regressor__max_depth=3, regressor__max_features=3, regressor__max_samples=0.2, regressor__min_samples_leaf=0.2, regressor__n_estimators=100;, score=(train=-0.292, test=-0.250) total time=   0.3s\n",
      "[CV 2/3] END regressor__max_depth=3, regressor__max_features=3, regressor__max_samples=0.2, regressor__min_samples_leaf=0.2, regressor__n_estimators=100;, score=(train=-0.279, test=-0.281) total time=   0.3s\n",
      "[CV 3/3] END regressor__max_depth=3, regressor__max_features=3, regressor__max_samples=0.2, regressor__min_samples_leaf=0.2, regressor__n_estimators=100;, score=(train=-0.270, test=-0.312) total time=   0.3s\n",
      "[CV 1/3] END regressor__max_depth=3, regressor__max_features=3, regressor__max_samples=0.2, regressor__min_samples_leaf=0.5, regressor__n_estimators=100;, score=(train=-0.292, test=-0.250) total time=   0.4s\n",
      "[CV 2/3] END regressor__max_depth=3, regressor__max_features=3, regressor__max_samples=0.2, regressor__min_samples_leaf=0.5, regressor__n_estimators=100;, score=(train=-0.279, test=-0.281) total time=   0.3s\n",
      "[CV 3/3] END regressor__max_depth=3, regressor__max_features=3, regressor__max_samples=0.2, regressor__min_samples_leaf=0.5, regressor__n_estimators=100;, score=(train=-0.270, test=-0.312) total time=   0.3s\n",
      "[CV 1/3] END regressor__max_depth=3, regressor__max_features=3, regressor__max_samples=0.2, regressor__min_samples_leaf=0.8, regressor__n_estimators=100;, score=(train=-0.292, test=-0.250) total time=   0.3s\n",
      "[CV 2/3] END regressor__max_depth=3, regressor__max_features=3, regressor__max_samples=0.2, regressor__min_samples_leaf=0.8, regressor__n_estimators=100;, score=(train=-0.279, test=-0.281) total time=   0.3s\n",
      "[CV 3/3] END regressor__max_depth=3, regressor__max_features=3, regressor__max_samples=0.2, regressor__min_samples_leaf=0.8, regressor__n_estimators=100;, score=(train=-0.270, test=-0.312) total time=   0.4s\n",
      "[CV 1/3] END regressor__max_depth=3, regressor__max_features=3, regressor__max_samples=0.5, regressor__min_samples_leaf=0.2, regressor__n_estimators=100;, score=(train=-0.271, test=-0.229) total time=   0.3s\n",
      "[CV 2/3] END regressor__max_depth=3, regressor__max_features=3, regressor__max_samples=0.5, regressor__min_samples_leaf=0.2, regressor__n_estimators=100;, score=(train=-0.253, test=-0.265) total time=   0.4s\n",
      "[CV 3/3] END regressor__max_depth=3, regressor__max_features=3, regressor__max_samples=0.5, regressor__min_samples_leaf=0.2, regressor__n_estimators=100;, score=(train=-0.254, test=-0.288) total time=   0.4s\n",
      "[CV 1/3] END regressor__max_depth=3, regressor__max_features=3, regressor__max_samples=0.5, regressor__min_samples_leaf=0.5, regressor__n_estimators=100;, score=(train=-0.293, test=-0.250) total time=   0.3s\n",
      "[CV 2/3] END regressor__max_depth=3, regressor__max_features=3, regressor__max_samples=0.5, regressor__min_samples_leaf=0.5, regressor__n_estimators=100;, score=(train=-0.279, test=-0.281) total time=   0.3s\n",
      "[CV 3/3] END regressor__max_depth=3, regressor__max_features=3, regressor__max_samples=0.5, regressor__min_samples_leaf=0.5, regressor__n_estimators=100;, score=(train=-0.271, test=-0.313) total time=   0.4s\n",
      "[CV 1/3] END regressor__max_depth=3, regressor__max_features=3, regressor__max_samples=0.5, regressor__min_samples_leaf=0.8, regressor__n_estimators=100;, score=(train=-0.293, test=-0.250) total time=   0.3s\n",
      "[CV 2/3] END regressor__max_depth=3, regressor__max_features=3, regressor__max_samples=0.5, regressor__min_samples_leaf=0.8, regressor__n_estimators=100;, score=(train=-0.279, test=-0.281) total time=   0.4s\n",
      "[CV 3/3] END regressor__max_depth=3, regressor__max_features=3, regressor__max_samples=0.5, regressor__min_samples_leaf=0.8, regressor__n_estimators=100;, score=(train=-0.271, test=-0.313) total time=   0.3s\n",
      "[CV 1/3] END regressor__max_depth=3, regressor__max_features=3, regressor__max_samples=0.8, regressor__min_samples_leaf=0.2, regressor__n_estimators=100;, score=(train=-0.239, test=-0.209) total time=   0.3s\n",
      "[CV 2/3] END regressor__max_depth=3, regressor__max_features=3, regressor__max_samples=0.8, regressor__min_samples_leaf=0.2, regressor__n_estimators=100;, score=(train=-0.221, test=-0.240) total time=   0.3s\n",
      "[CV 3/3] END regressor__max_depth=3, regressor__max_features=3, regressor__max_samples=0.8, regressor__min_samples_leaf=0.2, regressor__n_estimators=100;, score=(train=-0.226, test=-0.256) total time=   0.4s\n",
      "[CV 1/3] END regressor__max_depth=3, regressor__max_features=3, regressor__max_samples=0.8, regressor__min_samples_leaf=0.5, regressor__n_estimators=100;, score=(train=-0.293, test=-0.250) total time=   0.3s\n",
      "[CV 2/3] END regressor__max_depth=3, regressor__max_features=3, regressor__max_samples=0.8, regressor__min_samples_leaf=0.5, regressor__n_estimators=100;, score=(train=-0.278, test=-0.280) total time=   0.3s\n",
      "[CV 3/3] END regressor__max_depth=3, regressor__max_features=3, regressor__max_samples=0.8, regressor__min_samples_leaf=0.5, regressor__n_estimators=100;, score=(train=-0.271, test=-0.313) total time=   0.4s\n",
      "[CV 1/3] END regressor__max_depth=3, regressor__max_features=3, regressor__max_samples=0.8, regressor__min_samples_leaf=0.8, regressor__n_estimators=100;, score=(train=-0.293, test=-0.250) total time=   0.4s\n",
      "[CV 2/3] END regressor__max_depth=3, regressor__max_features=3, regressor__max_samples=0.8, regressor__min_samples_leaf=0.8, regressor__n_estimators=100;, score=(train=-0.278, test=-0.280) total time=   0.4s\n",
      "[CV 3/3] END regressor__max_depth=3, regressor__max_features=3, regressor__max_samples=0.8, regressor__min_samples_leaf=0.8, regressor__n_estimators=100;, score=(train=-0.271, test=-0.313) total time=   0.3s\n",
      "[CV 1/3] END regressor__max_depth=3, regressor__max_features=4, regressor__max_samples=0.2, regressor__min_samples_leaf=0.2, regressor__n_estimators=100;, score=(train=-0.292, test=-0.250) total time=   0.3s\n",
      "[CV 2/3] END regressor__max_depth=3, regressor__max_features=4, regressor__max_samples=0.2, regressor__min_samples_leaf=0.2, regressor__n_estimators=100;, score=(train=-0.279, test=-0.281) total time=   0.4s\n",
      "[CV 3/3] END regressor__max_depth=3, regressor__max_features=4, regressor__max_samples=0.2, regressor__min_samples_leaf=0.2, regressor__n_estimators=100;, score=(train=-0.270, test=-0.312) total time=   0.3s\n",
      "[CV 1/3] END regressor__max_depth=3, regressor__max_features=4, regressor__max_samples=0.2, regressor__min_samples_leaf=0.5, regressor__n_estimators=100;, score=(train=-0.292, test=-0.250) total time=   0.4s\n",
      "[CV 2/3] END regressor__max_depth=3, regressor__max_features=4, regressor__max_samples=0.2, regressor__min_samples_leaf=0.5, regressor__n_estimators=100;, score=(train=-0.279, test=-0.281) total time=   0.3s\n",
      "[CV 3/3] END regressor__max_depth=3, regressor__max_features=4, regressor__max_samples=0.2, regressor__min_samples_leaf=0.5, regressor__n_estimators=100;, score=(train=-0.270, test=-0.312) total time=   0.3s\n",
      "[CV 1/3] END regressor__max_depth=3, regressor__max_features=4, regressor__max_samples=0.2, regressor__min_samples_leaf=0.8, regressor__n_estimators=100;, score=(train=-0.292, test=-0.250) total time=   0.3s\n",
      "[CV 2/3] END regressor__max_depth=3, regressor__max_features=4, regressor__max_samples=0.2, regressor__min_samples_leaf=0.8, regressor__n_estimators=100;, score=(train=-0.279, test=-0.281) total time=   0.3s\n",
      "[CV 3/3] END regressor__max_depth=3, regressor__max_features=4, regressor__max_samples=0.2, regressor__min_samples_leaf=0.8, regressor__n_estimators=100;, score=(train=-0.270, test=-0.312) total time=   0.3s\n",
      "[CV 2/3] END regressor__max_depth=3, regressor__max_features=4, regressor__max_samples=0.5, regressor__min_samples_leaf=0.2, regressor__n_estimators=100;, score=(train=-0.250, test=-0.263) total time=   0.3s\n",
      "[CV 1/3] END regressor__max_depth=3, regressor__max_features=4, regressor__max_samples=0.5, regressor__min_samples_leaf=0.2, regressor__n_estimators=100;, score=(train=-0.267, test=-0.226) total time=   0.3s\n",
      "[CV 3/3] END regressor__max_depth=3, regressor__max_features=4, regressor__max_samples=0.5, regressor__min_samples_leaf=0.2, regressor__n_estimators=100;, score=(train=-0.252, test=-0.284) total time=   0.3s\n",
      "[CV 1/3] END regressor__max_depth=3, regressor__max_features=4, regressor__max_samples=0.5, regressor__min_samples_leaf=0.5, regressor__n_estimators=100;, score=(train=-0.293, test=-0.250) total time=   0.3s\n",
      "[CV 2/3] END regressor__max_depth=3, regressor__max_features=4, regressor__max_samples=0.5, regressor__min_samples_leaf=0.5, regressor__n_estimators=100;, score=(train=-0.279, test=-0.281) total time=   0.3s\n",
      "[CV 3/3] END regressor__max_depth=3, regressor__max_features=4, regressor__max_samples=0.5, regressor__min_samples_leaf=0.5, regressor__n_estimators=100;, score=(train=-0.271, test=-0.313) total time=   0.3s\n",
      "[CV 1/3] END regressor__max_depth=3, regressor__max_features=4, regressor__max_samples=0.5, regressor__min_samples_leaf=0.8, regressor__n_estimators=100;, score=(train=-0.293, test=-0.250) total time=   0.3s\n",
      "[CV 2/3] END regressor__max_depth=3, regressor__max_features=4, regressor__max_samples=0.5, regressor__min_samples_leaf=0.8, regressor__n_estimators=100;, score=(train=-0.279, test=-0.281) total time=   0.3s\n",
      "[CV 3/3] END regressor__max_depth=3, regressor__max_features=4, regressor__max_samples=0.5, regressor__min_samples_leaf=0.8, regressor__n_estimators=100;, score=(train=-0.271, test=-0.313) total time=   0.4s\n",
      "[CV 1/3] END regressor__max_depth=3, regressor__max_features=4, regressor__max_samples=0.8, regressor__min_samples_leaf=0.2, regressor__n_estimators=100;, score=(train=-0.238, test=-0.212) total time=   0.4s\n",
      "[CV 2/3] END regressor__max_depth=3, regressor__max_features=4, regressor__max_samples=0.8, regressor__min_samples_leaf=0.2, regressor__n_estimators=100;, score=(train=-0.222, test=-0.243) total time=   0.3s\n",
      "[CV 3/3] END regressor__max_depth=3, regressor__max_features=4, regressor__max_samples=0.8, regressor__min_samples_leaf=0.2, regressor__n_estimators=100;, score=(train=-0.226, test=-0.249) total time=   0.3s\n",
      "[CV 1/3] END regressor__max_depth=3, regressor__max_features=4, regressor__max_samples=0.8, regressor__min_samples_leaf=0.5, regressor__n_estimators=100;, score=(train=-0.293, test=-0.250) total time=   0.3s\n",
      "[CV 2/3] END regressor__max_depth=3, regressor__max_features=4, regressor__max_samples=0.8, regressor__min_samples_leaf=0.5, regressor__n_estimators=100;, score=(train=-0.278, test=-0.280) total time=   0.3s\n",
      "[CV 3/3] END regressor__max_depth=3, regressor__max_features=4, regressor__max_samples=0.8, regressor__min_samples_leaf=0.5, regressor__n_estimators=100;, score=(train=-0.271, test=-0.313) total time=   0.3s\n",
      "[CV 1/3] END regressor__max_depth=3, regressor__max_features=4, regressor__max_samples=0.8, regressor__min_samples_leaf=0.8, regressor__n_estimators=100;, score=(train=-0.293, test=-0.250) total time=   0.3s\n",
      "[CV 2/3] END regressor__max_depth=3, regressor__max_features=4, regressor__max_samples=0.8, regressor__min_samples_leaf=0.8, regressor__n_estimators=100;, score=(train=-0.278, test=-0.280) total time=   0.3s\n",
      "[CV 3/3] END regressor__max_depth=3, regressor__max_features=4, regressor__max_samples=0.8, regressor__min_samples_leaf=0.8, regressor__n_estimators=100;, score=(train=-0.271, test=-0.313) total time=   0.3s\n",
      "[CV 1/3] END regressor__max_depth=5, regressor__max_features=2, regressor__max_samples=0.2, regressor__min_samples_leaf=0.2, regressor__n_estimators=100;, score=(train=-0.292, test=-0.250) total time=   0.3s\n",
      "[CV 2/3] END regressor__max_depth=5, regressor__max_features=2, regressor__max_samples=0.2, regressor__min_samples_leaf=0.2, regressor__n_estimators=100;, score=(train=-0.279, test=-0.281) total time=   0.3s\n",
      "[CV 3/3] END regressor__max_depth=5, regressor__max_features=2, regressor__max_samples=0.2, regressor__min_samples_leaf=0.2, regressor__n_estimators=100;, score=(train=-0.270, test=-0.312) total time=   0.3s\n",
      "[CV 1/3] END regressor__max_depth=5, regressor__max_features=2, regressor__max_samples=0.2, regressor__min_samples_leaf=0.5, regressor__n_estimators=100;, score=(train=-0.292, test=-0.250) total time=   0.3s\n",
      "[CV 2/3] END regressor__max_depth=5, regressor__max_features=2, regressor__max_samples=0.2, regressor__min_samples_leaf=0.5, regressor__n_estimators=100;, score=(train=-0.279, test=-0.281) total time=   0.3s\n",
      "[CV 3/3] END regressor__max_depth=5, regressor__max_features=2, regressor__max_samples=0.2, regressor__min_samples_leaf=0.5, regressor__n_estimators=100;, score=(train=-0.270, test=-0.312) total time=   0.3s\n",
      "[CV 1/3] END regressor__max_depth=5, regressor__max_features=2, regressor__max_samples=0.2, regressor__min_samples_leaf=0.8, regressor__n_estimators=100;, score=(train=-0.292, test=-0.250) total time=   0.3s\n",
      "[CV 2/3] END regressor__max_depth=5, regressor__max_features=2, regressor__max_samples=0.2, regressor__min_samples_leaf=0.8, regressor__n_estimators=100;, score=(train=-0.279, test=-0.281) total time=   0.3s\n",
      "[CV 3/3] END regressor__max_depth=5, regressor__max_features=2, regressor__max_samples=0.2, regressor__min_samples_leaf=0.8, regressor__n_estimators=100;, score=(train=-0.270, test=-0.312) total time=   0.3s\n",
      "[CV 1/3] END regressor__max_depth=5, regressor__max_features=2, regressor__max_samples=0.5, regressor__min_samples_leaf=0.2, regressor__n_estimators=100;, score=(train=-0.276, test=-0.233) total time=   0.3s\n",
      "[CV 2/3] END regressor__max_depth=5, regressor__max_features=2, regressor__max_samples=0.5, regressor__min_samples_leaf=0.2, regressor__n_estimators=100;, score=(train=-0.259, test=-0.267) total time=   0.3s\n",
      "[CV 3/3] END regressor__max_depth=5, regressor__max_features=2, regressor__max_samples=0.5, regressor__min_samples_leaf=0.2, regressor__n_estimators=100;, score=(train=-0.257, test=-0.294) total time=   0.3s\n",
      "[CV 1/3] END regressor__max_depth=5, regressor__max_features=2, regressor__max_samples=0.5, regressor__min_samples_leaf=0.5, regressor__n_estimators=100;, score=(train=-0.293, test=-0.250) total time=   0.3s\n",
      "[CV 2/3] END regressor__max_depth=5, regressor__max_features=2, regressor__max_samples=0.5, regressor__min_samples_leaf=0.5, regressor__n_estimators=100;, score=(train=-0.279, test=-0.281) total time=   0.3s\n",
      "[CV 3/3] END regressor__max_depth=5, regressor__max_features=2, regressor__max_samples=0.5, regressor__min_samples_leaf=0.5, regressor__n_estimators=100;, score=(train=-0.271, test=-0.313) total time=   0.3s\n",
      "[CV 1/3] END regressor__max_depth=5, regressor__max_features=2, regressor__max_samples=0.5, regressor__min_samples_leaf=0.8, regressor__n_estimators=100;, score=(train=-0.293, test=-0.250) total time=   0.3s\n",
      "[CV 2/3] END regressor__max_depth=5, regressor__max_features=2, regressor__max_samples=0.5, regressor__min_samples_leaf=0.8, regressor__n_estimators=100;, score=(train=-0.279, test=-0.281) total time=   0.3s\n",
      "[CV 3/3] END regressor__max_depth=5, regressor__max_features=2, regressor__max_samples=0.5, regressor__min_samples_leaf=0.8, regressor__n_estimators=100;, score=(train=-0.271, test=-0.313) total time=   0.4s\n",
      "[CV 1/3] END regressor__max_depth=5, regressor__max_features=2, regressor__max_samples=0.8, regressor__min_samples_leaf=0.2, regressor__n_estimators=100;, score=(train=-0.245, test=-0.210) total time=   0.4s\n",
      "[CV 2/3] END regressor__max_depth=5, regressor__max_features=2, regressor__max_samples=0.8, regressor__min_samples_leaf=0.2, regressor__n_estimators=100;, score=(train=-0.225, test=-0.240) total time=   0.4s\n",
      "[CV 3/3] END regressor__max_depth=5, regressor__max_features=2, regressor__max_samples=0.8, regressor__min_samples_leaf=0.2, regressor__n_estimators=100;, score=(train=-0.230, test=-0.267) total time=   0.4s\n",
      "[CV 1/3] END regressor__max_depth=5, regressor__max_features=2, regressor__max_samples=0.8, regressor__min_samples_leaf=0.5, regressor__n_estimators=100;, score=(train=-0.293, test=-0.250) total time=   0.3s\n",
      "[CV 2/3] END regressor__max_depth=5, regressor__max_features=2, regressor__max_samples=0.8, regressor__min_samples_leaf=0.5, regressor__n_estimators=100;, score=(train=-0.278, test=-0.280) total time=   0.4s\n",
      "[CV 3/3] END regressor__max_depth=5, regressor__max_features=2, regressor__max_samples=0.8, regressor__min_samples_leaf=0.5, regressor__n_estimators=100;, score=(train=-0.271, test=-0.313) total time=   0.3s\n",
      "[CV 1/3] END regressor__max_depth=5, regressor__max_features=2, regressor__max_samples=0.8, regressor__min_samples_leaf=0.8, regressor__n_estimators=100;, score=(train=-0.293, test=-0.250) total time=   0.4s\n",
      "[CV 2/3] END regressor__max_depth=5, regressor__max_features=2, regressor__max_samples=0.8, regressor__min_samples_leaf=0.8, regressor__n_estimators=100;, score=(train=-0.278, test=-0.280) total time=   0.3s\n",
      "[CV 3/3] END regressor__max_depth=5, regressor__max_features=2, regressor__max_samples=0.8, regressor__min_samples_leaf=0.8, regressor__n_estimators=100;, score=(train=-0.271, test=-0.313) total time=   0.3s\n",
      "[CV 1/3] END regressor__max_depth=5, regressor__max_features=3, regressor__max_samples=0.2, regressor__min_samples_leaf=0.2, regressor__n_estimators=100;, score=(train=-0.292, test=-0.250) total time=   0.4s\n",
      "[CV 2/3] END regressor__max_depth=5, regressor__max_features=3, regressor__max_samples=0.2, regressor__min_samples_leaf=0.2, regressor__n_estimators=100;, score=(train=-0.279, test=-0.281) total time=   0.3s\n",
      "[CV 3/3] END regressor__max_depth=5, regressor__max_features=3, regressor__max_samples=0.2, regressor__min_samples_leaf=0.2, regressor__n_estimators=100;, score=(train=-0.270, test=-0.312) total time=   0.3s\n",
      "[CV 1/3] END regressor__max_depth=5, regressor__max_features=3, regressor__max_samples=0.2, regressor__min_samples_leaf=0.5, regressor__n_estimators=100;, score=(train=-0.292, test=-0.250) total time=   0.3s\n",
      "[CV 2/3] END regressor__max_depth=5, regressor__max_features=3, regressor__max_samples=0.2, regressor__min_samples_leaf=0.5, regressor__n_estimators=100;, score=(train=-0.279, test=-0.281) total time=   0.4s\n",
      "[CV 3/3] END regressor__max_depth=5, regressor__max_features=3, regressor__max_samples=0.2, regressor__min_samples_leaf=0.5, regressor__n_estimators=100;, score=(train=-0.270, test=-0.312) total time=   0.3s\n",
      "[CV 1/3] END regressor__max_depth=5, regressor__max_features=3, regressor__max_samples=0.2, regressor__min_samples_leaf=0.8, regressor__n_estimators=100;, score=(train=-0.292, test=-0.250) total time=   0.4s\n",
      "[CV 2/3] END regressor__max_depth=5, regressor__max_features=3, regressor__max_samples=0.2, regressor__min_samples_leaf=0.8, regressor__n_estimators=100;, score=(train=-0.279, test=-0.281) total time=   0.4s\n",
      "[CV 3/3] END regressor__max_depth=5, regressor__max_features=3, regressor__max_samples=0.2, regressor__min_samples_leaf=0.8, regressor__n_estimators=100;, score=(train=-0.270, test=-0.312) total time=   0.4s\n",
      "[CV 1/3] END regressor__max_depth=5, regressor__max_features=3, regressor__max_samples=0.5, regressor__min_samples_leaf=0.2, regressor__n_estimators=100;, score=(train=-0.271, test=-0.229) total time=   0.4s\n",
      "[CV 2/3] END regressor__max_depth=5, regressor__max_features=3, regressor__max_samples=0.5, regressor__min_samples_leaf=0.2, regressor__n_estimators=100;, score=(train=-0.253, test=-0.265) total time=   0.4s\n",
      "[CV 3/3] END regressor__max_depth=5, regressor__max_features=3, regressor__max_samples=0.5, regressor__min_samples_leaf=0.2, regressor__n_estimators=100;, score=(train=-0.254, test=-0.288) total time=   0.4s\n",
      "[CV 1/3] END regressor__max_depth=5, regressor__max_features=3, regressor__max_samples=0.5, regressor__min_samples_leaf=0.5, regressor__n_estimators=100;, score=(train=-0.293, test=-0.250) total time=   0.4s\n",
      "[CV 2/3] END regressor__max_depth=5, regressor__max_features=3, regressor__max_samples=0.5, regressor__min_samples_leaf=0.5, regressor__n_estimators=100;, score=(train=-0.279, test=-0.281) total time=   0.4s\n",
      "[CV 3/3] END regressor__max_depth=5, regressor__max_features=3, regressor__max_samples=0.5, regressor__min_samples_leaf=0.5, regressor__n_estimators=100;, score=(train=-0.271, test=-0.313) total time=   0.4s\n",
      "[CV 1/3] END regressor__max_depth=5, regressor__max_features=3, regressor__max_samples=0.5, regressor__min_samples_leaf=0.8, regressor__n_estimators=100;, score=(train=-0.293, test=-0.250) total time=   0.4s\n",
      "[CV 2/3] END regressor__max_depth=5, regressor__max_features=3, regressor__max_samples=0.5, regressor__min_samples_leaf=0.8, regressor__n_estimators=100;, score=(train=-0.279, test=-0.281) total time=   0.4s\n",
      "[CV 3/3] END regressor__max_depth=5, regressor__max_features=3, regressor__max_samples=0.5, regressor__min_samples_leaf=0.8, regressor__n_estimators=100;, score=(train=-0.271, test=-0.313) total time=   0.4s\n",
      "[CV 1/3] END regressor__max_depth=5, regressor__max_features=3, regressor__max_samples=0.8, regressor__min_samples_leaf=0.2, regressor__n_estimators=100;, score=(train=-0.239, test=-0.209) total time=   0.4s\n",
      "[CV 2/3] END regressor__max_depth=5, regressor__max_features=3, regressor__max_samples=0.8, regressor__min_samples_leaf=0.2, regressor__n_estimators=100;, score=(train=-0.221, test=-0.240) total time=   0.4s\n",
      "[CV 3/3] END regressor__max_depth=5, regressor__max_features=3, regressor__max_samples=0.8, regressor__min_samples_leaf=0.2, regressor__n_estimators=100;, score=(train=-0.226, test=-0.256) total time=   0.4s\n",
      "[CV 1/3] END regressor__max_depth=5, regressor__max_features=3, regressor__max_samples=0.8, regressor__min_samples_leaf=0.5, regressor__n_estimators=100;, score=(train=-0.293, test=-0.250) total time=   0.4s\n",
      "[CV 2/3] END regressor__max_depth=5, regressor__max_features=3, regressor__max_samples=0.8, regressor__min_samples_leaf=0.5, regressor__n_estimators=100;, score=(train=-0.278, test=-0.280) total time=   0.4s\n",
      "[CV 3/3] END regressor__max_depth=5, regressor__max_features=3, regressor__max_samples=0.8, regressor__min_samples_leaf=0.5, regressor__n_estimators=100;, score=(train=-0.271, test=-0.313) total time=   0.4s\n",
      "[CV 1/3] END regressor__max_depth=5, regressor__max_features=3, regressor__max_samples=0.8, regressor__min_samples_leaf=0.8, regressor__n_estimators=100;, score=(train=-0.293, test=-0.250) total time=   0.4s\n",
      "[CV 2/3] END regressor__max_depth=5, regressor__max_features=3, regressor__max_samples=0.8, regressor__min_samples_leaf=0.8, regressor__n_estimators=100;, score=(train=-0.278, test=-0.280) total time=   0.4s\n",
      "[CV 3/3] END regressor__max_depth=5, regressor__max_features=3, regressor__max_samples=0.8, regressor__min_samples_leaf=0.8, regressor__n_estimators=100;, score=(train=-0.271, test=-0.313) total time=   0.4s\n",
      "[CV 1/3] END regressor__max_depth=5, regressor__max_features=4, regressor__max_samples=0.2, regressor__min_samples_leaf=0.2, regressor__n_estimators=100;, score=(train=-0.292, test=-0.250) total time=   0.4s\n",
      "[CV 2/3] END regressor__max_depth=5, regressor__max_features=4, regressor__max_samples=0.2, regressor__min_samples_leaf=0.2, regressor__n_estimators=100;, score=(train=-0.279, test=-0.281) total time=   0.4s\n",
      "[CV 3/3] END regressor__max_depth=5, regressor__max_features=4, regressor__max_samples=0.2, regressor__min_samples_leaf=0.2, regressor__n_estimators=100;, score=(train=-0.270, test=-0.312) total time=   0.4s\n",
      "[CV 1/3] END regressor__max_depth=5, regressor__max_features=4, regressor__max_samples=0.2, regressor__min_samples_leaf=0.5, regressor__n_estimators=100;, score=(train=-0.292, test=-0.250) total time=   0.4s\n",
      "[CV 2/3] END regressor__max_depth=5, regressor__max_features=4, regressor__max_samples=0.2, regressor__min_samples_leaf=0.5, regressor__n_estimators=100;, score=(train=-0.279, test=-0.281) total time=   0.4s\n",
      "[CV 3/3] END regressor__max_depth=5, regressor__max_features=4, regressor__max_samples=0.2, regressor__min_samples_leaf=0.5, regressor__n_estimators=100;, score=(train=-0.270, test=-0.312) total time=   0.4s\n",
      "[CV 1/3] END regressor__max_depth=5, regressor__max_features=4, regressor__max_samples=0.2, regressor__min_samples_leaf=0.8, regressor__n_estimators=100;, score=(train=-0.292, test=-0.250) total time=   0.3s\n",
      "[CV 2/3] END regressor__max_depth=5, regressor__max_features=4, regressor__max_samples=0.2, regressor__min_samples_leaf=0.8, regressor__n_estimators=100;, score=(train=-0.279, test=-0.281) total time=   0.4s\n",
      "[CV 3/3] END regressor__max_depth=5, regressor__max_features=4, regressor__max_samples=0.2, regressor__min_samples_leaf=0.8, regressor__n_estimators=100;, score=(train=-0.270, test=-0.312) total time=   0.3s\n",
      "[CV 1/3] END regressor__max_depth=5, regressor__max_features=4, regressor__max_samples=0.5, regressor__min_samples_leaf=0.2, regressor__n_estimators=100;, score=(train=-0.267, test=-0.226) total time=   0.4s\n",
      "[CV 2/3] END regressor__max_depth=5, regressor__max_features=4, regressor__max_samples=0.5, regressor__min_samples_leaf=0.2, regressor__n_estimators=100;, score=(train=-0.250, test=-0.263) total time=   0.4s\n",
      "[CV 3/3] END regressor__max_depth=5, regressor__max_features=4, regressor__max_samples=0.5, regressor__min_samples_leaf=0.2, regressor__n_estimators=100;, score=(train=-0.252, test=-0.284) total time=   0.4s\n",
      "[CV 1/3] END regressor__max_depth=5, regressor__max_features=4, regressor__max_samples=0.5, regressor__min_samples_leaf=0.5, regressor__n_estimators=100;, score=(train=-0.293, test=-0.250) total time=   0.3s\n",
      "[CV 2/3] END regressor__max_depth=5, regressor__max_features=4, regressor__max_samples=0.5, regressor__min_samples_leaf=0.5, regressor__n_estimators=100;, score=(train=-0.279, test=-0.281) total time=   0.3s\n",
      "[CV 3/3] END regressor__max_depth=5, regressor__max_features=4, regressor__max_samples=0.5, regressor__min_samples_leaf=0.5, regressor__n_estimators=100;, score=(train=-0.271, test=-0.313) total time=   0.3s\n",
      "[CV 1/3] END regressor__max_depth=5, regressor__max_features=4, regressor__max_samples=0.5, regressor__min_samples_leaf=0.8, regressor__n_estimators=100;, score=(train=-0.293, test=-0.250) total time=   0.3s\n",
      "[CV 2/3] END regressor__max_depth=5, regressor__max_features=4, regressor__max_samples=0.5, regressor__min_samples_leaf=0.8, regressor__n_estimators=100;, score=(train=-0.279, test=-0.281) total time=   0.3s\n",
      "[CV 3/3] END regressor__max_depth=5, regressor__max_features=4, regressor__max_samples=0.5, regressor__min_samples_leaf=0.8, regressor__n_estimators=100;, score=(train=-0.271, test=-0.313) total time=   0.3s\n",
      "[CV 1/3] END regressor__max_depth=5, regressor__max_features=4, regressor__max_samples=0.8, regressor__min_samples_leaf=0.2, regressor__n_estimators=100;, score=(train=-0.238, test=-0.212) total time=   0.4s\n",
      "[CV 2/3] END regressor__max_depth=5, regressor__max_features=4, regressor__max_samples=0.8, regressor__min_samples_leaf=0.2, regressor__n_estimators=100;, score=(train=-0.222, test=-0.243) total time=   0.4s\n",
      "[CV 3/3] END regressor__max_depth=5, regressor__max_features=4, regressor__max_samples=0.8, regressor__min_samples_leaf=0.2, regressor__n_estimators=100;, score=(train=-0.226, test=-0.249) total time=   0.4s\n",
      "[CV 1/3] END regressor__max_depth=5, regressor__max_features=4, regressor__max_samples=0.8, regressor__min_samples_leaf=0.5, regressor__n_estimators=100;, score=(train=-0.293, test=-0.250) total time=   0.3s\n",
      "[CV 2/3] END regressor__max_depth=5, regressor__max_features=4, regressor__max_samples=0.8, regressor__min_samples_leaf=0.5, regressor__n_estimators=100;, score=(train=-0.278, test=-0.280) total time=   0.4s\n",
      "[CV 3/3] END regressor__max_depth=5, regressor__max_features=4, regressor__max_samples=0.8, regressor__min_samples_leaf=0.5, regressor__n_estimators=100;, score=(train=-0.271, test=-0.313) total time=   0.3s\n",
      "[CV 1/3] END regressor__max_depth=5, regressor__max_features=4, regressor__max_samples=0.8, regressor__min_samples_leaf=0.8, regressor__n_estimators=100;, score=(train=-0.293, test=-0.250) total time=   0.4s\n",
      "[CV 2/3] END regressor__max_depth=5, regressor__max_features=4, regressor__max_samples=0.8, regressor__min_samples_leaf=0.8, regressor__n_estimators=100;, score=(train=-0.278, test=-0.280) total time=   0.4s\n",
      "[CV 3/3] END regressor__max_depth=5, regressor__max_features=4, regressor__max_samples=0.8, regressor__min_samples_leaf=0.8, regressor__n_estimators=100;, score=(train=-0.271, test=-0.313) total time=   0.4s\n"
     ]
    },
    {
     "name": "stderr",
     "output_type": "stream",
     "text": [
      "[Parallel(n_jobs=2)]: Using backend MultiprocessingBackend with 2 concurrent workers.\n"
     ]
    },
    {
     "name": "stdout",
     "output_type": "stream",
     "text": [
      "[CV] END  MAE: (test=-0.198) R2: (test=0.325) RMSE: (test=-0.277) total time=   0.4s\n",
      "[CV] END  MAE: (test=-0.227) R2: (test=0.283) RMSE: (test=-0.309) total time=   0.4s\n",
      "[CV] END  MAE: (test=-0.243) R2: (test=0.327) RMSE: (test=-0.315) total time=   0.4s\n",
      "finished tuning model\n",
      "reg rRMSE: 44%\n",
      "reg rMAE: 32%\n",
      "reg R2: 0.31\n",
      "execution time: 61.73108768463135 seconds\n"
     ]
    },
    {
     "name": "stderr",
     "output_type": "stream",
     "text": [
      "[Parallel(n_jobs=2)]: Done   3 out of   3 | elapsed:    0.8s finished\n"
     ]
    }
   ],
   "source": [
    "'''\n",
    "Testing the impact of log transformation on the 1-phase Random forest \n",
    "\n",
    "note: we test both log and no-log by defining log=\"both\"\n",
    "'''\n",
    "\n",
    "reg_scoring = model_config['reg_scoring']\n",
    "reg_param_grid = model_config['rf_param_grid']['reg_param_grid']\n",
    "\n",
    "m = tune(X, y, seed, n_threads, verbose, cv, path_out)\n",
    "m.XGB(reg_scoring, reg_param_grid, cv=cv, model=\"rf\", zir=False, log=\"both\")"
   ]
  },
  {
   "cell_type": "code",
   "execution_count": 11,
   "metadata": {},
   "outputs": [
    {
     "name": "stdout",
     "output_type": "stream",
     "text": [
      "Fitting 3 folds for each of 1 candidates, totalling 3 fits\n",
      "[CV 1/3] END regressor__alpha=1, regressor__colsample_bytree=0.6, regressor__eta=0.01, regressor__gamma=1, regressor__max_depth=4, regressor__n_estimators=100, regressor__subsample=0.6;, score=(train=-0.246, test=-0.218) total time=   0.1s\n",
      "[CV 2/3] END regressor__alpha=1, regressor__colsample_bytree=0.6, regressor__eta=0.01, regressor__gamma=1, regressor__max_depth=4, regressor__n_estimators=100, regressor__subsample=0.6;, score=(train=-0.229, test=-0.245) total time=   0.1s\n",
      "[CV 3/3] END regressor__alpha=1, regressor__colsample_bytree=0.6, regressor__eta=0.01, regressor__gamma=1, regressor__max_depth=4, regressor__n_estimators=100, regressor__subsample=0.6;, score=(train=-0.228, test=-0.265) total time=   0.1s\n",
      "[CV] END  MAE: (test=-0.245) R2: (test=0.256) RMSE: (test=-0.315) total time=   0.1s[CV] END  MAE: (test=-0.218) R2: (test=0.273) RMSE: (test=-0.287) total time=   0.1s\n",
      "\n"
     ]
    },
    {
     "name": "stderr",
     "output_type": "stream",
     "text": [
      "[Parallel(n_jobs=2)]: Using backend MultiprocessingBackend with 2 concurrent workers.\n"
     ]
    },
    {
     "name": "stdout",
     "output_type": "stream",
     "text": [
      "[CV] END  MAE: (test=-0.265) R2: (test=0.228) RMSE: (test=-0.337) total time=   0.1s\n",
      "finished tuning model\n",
      "reg rRMSE: 46%\n",
      "reg rMAE: 35%\n",
      "reg R2: 0.25\n",
      "execution time: 0.886012077331543 seconds\n"
     ]
    },
    {
     "name": "stderr",
     "output_type": "stream",
     "text": [
      "[Parallel(n_jobs=2)]: Done   3 out of   3 | elapsed:    0.2s finished\n"
     ]
    }
   ],
   "source": [
    "'''\n",
    "1-phase Gradient boosting with XGBoost:\n",
    "'''\n",
    "\n",
    "reg_scoring = model_config['reg_scoring']\n",
    "reg_param_grid = model_config['xgb_param_grid']['reg_param_grid']\n",
    "\n",
    "m = tune(X, y, seed, n_threads, verbose, cv, path_out)\n",
    "m.XGB(reg_scoring, reg_param_grid, cv=cv, model=\"xgb\", zir=False, log=\"yes\")"
   ]
  },
  {
   "cell_type": "code",
   "execution_count": 12,
   "metadata": {},
   "outputs": [
    {
     "name": "stdout",
     "output_type": "stream",
     "text": [
      "Fitting 3 folds for each of 1 candidates, totalling 3 fits\n",
      "[CV 2/3] END regressor__alpha=1, regressor__colsample_bytree=0.6, regressor__eta=0.01, regressor__gamma=1, regressor__max_depth=4, regressor__n_estimators=100, regressor__subsample=0.6;, score=(train=-0.229, test=-0.245) total time=   0.1s\n",
      "[CV 1/3] END regressor__alpha=1, regressor__colsample_bytree=0.6, regressor__eta=0.01, regressor__gamma=1, regressor__max_depth=4, regressor__n_estimators=100, regressor__subsample=0.6;, score=(train=-0.246, test=-0.218) total time=   0.1s\n",
      "[CV 3/3] END regressor__alpha=1, regressor__colsample_bytree=0.6, regressor__eta=0.01, regressor__gamma=1, regressor__max_depth=4, regressor__n_estimators=100, regressor__subsample=0.6;, score=(train=-0.228, test=-0.265) total time=   0.1s\n",
      "[CV 2/3] END alpha=1, colsample_bytree=0.6, eta=0.01, gamma=1, max_depth=4, n_estimators=100, subsample=0.6;, score=0.625 total time=   0.1s[CV 1/3] END alpha=1, colsample_bytree=0.6, eta=0.01, gamma=1, max_depth=4, n_estimators=100, subsample=0.6;, score=0.737 total time=   0.1s\n",
      "\n",
      "Fitting 3 folds for each of 1 candidates, totalling 3 fits\n",
      "[CV 3/3] END alpha=1, colsample_bytree=0.6, eta=0.01, gamma=1, max_depth=4, n_estimators=100, subsample=0.6;, score=0.630 total time=   0.1s\n",
      "[CV] END ............................. accuracy: (test=0.737) total time=   0.1s[CV] END ............................. accuracy: (test=0.625) total time=   0.1s\n",
      "\n",
      "[CV] END ............................. accuracy: (test=0.630) total time=   0.1s\n"
     ]
    },
    {
     "name": "stderr",
     "output_type": "stream",
     "text": [
      "[Parallel(n_jobs=2)]: Using backend MultiprocessingBackend with 2 concurrent workers.\n",
      "[Parallel(n_jobs=2)]: Done   3 out of   3 | elapsed:    0.2s finished\n"
     ]
    },
    {
     "name": "stdout",
     "output_type": "stream",
     "text": [
      "[CV] END  MAE: (test=-0.245) R2: (test=0.256) RMSE: (test=-0.315) total time=   0.1s\n",
      "[CV] END  MAE: (test=-0.218) R2: (test=0.273) RMSE: (test=-0.287) total time=   0.2s\n"
     ]
    },
    {
     "name": "stderr",
     "output_type": "stream",
     "text": [
      "[Parallel(n_jobs=2)]: Using backend MultiprocessingBackend with 2 concurrent workers.\n"
     ]
    },
    {
     "name": "stdout",
     "output_type": "stream",
     "text": [
      "[CV] END  MAE: (test=-0.265) R2: (test=0.228) RMSE: (test=-0.337) total time=   0.1s\n"
     ]
    },
    {
     "name": "stderr",
     "output_type": "stream",
     "text": [
      "[Parallel(n_jobs=2)]: Done   3 out of   3 | elapsed:    0.3s finished\n",
      "[Parallel(n_jobs=2)]: Using backend MultiprocessingBackend with 2 concurrent workers.\n",
      "/home/phyto/anaconda3/envs/my-geopandas-env-2/lib/python3.11/site-packages/sklearn/utils/validation.py:1143: DataConversionWarning: A column-vector y was passed when a 1d array was expected. Please change the shape of y to (n_samples, ), for example using ravel().\n",
      "  y = column_or_1d(y, warn=True)\n",
      "/home/phyto/anaconda3/envs/my-geopandas-env-2/lib/python3.11/site-packages/sklearn/utils/validation.py:1143: DataConversionWarning: A column-vector y was passed when a 1d array was expected. Please change the shape of y to (n_samples, ), for example using ravel().\n",
      "  y = column_or_1d(y, warn=True)\n"
     ]
    },
    {
     "name": "stdout",
     "output_type": "stream",
     "text": [
      "[CV] END  MAE: (test=-0.165) R2: (test=0.470) RMSE: (test=-0.245) total time=   0.2s[CV] END  MAE: (test=-0.220) R2: (test=0.252) RMSE: (test=-0.316) total time=   0.2s\n",
      "\n"
     ]
    },
    {
     "name": "stderr",
     "output_type": "stream",
     "text": [
      "/home/phyto/anaconda3/envs/my-geopandas-env-2/lib/python3.11/site-packages/sklearn/utils/validation.py:1143: DataConversionWarning: A column-vector y was passed when a 1d array was expected. Please change the shape of y to (n_samples, ), for example using ravel().\n",
      "  y = column_or_1d(y, warn=True)\n"
     ]
    },
    {
     "name": "stdout",
     "output_type": "stream",
     "text": [
      "[CV] END  MAE: (test=-0.253) R2: (test=0.224) RMSE: (test=-0.338) total time=   0.2s\n",
      "finished tuning model\n",
      "reg rRMSE: 46%\n",
      "reg rMAE: 35%\n",
      "reg R2: 0.25\n",
      "zir rRMSE: 44%\n",
      "zir rMAE: 31%\n",
      "zir R2: 0.32\n",
      "execution time: 2.437180995941162 seconds\n"
     ]
    },
    {
     "name": "stderr",
     "output_type": "stream",
     "text": [
      "[Parallel(n_jobs=2)]: Done   3 out of   3 | elapsed:    0.4s finished\n"
     ]
    }
   ],
   "source": [
    "'''\n",
    "2-phase Gradient boosting with XGBoost:\n",
    "'''\n",
    "\n",
    "reg_scoring = model_config['reg_scoring']\n",
    "clf_scoring = model_config['clf_scoring']\n",
    "\n",
    "clf_param_grid = model_config['xgb_param_grid']['clf_param_grid']\n",
    "reg_param_grid = model_config['xgb_param_grid']['reg_param_grid']\n",
    "\n",
    "m = tune(X, y, seed, n_threads, verbose, cv, path_out)\n",
    "m.XGB(reg_scoring, reg_param_grid, clf_scoring = clf_scoring, clf_param_grid = clf_param_grid,\n",
    "      cv=cv, model=\"xgb\", zir=True, log=\"yes\")"
   ]
  },
  {
   "cell_type": "code",
   "execution_count": 13,
   "metadata": {},
   "outputs": [
    {
     "name": "stdout",
     "output_type": "stream",
     "text": [
      "Fitting 3 folds for each of 1 candidates, totalling 3 fits\n",
      "[CV 1/3] END regressor__estimator__leaf_size=30, regressor__estimator__n_neighbors=3, regressor__estimator__p=1, regressor__estimator__weights=uniform, regressor__max_features=0.5, regressor__max_samples=0.5;, score=(train=-0.160, test=-0.168) total time=   0.1s[CV 2/3] END regressor__estimator__leaf_size=30, regressor__estimator__n_neighbors=3, regressor__estimator__p=1, regressor__estimator__weights=uniform, regressor__max_features=0.5, regressor__max_samples=0.5;, score=(train=-0.160, test=-0.191) total time=   0.1s\n",
      "\n",
      "[CV 3/3] END regressor__estimator__leaf_size=30, regressor__estimator__n_neighbors=3, regressor__estimator__p=1, regressor__estimator__weights=uniform, regressor__max_features=0.5, regressor__max_samples=0.5;, score=(train=-0.164, test=-0.221) total time=   0.1s\n",
      "[CV] END  MAE: (test=-0.191) R2: (test=0.504) RMSE: (test=-0.257) total time=   0.2s\n"
     ]
    },
    {
     "name": "stderr",
     "output_type": "stream",
     "text": [
      "[Parallel(n_jobs=2)]: Using backend MultiprocessingBackend with 2 concurrent workers.\n"
     ]
    },
    {
     "name": "stdout",
     "output_type": "stream",
     "text": [
      "[CV] END  MAE: (test=-0.175) R2: (test=0.518) RMSE: (test=-0.234) total time=   0.2s\n",
      "[CV] END  MAE: (test=-0.218) R2: (test=0.492) RMSE: (test=-0.273) total time=   0.2s\n",
      "finished tuning model\n",
      "reg rRMSE: 37%\n",
      "reg rMAE: 28%\n",
      "reg R2: 0.5\n",
      "execution time: 1.3672292232513428 seconds\n"
     ]
    },
    {
     "name": "stderr",
     "output_type": "stream",
     "text": [
      "[Parallel(n_jobs=2)]: Done   3 out of   3 | elapsed:    0.4s finished\n"
     ]
    }
   ],
   "source": [
    "'''\n",
    "1-phase nearest neighbors with a bagged KNN\n",
    "note: we need to define the number of bags when running KNN by defining bagging_estimators=30\n",
    "'''\n",
    "\n",
    "reg_scoring = model_config['reg_scoring']\n",
    "reg_param_grid = model_config['knn_param_grid']['reg_param_grid']\n",
    "\n",
    "m = tune(X, y, seed, n_threads, verbose, cv, path_out)\n",
    "m.XGB(reg_scoring, reg_param_grid, cv=cv, model=\"knn\", zir=False, log=\"yes\", bagging_estimators=30)"
   ]
  },
  {
   "cell_type": "code",
   "execution_count": 14,
   "metadata": {},
   "outputs": [
    {
     "name": "stdout",
     "output_type": "stream",
     "text": [
      "Fitting 3 folds for each of 1 candidates, totalling 3 fits\n"
     ]
    },
    {
     "name": "stdout",
     "output_type": "stream",
     "text": [
      "[CV 1/3] END regressor__estimator__leaf_size=30, regressor__estimator__n_neighbors=3, regressor__estimator__p=1, regressor__estimator__weights=uniform, regressor__max_features=0.5, regressor__max_samples=0.5;, score=(train=-0.156, test=-0.163) total time=   0.1s\n",
      "[CV 2/3] END regressor__estimator__leaf_size=30, regressor__estimator__n_neighbors=3, regressor__estimator__p=1, regressor__estimator__weights=uniform, regressor__max_features=0.5, regressor__max_samples=0.5;, score=(train=-0.157, test=-0.184) total time=   0.2s\n",
      "[CV 3/3] END regressor__estimator__leaf_size=30, regressor__estimator__n_neighbors=3, regressor__estimator__p=1, regressor__estimator__weights=uniform, regressor__max_features=0.5, regressor__max_samples=0.5;, score=(train=-0.152, test=-0.208) total time=   0.1s\n",
      "Fitting 3 folds for each of 1 candidates, totalling 3 fits\n",
      "[CV 1/3] END regressor__estimator__leaf_size=30, regressor__estimator__n_neighbors=3, regressor__estimator__p=1, regressor__estimator__weights=uniform, regressor__max_features=0.5, regressor__max_samples=0.5;, score=(train=-0.166, test=-0.178) total time=   0.2s[CV 2/3] END regressor__estimator__leaf_size=30, regressor__estimator__n_neighbors=3, regressor__estimator__p=1, regressor__estimator__weights=uniform, regressor__max_features=0.5, regressor__max_samples=0.5;, score=(train=-0.162, test=-0.194) total time=   0.2s\n",
      "\n",
      "[CV 3/3] END regressor__estimator__leaf_size=30, regressor__estimator__n_neighbors=3, regressor__estimator__p=1, regressor__estimator__weights=uniform, regressor__max_features=0.5, regressor__max_samples=0.5;, score=(train=-0.168, test=-0.224) total time=   0.1s\n"
     ]
    },
    {
     "name": "stderr",
     "output_type": "stream",
     "text": [
      "/home/phyto/anaconda3/envs/my-geopandas-env-2/lib/python3.11/site-packages/sklearn/ensemble/_bagging.py:802: DataConversionWarning: A column-vector y was passed when a 1d array was expected. Please change the shape of y to (n_samples, ), for example using ravel().\n",
      "  y = column_or_1d(y, warn=True)\n",
      "/home/phyto/anaconda3/envs/my-geopandas-env-2/lib/python3.11/site-packages/sklearn/ensemble/_bagging.py:802: DataConversionWarning: A column-vector y was passed when a 1d array was expected. Please change the shape of y to (n_samples, ), for example using ravel().\n",
      "  y = column_or_1d(y, warn=True)\n"
     ]
    },
    {
     "name": "stdout",
     "output_type": "stream",
     "text": [
      "[CV 1/3] END estimator__leaf_size=30, estimator__n_neighbors=3, estimator__p=1, estimator__weights=uniform, max_features=0.5, max_samples=0.5;, score=0.500 total time=   0.2s\n",
      "[CV 2/3] END estimator__leaf_size=30, estimator__n_neighbors=3, estimator__p=1, estimator__weights=uniform, max_features=0.5, max_samples=0.5;, score=0.500 total time=   0.2s\n",
      "Fitting 3 folds for each of 1 candidates, totalling 3 fits\n"
     ]
    },
    {
     "name": "stderr",
     "output_type": "stream",
     "text": [
      "/home/phyto/anaconda3/envs/my-geopandas-env-2/lib/python3.11/site-packages/sklearn/ensemble/_bagging.py:802: DataConversionWarning: A column-vector y was passed when a 1d array was expected. Please change the shape of y to (n_samples, ), for example using ravel().\n",
      "  y = column_or_1d(y, warn=True)\n"
     ]
    },
    {
     "name": "stdout",
     "output_type": "stream",
     "text": [
      "[CV 3/3] END estimator__leaf_size=30, estimator__n_neighbors=3, estimator__p=1, estimator__weights=uniform, max_features=0.5, max_samples=0.5;, score=0.574 total time=   0.2s\n"
     ]
    },
    {
     "name": "stderr",
     "output_type": "stream",
     "text": [
      "/home/phyto/anaconda3/envs/my-geopandas-env-2/lib/python3.11/site-packages/sklearn/ensemble/_bagging.py:802: DataConversionWarning: A column-vector y was passed when a 1d array was expected. Please change the shape of y to (n_samples, ), for example using ravel().\n",
      "  y = column_or_1d(y, warn=True)\n",
      "/home/phyto/anaconda3/envs/my-geopandas-env-2/lib/python3.11/site-packages/sklearn/ensemble/_bagging.py:802: DataConversionWarning: A column-vector y was passed when a 1d array was expected. Please change the shape of y to (n_samples, ), for example using ravel().\n",
      "  y = column_or_1d(y, warn=True)\n",
      "/home/phyto/anaconda3/envs/my-geopandas-env-2/lib/python3.11/site-packages/sklearn/ensemble/_bagging.py:802: DataConversionWarning: A column-vector y was passed when a 1d array was expected. Please change the shape of y to (n_samples, ), for example using ravel().\n",
      "  y = column_or_1d(y, warn=True)\n"
     ]
    },
    {
     "name": "stdout",
     "output_type": "stream",
     "text": [
      "[CV] END ............................. accuracy: (test=0.552) total time=   0.2s\n",
      "[CV] END ............................. accuracy: (test=0.518) total time=   0.2s\n"
     ]
    },
    {
     "name": "stderr",
     "output_type": "stream",
     "text": [
      "[Parallel(n_jobs=2)]: Using backend MultiprocessingBackend with 2 concurrent workers.\n",
      "/home/phyto/anaconda3/envs/my-geopandas-env-2/lib/python3.11/site-packages/sklearn/ensemble/_bagging.py:802: DataConversionWarning: A column-vector y was passed when a 1d array was expected. Please change the shape of y to (n_samples, ), for example using ravel().\n",
      "  y = column_or_1d(y, warn=True)\n"
     ]
    },
    {
     "name": "stdout",
     "output_type": "stream",
     "text": [
      "[CV] END ............................. accuracy: (test=0.537) total time=   0.2s\n"
     ]
    },
    {
     "name": "stderr",
     "output_type": "stream",
     "text": [
      "[Parallel(n_jobs=2)]: Done   3 out of   3 | elapsed:    0.4s finished\n",
      "[Parallel(n_jobs=2)]: Using backend MultiprocessingBackend with 2 concurrent workers.\n"
     ]
    },
    {
     "name": "stdout",
     "output_type": "stream",
     "text": [
      "[CV] END  MAE: (test=-0.190) R2: (test=0.491) RMSE: (test=-0.261) total time=   0.2s\n",
      "[CV] END  MAE: (test=-0.174) R2: (test=0.491) RMSE: (test=-0.240) total time=   0.2s\n",
      "[CV] END  MAE: (test=-0.212) R2: (test=0.466) RMSE: (test=-0.280) total time=   0.1s\n"
     ]
    },
    {
     "name": "stderr",
     "output_type": "stream",
     "text": [
      "[Parallel(n_jobs=2)]: Done   3 out of   3 | elapsed:    0.3s finished\n",
      "[Parallel(n_jobs=2)]: Using backend MultiprocessingBackend with 2 concurrent workers.\n",
      "/home/phyto/anaconda3/envs/my-geopandas-env-2/lib/python3.11/site-packages/sklearn/utils/validation.py:1143: DataConversionWarning: A column-vector y was passed when a 1d array was expected. Please change the shape of y to (n_samples, ), for example using ravel().\n",
      "  y = column_or_1d(y, warn=True)\n",
      "/home/phyto/anaconda3/envs/my-geopandas-env-2/lib/python3.11/site-packages/sklearn/utils/validation.py:1143: DataConversionWarning: A column-vector y was passed when a 1d array was expected. Please change the shape of y to (n_samples, ), for example using ravel().\n",
      "  y = column_or_1d(y, warn=True)\n"
     ]
    },
    {
     "name": "stdout",
     "output_type": "stream",
     "text": [
      "[CV] END  MAE: (test=-0.172) R2: (test=0.444) RMSE: (test=-0.251) total time=   0.4s[CV] END  MAE: (test=-0.185) R2: (test=0.443) RMSE: (test=-0.273) total time=   0.4s\n",
      "\n"
     ]
    },
    {
     "name": "stderr",
     "output_type": "stream",
     "text": [
      "/home/phyto/anaconda3/envs/my-geopandas-env-2/lib/python3.11/site-packages/sklearn/utils/validation.py:1143: DataConversionWarning: A column-vector y was passed when a 1d array was expected. Please change the shape of y to (n_samples, ), for example using ravel().\n",
      "  y = column_or_1d(y, warn=True)\n"
     ]
    },
    {
     "name": "stdout",
     "output_type": "stream",
     "text": [
      "[CV] END  MAE: (test=-0.218) R2: (test=0.375) RMSE: (test=-0.303) total time=   0.3s\n",
      "finished tuning model\n",
      "reg rRMSE: 38%\n",
      "reg rMAE: 28%\n",
      "reg R2: 0.48\n",
      "zir rRMSE: 40%\n",
      "zir rMAE: 28%\n",
      "zir R2: 0.42\n",
      "execution time: 4.431487321853638 seconds\n"
     ]
    },
    {
     "name": "stderr",
     "output_type": "stream",
     "text": [
      "[Parallel(n_jobs=2)]: Done   3 out of   3 | elapsed:    0.7s finished\n"
     ]
    }
   ],
   "source": [
    "'''\n",
    "2-phase nearest neighbors with a bagged KNN\n",
    "note: we need to define the number of bags when running KNN by defining bagging_estimators=30\n",
    "'''\n",
    "\n",
    "reg_scoring = model_config['reg_scoring']\n",
    "clf_scoring = model_config['clf_scoring']\n",
    "\n",
    "clf_param_grid = model_config['knn_param_grid']['clf_param_grid']\n",
    "reg_param_grid = model_config['knn_param_grid']['reg_param_grid']\n",
    "\n",
    "m = tune(X, y, seed, n_threads, verbose, cv, path_out)\n",
    "m.XGB(reg_scoring, reg_param_grid,  clf_scoring = clf_scoring, clf_param_grid = clf_param_grid,  \n",
    "      cv=cv, model=\"knn\", zir=True, log=\"both\", bagging_estimators=30)"
   ]
  },
  {
   "attachments": {},
   "cell_type": "markdown",
   "metadata": {},
   "source": [
    "TO DO:\n",
    "    \n",
    "Add print statement for log=\"both\"\n",
    "\n",
    "Add tau scoring"
   ]
  }
 ],
 "metadata": {
  "kernelspec": {
   "display_name": "Python 3 (ipykernel)",
   "language": "python",
   "name": "python3"
  },
  "language_info": {
   "codemirror_mode": {
    "name": "ipython",
    "version": 3
   },
   "file_extension": ".py",
   "mimetype": "text/x-python",
   "name": "python",
   "nbconvert_exporter": "python",
   "pygments_lexer": "ipython3",
   "version": "3.11.4"
  }
 },
 "nbformat": 4,
 "nbformat_minor": 2
}
