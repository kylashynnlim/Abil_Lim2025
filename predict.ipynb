{
 "cells": [
  {
   "attachments": {},
   "cell_type": "markdown",
   "metadata": {},
   "source": []
  },
  {
   "cell_type": "code",
   "execution_count": 1,
   "metadata": {},
   "outputs": [],
   "source": [
    "from sklearn.preprocessing import MinMaxScaler\n",
    "from sklearn.datasets import make_regression\n",
    "import numpy as np\n",
    "import pandas as pd\n",
    "from functions import example_data\n",
    "from numpy.random import rand\n",
    "from predict import predict"
   ]
  },
  {
   "cell_type": "code",
   "execution_count": 2,
   "metadata": {},
   "outputs": [],
   "source": [
    "seed = 1\n",
    "n_threads = 4\n",
    "verbose = 1 \n",
    "cv = 3\n",
    "path_out = \"/home/phyto/ModelOutput/test/\"\n",
    "\n",
    "X, y = example_data(y_name =  \"Emiliania huxleyi\", n_samples=500, n_features=5, noise=20, random_state=seed)\n",
    "\n",
    "envdata = pd.DataFrame({\"no3\": rand(50), \"mld\": rand(50), \"par\": rand(50), \"o2\": rand(50), \"temp\": rand(50),\n",
    "                        \"lat\": range(0,50, 1), \"lon\": range(0,50, 1)})\n",
    "envdata.set_index(['lat', 'lon'], inplace=True)\n"
   ]
  },
  {
   "cell_type": "code",
   "execution_count": 3,
   "metadata": {},
   "outputs": [
    {
     "name": "stderr",
     "output_type": "stream",
     "text": [
      "/home/phyto/anaconda3/envs/my-geopandas-env-2/lib/python3.11/site-packages/sklearn/base.py:432: UserWarning: X has feature names, but RandomForestRegressor was fitted without feature names\n",
      "  warnings.warn(\n"
     ]
    },
    {
     "name": "stdout",
     "output_type": "stream",
     "text": [
      "<xarray.Dataset>\n",
      "Dimensions:            (lat: 50, lon: 50)\n",
      "Coordinates:\n",
      "  * lat                (lat) int64 0 1 2 3 4 5 6 7 8 ... 42 43 44 45 46 47 48 49\n",
      "  * lon                (lon) int64 0 1 2 3 4 5 6 7 8 ... 42 43 44 45 46 47 48 49\n",
      "Data variables:\n",
      "    no3                (lat, lon) float64 0.3955 nan nan nan ... nan nan 0.3811\n",
      "    mld                (lat, lon) float64 0.9238 nan nan nan ... nan nan 0.5037\n",
      "    par                (lat, lon) float64 0.7782 nan nan nan ... nan nan 0.9237\n",
      "    o2                 (lat, lon) float64 0.9964 nan nan nan ... nan nan 0.05286\n",
      "    temp               (lat, lon) float64 0.653 nan nan nan ... nan nan 0.2005\n",
      "    Emiliania huxleyi  (lat, lon) float64 0.8188 nan nan nan ... nan nan 0.8188\n",
      "finished\n",
      "execution time: 0.6204988956451416 seconds\n"
     ]
    }
   ],
   "source": [
    "model_config = {\n",
    "    \"rf\": {\n",
    "        \"path\":\"/home/phyto/ModelOutput/test/rf/\",\n",
    "        \"config\": \"zir\"\n",
    "    }\n",
    "}\n",
    "\n",
    "m = predict(X, y, envdata, model_config, seed, n_threads, verbose, cv, path_out, scale=True)\n",
    "m.make_prediction()\n"
   ]
  },
  {
   "cell_type": "code",
   "execution_count": 4,
   "metadata": {},
   "outputs": [
    {
     "name": "stderr",
     "output_type": "stream",
     "text": [
      "/home/phyto/anaconda3/envs/my-geopandas-env-2/lib/python3.11/site-packages/sklearn/base.py:432: UserWarning: X has feature names, but RandomForestRegressor was fitted without feature names\n",
      "  warnings.warn(\n"
     ]
    },
    {
     "name": "stdout",
     "output_type": "stream",
     "text": [
      "<xarray.Dataset>\n",
      "Dimensions:            (lat: 50, lon: 50)\n",
      "Coordinates:\n",
      "  * lat                (lat) int64 0 1 2 3 4 5 6 7 8 ... 42 43 44 45 46 47 48 49\n",
      "  * lon                (lon) int64 0 1 2 3 4 5 6 7 8 ... 42 43 44 45 46 47 48 49\n",
      "Data variables:\n",
      "    no3                (lat, lon) float64 0.3955 nan nan nan ... nan nan 0.3811\n",
      "    mld                (lat, lon) float64 0.9238 nan nan nan ... nan nan 0.5037\n",
      "    par                (lat, lon) float64 0.7782 nan nan nan ... nan nan 0.9237\n",
      "    o2                 (lat, lon) float64 0.9964 nan nan nan ... nan nan 0.05286\n",
      "    temp               (lat, lon) float64 0.653 nan nan nan ... nan nan 0.2005\n",
      "    Emiliania huxleyi  (lat, lon) float64 0.8188 nan nan nan ... nan nan 0.8188\n",
      "<xarray.Dataset>\n",
      "Dimensions:            (lat: 50, lon: 50)\n",
      "Coordinates:\n",
      "  * lat                (lat) int64 0 1 2 3 4 5 6 7 8 ... 42 43 44 45 46 47 48 49\n",
      "  * lon                (lon) int64 0 1 2 3 4 5 6 7 8 ... 42 43 44 45 46 47 48 49\n",
      "Data variables:\n",
      "    no3                (lat, lon) float64 0.3955 nan nan nan ... nan nan 0.3811\n",
      "    mld                (lat, lon) float64 0.9238 nan nan nan ... nan nan 0.5037\n",
      "    par                (lat, lon) float64 0.7782 nan nan nan ... nan nan 0.9237\n",
      "    o2                 (lat, lon) float64 0.9964 nan nan nan ... nan nan 0.05286\n",
      "    temp               (lat, lon) float64 0.653 nan nan nan ... nan nan 0.2005\n",
      "    Emiliania huxleyi  (lat, lon) float64 0.6581 nan nan nan ... nan nan 0.6609\n",
      "<xarray.Dataset>\n",
      "Dimensions:            (lat: 50, lon: 50)\n",
      "Coordinates:\n",
      "  * lat                (lat) int64 0 1 2 3 4 5 6 7 8 ... 42 43 44 45 46 47 48 49\n",
      "  * lon                (lon) int64 0 1 2 3 4 5 6 7 8 ... 42 43 44 45 46 47 48 49\n",
      "Data variables:\n",
      "    no3                (lat, lon) float64 0.3955 nan nan nan ... nan nan 0.3811\n",
      "    mld                (lat, lon) float64 0.9238 nan nan nan ... nan nan 0.5037\n",
      "    par                (lat, lon) float64 0.7782 nan nan nan ... nan nan 0.9237\n",
      "    o2                 (lat, lon) float64 0.9964 nan nan nan ... nan nan 0.05286\n",
      "    temp               (lat, lon) float64 0.653 nan nan nan ... nan nan 0.2005\n",
      "    Emiliania huxleyi  (lat, lon) float64 0.7445 nan nan nan ... nan nan 0.8192\n",
      "[-0.22844516792265848, -0.22374421773416545, -0.21865900811703345]\n",
      "<xarray.Dataset>\n",
      "Dimensions:            (lat: 50, lon: 50)\n",
      "Coordinates:\n",
      "  * lat                (lat) int64 0 1 2 3 4 5 6 7 8 ... 42 43 44 45 46 47 48 49\n",
      "  * lon                (lon) int64 0 1 2 3 4 5 6 7 8 ... 42 43 44 45 46 47 48 49\n",
      "Data variables:\n",
      "    no3                (lat, lon) float64 0.3955 nan nan nan ... nan nan 0.3811\n",
      "    mld                (lat, lon) float64 0.9238 nan nan nan ... nan nan 0.5037\n",
      "    par                (lat, lon) float64 0.7782 nan nan nan ... nan nan 0.9237\n",
      "    o2                 (lat, lon) float64 0.9964 nan nan nan ... nan nan 0.05286\n",
      "    temp               (lat, lon) float64 0.653 nan nan nan ... nan nan 0.2005\n",
      "    Emiliania huxleyi  (lat, lon) float64 0.7674 nan nan nan ... nan nan 0.7572\n",
      "finished\n",
      "execution time: 1.329420566558838 seconds\n"
     ]
    },
    {
     "name": "stderr",
     "output_type": "stream",
     "text": [
      "/home/phyto/anaconda3/envs/my-geopandas-env-2/lib/python3.11/site-packages/sklearn/base.py:432: UserWarning: X has feature names, but RandomForestRegressor was fitted without feature names\n",
      "  warnings.warn(\n"
     ]
    }
   ],
   "source": [
    "\n",
    "model_config = {\n",
    "    \"rf\": {\n",
    "        \"path\":\"/home/phyto/ModelOutput/test/rf/\",\n",
    "        \"config\": \"zir\"\n",
    "    },\n",
    "    \"xgb\": {\n",
    "        \"path\":\"/home/phyto/ModelOutput/test/xgb/\",\n",
    "        \"config\": \"zir\"\n",
    "    },\n",
    "    \"knn\": {\n",
    "        \"path\":\"/home/phyto/ModelOutput/test/knn/\",\n",
    "        \"config\": \"zir\"\n",
    "    }\n",
    "}\n",
    "\n",
    "m = predict(X, y, envdata, model_config, seed, n_threads, verbose, cv, path_out, scale=True)\n",
    "m.make_prediction()\n"
   ]
  },
  {
   "cell_type": "code",
   "execution_count": 7,
   "metadata": {},
   "outputs": [
    {
     "name": "stdout",
     "output_type": "stream",
     "text": [
      "<xarray.Dataset>\n",
      "Dimensions:                (lat: 50, lon: 50)\n",
      "Coordinates:\n",
      "  * lat                    (lat) int64 0 1 2 3 4 5 6 7 ... 43 44 45 46 47 48 49\n",
      "  * lon                    (lon) int64 0 1 2 3 4 5 6 7 ... 43 44 45 46 47 48 49\n",
      "Data variables:\n",
      "    no3                    (lat, lon) float64 0.6907 nan nan ... nan nan 0.4635\n",
      "    mld                    (lat, lon) float64 0.03708 nan nan ... nan nan 0.7988\n",
      "    par                    (lat, lon) float64 0.2981 nan nan ... nan nan 0.568\n",
      "    o2                     (lat, lon) float64 0.6117 nan nan ... nan nan 0.5403\n",
      "    temp                   (lat, lon) float64 0.2697 nan nan ... nan nan 0.8116\n",
      "    Coccolithus pelagicus  (lat, lon) float64 0.8188 nan nan ... nan nan 0.8188\n"
     ]
    },
    {
     "name": "stderr",
     "output_type": "stream",
     "text": [
      "/home/phyto/anaconda3/envs/my-geopandas-env-2/lib/python3.11/site-packages/sklearn/base.py:432: UserWarning: X has feature names, but RandomForestRegressor was fitted without feature names\n",
      "  warnings.warn(\n"
     ]
    },
    {
     "ename": "ValueError",
     "evalue": "shape mismatch: value array of shape (50,1) could not be broadcast to indexing result of shape (50,)",
     "output_type": "error",
     "traceback": [
      "\u001b[0;31m---------------------------------------------------------------------------\u001b[0m",
      "\u001b[0;31mValueError\u001b[0m                                Traceback (most recent call last)",
      "Cell \u001b[0;32mIn[7], line 24\u001b[0m\n\u001b[1;32m     21\u001b[0m X, y \u001b[39m=\u001b[39m example_data(y_name \u001b[39m=\u001b[39m  \u001b[39m\"\u001b[39m\u001b[39mCoccolithus pelagicus\u001b[39m\u001b[39m\"\u001b[39m, n_samples\u001b[39m=\u001b[39m\u001b[39m500\u001b[39m, n_features\u001b[39m=\u001b[39m\u001b[39m5\u001b[39m, noise\u001b[39m=\u001b[39m\u001b[39m20\u001b[39m, random_state\u001b[39m=\u001b[39mseed)\n\u001b[1;32m     23\u001b[0m m \u001b[39m=\u001b[39m predict(X, y, envdata, model_config, seed, n_threads, verbose, cv, path_out, scale\u001b[39m=\u001b[39m\u001b[39mTrue\u001b[39;00m)\n\u001b[0;32m---> 24\u001b[0m m\u001b[39m.\u001b[39;49mmake_prediction()\n",
      "File \u001b[0;32m~/planktonSDM/predict.py:161\u001b[0m, in \u001b[0;36mpredict.make_prediction\u001b[0;34m(self)\u001b[0m\n\u001b[1;32m    159\u001b[0m m2, mae2 \u001b[39m=\u001b[39m \u001b[39mself\u001b[39m\u001b[39m.\u001b[39mdef_prediction(\u001b[39m1\u001b[39m)\n\u001b[1;32m    160\u001b[0m model_out \u001b[39m=\u001b[39m \u001b[39mself\u001b[39m\u001b[39m.\u001b[39mpath_out \u001b[39m+\u001b[39m \u001b[39mlist\u001b[39m(\u001b[39mself\u001b[39m\u001b[39m.\u001b[39mmodel_config)[\u001b[39m1\u001b[39m] \u001b[39m+\u001b[39m \u001b[39m\"\u001b[39m\u001b[39m/predictions/\u001b[39m\u001b[39m\"\u001b[39m\n\u001b[0;32m--> 161\u001b[0m \u001b[39mself\u001b[39;49m\u001b[39m.\u001b[39;49mexport_prediction(m2, model_out)\n\u001b[1;32m    163\u001b[0m m3, mae3 \u001b[39m=\u001b[39m \u001b[39mself\u001b[39m\u001b[39m.\u001b[39mdef_prediction(\u001b[39m2\u001b[39m)\n\u001b[1;32m    164\u001b[0m model_out \u001b[39m=\u001b[39m \u001b[39mself\u001b[39m\u001b[39m.\u001b[39mpath_out \u001b[39m+\u001b[39m \u001b[39mlist\u001b[39m(\u001b[39mself\u001b[39m\u001b[39m.\u001b[39mmodel_config)[\u001b[39m2\u001b[39m] \u001b[39m+\u001b[39m \u001b[39m\"\u001b[39m\u001b[39m/predictions/\u001b[39m\u001b[39m\"\u001b[39m\n",
      "File \u001b[0;32m~/planktonSDM/predict.py:110\u001b[0m, in \u001b[0;36mpredict.export_prediction\u001b[0;34m(self, m, ens_model_out)\u001b[0m\n\u001b[1;32m    107\u001b[0m \u001b[39mdef\u001b[39;00m \u001b[39mexport_prediction\u001b[39m(\u001b[39mself\u001b[39m, m, ens_model_out):\n\u001b[1;32m    109\u001b[0m     d \u001b[39m=\u001b[39m \u001b[39mself\u001b[39m\u001b[39m.\u001b[39menvdata\u001b[39m.\u001b[39mcopy()\n\u001b[0;32m--> 110\u001b[0m     d[\u001b[39mself\u001b[39m\u001b[39m.\u001b[39mspecies] \u001b[39m=\u001b[39m m\u001b[39m.\u001b[39;49mfit(\u001b[39mself\u001b[39;49m\u001b[39m.\u001b[39;49mX, \u001b[39mself\u001b[39;49m\u001b[39m.\u001b[39;49my)\u001b[39m.\u001b[39;49mpredict(\u001b[39mself\u001b[39;49m\u001b[39m.\u001b[39;49menvdata)\n\u001b[1;32m    111\u001b[0m     d \u001b[39m=\u001b[39m d\u001b[39m.\u001b[39mto_xarray()\n\u001b[1;32m    112\u001b[0m     \u001b[39mprint\u001b[39m(d)\n",
      "File \u001b[0;32m~/planktonSDM/functions.py:139\u001b[0m, in \u001b[0;36mZeroInflatedRegressor.predict\u001b[0;34m(self, X)\u001b[0m\n\u001b[1;32m    136\u001b[0m non_zero_indices \u001b[39m=\u001b[39m np\u001b[39m.\u001b[39mwhere(\u001b[39mself\u001b[39m\u001b[39m.\u001b[39mclassifier_\u001b[39m.\u001b[39mpredict(X))[\u001b[39m0\u001b[39m]\n\u001b[1;32m    138\u001b[0m \u001b[39mif\u001b[39;00m non_zero_indices\u001b[39m.\u001b[39msize \u001b[39m>\u001b[39m \u001b[39m0\u001b[39m:\n\u001b[0;32m--> 139\u001b[0m     output[non_zero_indices] \u001b[39m=\u001b[39m \u001b[39mself\u001b[39m\u001b[39m.\u001b[39mregressor_\u001b[39m.\u001b[39mpredict(X[non_zero_indices])\n\u001b[1;32m    141\u001b[0m \u001b[39mreturn\u001b[39;00m output\n",
      "\u001b[0;31mValueError\u001b[0m: shape mismatch: value array of shape (50,1) could not be broadcast to indexing result of shape (50,)"
     ]
    }
   ],
   "source": [
    "\n",
    "envdata = pd.DataFrame({\"no3\": rand(50), \"mld\": rand(50), \"par\": rand(50), \"o2\": rand(50), \"temp\": rand(50),\n",
    "                        \"lat\": range(0,50, 1), \"lon\": range(0,50, 1)})\n",
    "envdata.set_index(['lat', 'lon'], inplace=True)\n",
    "\n",
    "\n",
    "model_config = {\n",
    "    \"rf\": {\n",
    "        \"path\":\"/home/phyto/ModelOutput/test/rf/\",\n",
    "        \"config\": \"zir\"\n",
    "    },\n",
    "    \"xgb\": {\n",
    "        \"path\":\"/home/phyto/ModelOutput/test/xgb/\",\n",
    "        \"config\": \"zir\"\n",
    "    },\n",
    "    \"knn\": {\n",
    "        \"path\":\"/home/phyto/ModelOutput/test/knn/\",\n",
    "        \"config\": \"zir\"\n",
    "    }\n",
    "}\n",
    "\n",
    "X, y = example_data(y_name =  \"Coccolithus pelagicus\", n_samples=500, n_features=5, noise=20, random_state=seed)\n",
    "\n",
    "m = predict(X, y, envdata, model_config, seed, n_threads, verbose, cv, path_out, scale=True)\n",
    "m.make_prediction()"
   ]
  }
 ],
 "metadata": {
  "kernelspec": {
   "display_name": "my-geopandas-env-2",
   "language": "python",
   "name": "python3"
  },
  "language_info": {
   "codemirror_mode": {
    "name": "ipython",
    "version": 3
   },
   "file_extension": ".py",
   "mimetype": "text/x-python",
   "name": "python",
   "nbconvert_exporter": "python",
   "pygments_lexer": "ipython3",
   "version": "3.11.4"
  },
  "orig_nbformat": 4
 },
 "nbformat": 4,
 "nbformat_minor": 2
}
