{
 "cells": [
  {
   "attachments": {},
   "cell_type": "markdown",
   "metadata": {},
   "source": []
  },
  {
   "cell_type": "code",
   "execution_count": 1,
   "metadata": {},
   "outputs": [],
   "source": [
    "from sklearn.preprocessing import MinMaxScaler\n",
    "from sklearn.datasets import make_regression\n",
    "import numpy as np\n",
    "import pandas as pd\n",
    "from functions import example_data\n",
    "from numpy.random import rand\n",
    "from predict import predict"
   ]
  },
  {
   "cell_type": "code",
   "execution_count": 2,
   "metadata": {},
   "outputs": [
    {
     "name": "stdout",
     "output_type": "stream",
     "text": [
      "fin\n"
     ]
    }
   ],
   "source": [
    "seed = 1\n",
    "n_threads = 4\n",
    "verbose = 1 \n",
    "cv = 3\n",
    "path_out = \"/home/phyto/ModelOutput/test/\"\n",
    "\n",
    "X, y = example_data(n_samples=500, n_features=5, noise=20, random_state=seed)\n",
    "\n",
    "species = \"Emiliania huxleyi\"\n",
    "\n",
    "envdata = pd.DataFrame({\"no3\": rand(50), \"mld\": rand(50), \"par\": rand(50), \"o2\": rand(50), \"temp\": rand(50),\n",
    "                        \"lat\": range(0,50, 1), \"lon\": range(0,50, 1)})\n",
    "envdata.set_index(['lat', 'lon'], inplace=True)\n",
    "\n",
    "\n",
    "print(\"fin\")"
   ]
  },
  {
   "cell_type": "code",
   "execution_count": 3,
   "metadata": {},
   "outputs": [
    {
     "ename": "AttributeError",
     "evalue": "'predict' object has no attribute 'X_train_scaled'",
     "output_type": "error",
     "traceback": [
      "\u001b[0;31m---------------------------------------------------------------------------\u001b[0m",
      "\u001b[0;31mAttributeError\u001b[0m                            Traceback (most recent call last)",
      "Cell \u001b[0;32mIn[3], line 9\u001b[0m\n\u001b[1;32m      1\u001b[0m model_config \u001b[39m=\u001b[39m {\n\u001b[1;32m      2\u001b[0m     \u001b[39m\"\u001b[39m\u001b[39mrf\u001b[39m\u001b[39m\"\u001b[39m: {\n\u001b[1;32m      3\u001b[0m         \u001b[39m\"\u001b[39m\u001b[39mpath\u001b[39m\u001b[39m\"\u001b[39m:\u001b[39m\"\u001b[39m\u001b[39m/home/phyto/ModelOutput/test/rf/\u001b[39m\u001b[39m\"\u001b[39m,\n\u001b[1;32m      4\u001b[0m         \u001b[39m\"\u001b[39m\u001b[39mconfig\u001b[39m\u001b[39m\"\u001b[39m: \u001b[39m\"\u001b[39m\u001b[39mzir\u001b[39m\u001b[39m\"\u001b[39m\n\u001b[1;32m      5\u001b[0m     }\n\u001b[1;32m      6\u001b[0m }\n\u001b[1;32m      8\u001b[0m m \u001b[39m=\u001b[39m predict(X, y, envdata, model_config, seed, n_threads, verbose, cv, path_out, species, scale\u001b[39m=\u001b[39m\u001b[39mTrue\u001b[39;00m)\n\u001b[0;32m----> 9\u001b[0m m\u001b[39m.\u001b[39;49mmake_prediction()\n",
      "File \u001b[0;32m~/planktonSDM/predict.py:128\u001b[0m, in \u001b[0;36mpredict.make_prediction\u001b[0;34m(self)\u001b[0m\n\u001b[1;32m    126\u001b[0m \u001b[39mif\u001b[39;00m \u001b[39mlen\u001b[39m(\u001b[39mself\u001b[39m\u001b[39m.\u001b[39mmodel_config)\u001b[39m==\u001b[39m\u001b[39m1\u001b[39m:\n\u001b[1;32m    127\u001b[0m     m, mae \u001b[39m=\u001b[39m \u001b[39mself\u001b[39m\u001b[39m.\u001b[39mdef_prediction(\u001b[39m0\u001b[39m)\n\u001b[0;32m--> 128\u001b[0m     prediction \u001b[39m=\u001b[39m m\u001b[39m.\u001b[39mfit(\u001b[39mself\u001b[39;49m\u001b[39m.\u001b[39;49mX_train_scaled, \u001b[39mself\u001b[39m\u001b[39m.\u001b[39my)\u001b[39m.\u001b[39mpredict(\u001b[39mself\u001b[39m\u001b[39m.\u001b[39mX_scaled)\n\u001b[1;32m    129\u001b[0m     d \u001b[39m=\u001b[39m prediction\u001b[39m.\u001b[39mto_xarray()\n\u001b[1;32m    132\u001b[0m     model_out \u001b[39m=\u001b[39m \u001b[39mself\u001b[39m\u001b[39m.\u001b[39mpath_out \u001b[39m+\u001b[39m \u001b[39mlist\u001b[39m(\u001b[39mself\u001b[39m\u001b[39m.\u001b[39mmodel_config)[\u001b[39m0\u001b[39m] \u001b[39m+\u001b[39m \u001b[39m\"\u001b[39m\u001b[39m/predictions/\u001b[39m\u001b[39m\"\u001b[39m \n",
      "\u001b[0;31mAttributeError\u001b[0m: 'predict' object has no attribute 'X_train_scaled'"
     ]
    }
   ],
   "source": [
    "model_config = {\n",
    "    \"rf\": {\n",
    "        \"path\":\"/home/phyto/ModelOutput/test/rf/\",\n",
    "        \"config\": \"zir\"\n",
    "    }\n",
    "}\n",
    "\n",
    "m = predict(X, y, envdata, model_config, seed, n_threads, verbose, cv, path_out, species, scale=True)\n",
    "m.make_prediction()\n"
   ]
  },
  {
   "cell_type": "code",
   "execution_count": null,
   "metadata": {},
   "outputs": [],
   "source": [
    "\n",
    "model_config = {\n",
    "    \"rf\": {\n",
    "        \"path\":\"/home/phyto/ModelOutput/test/rf/\",\n",
    "        \"config\": \"zir\"\n",
    "    },\n",
    "    \"xgb\": {\n",
    "        \"path\":\"/home/phyto/ModelOutput/test/xgb/\",\n",
    "        \"config\": \"zir\"\n",
    "    },\n",
    "    \"knn\": {\n",
    "        \"path\":\"/home/phyto/ModelOutput/test/knn/\",\n",
    "        \"config\": \"zir\"\n",
    "    }\n",
    "}\n",
    "\n",
    "m = predict(X, y, envdata, model_config, seed, n_threads, verbose, cv, path_out, species, scale=True)\n",
    "m.make_prediction()\n"
   ]
  }
 ],
 "metadata": {
  "kernelspec": {
   "display_name": "my-geopandas-env-2",
   "language": "python",
   "name": "python3"
  },
  "language_info": {
   "codemirror_mode": {
    "name": "ipython",
    "version": 3
   },
   "file_extension": ".py",
   "mimetype": "text/x-python",
   "name": "python",
   "nbconvert_exporter": "python",
   "pygments_lexer": "ipython3",
   "version": "3.11.4"
  },
  "orig_nbformat": 4
 },
 "nbformat": 4,
 "nbformat_minor": 2
}
