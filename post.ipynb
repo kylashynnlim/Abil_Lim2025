{
 "cells": [
  {
   "cell_type": "code",
   "execution_count": 4,
   "metadata": {},
   "outputs": [],
   "source": [
    "import sys\n",
    "import pandas as pd\n",
    "from yaml import load, Loader\n",
    "from post_2 import post"
   ]
  },
  {
   "cell_type": "code",
   "execution_count": 5,
   "metadata": {},
   "outputs": [
    {
     "name": "stdout",
     "output_type": "stream",
     "text": [
      "--ip=127.0.0.1\n"
     ]
    }
   ],
   "source": [
    "with open('/home/phyto/planktonSDM/model_config.yml', 'r') as f:\n",
    "    model_config = load(f, Loader=Loader)\n",
    "\n",
    "try:\n",
    "    print(sys.argv[1])\n",
    "    model_config['remote'] = True\n",
    "except:\n",
    "    model_config['remote'] = False\n",
    "\n",
    "model_config['remote'] = False"
   ]
  },
  {
   "cell_type": "code",
   "execution_count": 6,
   "metadata": {},
   "outputs": [
    {
     "ename": "",
     "evalue": "",
     "output_type": "error",
     "traceback": [
      "\u001b[1;31mCannot execute code, session has been disposed. Please try restarting the Kernel."
     ]
    },
    {
     "ename": "",
     "evalue": "",
     "output_type": "error",
     "traceback": [
      "\u001b[1;31mThe Kernel crashed while executing code in the the current cell or a previous cell. Please review the code in the cell(s) to identify a possible cause of the failure. Click <a href='https://aka.ms/vscodeJupyterKernelCrash'>here</a> for more info. View Jupyter <a href='command:jupyter.viewOutput'>log</a> for further details."
     ]
    }
   ],
   "source": [
    "#load model:\n",
    "m = post(model_config)\n",
    "\n",
    "#apply calculations\n",
    "m.total()\n",
    "m.cwm(\"cell diameter\")\n",
    "m.richness('observed_otus')\n",
    "m.richness('simpson')\n",
    "\n",
    "#export \n",
    "m.export_ds(file_name = \"abundances_test2\")"
   ]
  },
  {
   "cell_type": "code",
   "execution_count": null,
   "metadata": {},
   "outputs": [
    {
     "name": "stdout",
     "output_type": "stream",
     "text": [
      "merging...\n",
      "[ 4 14]\n",
      "finished estimating cell diameter\n",
      "finished calculating total\n",
      "finished calculating CWM cell diameter\n",
      "finished calculating observed_otus\n",
      "finished calculating simpson\n",
      "         Emiliania huxleyi  Coccolithus pelagicus      total  \\\n",
      "lat lon                                                        \n",
      "1   1             3.191513              11.047761  14.239275   \n",
      "\n",
      "         cwm cell diameter  observed_otus   simpson  \n",
      "lat lon                                              \n",
      "1   1            11.758655              2  0.347796  \n",
      "exported ds to: /home/phyto/CoccoML/test/predictions/merged/biomass_menden.nc\n"
     ]
    }
   ],
   "source": [
    "#(re)load model:\n",
    "m = post(model_config)\n",
    "# convert to carbon:\n",
    "m.estimate_carbon(\"cell diameter\")\n",
    "\n",
    "#apply calculations:\n",
    "m.total()\n",
    "m.cwm(\"cell diameter\")\n",
    "m.richness('observed_otus')\n",
    "m.richness('simpson')\n",
    "\n",
    "#export:\n",
    "m.export_ds(file_name = \"biomass_menden\")"
   ]
  },
  {
   "cell_type": "code",
   "execution_count": null,
   "metadata": {},
   "outputs": [
    {
     "name": "stdout",
     "output_type": "stream",
     "text": [
      "merging...\n"
     ]
    },
    {
     "ename": "AttributeError",
     "evalue": "'post' object has no attribute 'convert_to_carbon'",
     "output_type": "error",
     "traceback": [
      "\u001b[0;31m---------------------------------------------------------------------------\u001b[0m",
      "\u001b[0;31mAttributeError\u001b[0m                            Traceback (most recent call last)",
      "Cell \u001b[0;32mIn[5], line 3\u001b[0m\n\u001b[1;32m      1\u001b[0m m \u001b[39m=\u001b[39m post(model_config)\n\u001b[1;32m      2\u001b[0m \u001b[39m# convert to carbon:\u001b[39;00m\n\u001b[0;32m----> 3\u001b[0m m\u001b[39m.\u001b[39;49mconvert_to_carbon(\u001b[39m\"\u001b[39m\u001b[39mMxV\u001b[39m\u001b[39m\"\u001b[39m)\n\u001b[1;32m      5\u001b[0m \u001b[39m#apply calculations:\u001b[39;00m\n\u001b[1;32m      6\u001b[0m m\u001b[39m.\u001b[39mcwm(\u001b[39m\"\u001b[39m\u001b[39mcell diameter\u001b[39m\u001b[39m\"\u001b[39m)\n",
      "\u001b[0;31mAttributeError\u001b[0m: 'post' object has no attribute 'convert_to_carbon'"
     ]
    }
   ],
   "source": [
    "m = post(model_config)\n",
    "# convert to carbon:\n",
    "m.convert_to_carbon(\"MxV\")\n",
    "\n",
    "#apply calculations:\n",
    "m.cwm(\"cell diameter\")\n",
    "m.richness('observed_otus')\n",
    "m.richness('simpson')\n",
    "m.total()\n",
    "m.export_ds(\"MxV_biomass\")"
   ]
  },
  {
   "cell_type": "code",
   "execution_count": null,
   "metadata": {},
   "outputs": [],
   "source": [
    "m = post(model_config)\n",
    "# convert to carbon:\n",
    "m.convert_to_carbon(\"one-size-fits-all\")\n",
    "\n",
    "#apply calculations:\n",
    "m.total()\n",
    "m.export_ds(\"one-size-fits-all\")"
   ]
  }
 ],
 "metadata": {
  "kernelspec": {
   "display_name": "my-geopandas-env-2",
   "language": "python",
   "name": "python3"
  },
  "language_info": {
   "codemirror_mode": {
    "name": "ipython",
    "version": 3
   },
   "file_extension": ".py",
   "mimetype": "text/x-python",
   "name": "python",
   "nbconvert_exporter": "python",
   "pygments_lexer": "ipython3",
   "version": "3.11.4"
  },
  "orig_nbformat": 4
 },
 "nbformat": 4,
 "nbformat_minor": 2
}
