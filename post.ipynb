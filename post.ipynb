{
 "cells": [
  {
   "cell_type": "code",
   "execution_count": 1,
   "metadata": {},
   "outputs": [],
   "source": [
    "from post import post\n",
    "import pandas as pd"
   ]
  },
  {
   "cell_type": "code",
   "execution_count": 2,
   "metadata": {},
   "outputs": [],
   "source": [
    "path_in = \"/home/phyto/ModelOutput/test/ens/predictions/\"\n",
    "path_out = \"/home/phyto/ModelOutput/test/merged/predictions/\"\n",
    "traits = pd.read_csv(\"/home/phyto/CoccoML/data/size_new.csv\")"
   ]
  },
  {
   "cell_type": "code",
   "execution_count": 3,
   "metadata": {},
   "outputs": [
    {
     "name": "stdout",
     "output_type": "stream",
     "text": [
      "merging...\n",
      "finished calculating CWM cell diameter\n",
      "finished calculating observed_otus\n",
      "finished calculating simpson\n",
      "finished calculating total\n",
      "exported ds to: /home/phyto/ModelOutput/test/merged/predictions/merged.nc\n"
     ]
    }
   ],
   "source": [
    "#merge SDMS:\n",
    "m = post(path_in, path_out)\n",
    "\n",
    "#apply calculations:\n",
    "m.cwm(traits, \"cell diameter\")\n",
    "m.richness('observed_otus')\n",
    "m.richness('simpson')\n",
    "m.total()\n",
    "\n",
    "#export merged dataset to netcdf:\n",
    "m.export_ds()"
   ]
  }
 ],
 "metadata": {
  "kernelspec": {
   "display_name": "my-geopandas-env-2",
   "language": "python",
   "name": "python3"
  },
  "language_info": {
   "codemirror_mode": {
    "name": "ipython",
    "version": 3
   },
   "file_extension": ".py",
   "mimetype": "text/x-python",
   "name": "python",
   "nbconvert_exporter": "python",
   "pygments_lexer": "ipython3",
   "version": "3.11.4"
  },
  "orig_nbformat": 4
 },
 "nbformat": 4,
 "nbformat_minor": 2
}
